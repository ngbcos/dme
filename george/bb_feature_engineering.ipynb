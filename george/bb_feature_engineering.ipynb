{
 "cells": [
  {
   "cell_type": "markdown",
   "metadata": {},
   "source": [
    "https://www.transtats.bts.gov/Fields.asp?Table_ID=236"
   ]
  },
  {
   "cell_type": "code",
   "execution_count": 1,
   "metadata": {
    "collapsed": true
   },
   "outputs": [],
   "source": [
    "from __future__ import division #, print_function # Imports from __future__ since we're running Python 2"
   ]
  },
  {
   "cell_type": "code",
   "execution_count": 2,
   "metadata": {
    "collapsed": true
   },
   "outputs": [],
   "source": [
    "#%load_ext autoreload\n",
    "%reload_ext autoreload\n",
    "%autoreload 2"
   ]
  },
  {
   "cell_type": "code",
   "execution_count": 219,
   "metadata": {
    "collapsed": false
   },
   "outputs": [],
   "source": [
    "import os\n",
    "import numpy as np \n",
    "import pandas as pd\n",
    "import matplotlib.pyplot as plt\n",
    "import seaborn as sns\n",
    "random_state = 10 # Ensure reproducible results\n",
    "%matplotlib inline\n",
    "plt.style.use('ggplot')\n",
    "from flights_delay.feature_processing import FlightDelayFeatureProcessing\n",
    "from helpers.outliers import MyOutliers\n",
    "from helpers.feature_engineering import makeBinaryClassification, getUniqueValuesPerFeature\n",
    "from sklearn.model_selection import train_test_split\n",
    "from helpers.plot_helper import plotDistsPerClass, plotBothDists\n",
    "from flights_delay.feature_prev_delays import FeaturePrevDelays\n",
    "from flights_delay.feature_airline_delays import FeatureAirlineDelays\n",
    "from helpers.my_one_hot_encoder import MyOneHotEncoder"
   ]
  },
  {
   "cell_type": "code",
   "execution_count": 4,
   "metadata": {
    "collapsed": true
   },
   "outputs": [],
   "source": [
    "data_relative_path = '../Data'"
   ]
  },
  {
   "cell_type": "markdown",
   "metadata": {},
   "source": [
    "# Flying to New York City - Feature Engineering"
   ]
  },
  {
   "cell_type": "code",
   "execution_count": 5,
   "metadata": {
    "collapsed": false
   },
   "outputs": [
    {
     "data": {
      "text/plain": [
       "'/home/student/pligor.george@gmail.com/msc_Artificial_Intelligence/dme_Data_Mining/dmedatarats/Data/train_data_v2.csv'"
      ]
     },
     "execution_count": 5,
     "metadata": {},
     "output_type": "execute_result"
    }
   ],
   "source": [
    "path_data = os.path.realpath(os.path.join(os.getcwd(), data_relative_path, 'train_data_v2.csv'))\n",
    "assert os.path.isfile(path_data)\n",
    "path_data"
   ]
  },
  {
   "cell_type": "code",
   "execution_count": 6,
   "metadata": {
    "collapsed": false
   },
   "outputs": [
    {
     "data": {
      "text/plain": [
       "(31186, 21)"
      ]
     },
     "execution_count": 6,
     "metadata": {},
     "output_type": "execute_result"
    }
   ],
   "source": [
    "df = pd.read_csv(path_data, delimiter = ',', header=0)\n",
    "df.shape"
   ]
  },
  {
   "cell_type": "code",
   "execution_count": 7,
   "metadata": {
    "collapsed": false
   },
   "outputs": [
    {
     "name": "stdout",
     "output_type": "stream",
     "text": [
      "There are 31186 entries and 21 columns in the DataFrame\n"
     ]
    }
   ],
   "source": [
    "print(\"There are {} entries and {} columns in the DataFrame\"\\\n",
    "      .format(df.shape[0], df.shape[1]))"
   ]
  },
  {
   "cell_type": "code",
   "execution_count": 8,
   "metadata": {
    "collapsed": false
   },
   "outputs": [
    {
     "name": "stdout",
     "output_type": "stream",
     "text": [
      "<class 'pandas.core.frame.DataFrame'>\n",
      "RangeIndex: 31186 entries, 0 to 31185\n",
      "Data columns (total 21 columns):\n",
      "QUARTER             31186 non-null int64\n",
      "MONTH               31186 non-null int64\n",
      "DAY_OF_MONTH        31186 non-null int64\n",
      "DAY_OF_WEEK         31186 non-null int64\n",
      "UNIQUE_CARRIER      31186 non-null object\n",
      "ORIGIN              31186 non-null object\n",
      "ORIGIN_CITY_NAME    31186 non-null object\n",
      "ORIGIN_STATE_ABR    31186 non-null object\n",
      "DEST                31186 non-null object\n",
      "DEST_CITY_NAME      31186 non-null object\n",
      "DEST_STATE_ABR      31186 non-null object\n",
      "DEP_TIME            31186 non-null float64\n",
      "DEP_DELAY           31186 non-null float64\n",
      "DEP_DELAY_NEW       31186 non-null float64\n",
      "DEP_DEL15           31186 non-null float64\n",
      "DEP_DELAY_GROUP     31186 non-null float64\n",
      "DEP_TIME_BLK        31186 non-null object\n",
      "CRS_ELAPSED_TIME    31186 non-null float64\n",
      "DISTANCE            31186 non-null float64\n",
      "DISTANCE_GROUP      31186 non-null int64\n",
      "IS_DELAYED          31186 non-null bool\n",
      "dtypes: bool(1), float64(7), int64(5), object(8)\n",
      "memory usage: 4.8+ MB\n"
     ]
    }
   ],
   "source": [
    "df.info()"
   ]
  },
  {
   "cell_type": "code",
   "execution_count": 9,
   "metadata": {
    "collapsed": false
   },
   "outputs": [
    {
     "data": {
      "text/html": [
       "<div>\n",
       "<table border=\"1\" class=\"dataframe\">\n",
       "  <thead>\n",
       "    <tr style=\"text-align: right;\">\n",
       "      <th></th>\n",
       "      <th>QUARTER</th>\n",
       "      <th>MONTH</th>\n",
       "      <th>DAY_OF_MONTH</th>\n",
       "      <th>DAY_OF_WEEK</th>\n",
       "      <th>UNIQUE_CARRIER</th>\n",
       "      <th>ORIGIN</th>\n",
       "      <th>ORIGIN_CITY_NAME</th>\n",
       "      <th>ORIGIN_STATE_ABR</th>\n",
       "      <th>DEST</th>\n",
       "      <th>DEST_CITY_NAME</th>\n",
       "      <th>...</th>\n",
       "      <th>DEP_TIME</th>\n",
       "      <th>DEP_DELAY</th>\n",
       "      <th>DEP_DELAY_NEW</th>\n",
       "      <th>DEP_DEL15</th>\n",
       "      <th>DEP_DELAY_GROUP</th>\n",
       "      <th>DEP_TIME_BLK</th>\n",
       "      <th>CRS_ELAPSED_TIME</th>\n",
       "      <th>DISTANCE</th>\n",
       "      <th>DISTANCE_GROUP</th>\n",
       "      <th>IS_DELAYED</th>\n",
       "    </tr>\n",
       "  </thead>\n",
       "  <tbody>\n",
       "    <tr>\n",
       "      <th>11075</th>\n",
       "      <td>3</td>\n",
       "      <td>9</td>\n",
       "      <td>4</td>\n",
       "      <td>7</td>\n",
       "      <td>DL</td>\n",
       "      <td>ATL</td>\n",
       "      <td>Atlanta, GA</td>\n",
       "      <td>GA</td>\n",
       "      <td>LGA</td>\n",
       "      <td>New York, NY</td>\n",
       "      <td>...</td>\n",
       "      <td>1542.0</td>\n",
       "      <td>-3.0</td>\n",
       "      <td>0.0</td>\n",
       "      <td>0.0</td>\n",
       "      <td>-1.0</td>\n",
       "      <td>1500-1559</td>\n",
       "      <td>140.0</td>\n",
       "      <td>762.0</td>\n",
       "      <td>4</td>\n",
       "      <td>False</td>\n",
       "    </tr>\n",
       "    <tr>\n",
       "      <th>14671</th>\n",
       "      <td>1</td>\n",
       "      <td>2</td>\n",
       "      <td>20</td>\n",
       "      <td>6</td>\n",
       "      <td>AA</td>\n",
       "      <td>MIA</td>\n",
       "      <td>Miami, FL</td>\n",
       "      <td>FL</td>\n",
       "      <td>LGA</td>\n",
       "      <td>New York, NY</td>\n",
       "      <td>...</td>\n",
       "      <td>1356.0</td>\n",
       "      <td>-13.0</td>\n",
       "      <td>0.0</td>\n",
       "      <td>0.0</td>\n",
       "      <td>-1.0</td>\n",
       "      <td>1400-1459</td>\n",
       "      <td>171.0</td>\n",
       "      <td>1096.0</td>\n",
       "      <td>5</td>\n",
       "      <td>False</td>\n",
       "    </tr>\n",
       "    <tr>\n",
       "      <th>25778</th>\n",
       "      <td>4</td>\n",
       "      <td>10</td>\n",
       "      <td>17</td>\n",
       "      <td>1</td>\n",
       "      <td>VX</td>\n",
       "      <td>JFK</td>\n",
       "      <td>New York, NY</td>\n",
       "      <td>NY</td>\n",
       "      <td>LAX</td>\n",
       "      <td>Los Angeles, CA</td>\n",
       "      <td>...</td>\n",
       "      <td>1747.0</td>\n",
       "      <td>52.0</td>\n",
       "      <td>52.0</td>\n",
       "      <td>1.0</td>\n",
       "      <td>3.0</td>\n",
       "      <td>1600-1659</td>\n",
       "      <td>375.0</td>\n",
       "      <td>2475.0</td>\n",
       "      <td>10</td>\n",
       "      <td>True</td>\n",
       "    </tr>\n",
       "    <tr>\n",
       "      <th>11498</th>\n",
       "      <td>3</td>\n",
       "      <td>8</td>\n",
       "      <td>15</td>\n",
       "      <td>1</td>\n",
       "      <td>UA</td>\n",
       "      <td>LGA</td>\n",
       "      <td>New York, NY</td>\n",
       "      <td>NY</td>\n",
       "      <td>ORD</td>\n",
       "      <td>Chicago, IL</td>\n",
       "      <td>...</td>\n",
       "      <td>1622.0</td>\n",
       "      <td>77.0</td>\n",
       "      <td>77.0</td>\n",
       "      <td>1.0</td>\n",
       "      <td>5.0</td>\n",
       "      <td>1500-1559</td>\n",
       "      <td>161.0</td>\n",
       "      <td>733.0</td>\n",
       "      <td>3</td>\n",
       "      <td>True</td>\n",
       "    </tr>\n",
       "    <tr>\n",
       "      <th>29725</th>\n",
       "      <td>3</td>\n",
       "      <td>9</td>\n",
       "      <td>28</td>\n",
       "      <td>3</td>\n",
       "      <td>AA</td>\n",
       "      <td>LAX</td>\n",
       "      <td>Los Angeles, CA</td>\n",
       "      <td>CA</td>\n",
       "      <td>JFK</td>\n",
       "      <td>New York, NY</td>\n",
       "      <td>...</td>\n",
       "      <td>2111.0</td>\n",
       "      <td>-4.0</td>\n",
       "      <td>0.0</td>\n",
       "      <td>0.0</td>\n",
       "      <td>-1.0</td>\n",
       "      <td>2100-2159</td>\n",
       "      <td>336.0</td>\n",
       "      <td>2475.0</td>\n",
       "      <td>10</td>\n",
       "      <td>False</td>\n",
       "    </tr>\n",
       "    <tr>\n",
       "      <th>8055</th>\n",
       "      <td>2</td>\n",
       "      <td>6</td>\n",
       "      <td>11</td>\n",
       "      <td>6</td>\n",
       "      <td>AA</td>\n",
       "      <td>LGA</td>\n",
       "      <td>New York, NY</td>\n",
       "      <td>NY</td>\n",
       "      <td>ORD</td>\n",
       "      <td>Chicago, IL</td>\n",
       "      <td>...</td>\n",
       "      <td>2051.0</td>\n",
       "      <td>112.0</td>\n",
       "      <td>112.0</td>\n",
       "      <td>1.0</td>\n",
       "      <td>7.0</td>\n",
       "      <td>1800-1859</td>\n",
       "      <td>171.0</td>\n",
       "      <td>733.0</td>\n",
       "      <td>3</td>\n",
       "      <td>True</td>\n",
       "    </tr>\n",
       "    <tr>\n",
       "      <th>20514</th>\n",
       "      <td>4</td>\n",
       "      <td>10</td>\n",
       "      <td>2</td>\n",
       "      <td>7</td>\n",
       "      <td>NK</td>\n",
       "      <td>LGA</td>\n",
       "      <td>New York, NY</td>\n",
       "      <td>NY</td>\n",
       "      <td>ORD</td>\n",
       "      <td>Chicago, IL</td>\n",
       "      <td>...</td>\n",
       "      <td>2140.0</td>\n",
       "      <td>-19.0</td>\n",
       "      <td>0.0</td>\n",
       "      <td>0.0</td>\n",
       "      <td>-2.0</td>\n",
       "      <td>2100-2159</td>\n",
       "      <td>141.0</td>\n",
       "      <td>733.0</td>\n",
       "      <td>3</td>\n",
       "      <td>False</td>\n",
       "    </tr>\n",
       "    <tr>\n",
       "      <th>26953</th>\n",
       "      <td>2</td>\n",
       "      <td>6</td>\n",
       "      <td>25</td>\n",
       "      <td>6</td>\n",
       "      <td>AA</td>\n",
       "      <td>JFK</td>\n",
       "      <td>New York, NY</td>\n",
       "      <td>NY</td>\n",
       "      <td>LAX</td>\n",
       "      <td>Los Angeles, CA</td>\n",
       "      <td>...</td>\n",
       "      <td>2110.0</td>\n",
       "      <td>10.0</td>\n",
       "      <td>10.0</td>\n",
       "      <td>0.0</td>\n",
       "      <td>0.0</td>\n",
       "      <td>2100-2159</td>\n",
       "      <td>369.0</td>\n",
       "      <td>2475.0</td>\n",
       "      <td>10</td>\n",
       "      <td>False</td>\n",
       "    </tr>\n",
       "    <tr>\n",
       "      <th>3501</th>\n",
       "      <td>2</td>\n",
       "      <td>6</td>\n",
       "      <td>24</td>\n",
       "      <td>5</td>\n",
       "      <td>AA</td>\n",
       "      <td>JFK</td>\n",
       "      <td>New York, NY</td>\n",
       "      <td>NY</td>\n",
       "      <td>LAX</td>\n",
       "      <td>Los Angeles, CA</td>\n",
       "      <td>...</td>\n",
       "      <td>2232.0</td>\n",
       "      <td>2.0</td>\n",
       "      <td>2.0</td>\n",
       "      <td>0.0</td>\n",
       "      <td>0.0</td>\n",
       "      <td>2200-2259</td>\n",
       "      <td>377.0</td>\n",
       "      <td>2475.0</td>\n",
       "      <td>10</td>\n",
       "      <td>True</td>\n",
       "    </tr>\n",
       "    <tr>\n",
       "      <th>17460</th>\n",
       "      <td>3</td>\n",
       "      <td>9</td>\n",
       "      <td>13</td>\n",
       "      <td>2</td>\n",
       "      <td>B6</td>\n",
       "      <td>LAX</td>\n",
       "      <td>Los Angeles, CA</td>\n",
       "      <td>CA</td>\n",
       "      <td>JFK</td>\n",
       "      <td>New York, NY</td>\n",
       "      <td>...</td>\n",
       "      <td>1134.0</td>\n",
       "      <td>-1.0</td>\n",
       "      <td>0.0</td>\n",
       "      <td>0.0</td>\n",
       "      <td>-1.0</td>\n",
       "      <td>1100-1159</td>\n",
       "      <td>328.0</td>\n",
       "      <td>2475.0</td>\n",
       "      <td>10</td>\n",
       "      <td>False</td>\n",
       "    </tr>\n",
       "  </tbody>\n",
       "</table>\n",
       "<p>10 rows × 21 columns</p>\n",
       "</div>"
      ],
      "text/plain": [
       "       QUARTER  MONTH  DAY_OF_MONTH  DAY_OF_WEEK UNIQUE_CARRIER ORIGIN  \\\n",
       "11075        3      9             4            7             DL    ATL   \n",
       "14671        1      2            20            6             AA    MIA   \n",
       "25778        4     10            17            1             VX    JFK   \n",
       "11498        3      8            15            1             UA    LGA   \n",
       "29725        3      9            28            3             AA    LAX   \n",
       "8055         2      6            11            6             AA    LGA   \n",
       "20514        4     10             2            7             NK    LGA   \n",
       "26953        2      6            25            6             AA    JFK   \n",
       "3501         2      6            24            5             AA    JFK   \n",
       "17460        3      9            13            2             B6    LAX   \n",
       "\n",
       "      ORIGIN_CITY_NAME ORIGIN_STATE_ABR DEST   DEST_CITY_NAME     ...      \\\n",
       "11075      Atlanta, GA               GA  LGA     New York, NY     ...       \n",
       "14671        Miami, FL               FL  LGA     New York, NY     ...       \n",
       "25778     New York, NY               NY  LAX  Los Angeles, CA     ...       \n",
       "11498     New York, NY               NY  ORD      Chicago, IL     ...       \n",
       "29725  Los Angeles, CA               CA  JFK     New York, NY     ...       \n",
       "8055      New York, NY               NY  ORD      Chicago, IL     ...       \n",
       "20514     New York, NY               NY  ORD      Chicago, IL     ...       \n",
       "26953     New York, NY               NY  LAX  Los Angeles, CA     ...       \n",
       "3501      New York, NY               NY  LAX  Los Angeles, CA     ...       \n",
       "17460  Los Angeles, CA               CA  JFK     New York, NY     ...       \n",
       "\n",
       "      DEP_TIME  DEP_DELAY  DEP_DELAY_NEW  DEP_DEL15  DEP_DELAY_GROUP  \\\n",
       "11075   1542.0       -3.0            0.0        0.0             -1.0   \n",
       "14671   1356.0      -13.0            0.0        0.0             -1.0   \n",
       "25778   1747.0       52.0           52.0        1.0              3.0   \n",
       "11498   1622.0       77.0           77.0        1.0              5.0   \n",
       "29725   2111.0       -4.0            0.0        0.0             -1.0   \n",
       "8055    2051.0      112.0          112.0        1.0              7.0   \n",
       "20514   2140.0      -19.0            0.0        0.0             -2.0   \n",
       "26953   2110.0       10.0           10.0        0.0              0.0   \n",
       "3501    2232.0        2.0            2.0        0.0              0.0   \n",
       "17460   1134.0       -1.0            0.0        0.0             -1.0   \n",
       "\n",
       "       DEP_TIME_BLK CRS_ELAPSED_TIME  DISTANCE  DISTANCE_GROUP  IS_DELAYED  \n",
       "11075     1500-1559            140.0     762.0               4       False  \n",
       "14671     1400-1459            171.0    1096.0               5       False  \n",
       "25778     1600-1659            375.0    2475.0              10        True  \n",
       "11498     1500-1559            161.0     733.0               3        True  \n",
       "29725     2100-2159            336.0    2475.0              10       False  \n",
       "8055      1800-1859            171.0     733.0               3        True  \n",
       "20514     2100-2159            141.0     733.0               3       False  \n",
       "26953     2100-2159            369.0    2475.0              10       False  \n",
       "3501      2200-2259            377.0    2475.0              10        True  \n",
       "17460     1100-1159            328.0    2475.0              10       False  \n",
       "\n",
       "[10 rows x 21 columns]"
      ]
     },
     "execution_count": 9,
     "metadata": {},
     "output_type": "execute_result"
    }
   ],
   "source": [
    "df.sample(10)"
   ]
  },
  {
   "cell_type": "code",
   "execution_count": 10,
   "metadata": {
    "collapsed": false
   },
   "outputs": [
    {
     "data": {
      "text/plain": [
       "((31186, 20), (31186,))"
      ]
     },
     "execution_count": 10,
     "metadata": {},
     "output_type": "execute_result"
    }
   ],
   "source": [
    "XX = df.drop(labels=['IS_DELAYED'], axis=1)\n",
    "yy = df['IS_DELAYED']\n",
    "XX.shape, yy.shape"
   ]
  },
  {
   "cell_type": "markdown",
   "metadata": {},
   "source": [
    "#### Binarize Quarter\n",
    "Because we saw from distributions that Quarter 3 has more delayed flights, so Quarter 3 becomes True and rest of Quarters become False"
   ]
  },
  {
   "cell_type": "code",
   "execution_count": 11,
   "metadata": {
    "collapsed": false
   },
   "outputs": [
    {
     "data": {
      "text/html": [
       "<div>\n",
       "<table border=\"1\" class=\"dataframe\">\n",
       "  <thead>\n",
       "    <tr style=\"text-align: right;\">\n",
       "      <th></th>\n",
       "      <th>QUARTER</th>\n",
       "      <th>MONTH</th>\n",
       "      <th>DAY_OF_MONTH</th>\n",
       "      <th>DAY_OF_WEEK</th>\n",
       "      <th>UNIQUE_CARRIER</th>\n",
       "      <th>ORIGIN</th>\n",
       "      <th>ORIGIN_CITY_NAME</th>\n",
       "      <th>ORIGIN_STATE_ABR</th>\n",
       "      <th>DEST</th>\n",
       "      <th>DEST_CITY_NAME</th>\n",
       "      <th>DEST_STATE_ABR</th>\n",
       "      <th>DEP_TIME</th>\n",
       "      <th>DEP_DELAY</th>\n",
       "      <th>DEP_DELAY_NEW</th>\n",
       "      <th>DEP_DEL15</th>\n",
       "      <th>DEP_DELAY_GROUP</th>\n",
       "      <th>DEP_TIME_BLK</th>\n",
       "      <th>CRS_ELAPSED_TIME</th>\n",
       "      <th>DISTANCE</th>\n",
       "      <th>DISTANCE_GROUP</th>\n",
       "    </tr>\n",
       "  </thead>\n",
       "  <tbody>\n",
       "    <tr>\n",
       "      <th>16192</th>\n",
       "      <td>1</td>\n",
       "      <td>7</td>\n",
       "      <td>9</td>\n",
       "      <td>6</td>\n",
       "      <td>B6</td>\n",
       "      <td>LAX</td>\n",
       "      <td>Los Angeles, CA</td>\n",
       "      <td>CA</td>\n",
       "      <td>JFK</td>\n",
       "      <td>New York, NY</td>\n",
       "      <td>NY</td>\n",
       "      <td>619.0</td>\n",
       "      <td>-1.0</td>\n",
       "      <td>0.0</td>\n",
       "      <td>0.0</td>\n",
       "      <td>-1.0</td>\n",
       "      <td>0600-0659</td>\n",
       "      <td>328.0</td>\n",
       "      <td>2475.0</td>\n",
       "      <td>10</td>\n",
       "    </tr>\n",
       "    <tr>\n",
       "      <th>10496</th>\n",
       "      <td>0</td>\n",
       "      <td>10</td>\n",
       "      <td>4</td>\n",
       "      <td>2</td>\n",
       "      <td>VX</td>\n",
       "      <td>LAX</td>\n",
       "      <td>Los Angeles, CA</td>\n",
       "      <td>CA</td>\n",
       "      <td>JFK</td>\n",
       "      <td>New York, NY</td>\n",
       "      <td>NY</td>\n",
       "      <td>734.0</td>\n",
       "      <td>-1.0</td>\n",
       "      <td>0.0</td>\n",
       "      <td>0.0</td>\n",
       "      <td>-1.0</td>\n",
       "      <td>0700-0759</td>\n",
       "      <td>315.0</td>\n",
       "      <td>2475.0</td>\n",
       "      <td>10</td>\n",
       "    </tr>\n",
       "    <tr>\n",
       "      <th>18939</th>\n",
       "      <td>1</td>\n",
       "      <td>7</td>\n",
       "      <td>14</td>\n",
       "      <td>4</td>\n",
       "      <td>B6</td>\n",
       "      <td>JFK</td>\n",
       "      <td>New York, NY</td>\n",
       "      <td>NY</td>\n",
       "      <td>LAX</td>\n",
       "      <td>Los Angeles, CA</td>\n",
       "      <td>CA</td>\n",
       "      <td>544.0</td>\n",
       "      <td>-1.0</td>\n",
       "      <td>0.0</td>\n",
       "      <td>0.0</td>\n",
       "      <td>-1.0</td>\n",
       "      <td>0001-0559</td>\n",
       "      <td>346.0</td>\n",
       "      <td>2475.0</td>\n",
       "      <td>10</td>\n",
       "    </tr>\n",
       "    <tr>\n",
       "      <th>30189</th>\n",
       "      <td>0</td>\n",
       "      <td>12</td>\n",
       "      <td>26</td>\n",
       "      <td>1</td>\n",
       "      <td>NK</td>\n",
       "      <td>LGA</td>\n",
       "      <td>New York, NY</td>\n",
       "      <td>NY</td>\n",
       "      <td>ORD</td>\n",
       "      <td>Chicago, IL</td>\n",
       "      <td>IL</td>\n",
       "      <td>2154.0</td>\n",
       "      <td>-5.0</td>\n",
       "      <td>0.0</td>\n",
       "      <td>0.0</td>\n",
       "      <td>-1.0</td>\n",
       "      <td>2100-2159</td>\n",
       "      <td>147.0</td>\n",
       "      <td>733.0</td>\n",
       "      <td>3</td>\n",
       "    </tr>\n",
       "    <tr>\n",
       "      <th>25267</th>\n",
       "      <td>0</td>\n",
       "      <td>6</td>\n",
       "      <td>14</td>\n",
       "      <td>2</td>\n",
       "      <td>DL</td>\n",
       "      <td>JFK</td>\n",
       "      <td>New York, NY</td>\n",
       "      <td>NY</td>\n",
       "      <td>SFO</td>\n",
       "      <td>San Francisco, CA</td>\n",
       "      <td>CA</td>\n",
       "      <td>1701.0</td>\n",
       "      <td>11.0</td>\n",
       "      <td>11.0</td>\n",
       "      <td>0.0</td>\n",
       "      <td>0.0</td>\n",
       "      <td>1600-1659</td>\n",
       "      <td>408.0</td>\n",
       "      <td>2586.0</td>\n",
       "      <td>11</td>\n",
       "    </tr>\n",
       "  </tbody>\n",
       "</table>\n",
       "</div>"
      ],
      "text/plain": [
       "       QUARTER  MONTH  DAY_OF_MONTH  DAY_OF_WEEK UNIQUE_CARRIER ORIGIN  \\\n",
       "16192        1      7             9            6             B6    LAX   \n",
       "10496        0     10             4            2             VX    LAX   \n",
       "18939        1      7            14            4             B6    JFK   \n",
       "30189        0     12            26            1             NK    LGA   \n",
       "25267        0      6            14            2             DL    JFK   \n",
       "\n",
       "      ORIGIN_CITY_NAME ORIGIN_STATE_ABR DEST     DEST_CITY_NAME  \\\n",
       "16192  Los Angeles, CA               CA  JFK       New York, NY   \n",
       "10496  Los Angeles, CA               CA  JFK       New York, NY   \n",
       "18939     New York, NY               NY  LAX    Los Angeles, CA   \n",
       "30189     New York, NY               NY  ORD        Chicago, IL   \n",
       "25267     New York, NY               NY  SFO  San Francisco, CA   \n",
       "\n",
       "      DEST_STATE_ABR  DEP_TIME  DEP_DELAY  DEP_DELAY_NEW  DEP_DEL15  \\\n",
       "16192             NY     619.0       -1.0            0.0        0.0   \n",
       "10496             NY     734.0       -1.0            0.0        0.0   \n",
       "18939             CA     544.0       -1.0            0.0        0.0   \n",
       "30189             IL    2154.0       -5.0            0.0        0.0   \n",
       "25267             CA    1701.0       11.0           11.0        0.0   \n",
       "\n",
       "       DEP_DELAY_GROUP DEP_TIME_BLK  CRS_ELAPSED_TIME  DISTANCE  \\\n",
       "16192             -1.0    0600-0659             328.0    2475.0   \n",
       "10496             -1.0    0700-0759             315.0    2475.0   \n",
       "18939             -1.0    0001-0559             346.0    2475.0   \n",
       "30189             -1.0    2100-2159             147.0     733.0   \n",
       "25267              0.0    1600-1659             408.0    2586.0   \n",
       "\n",
       "       DISTANCE_GROUP  \n",
       "16192              10  \n",
       "10496              10  \n",
       "18939              10  \n",
       "30189               3  \n",
       "25267              11  "
      ]
     },
     "execution_count": 11,
     "metadata": {},
     "output_type": "execute_result"
    }
   ],
   "source": [
    "df_1 = FlightDelayFeatureProcessing.binarizeQuarter(XX)\n",
    "df_1.sample(5, random_state=random_state)"
   ]
  },
  {
   "cell_type": "markdown",
   "metadata": {},
   "source": [
    "#### Binarize Month\n",
    "From the distribution plot it seems that the summer months have more delayed flights in comparison to delayed flights than any other period. So for June, July and August we have 1 and for the rest of months we have zero"
   ]
  },
  {
   "cell_type": "code",
   "execution_count": 12,
   "metadata": {
    "collapsed": false
   },
   "outputs": [
    {
     "data": {
      "text/plain": [
       "6"
      ]
     },
     "execution_count": 12,
     "metadata": {},
     "output_type": "execute_result"
    }
   ],
   "source": [
    "df_1.loc[25267, 'MONTH']"
   ]
  },
  {
   "cell_type": "code",
   "execution_count": 13,
   "metadata": {
    "collapsed": false
   },
   "outputs": [
    {
     "data": {
      "text/html": [
       "<div>\n",
       "<table border=\"1\" class=\"dataframe\">\n",
       "  <thead>\n",
       "    <tr style=\"text-align: right;\">\n",
       "      <th></th>\n",
       "      <th>QUARTER</th>\n",
       "      <th>MONTH</th>\n",
       "      <th>DAY_OF_MONTH</th>\n",
       "      <th>DAY_OF_WEEK</th>\n",
       "      <th>UNIQUE_CARRIER</th>\n",
       "      <th>ORIGIN</th>\n",
       "      <th>ORIGIN_CITY_NAME</th>\n",
       "      <th>ORIGIN_STATE_ABR</th>\n",
       "      <th>DEST</th>\n",
       "      <th>DEST_CITY_NAME</th>\n",
       "      <th>DEST_STATE_ABR</th>\n",
       "      <th>DEP_TIME</th>\n",
       "      <th>DEP_DELAY</th>\n",
       "      <th>DEP_DELAY_NEW</th>\n",
       "      <th>DEP_DEL15</th>\n",
       "      <th>DEP_DELAY_GROUP</th>\n",
       "      <th>DEP_TIME_BLK</th>\n",
       "      <th>CRS_ELAPSED_TIME</th>\n",
       "      <th>DISTANCE</th>\n",
       "      <th>DISTANCE_GROUP</th>\n",
       "    </tr>\n",
       "  </thead>\n",
       "  <tbody>\n",
       "    <tr>\n",
       "      <th>16192</th>\n",
       "      <td>1</td>\n",
       "      <td>1</td>\n",
       "      <td>9</td>\n",
       "      <td>6</td>\n",
       "      <td>B6</td>\n",
       "      <td>LAX</td>\n",
       "      <td>Los Angeles, CA</td>\n",
       "      <td>CA</td>\n",
       "      <td>JFK</td>\n",
       "      <td>New York, NY</td>\n",
       "      <td>NY</td>\n",
       "      <td>619.0</td>\n",
       "      <td>-1.0</td>\n",
       "      <td>0.0</td>\n",
       "      <td>0.0</td>\n",
       "      <td>-1.0</td>\n",
       "      <td>0600-0659</td>\n",
       "      <td>328.0</td>\n",
       "      <td>2475.0</td>\n",
       "      <td>10</td>\n",
       "    </tr>\n",
       "    <tr>\n",
       "      <th>10496</th>\n",
       "      <td>0</td>\n",
       "      <td>0</td>\n",
       "      <td>4</td>\n",
       "      <td>2</td>\n",
       "      <td>VX</td>\n",
       "      <td>LAX</td>\n",
       "      <td>Los Angeles, CA</td>\n",
       "      <td>CA</td>\n",
       "      <td>JFK</td>\n",
       "      <td>New York, NY</td>\n",
       "      <td>NY</td>\n",
       "      <td>734.0</td>\n",
       "      <td>-1.0</td>\n",
       "      <td>0.0</td>\n",
       "      <td>0.0</td>\n",
       "      <td>-1.0</td>\n",
       "      <td>0700-0759</td>\n",
       "      <td>315.0</td>\n",
       "      <td>2475.0</td>\n",
       "      <td>10</td>\n",
       "    </tr>\n",
       "    <tr>\n",
       "      <th>18939</th>\n",
       "      <td>1</td>\n",
       "      <td>1</td>\n",
       "      <td>14</td>\n",
       "      <td>4</td>\n",
       "      <td>B6</td>\n",
       "      <td>JFK</td>\n",
       "      <td>New York, NY</td>\n",
       "      <td>NY</td>\n",
       "      <td>LAX</td>\n",
       "      <td>Los Angeles, CA</td>\n",
       "      <td>CA</td>\n",
       "      <td>544.0</td>\n",
       "      <td>-1.0</td>\n",
       "      <td>0.0</td>\n",
       "      <td>0.0</td>\n",
       "      <td>-1.0</td>\n",
       "      <td>0001-0559</td>\n",
       "      <td>346.0</td>\n",
       "      <td>2475.0</td>\n",
       "      <td>10</td>\n",
       "    </tr>\n",
       "    <tr>\n",
       "      <th>30189</th>\n",
       "      <td>0</td>\n",
       "      <td>0</td>\n",
       "      <td>26</td>\n",
       "      <td>1</td>\n",
       "      <td>NK</td>\n",
       "      <td>LGA</td>\n",
       "      <td>New York, NY</td>\n",
       "      <td>NY</td>\n",
       "      <td>ORD</td>\n",
       "      <td>Chicago, IL</td>\n",
       "      <td>IL</td>\n",
       "      <td>2154.0</td>\n",
       "      <td>-5.0</td>\n",
       "      <td>0.0</td>\n",
       "      <td>0.0</td>\n",
       "      <td>-1.0</td>\n",
       "      <td>2100-2159</td>\n",
       "      <td>147.0</td>\n",
       "      <td>733.0</td>\n",
       "      <td>3</td>\n",
       "    </tr>\n",
       "    <tr>\n",
       "      <th>25267</th>\n",
       "      <td>0</td>\n",
       "      <td>1</td>\n",
       "      <td>14</td>\n",
       "      <td>2</td>\n",
       "      <td>DL</td>\n",
       "      <td>JFK</td>\n",
       "      <td>New York, NY</td>\n",
       "      <td>NY</td>\n",
       "      <td>SFO</td>\n",
       "      <td>San Francisco, CA</td>\n",
       "      <td>CA</td>\n",
       "      <td>1701.0</td>\n",
       "      <td>11.0</td>\n",
       "      <td>11.0</td>\n",
       "      <td>0.0</td>\n",
       "      <td>0.0</td>\n",
       "      <td>1600-1659</td>\n",
       "      <td>408.0</td>\n",
       "      <td>2586.0</td>\n",
       "      <td>11</td>\n",
       "    </tr>\n",
       "  </tbody>\n",
       "</table>\n",
       "</div>"
      ],
      "text/plain": [
       "       QUARTER  MONTH  DAY_OF_MONTH  DAY_OF_WEEK UNIQUE_CARRIER ORIGIN  \\\n",
       "16192        1      1             9            6             B6    LAX   \n",
       "10496        0      0             4            2             VX    LAX   \n",
       "18939        1      1            14            4             B6    JFK   \n",
       "30189        0      0            26            1             NK    LGA   \n",
       "25267        0      1            14            2             DL    JFK   \n",
       "\n",
       "      ORIGIN_CITY_NAME ORIGIN_STATE_ABR DEST     DEST_CITY_NAME  \\\n",
       "16192  Los Angeles, CA               CA  JFK       New York, NY   \n",
       "10496  Los Angeles, CA               CA  JFK       New York, NY   \n",
       "18939     New York, NY               NY  LAX    Los Angeles, CA   \n",
       "30189     New York, NY               NY  ORD        Chicago, IL   \n",
       "25267     New York, NY               NY  SFO  San Francisco, CA   \n",
       "\n",
       "      DEST_STATE_ABR  DEP_TIME  DEP_DELAY  DEP_DELAY_NEW  DEP_DEL15  \\\n",
       "16192             NY     619.0       -1.0            0.0        0.0   \n",
       "10496             NY     734.0       -1.0            0.0        0.0   \n",
       "18939             CA     544.0       -1.0            0.0        0.0   \n",
       "30189             IL    2154.0       -5.0            0.0        0.0   \n",
       "25267             CA    1701.0       11.0           11.0        0.0   \n",
       "\n",
       "       DEP_DELAY_GROUP DEP_TIME_BLK  CRS_ELAPSED_TIME  DISTANCE  \\\n",
       "16192             -1.0    0600-0659             328.0    2475.0   \n",
       "10496             -1.0    0700-0759             315.0    2475.0   \n",
       "18939             -1.0    0001-0559             346.0    2475.0   \n",
       "30189             -1.0    2100-2159             147.0     733.0   \n",
       "25267              0.0    1600-1659             408.0    2586.0   \n",
       "\n",
       "       DISTANCE_GROUP  \n",
       "16192              10  \n",
       "10496              10  \n",
       "18939              10  \n",
       "30189               3  \n",
       "25267              11  "
      ]
     },
     "execution_count": 13,
     "metadata": {},
     "output_type": "execute_result"
    }
   ],
   "source": [
    "df_2 = FlightDelayFeatureProcessing.binarizeMonth(df_1)\n",
    "df_2.sample(5, random_state=random_state)"
   ]
  },
  {
   "cell_type": "markdown",
   "metadata": {},
   "source": [
    "#### Binarize day of month\n",
    "Again we do not consider the day of month to be of particular importance but we see that between the 14th to the 18th of month there are more delayed flights than not"
   ]
  },
  {
   "cell_type": "code",
   "execution_count": 14,
   "metadata": {
    "collapsed": false
   },
   "outputs": [
    {
     "data": {
      "text/plain": [
       "(31186, 20)"
      ]
     },
     "execution_count": 14,
     "metadata": {},
     "output_type": "execute_result"
    }
   ],
   "source": [
    "df_3 = FlightDelayFeatureProcessing.binarizeDayOfMonth(df_2)\n",
    "df_3.shape"
   ]
  },
  {
   "cell_type": "code",
   "execution_count": 15,
   "metadata": {
    "collapsed": false
   },
   "outputs": [
    {
     "data": {
      "text/plain": [
       "14"
      ]
     },
     "execution_count": 15,
     "metadata": {},
     "output_type": "execute_result"
    }
   ],
   "source": [
    "df_2.loc[18939, 'DAY_OF_MONTH']"
   ]
  },
  {
   "cell_type": "code",
   "execution_count": 16,
   "metadata": {
    "collapsed": false
   },
   "outputs": [
    {
     "data": {
      "text/html": [
       "<div>\n",
       "<table border=\"1\" class=\"dataframe\">\n",
       "  <thead>\n",
       "    <tr style=\"text-align: right;\">\n",
       "      <th></th>\n",
       "      <th>QUARTER</th>\n",
       "      <th>MONTH</th>\n",
       "      <th>DAY_OF_MONTH</th>\n",
       "      <th>DAY_OF_WEEK</th>\n",
       "      <th>UNIQUE_CARRIER</th>\n",
       "      <th>ORIGIN</th>\n",
       "      <th>ORIGIN_CITY_NAME</th>\n",
       "      <th>ORIGIN_STATE_ABR</th>\n",
       "      <th>DEST</th>\n",
       "      <th>DEST_CITY_NAME</th>\n",
       "      <th>DEST_STATE_ABR</th>\n",
       "      <th>DEP_TIME</th>\n",
       "      <th>DEP_DELAY</th>\n",
       "      <th>DEP_DELAY_NEW</th>\n",
       "      <th>DEP_DEL15</th>\n",
       "      <th>DEP_DELAY_GROUP</th>\n",
       "      <th>DEP_TIME_BLK</th>\n",
       "      <th>CRS_ELAPSED_TIME</th>\n",
       "      <th>DISTANCE</th>\n",
       "      <th>DISTANCE_GROUP</th>\n",
       "    </tr>\n",
       "  </thead>\n",
       "  <tbody>\n",
       "    <tr>\n",
       "      <th>16192</th>\n",
       "      <td>1</td>\n",
       "      <td>1</td>\n",
       "      <td>0</td>\n",
       "      <td>6</td>\n",
       "      <td>B6</td>\n",
       "      <td>LAX</td>\n",
       "      <td>Los Angeles, CA</td>\n",
       "      <td>CA</td>\n",
       "      <td>JFK</td>\n",
       "      <td>New York, NY</td>\n",
       "      <td>NY</td>\n",
       "      <td>619.0</td>\n",
       "      <td>-1.0</td>\n",
       "      <td>0.0</td>\n",
       "      <td>0.0</td>\n",
       "      <td>-1.0</td>\n",
       "      <td>0600-0659</td>\n",
       "      <td>328.0</td>\n",
       "      <td>2475.0</td>\n",
       "      <td>10</td>\n",
       "    </tr>\n",
       "    <tr>\n",
       "      <th>10496</th>\n",
       "      <td>0</td>\n",
       "      <td>0</td>\n",
       "      <td>0</td>\n",
       "      <td>2</td>\n",
       "      <td>VX</td>\n",
       "      <td>LAX</td>\n",
       "      <td>Los Angeles, CA</td>\n",
       "      <td>CA</td>\n",
       "      <td>JFK</td>\n",
       "      <td>New York, NY</td>\n",
       "      <td>NY</td>\n",
       "      <td>734.0</td>\n",
       "      <td>-1.0</td>\n",
       "      <td>0.0</td>\n",
       "      <td>0.0</td>\n",
       "      <td>-1.0</td>\n",
       "      <td>0700-0759</td>\n",
       "      <td>315.0</td>\n",
       "      <td>2475.0</td>\n",
       "      <td>10</td>\n",
       "    </tr>\n",
       "    <tr>\n",
       "      <th>18939</th>\n",
       "      <td>1</td>\n",
       "      <td>1</td>\n",
       "      <td>1</td>\n",
       "      <td>4</td>\n",
       "      <td>B6</td>\n",
       "      <td>JFK</td>\n",
       "      <td>New York, NY</td>\n",
       "      <td>NY</td>\n",
       "      <td>LAX</td>\n",
       "      <td>Los Angeles, CA</td>\n",
       "      <td>CA</td>\n",
       "      <td>544.0</td>\n",
       "      <td>-1.0</td>\n",
       "      <td>0.0</td>\n",
       "      <td>0.0</td>\n",
       "      <td>-1.0</td>\n",
       "      <td>0001-0559</td>\n",
       "      <td>346.0</td>\n",
       "      <td>2475.0</td>\n",
       "      <td>10</td>\n",
       "    </tr>\n",
       "    <tr>\n",
       "      <th>30189</th>\n",
       "      <td>0</td>\n",
       "      <td>0</td>\n",
       "      <td>0</td>\n",
       "      <td>1</td>\n",
       "      <td>NK</td>\n",
       "      <td>LGA</td>\n",
       "      <td>New York, NY</td>\n",
       "      <td>NY</td>\n",
       "      <td>ORD</td>\n",
       "      <td>Chicago, IL</td>\n",
       "      <td>IL</td>\n",
       "      <td>2154.0</td>\n",
       "      <td>-5.0</td>\n",
       "      <td>0.0</td>\n",
       "      <td>0.0</td>\n",
       "      <td>-1.0</td>\n",
       "      <td>2100-2159</td>\n",
       "      <td>147.0</td>\n",
       "      <td>733.0</td>\n",
       "      <td>3</td>\n",
       "    </tr>\n",
       "    <tr>\n",
       "      <th>25267</th>\n",
       "      <td>0</td>\n",
       "      <td>1</td>\n",
       "      <td>1</td>\n",
       "      <td>2</td>\n",
       "      <td>DL</td>\n",
       "      <td>JFK</td>\n",
       "      <td>New York, NY</td>\n",
       "      <td>NY</td>\n",
       "      <td>SFO</td>\n",
       "      <td>San Francisco, CA</td>\n",
       "      <td>CA</td>\n",
       "      <td>1701.0</td>\n",
       "      <td>11.0</td>\n",
       "      <td>11.0</td>\n",
       "      <td>0.0</td>\n",
       "      <td>0.0</td>\n",
       "      <td>1600-1659</td>\n",
       "      <td>408.0</td>\n",
       "      <td>2586.0</td>\n",
       "      <td>11</td>\n",
       "    </tr>\n",
       "  </tbody>\n",
       "</table>\n",
       "</div>"
      ],
      "text/plain": [
       "       QUARTER  MONTH  DAY_OF_MONTH  DAY_OF_WEEK UNIQUE_CARRIER ORIGIN  \\\n",
       "16192        1      1             0            6             B6    LAX   \n",
       "10496        0      0             0            2             VX    LAX   \n",
       "18939        1      1             1            4             B6    JFK   \n",
       "30189        0      0             0            1             NK    LGA   \n",
       "25267        0      1             1            2             DL    JFK   \n",
       "\n",
       "      ORIGIN_CITY_NAME ORIGIN_STATE_ABR DEST     DEST_CITY_NAME  \\\n",
       "16192  Los Angeles, CA               CA  JFK       New York, NY   \n",
       "10496  Los Angeles, CA               CA  JFK       New York, NY   \n",
       "18939     New York, NY               NY  LAX    Los Angeles, CA   \n",
       "30189     New York, NY               NY  ORD        Chicago, IL   \n",
       "25267     New York, NY               NY  SFO  San Francisco, CA   \n",
       "\n",
       "      DEST_STATE_ABR  DEP_TIME  DEP_DELAY  DEP_DELAY_NEW  DEP_DEL15  \\\n",
       "16192             NY     619.0       -1.0            0.0        0.0   \n",
       "10496             NY     734.0       -1.0            0.0        0.0   \n",
       "18939             CA     544.0       -1.0            0.0        0.0   \n",
       "30189             IL    2154.0       -5.0            0.0        0.0   \n",
       "25267             CA    1701.0       11.0           11.0        0.0   \n",
       "\n",
       "       DEP_DELAY_GROUP DEP_TIME_BLK  CRS_ELAPSED_TIME  DISTANCE  \\\n",
       "16192             -1.0    0600-0659             328.0    2475.0   \n",
       "10496             -1.0    0700-0759             315.0    2475.0   \n",
       "18939             -1.0    0001-0559             346.0    2475.0   \n",
       "30189             -1.0    2100-2159             147.0     733.0   \n",
       "25267              0.0    1600-1659             408.0    2586.0   \n",
       "\n",
       "       DISTANCE_GROUP  \n",
       "16192              10  \n",
       "10496              10  \n",
       "18939              10  \n",
       "30189               3  \n",
       "25267              11  "
      ]
     },
     "execution_count": 16,
     "metadata": {},
     "output_type": "execute_result"
    }
   ],
   "source": [
    "df_3.sample(5, random_state=random_state)"
   ]
  },
  {
   "cell_type": "markdown",
   "metadata": {},
   "source": [
    "#### Binarize Day of week\n",
    "For some reason Thursday and Friday is more likely to get a delayed flight than any other day"
   ]
  },
  {
   "cell_type": "code",
   "execution_count": 17,
   "metadata": {
    "collapsed": false
   },
   "outputs": [
    {
     "data": {
      "text/plain": [
       "(31186, 20)"
      ]
     },
     "execution_count": 17,
     "metadata": {},
     "output_type": "execute_result"
    }
   ],
   "source": [
    "df_4 = FlightDelayFeatureProcessing.binarizeDayOfWeek(df_3)\n",
    "df_4.shape"
   ]
  },
  {
   "cell_type": "code",
   "execution_count": 18,
   "metadata": {
    "collapsed": false
   },
   "outputs": [
    {
     "data": {
      "text/plain": [
       "4"
      ]
     },
     "execution_count": 18,
     "metadata": {},
     "output_type": "execute_result"
    }
   ],
   "source": [
    "df_3.loc[18939, 'DAY_OF_WEEK']"
   ]
  },
  {
   "cell_type": "code",
   "execution_count": 19,
   "metadata": {
    "collapsed": false
   },
   "outputs": [
    {
     "data": {
      "text/html": [
       "<div>\n",
       "<table border=\"1\" class=\"dataframe\">\n",
       "  <thead>\n",
       "    <tr style=\"text-align: right;\">\n",
       "      <th></th>\n",
       "      <th>QUARTER</th>\n",
       "      <th>MONTH</th>\n",
       "      <th>DAY_OF_MONTH</th>\n",
       "      <th>DAY_OF_WEEK</th>\n",
       "      <th>UNIQUE_CARRIER</th>\n",
       "      <th>ORIGIN</th>\n",
       "      <th>ORIGIN_CITY_NAME</th>\n",
       "      <th>ORIGIN_STATE_ABR</th>\n",
       "      <th>DEST</th>\n",
       "      <th>DEST_CITY_NAME</th>\n",
       "      <th>DEST_STATE_ABR</th>\n",
       "      <th>DEP_TIME</th>\n",
       "      <th>DEP_DELAY</th>\n",
       "      <th>DEP_DELAY_NEW</th>\n",
       "      <th>DEP_DEL15</th>\n",
       "      <th>DEP_DELAY_GROUP</th>\n",
       "      <th>DEP_TIME_BLK</th>\n",
       "      <th>CRS_ELAPSED_TIME</th>\n",
       "      <th>DISTANCE</th>\n",
       "      <th>DISTANCE_GROUP</th>\n",
       "    </tr>\n",
       "  </thead>\n",
       "  <tbody>\n",
       "    <tr>\n",
       "      <th>16192</th>\n",
       "      <td>1</td>\n",
       "      <td>1</td>\n",
       "      <td>0</td>\n",
       "      <td>0</td>\n",
       "      <td>B6</td>\n",
       "      <td>LAX</td>\n",
       "      <td>Los Angeles, CA</td>\n",
       "      <td>CA</td>\n",
       "      <td>JFK</td>\n",
       "      <td>New York, NY</td>\n",
       "      <td>NY</td>\n",
       "      <td>619.0</td>\n",
       "      <td>-1.0</td>\n",
       "      <td>0.0</td>\n",
       "      <td>0.0</td>\n",
       "      <td>-1.0</td>\n",
       "      <td>0600-0659</td>\n",
       "      <td>328.0</td>\n",
       "      <td>2475.0</td>\n",
       "      <td>10</td>\n",
       "    </tr>\n",
       "    <tr>\n",
       "      <th>10496</th>\n",
       "      <td>0</td>\n",
       "      <td>0</td>\n",
       "      <td>0</td>\n",
       "      <td>0</td>\n",
       "      <td>VX</td>\n",
       "      <td>LAX</td>\n",
       "      <td>Los Angeles, CA</td>\n",
       "      <td>CA</td>\n",
       "      <td>JFK</td>\n",
       "      <td>New York, NY</td>\n",
       "      <td>NY</td>\n",
       "      <td>734.0</td>\n",
       "      <td>-1.0</td>\n",
       "      <td>0.0</td>\n",
       "      <td>0.0</td>\n",
       "      <td>-1.0</td>\n",
       "      <td>0700-0759</td>\n",
       "      <td>315.0</td>\n",
       "      <td>2475.0</td>\n",
       "      <td>10</td>\n",
       "    </tr>\n",
       "    <tr>\n",
       "      <th>18939</th>\n",
       "      <td>1</td>\n",
       "      <td>1</td>\n",
       "      <td>1</td>\n",
       "      <td>1</td>\n",
       "      <td>B6</td>\n",
       "      <td>JFK</td>\n",
       "      <td>New York, NY</td>\n",
       "      <td>NY</td>\n",
       "      <td>LAX</td>\n",
       "      <td>Los Angeles, CA</td>\n",
       "      <td>CA</td>\n",
       "      <td>544.0</td>\n",
       "      <td>-1.0</td>\n",
       "      <td>0.0</td>\n",
       "      <td>0.0</td>\n",
       "      <td>-1.0</td>\n",
       "      <td>0001-0559</td>\n",
       "      <td>346.0</td>\n",
       "      <td>2475.0</td>\n",
       "      <td>10</td>\n",
       "    </tr>\n",
       "    <tr>\n",
       "      <th>30189</th>\n",
       "      <td>0</td>\n",
       "      <td>0</td>\n",
       "      <td>0</td>\n",
       "      <td>0</td>\n",
       "      <td>NK</td>\n",
       "      <td>LGA</td>\n",
       "      <td>New York, NY</td>\n",
       "      <td>NY</td>\n",
       "      <td>ORD</td>\n",
       "      <td>Chicago, IL</td>\n",
       "      <td>IL</td>\n",
       "      <td>2154.0</td>\n",
       "      <td>-5.0</td>\n",
       "      <td>0.0</td>\n",
       "      <td>0.0</td>\n",
       "      <td>-1.0</td>\n",
       "      <td>2100-2159</td>\n",
       "      <td>147.0</td>\n",
       "      <td>733.0</td>\n",
       "      <td>3</td>\n",
       "    </tr>\n",
       "    <tr>\n",
       "      <th>25267</th>\n",
       "      <td>0</td>\n",
       "      <td>1</td>\n",
       "      <td>1</td>\n",
       "      <td>0</td>\n",
       "      <td>DL</td>\n",
       "      <td>JFK</td>\n",
       "      <td>New York, NY</td>\n",
       "      <td>NY</td>\n",
       "      <td>SFO</td>\n",
       "      <td>San Francisco, CA</td>\n",
       "      <td>CA</td>\n",
       "      <td>1701.0</td>\n",
       "      <td>11.0</td>\n",
       "      <td>11.0</td>\n",
       "      <td>0.0</td>\n",
       "      <td>0.0</td>\n",
       "      <td>1600-1659</td>\n",
       "      <td>408.0</td>\n",
       "      <td>2586.0</td>\n",
       "      <td>11</td>\n",
       "    </tr>\n",
       "  </tbody>\n",
       "</table>\n",
       "</div>"
      ],
      "text/plain": [
       "       QUARTER  MONTH  DAY_OF_MONTH  DAY_OF_WEEK UNIQUE_CARRIER ORIGIN  \\\n",
       "16192        1      1             0            0             B6    LAX   \n",
       "10496        0      0             0            0             VX    LAX   \n",
       "18939        1      1             1            1             B6    JFK   \n",
       "30189        0      0             0            0             NK    LGA   \n",
       "25267        0      1             1            0             DL    JFK   \n",
       "\n",
       "      ORIGIN_CITY_NAME ORIGIN_STATE_ABR DEST     DEST_CITY_NAME  \\\n",
       "16192  Los Angeles, CA               CA  JFK       New York, NY   \n",
       "10496  Los Angeles, CA               CA  JFK       New York, NY   \n",
       "18939     New York, NY               NY  LAX    Los Angeles, CA   \n",
       "30189     New York, NY               NY  ORD        Chicago, IL   \n",
       "25267     New York, NY               NY  SFO  San Francisco, CA   \n",
       "\n",
       "      DEST_STATE_ABR  DEP_TIME  DEP_DELAY  DEP_DELAY_NEW  DEP_DEL15  \\\n",
       "16192             NY     619.0       -1.0            0.0        0.0   \n",
       "10496             NY     734.0       -1.0            0.0        0.0   \n",
       "18939             CA     544.0       -1.0            0.0        0.0   \n",
       "30189             IL    2154.0       -5.0            0.0        0.0   \n",
       "25267             CA    1701.0       11.0           11.0        0.0   \n",
       "\n",
       "       DEP_DELAY_GROUP DEP_TIME_BLK  CRS_ELAPSED_TIME  DISTANCE  \\\n",
       "16192             -1.0    0600-0659             328.0    2475.0   \n",
       "10496             -1.0    0700-0759             315.0    2475.0   \n",
       "18939             -1.0    0001-0559             346.0    2475.0   \n",
       "30189             -1.0    2100-2159             147.0     733.0   \n",
       "25267              0.0    1600-1659             408.0    2586.0   \n",
       "\n",
       "       DISTANCE_GROUP  \n",
       "16192              10  \n",
       "10496              10  \n",
       "18939              10  \n",
       "30189               3  \n",
       "25267              11  "
      ]
     },
     "execution_count": 19,
     "metadata": {},
     "output_type": "execute_result"
    }
   ],
   "source": [
    "df_4.sample(5, random_state=random_state)"
   ]
  },
  {
   "cell_type": "markdown",
   "metadata": {},
   "source": [
    "### Origin"
   ]
  },
  {
   "cell_type": "code",
   "execution_count": 20,
   "metadata": {
    "collapsed": false
   },
   "outputs": [
    {
     "data": {
      "text/plain": [
       "array(['ATL', 'JFK', 'LAX', 'LGA', 'MIA', 'ORD', 'SFO'], dtype=object)"
      ]
     },
     "execution_count": 20,
     "metadata": {},
     "output_type": "execute_result"
    }
   ],
   "source": [
    "np.unique(df_4['ORIGIN'])"
   ]
  },
  {
   "cell_type": "code",
   "execution_count": 21,
   "metadata": {
    "collapsed": false
   },
   "outputs": [
    {
     "data": {
      "text/plain": [
       "array(['Atlanta, GA', 'Chicago, IL', 'Los Angeles, CA', 'Miami, FL',\n",
       "       'New York, NY', 'San Francisco, CA'], dtype=object)"
      ]
     },
     "execution_count": 21,
     "metadata": {},
     "output_type": "execute_result"
    }
   ],
   "source": [
    "np.unique(df_4['ORIGIN_CITY_NAME'])"
   ]
  },
  {
   "cell_type": "code",
   "execution_count": 22,
   "metadata": {
    "collapsed": false
   },
   "outputs": [
    {
     "data": {
      "text/plain": [
       "array(['CA', 'FL', 'GA', 'IL', 'NY'], dtype=object)"
      ]
     },
     "execution_count": 22,
     "metadata": {},
     "output_type": "execute_result"
    }
   ],
   "source": [
    "np.unique(df_4['ORIGIN_STATE_ABR'])"
   ]
  },
  {
   "cell_type": "code",
   "execution_count": 23,
   "metadata": {
    "collapsed": false
   },
   "outputs": [],
   "source": [
    "groupOrigin = df_4.groupby(['ORIGIN_STATE_ABR', 'ORIGIN_CITY_NAME', 'ORIGIN']).size()"
   ]
  },
  {
   "cell_type": "code",
   "execution_count": 24,
   "metadata": {
    "collapsed": false
   },
   "outputs": [
    {
     "data": {
      "text/plain": [
       "[('CA', 'Los Angeles, CA', 'LAX'),\n",
       " ('CA', 'San Francisco, CA', 'SFO'),\n",
       " ('FL', 'Miami, FL', 'MIA'),\n",
       " ('GA', 'Atlanta, GA', 'ATL'),\n",
       " ('IL', 'Chicago, IL', 'ORD'),\n",
       " ('NY', 'New York, NY', 'JFK'),\n",
       " ('NY', 'New York, NY', 'LGA')]"
      ]
     },
     "execution_count": 24,
     "metadata": {},
     "output_type": "execute_result"
    }
   ],
   "source": [
    "list(groupOrigin.keys())"
   ]
  },
  {
   "cell_type": "markdown",
   "metadata": {},
   "source": [
    "We see that for states Georgia (GA), Illinois (IL) and Florida (FL) there is only one city corresponding to them so the state does not bring any additional information since we always refer to that same city.\n",
    "The same applies for NY state as there is only one New York City it refers to."
   ]
  },
  {
   "cell_type": "code",
   "execution_count": 34,
   "metadata": {
    "collapsed": false
   },
   "outputs": [
    {
     "data": {
      "image/png": "[encoded data removed]",
      "text/plain": [
       "<matplotlib.figure.Figure at 0x7f359ded3650>"
      ]
     },
     "metadata": {},
     "output_type": "display_data"
    }
   ],
   "source": [
    "fig = plt.figure(figsize=(14,6))\n",
    "sns.countplot(x='ORIGIN_STATE_ABR', data=df, hue='IS_DELAYED')\n",
    "plt.show()"
   ]
  },
  {
   "cell_type": "code",
   "execution_count": 39,
   "metadata": {
    "collapsed": false
   },
   "outputs": [
    {
     "data": {
      "image/png": "[encoded data removed]",
      "text/plain": [
       "<matplotlib.figure.Figure at 0x7f359e169d10>"
      ]
     },
     "metadata": {},
     "output_type": "display_data"
    }
   ],
   "source": [
    "fig = plt.figure(figsize=(14,6))\n",
    "sns.countplot(x='ORIGIN_CITY_NAME', data=df, hue='IS_DELAYED')\n",
    "plt.show()"
   ]
  },
  {
   "cell_type": "markdown",
   "metadata": {},
   "source": [
    "Comparing the two plots above we see that for all states represented by a single city of course the distribution is the same since no extra information is carried.\n",
    "\n",
    "For the state of California we do not see a huge difference between Los Angeles and Atlanta. Meaning that departing from california state does not make a large difference either if you are from Los Angeles or from Atlanta\n",
    "\n",
    "We have no reason to keep the origin state"
   ]
  },
  {
   "cell_type": "code",
   "execution_count": 40,
   "metadata": {
    "collapsed": false
   },
   "outputs": [
    {
     "data": {
      "text/plain": [
       "(31186, 19)"
      ]
     },
     "execution_count": 40,
     "metadata": {},
     "output_type": "execute_result"
    }
   ],
   "source": [
    "df_5 = df_4.drop(labels=['ORIGIN_STATE_ABR'], axis=1)\n",
    "df_5.shape"
   ]
  },
  {
   "cell_type": "markdown",
   "metadata": {},
   "source": [
    "#### New York has two airports\n",
    "due to the same analysis as above since all airports except are represented by one city the city brings no additional information\n",
    "\n",
    "The issue is with New York city which has two airports. In particular it has JFK and LGA."
   ]
  },
  {
   "cell_type": "code",
   "execution_count": 41,
   "metadata": {
    "collapsed": false
   },
   "outputs": [
    {
     "data": {
      "image/png": "[encoded data removed]",
      "text/plain": [
       "<matplotlib.figure.Figure at 0x7f359debcfd0>"
      ]
     },
     "metadata": {},
     "output_type": "display_data"
    }
   ],
   "source": [
    "fig = plt.figure(figsize=(14,6))\n",
    "sns.countplot(x='ORIGIN', data=df, hue='IS_DELAYED')\n",
    "plt.show()"
   ]
  },
  {
   "cell_type": "markdown",
   "metadata": {},
   "source": [
    "Again we don't see from bare eye that the difference among the two classes is any different of the difference of each individual airport (JFK and LGA) so no extra information is really provided by being in New York in general so we will remove the city attribute as well and keep only the airport"
   ]
  },
  {
   "cell_type": "code",
   "execution_count": 43,
   "metadata": {
    "collapsed": false
   },
   "outputs": [
    {
     "data": {
      "text/plain": [
       "(31186, 18)"
      ]
     },
     "execution_count": 43,
     "metadata": {},
     "output_type": "execute_result"
    }
   ],
   "source": [
    "df_6 = df_5.drop(labels=['ORIGIN_CITY_NAME'], axis=1)\n",
    "df_6.shape"
   ]
  },
  {
   "cell_type": "markdown",
   "metadata": {},
   "source": [
    "#### Remove redundant destination flight information like State and City"
   ]
  },
  {
   "cell_type": "code",
   "execution_count": 48,
   "metadata": {
    "collapsed": false
   },
   "outputs": [
    {
     "data": {
      "text/plain": [
       "[('CA', 'Los Angeles, CA', 'LAX'),\n",
       " ('CA', 'San Francisco, CA', 'SFO'),\n",
       " ('GA', 'Atlanta, GA', 'ATL'),\n",
       " ('IL', 'Chicago, IL', 'ORD'),\n",
       " ('MA', 'Boston, MA', 'BOS'),\n",
       " ('NY', 'New York, NY', 'JFK'),\n",
       " ('NY', 'New York, NY', 'LGA')]"
      ]
     },
     "execution_count": 48,
     "metadata": {},
     "output_type": "execute_result"
    }
   ],
   "source": [
    "list(df_6.groupby(['DEST_STATE_ABR', 'DEST_CITY_NAME', 'DEST']).size().keys())"
   ]
  },
  {
   "cell_type": "code",
   "execution_count": 49,
   "metadata": {
    "collapsed": false
   },
   "outputs": [
    {
     "data": {
      "image/png": "[encoded data removed]",
      "text/plain": [
       "<matplotlib.figure.Figure at 0x7f359df05ed0>"
      ]
     },
     "metadata": {},
     "output_type": "display_data"
    }
   ],
   "source": [
    "fig = plt.figure(figsize=(14,6))\n",
    "sns.countplot(x='DEST_STATE_ABR', data=df, hue='IS_DELAYED')\n",
    "plt.show()"
   ]
  },
  {
   "cell_type": "code",
   "execution_count": 51,
   "metadata": {
    "collapsed": false
   },
   "outputs": [
    {
     "data": {
      "image/png": "[encoded data removed]",
      "text/plain": [
       "<matplotlib.figure.Figure at 0x7f359da20c90>"
      ]
     },
     "metadata": {},
     "output_type": "display_data"
    }
   ],
   "source": [
    "fig = plt.figure(figsize=(14,6))\n",
    "sns.countplot(x='DEST_CITY_NAME', data=df, hue='IS_DELAYED')\n",
    "plt.show()"
   ]
  },
  {
   "cell_type": "code",
   "execution_count": 52,
   "metadata": {
    "collapsed": false
   },
   "outputs": [
    {
     "data": {
      "image/png": "[encoded data removed]",
      "text/plain": [
       "<matplotlib.figure.Figure at 0x7f359da48450>"
      ]
     },
     "metadata": {},
     "output_type": "display_data"
    }
   ],
   "source": [
    "fig = plt.figure(figsize=(14,6))\n",
    "sns.countplot(x='DEST', data=df, hue='IS_DELAYED')\n",
    "plt.show()"
   ]
  },
  {
   "cell_type": "markdown",
   "metadata": {},
   "source": [
    "We are dropping Destination State and Destination City as they offer no real extra value with what the destination airport is already offering"
   ]
  },
  {
   "cell_type": "code",
   "execution_count": 53,
   "metadata": {
    "collapsed": false
   },
   "outputs": [
    {
     "data": {
      "text/plain": [
       "(31186, 16)"
      ]
     },
     "execution_count": 53,
     "metadata": {},
     "output_type": "execute_result"
    }
   ],
   "source": [
    "df_7 = df_6.drop(labels=['DEST_CITY_NAME', 'DEST_STATE_ABR'], axis=1)\n",
    "df_7.shape"
   ]
  },
  {
   "cell_type": "code",
   "execution_count": 55,
   "metadata": {
    "collapsed": false
   },
   "outputs": [
    {
     "name": "stdout",
     "output_type": "stream",
     "text": [
      "<class 'pandas.core.frame.DataFrame'>\n",
      "RangeIndex: 31186 entries, 0 to 31185\n",
      "Data columns (total 16 columns):\n",
      "QUARTER             31186 non-null int64\n",
      "MONTH               31186 non-null int64\n",
      "DAY_OF_MONTH        31186 non-null int64\n",
      "DAY_OF_WEEK         31186 non-null int64\n",
      "UNIQUE_CARRIER      31186 non-null object\n",
      "ORIGIN              31186 non-null object\n",
      "DEST                31186 non-null object\n",
      "DEP_TIME            31186 non-null float64\n",
      "DEP_DELAY           31186 non-null float64\n",
      "DEP_DELAY_NEW       31186 non-null float64\n",
      "DEP_DEL15           31186 non-null float64\n",
      "DEP_DELAY_GROUP     31186 non-null float64\n",
      "DEP_TIME_BLK        31186 non-null object\n",
      "CRS_ELAPSED_TIME    31186 non-null float64\n",
      "DISTANCE            31186 non-null float64\n",
      "DISTANCE_GROUP      31186 non-null int64\n",
      "dtypes: float64(7), int64(5), object(4)\n",
      "memory usage: 3.8+ MB\n"
     ]
    }
   ],
   "source": [
    "df_7.info()"
   ]
  },
  {
   "cell_type": "markdown",
   "metadata": {},
   "source": [
    "### Remove distance attributes\n",
    "From the distribution plots seems that distance attributes offer minimum amount of value"
   ]
  },
  {
   "cell_type": "code",
   "execution_count": 58,
   "metadata": {
    "collapsed": false
   },
   "outputs": [
    {
     "data": {
      "text/plain": [
       "(31186, 14)"
      ]
     },
     "execution_count": 58,
     "metadata": {},
     "output_type": "execute_result"
    }
   ],
   "source": [
    "df_8 = df_7.drop(labels=['DISTANCE', 'DISTANCE_GROUP'], axis=1)\n",
    "df_8.shape"
   ]
  },
  {
   "cell_type": "code",
   "execution_count": 59,
   "metadata": {
    "collapsed": false
   },
   "outputs": [
    {
     "data": {
      "text/plain": [
       "QUARTER               int64\n",
       "MONTH                 int64\n",
       "DAY_OF_MONTH          int64\n",
       "DAY_OF_WEEK           int64\n",
       "UNIQUE_CARRIER       object\n",
       "ORIGIN               object\n",
       "DEST                 object\n",
       "DEP_TIME            float64\n",
       "DEP_DELAY           float64\n",
       "DEP_DELAY_NEW       float64\n",
       "DEP_DEL15           float64\n",
       "DEP_DELAY_GROUP     float64\n",
       "DEP_TIME_BLK         object\n",
       "CRS_ELAPSED_TIME    float64\n",
       "dtype: object"
      ]
     },
     "execution_count": 59,
     "metadata": {},
     "output_type": "execute_result"
    }
   ],
   "source": [
    "df_8.dtypes"
   ]
  },
  {
   "cell_type": "markdown",
   "metadata": {},
   "source": [
    "### Departure time shift\n",
    "From the departure time infomation which is actually the hour and minutes concatenated to form an integer (or a float) we would prefer it to have it shifted so that the day would start at the minimum value which is at 4 am approximately so that we would avoid large kurtosis on either positive or negative class distribution."
   ]
  },
  {
   "cell_type": "code",
   "execution_count": 60,
   "metadata": {
    "collapsed": false
   },
   "outputs": [
    {
     "data": {
      "text/html": [
       "<div>\n",
       "<table border=\"1\" class=\"dataframe\">\n",
       "  <thead>\n",
       "    <tr style=\"text-align: right;\">\n",
       "      <th></th>\n",
       "      <th>QUARTER</th>\n",
       "      <th>MONTH</th>\n",
       "      <th>DAY_OF_MONTH</th>\n",
       "      <th>DAY_OF_WEEK</th>\n",
       "      <th>UNIQUE_CARRIER</th>\n",
       "      <th>ORIGIN</th>\n",
       "      <th>DEST</th>\n",
       "      <th>DEP_TIME</th>\n",
       "      <th>DEP_DELAY</th>\n",
       "      <th>DEP_DELAY_NEW</th>\n",
       "      <th>DEP_DEL15</th>\n",
       "      <th>DEP_DELAY_GROUP</th>\n",
       "      <th>DEP_TIME_BLK</th>\n",
       "      <th>CRS_ELAPSED_TIME</th>\n",
       "    </tr>\n",
       "  </thead>\n",
       "  <tbody>\n",
       "    <tr>\n",
       "      <th>16192</th>\n",
       "      <td>1</td>\n",
       "      <td>1</td>\n",
       "      <td>0</td>\n",
       "      <td>0</td>\n",
       "      <td>B6</td>\n",
       "      <td>LAX</td>\n",
       "      <td>JFK</td>\n",
       "      <td>619.0</td>\n",
       "      <td>-1.0</td>\n",
       "      <td>0.0</td>\n",
       "      <td>0.0</td>\n",
       "      <td>-1.0</td>\n",
       "      <td>0600-0659</td>\n",
       "      <td>328.0</td>\n",
       "    </tr>\n",
       "    <tr>\n",
       "      <th>10496</th>\n",
       "      <td>0</td>\n",
       "      <td>0</td>\n",
       "      <td>0</td>\n",
       "      <td>0</td>\n",
       "      <td>VX</td>\n",
       "      <td>LAX</td>\n",
       "      <td>JFK</td>\n",
       "      <td>734.0</td>\n",
       "      <td>-1.0</td>\n",
       "      <td>0.0</td>\n",
       "      <td>0.0</td>\n",
       "      <td>-1.0</td>\n",
       "      <td>0700-0759</td>\n",
       "      <td>315.0</td>\n",
       "    </tr>\n",
       "    <tr>\n",
       "      <th>18939</th>\n",
       "      <td>1</td>\n",
       "      <td>1</td>\n",
       "      <td>1</td>\n",
       "      <td>1</td>\n",
       "      <td>B6</td>\n",
       "      <td>JFK</td>\n",
       "      <td>LAX</td>\n",
       "      <td>544.0</td>\n",
       "      <td>-1.0</td>\n",
       "      <td>0.0</td>\n",
       "      <td>0.0</td>\n",
       "      <td>-1.0</td>\n",
       "      <td>0001-0559</td>\n",
       "      <td>346.0</td>\n",
       "    </tr>\n",
       "    <tr>\n",
       "      <th>30189</th>\n",
       "      <td>0</td>\n",
       "      <td>0</td>\n",
       "      <td>0</td>\n",
       "      <td>0</td>\n",
       "      <td>NK</td>\n",
       "      <td>LGA</td>\n",
       "      <td>ORD</td>\n",
       "      <td>2154.0</td>\n",
       "      <td>-5.0</td>\n",
       "      <td>0.0</td>\n",
       "      <td>0.0</td>\n",
       "      <td>-1.0</td>\n",
       "      <td>2100-2159</td>\n",
       "      <td>147.0</td>\n",
       "    </tr>\n",
       "    <tr>\n",
       "      <th>25267</th>\n",
       "      <td>0</td>\n",
       "      <td>1</td>\n",
       "      <td>1</td>\n",
       "      <td>0</td>\n",
       "      <td>DL</td>\n",
       "      <td>JFK</td>\n",
       "      <td>SFO</td>\n",
       "      <td>1701.0</td>\n",
       "      <td>11.0</td>\n",
       "      <td>11.0</td>\n",
       "      <td>0.0</td>\n",
       "      <td>0.0</td>\n",
       "      <td>1600-1659</td>\n",
       "      <td>408.0</td>\n",
       "    </tr>\n",
       "  </tbody>\n",
       "</table>\n",
       "</div>"
      ],
      "text/plain": [
       "       QUARTER  MONTH  DAY_OF_MONTH  DAY_OF_WEEK UNIQUE_CARRIER ORIGIN DEST  \\\n",
       "16192        1      1             0            0             B6    LAX  JFK   \n",
       "10496        0      0             0            0             VX    LAX  JFK   \n",
       "18939        1      1             1            1             B6    JFK  LAX   \n",
       "30189        0      0             0            0             NK    LGA  ORD   \n",
       "25267        0      1             1            0             DL    JFK  SFO   \n",
       "\n",
       "       DEP_TIME  DEP_DELAY  DEP_DELAY_NEW  DEP_DEL15  DEP_DELAY_GROUP  \\\n",
       "16192     619.0       -1.0            0.0        0.0             -1.0   \n",
       "10496     734.0       -1.0            0.0        0.0             -1.0   \n",
       "18939     544.0       -1.0            0.0        0.0             -1.0   \n",
       "30189    2154.0       -5.0            0.0        0.0             -1.0   \n",
       "25267    1701.0       11.0           11.0        0.0              0.0   \n",
       "\n",
       "      DEP_TIME_BLK  CRS_ELAPSED_TIME  \n",
       "16192    0600-0659             328.0  \n",
       "10496    0700-0759             315.0  \n",
       "18939    0001-0559             346.0  \n",
       "30189    2100-2159             147.0  \n",
       "25267    1600-1659             408.0  "
      ]
     },
     "execution_count": 60,
     "metadata": {},
     "output_type": "execute_result"
    }
   ],
   "source": [
    "df_8.sample(5, random_state=random_state)"
   ]
  },
  {
   "cell_type": "code",
   "execution_count": 65,
   "metadata": {
    "collapsed": false
   },
   "outputs": [
    {
     "data": {
      "text/plain": [
       "DEP_TIME_BLK\n",
       "0001-0559     341\n",
       "0600-0659    1639\n",
       "0700-0759    2286\n",
       "0800-0859    1740\n",
       "0900-0959    2090\n",
       "1000-1059    1353\n",
       "1100-1159    2284\n",
       "1200-1259    1632\n",
       "1300-1359    2060\n",
       "1400-1459    1344\n",
       "1500-1559    2137\n",
       "1600-1659    2204\n",
       "1700-1759    1997\n",
       "1800-1859    1808\n",
       "1900-1959    1493\n",
       "2000-2059    1854\n",
       "2100-2159    1789\n",
       "2200-2259     495\n",
       "2300-2359     640\n",
       "dtype: int64"
      ]
     },
     "execution_count": 65,
     "metadata": {},
     "output_type": "execute_result"
    }
   ],
   "source": [
    "groupByTimeBlock = df_8.groupby(['DEP_TIME_BLK']).size()\n",
    "groupByTimeBlock"
   ]
  },
  {
   "cell_type": "code",
   "execution_count": 66,
   "metadata": {
    "collapsed": false
   },
   "outputs": [
    {
     "data": {
      "text/plain": [
       "DEP_TIME_BLK\n",
       "0001-0559     341\n",
       "2200-2259     495\n",
       "2300-2359     640\n",
       "1400-1459    1344\n",
       "1000-1059    1353\n",
       "1900-1959    1493\n",
       "1200-1259    1632\n",
       "0600-0659    1639\n",
       "0800-0859    1740\n",
       "2100-2159    1789\n",
       "1800-1859    1808\n",
       "2000-2059    1854\n",
       "1700-1759    1997\n",
       "1300-1359    2060\n",
       "0900-0959    2090\n",
       "1500-1559    2137\n",
       "1600-1659    2204\n",
       "1100-1159    2284\n",
       "0700-0759    2286\n",
       "dtype: int64"
      ]
     },
     "execution_count": 66,
     "metadata": {},
     "output_type": "execute_result"
    }
   ],
   "source": [
    "groupByTimeBlock.sort_values()"
   ]
  },
  {
   "cell_type": "markdown",
   "metadata": {},
   "source": [
    "So definitely between 0001 and 0559 we have the smaller number of flights"
   ]
  },
  {
   "cell_type": "code",
   "execution_count": 69,
   "metadata": {
    "collapsed": false
   },
   "outputs": [
    {
     "data": {
      "text/plain": [
       "DEP_TIME\n",
       "208.0     1\n",
       "49.0      1\n",
       "113.0     1\n",
       "112.0     1\n",
       "241.0     1\n",
       "235.0     1\n",
       "109.0     1\n",
       "108.0     1\n",
       "234.0     1\n",
       "118.0     1\n",
       "220.0     1\n",
       "103.0     1\n",
       "229.0     1\n",
       "226.0     1\n",
       "102.0     1\n",
       "58.0      1\n",
       "57.0      1\n",
       "46.0      1\n",
       "207.0     1\n",
       "105.0     1\n",
       "119.0     1\n",
       "53.0      1\n",
       "124.0     1\n",
       "206.0     1\n",
       "157.0     1\n",
       "155.0     1\n",
       "153.0     1\n",
       "149.0     1\n",
       "148.0     1\n",
       "139.0     1\n",
       "         ..\n",
       "3.0       6\n",
       "39.0      7\n",
       "28.0      7\n",
       "19.0      7\n",
       "13.0      7\n",
       "11.0      7\n",
       "540.0     8\n",
       "539.0     9\n",
       "542.0     9\n",
       "33.0      9\n",
       "9.0      10\n",
       "541.0    10\n",
       "4.0      10\n",
       "544.0    13\n",
       "549.0    13\n",
       "543.0    13\n",
       "547.0    14\n",
       "548.0    15\n",
       "545.0    16\n",
       "546.0    17\n",
       "550.0    17\n",
       "551.0    19\n",
       "553.0    35\n",
       "552.0    38\n",
       "559.0    53\n",
       "557.0    54\n",
       "554.0    56\n",
       "555.0    71\n",
       "556.0    71\n",
       "558.0    72\n",
       "dtype: int64"
      ]
     },
     "execution_count": 69,
     "metadata": {},
     "output_type": "execute_result"
    }
   ],
   "source": [
    "condition = df_8['DEP_TIME'] <= 559\n",
    "groupByTime = df_8[condition].groupby(['DEP_TIME']).size()\n",
    "groupByTime.sort_values()"
   ]
  },
  {
   "cell_type": "code",
   "execution_count": 90,
   "metadata": {
    "collapsed": false
   },
   "outputs": [
    {
     "data": {
      "text/plain": [
       "132"
      ]
     },
     "execution_count": 90,
     "metadata": {},
     "output_type": "execute_result"
    }
   ],
   "source": [
    "len(groupByTime)"
   ]
  },
  {
   "cell_type": "code",
   "execution_count": 70,
   "metadata": {
    "collapsed": true
   },
   "outputs": [],
   "source": [
    "first_time_block = df_8[condition]"
   ]
  },
  {
   "cell_type": "code",
   "execution_count": 91,
   "metadata": {
    "collapsed": false
   },
   "outputs": [
    {
     "data": {
      "text/plain": [
       "(133, 132)"
      ]
     },
     "execution_count": 91,
     "metadata": {},
     "output_type": "execute_result"
    }
   ],
   "source": [
    "histy, histx = np.histogram(first_time_block['DEP_TIME'], bins=len(groupByTime))\n",
    "len(histx), len(histy)"
   ]
  },
  {
   "cell_type": "code",
   "execution_count": 92,
   "metadata": {
    "collapsed": false
   },
   "outputs": [
    {
     "data": {
      "text/plain": [
       "array([ 32,  22,  22,  17,  20,  14,  21,  18,  20,  15,  13,  10,  10,\n",
       "         7,   0,   0,   0,   0,   0,   0,   0,   0,   0,   8,   6,   6,\n",
       "         7,   5,   6,   2,   2,   3,   2,   0,   1,   2,   4,   0,   0,\n",
       "         0,   0,   0,   0,   0,   0,   0,   0,   0,   3,   0,   0,   1,\n",
       "         0,   2,   0,   2,   1,   2,   1,   0,   0,   0,   0,   0,   0,\n",
       "         0,   0,   0,   0,   0,   0,   0,   0,   0,   0,   0,   0,   0,\n",
       "         0,   0,   0,   0,   0,   0,   0,   0,   0,   0,   0,   0,   0,\n",
       "         0,   0,   0,   0,   0,   0,   0,   0,   0,   0,   0,   0,   0,\n",
       "         0,   0,   0,   0,   0,   0,   0,   0,   0,   0,   0,   0,   0,\n",
       "         0,   0,   0,   0,   0,   0,   0,   1,   1,  10,  40,  59,  59,\n",
       "       148, 321])"
      ]
     },
     "execution_count": 92,
     "metadata": {},
     "output_type": "execute_result"
    }
   ],
   "source": [
    "histy"
   ]
  },
  {
   "cell_type": "code",
   "execution_count": 93,
   "metadata": {
    "collapsed": false
   },
   "outputs": [
    {
     "data": {
      "text/plain": [
       "array([   1.        ,    5.22727273,    9.45454545,   13.68181818,\n",
       "         17.90909091,   22.13636364,   26.36363636,   30.59090909,\n",
       "         34.81818182,   39.04545455,   43.27272727,   47.5       ,\n",
       "         51.72727273,   55.95454545,   60.18181818,   64.40909091,\n",
       "         68.63636364,   72.86363636,   77.09090909,   81.31818182,\n",
       "         85.54545455,   89.77272727,   94.        ,   98.22727273,\n",
       "        102.45454545,  106.68181818,  110.90909091,  115.13636364,\n",
       "        119.36363636,  123.59090909,  127.81818182,  132.04545455,\n",
       "        136.27272727,  140.5       ,  144.72727273,  148.95454545,\n",
       "        153.18181818,  157.40909091,  161.63636364,  165.86363636,\n",
       "        170.09090909,  174.31818182,  178.54545455,  182.77272727,\n",
       "        187.        ,  191.22727273,  195.45454545,  199.68181818,\n",
       "        203.90909091,  208.13636364,  212.36363636,  216.59090909,\n",
       "        220.81818182,  225.04545455,  229.27272727,  233.5       ,\n",
       "        237.72727273,  241.95454545,  246.18181818,  250.40909091,\n",
       "        254.63636364,  258.86363636,  263.09090909,  267.31818182,\n",
       "        271.54545455,  275.77272727,  280.        ,  284.22727273,\n",
       "        288.45454545,  292.68181818,  296.90909091,  301.13636364,\n",
       "        305.36363636,  309.59090909,  313.81818182,  318.04545455,\n",
       "        322.27272727,  326.5       ,  330.72727273,  334.95454545,\n",
       "        339.18181818,  343.40909091,  347.63636364,  351.86363636,\n",
       "        356.09090909,  360.31818182,  364.54545455,  368.77272727,\n",
       "        373.        ,  377.22727273,  381.45454545,  385.68181818,\n",
       "        389.90909091,  394.13636364,  398.36363636,  402.59090909,\n",
       "        406.81818182,  411.04545455,  415.27272727,  419.5       ,\n",
       "        423.72727273,  427.95454545,  432.18181818,  436.40909091,\n",
       "        440.63636364,  444.86363636,  449.09090909,  453.31818182,\n",
       "        457.54545455,  461.77272727,  466.        ,  470.22727273,\n",
       "        474.45454545,  478.68181818,  482.90909091,  487.13636364,\n",
       "        491.36363636,  495.59090909,  499.81818182,  504.04545455,\n",
       "        508.27272727,  512.5       ,  516.72727273,  520.95454545,\n",
       "        525.18181818,  529.40909091,  533.63636364,  537.86363636,\n",
       "        542.09090909,  546.31818182,  550.54545455,  554.77272727])"
      ]
     },
     "execution_count": 93,
     "metadata": {},
     "output_type": "execute_result"
    }
   ],
   "source": [
    "histx[:-1]"
   ]
  },
  {
   "cell_type": "code",
   "execution_count": 95,
   "metadata": {
    "collapsed": false
   },
   "outputs": [
    {
     "data": {
      "text/plain": [
       "array([ 4.22727273,  4.22727273,  4.22727273,  4.22727273,  4.22727273])"
      ]
     },
     "execution_count": 95,
     "metadata": {},
     "output_type": "execute_result"
    }
   ],
   "source": [
    "diffs = np.zeros(len(histy))\n",
    "for ii, elem in enumerate(histx):\n",
    "    if ii > 0:\n",
    "        diffs[ii-1] = elem - histx[ii-1]\n",
    "diffs[:5]"
   ]
  },
  {
   "cell_type": "code",
   "execution_count": 96,
   "metadata": {
    "collapsed": false
   },
   "outputs": [
    {
     "name": "stderr",
     "output_type": "stream",
     "text": [
      "/home/student/anaconda2/envs/dme/lib/python2.7/site-packages/ipykernel/__main__.py:1: RuntimeWarning: divide by zero encountered in log\n",
      "  if __name__ == '__main__':\n"
     ]
    },
    {
     "data": {
      "text/plain": [
       "<Container object of 132 artists>"
      ]
     },
     "execution_count": 96,
     "metadata": {},
     "output_type": "execute_result"
    },
    {
     "data": {
      "image/png": "[encoded data removed]",
      "text/plain": [
       "<matplotlib.figure.Figure at 0x7f359d972650>"
      ]
     },
     "metadata": {},
     "output_type": "display_data"
    }
   ],
   "source": [
    "plt.bar(left=histx[:-1], height=np.log(histy), width=diffs)"
   ]
  },
  {
   "cell_type": "markdown",
   "metadata": {},
   "source": [
    "Since we have zero trips let's pick the largest block of zeros in our trips"
   ]
  },
  {
   "cell_type": "code",
   "execution_count": 107,
   "metadata": {
    "collapsed": false
   },
   "outputs": [
    {
     "data": {
      "text/plain": [
       "([60.181818181818187,\n",
       "  140.5,\n",
       "  157.40909090909091,\n",
       "  208.13636363636365,\n",
       "  220.81818181818184,\n",
       "  229.27272727272728,\n",
       "  250.40909090909093],\n",
       " [98.227272727272734,\n",
       "  144.72727272727275,\n",
       "  203.90909090909093,\n",
       "  216.59090909090909,\n",
       "  225.04545454545456,\n",
       "  233.5,\n",
       "  525.18181818181824])"
      ]
     },
     "execution_count": 107,
     "metadata": {},
     "output_type": "execute_result"
    }
   ],
   "source": [
    "zeroBlockStart = []\n",
    "zeroBlockEnd = []\n",
    "for ii, (yelem, xelem, diffelem) in enumerate(zip(histy, histx[:-1], diffs)):\n",
    "    if (yelem == 0 and ii == 0) or (yelem==0 and ii > 0 and histy[ii-1] != 0):\n",
    "        zeroBlockStart.append(xelem)\n",
    "    \n",
    "    if ii > 0:\n",
    "        if yelem != 0 and histy[ii-1]==0:\n",
    "            zeroBlockEnd.append(xelem)\n",
    "                                    \n",
    "zeroBlockStart, zeroBlockEnd"
   ]
  },
  {
   "cell_type": "code",
   "execution_count": 108,
   "metadata": {
    "collapsed": false
   },
   "outputs": [
    {
     "data": {
      "text/plain": [
       "array([[  60.18181818,   98.22727273,   38.04545455],\n",
       "       [ 140.5       ,  144.72727273,    4.22727273],\n",
       "       [ 157.40909091,  203.90909091,   46.5       ],\n",
       "       [ 208.13636364,  216.59090909,    8.45454545],\n",
       "       [ 220.81818182,  225.04545455,    4.22727273],\n",
       "       [ 229.27272727,  233.5       ,    4.22727273],\n",
       "       [ 250.40909091,  525.18181818,  274.77272727]])"
      ]
     },
     "execution_count": 108,
     "metadata": {},
     "output_type": "execute_result"
    }
   ],
   "source": [
    "zeroBlockStart_arr = np.array(zeroBlockStart)[np.newaxis].T\n",
    "zeroBlockEnd_arr = np.array(zeroBlockEnd)[np.newaxis].T\n",
    "zeroBlocks = np.hstack( (zeroBlockStart_arr, zeroBlockEnd_arr, zeroBlockEnd_arr - zeroBlockStart_arr) )\n",
    "\n",
    "zeroBlocks"
   ]
  },
  {
   "cell_type": "code",
   "execution_count": 113,
   "metadata": {
    "collapsed": false
   },
   "outputs": [
    {
     "data": {
      "text/plain": [
       "6"
      ]
     },
     "execution_count": 113,
     "metadata": {},
     "output_type": "execute_result"
    }
   ],
   "source": [
    "largestZeroBlock_ind = np.argmax(zeroBlocks[:, 2])\n",
    "largestZeroBlock_ind"
   ]
  },
  {
   "cell_type": "code",
   "execution_count": 115,
   "metadata": {
    "collapsed": false
   },
   "outputs": [
    {
     "data": {
      "text/plain": [
       "array([ 250.40909091,  525.18181818])"
      ]
     },
     "execution_count": 115,
     "metadata": {},
     "output_type": "execute_result"
    }
   ],
   "source": [
    "largestZeroBlock = zeroBlocks[largestZeroBlock_ind]\n",
    "largestZeroBlock[:2]"
   ]
  },
  {
   "cell_type": "markdown",
   "metadata": {},
   "source": [
    "#### We are defining the start of the day as the average value between the start and end point of the largest zero block"
   ]
  },
  {
   "cell_type": "code",
   "execution_count": 117,
   "metadata": {
    "collapsed": false
   },
   "outputs": [
    {
     "data": {
      "text/plain": [
       "350.12121212121218"
      ]
     },
     "execution_count": 117,
     "metadata": {},
     "output_type": "execute_result"
    }
   ],
   "source": [
    "startOfDay = np.mean(largestZeroBlock)\n",
    "startOfDay"
   ]
  },
  {
   "cell_type": "code",
   "execution_count": 118,
   "metadata": {
    "collapsed": false
   },
   "outputs": [
    {
     "data": {
      "text/plain": [
       "2400.0"
      ]
     },
     "execution_count": 118,
     "metadata": {},
     "output_type": "execute_result"
    }
   ],
   "source": [
    "largestTime = np.max(df_8['DEP_TIME'])\n",
    "largestTime"
   ]
  },
  {
   "cell_type": "code",
   "execution_count": 119,
   "metadata": {
    "collapsed": true
   },
   "outputs": [],
   "source": [
    "timeCol = df_8['DEP_TIME'].copy()"
   ]
  },
  {
   "cell_type": "code",
   "execution_count": 121,
   "metadata": {
    "collapsed": false
   },
   "outputs": [
    {
     "data": {
      "text/plain": [
       "(31186,)"
      ]
     },
     "execution_count": 121,
     "metadata": {},
     "output_type": "execute_result"
    }
   ],
   "source": [
    "timeShifted = timeCol - startOfDay\n",
    "timeShifted.shape"
   ]
  },
  {
   "cell_type": "code",
   "execution_count": 123,
   "metadata": {
    "collapsed": false
   },
   "outputs": [],
   "source": [
    "timeShifted[timeShifted < 0] += largestTime"
   ]
  },
  {
   "cell_type": "code",
   "execution_count": 125,
   "metadata": {
    "collapsed": false
   },
   "outputs": [],
   "source": [
    "df_9 = df_8.copy()"
   ]
  },
  {
   "cell_type": "code",
   "execution_count": 126,
   "metadata": {
    "collapsed": true
   },
   "outputs": [],
   "source": [
    "df_9['DEP_TIME'] = timeShifted"
   ]
  },
  {
   "cell_type": "code",
   "execution_count": 127,
   "metadata": {
    "collapsed": false
   },
   "outputs": [
    {
     "data": {
      "image/png": "[encoded data removed]",
      "text/plain": [
       "<matplotlib.figure.Figure at 0x7f35a3fe97d0>"
      ]
     },
     "metadata": {},
     "output_type": "display_data"
    }
   ],
   "source": [
    "plotDistsPerClass(XX=df_9, yy=yy, colname='DEP_TIME')"
   ]
  },
  {
   "cell_type": "code",
   "execution_count": 128,
   "metadata": {
    "collapsed": false
   },
   "outputs": [
    {
     "data": {
      "image/png": "[encoded data removed]",
      "text/plain": [
       "<matplotlib.figure.Figure at 0x7f359d50b450>"
      ]
     },
     "metadata": {},
     "output_type": "display_data"
    }
   ],
   "source": [
    "plotBothDists(XX=df_9, yy=yy, colname='DEP_TIME')"
   ]
  },
  {
   "cell_type": "markdown",
   "metadata": {},
   "source": [
    "### Drop departure time block which is no longer relevant after the above transformation"
   ]
  },
  {
   "cell_type": "code",
   "execution_count": 130,
   "metadata": {
    "collapsed": false
   },
   "outputs": [
    {
     "data": {
      "text/plain": [
       "QUARTER               int64\n",
       "MONTH                 int64\n",
       "DAY_OF_MONTH          int64\n",
       "DAY_OF_WEEK           int64\n",
       "UNIQUE_CARRIER       object\n",
       "ORIGIN               object\n",
       "DEST                 object\n",
       "DEP_TIME            float64\n",
       "DEP_DELAY           float64\n",
       "DEP_DELAY_NEW       float64\n",
       "DEP_DEL15           float64\n",
       "DEP_DELAY_GROUP     float64\n",
       "CRS_ELAPSED_TIME    float64\n",
       "dtype: object"
      ]
     },
     "execution_count": 130,
     "metadata": {},
     "output_type": "execute_result"
    }
   ],
   "source": [
    "df_10 = df_9.drop(labels=['DEP_TIME_BLK'], axis=1)\n",
    "df_10.dtypes"
   ]
  },
  {
   "cell_type": "markdown",
   "metadata": {},
   "source": [
    "## Account for previous delays from the same airport\n",
    "The algorithm goes like this:\n",
    "- get all flights from origin airport\n",
    "- go back to departure time, for some hours, but only within same day\n",
    "- sum all departure delays and divide by number of flights corresponding to that to get delay per flight\n",
    "- Make this a feature"
   ]
  },
  {
   "cell_type": "code",
   "execution_count": 204,
   "metadata": {
    "collapsed": false
   },
   "outputs": [],
   "source": [
    "feature_prev_delays = FeaturePrevDelays(data_frame=df, mins_set=[30, 60, 120, 180, 360, 720])"
   ]
  },
  {
   "cell_type": "code",
   "execution_count": 206,
   "metadata": {
    "collapsed": false
   },
   "outputs": [
    {
     "name": "stdout",
     "output_type": "stream",
     "text": [
      "CPU times: user 27min 38s, sys: 252 ms, total: 27min 38s\n",
      "Wall time: 27min 38s\n"
     ]
    }
   ],
   "source": [
    "%%time\n",
    "df_11 = feature_prev_delays.transform(data_frame=df_10)\n",
    "df_11.dtypes"
   ]
  },
  {
   "cell_type": "code",
   "execution_count": 209,
   "metadata": {
    "collapsed": false
   },
   "outputs": [
    {
     "data": {
      "text/plain": [
       "QUARTER               int64\n",
       "MONTH                 int64\n",
       "DAY_OF_MONTH          int64\n",
       "DAY_OF_WEEK           int64\n",
       "UNIQUE_CARRIER       object\n",
       "ORIGIN               object\n",
       "DEST                 object\n",
       "DEP_TIME            float64\n",
       "DEP_DELAY           float64\n",
       "DEP_DELAY_NEW       float64\n",
       "DEP_DEL15           float64\n",
       "DEP_DELAY_GROUP     float64\n",
       "CRS_ELAPSED_TIME    float64\n",
       "PREV_DELAYS_30      float64\n",
       "PREV_DELAYS_60      float64\n",
       "PREV_DELAYS_120     float64\n",
       "PREV_DELAYS_180     float64\n",
       "PREV_DELAYS_360     float64\n",
       "PREV_DELAYS_720     float64\n",
       "dtype: object"
      ]
     },
     "execution_count": 209,
     "metadata": {},
     "output_type": "execute_result"
    }
   ],
   "source": [
    "df_11.dtypes"
   ]
  },
  {
   "cell_type": "code",
   "execution_count": 208,
   "metadata": {
    "collapsed": false
   },
   "outputs": [
    {
     "data": {
      "text/html": [
       "<div>\n",
       "<table border=\"1\" class=\"dataframe\">\n",
       "  <thead>\n",
       "    <tr style=\"text-align: right;\">\n",
       "      <th></th>\n",
       "      <th>QUARTER</th>\n",
       "      <th>MONTH</th>\n",
       "      <th>DAY_OF_MONTH</th>\n",
       "      <th>DAY_OF_WEEK</th>\n",
       "      <th>UNIQUE_CARRIER</th>\n",
       "      <th>ORIGIN</th>\n",
       "      <th>DEST</th>\n",
       "      <th>DEP_TIME</th>\n",
       "      <th>DEP_DELAY</th>\n",
       "      <th>DEP_DELAY_NEW</th>\n",
       "      <th>DEP_DEL15</th>\n",
       "      <th>DEP_DELAY_GROUP</th>\n",
       "      <th>CRS_ELAPSED_TIME</th>\n",
       "      <th>PREV_DELAYS_30</th>\n",
       "      <th>PREV_DELAYS_60</th>\n",
       "      <th>PREV_DELAYS_120</th>\n",
       "      <th>PREV_DELAYS_180</th>\n",
       "      <th>PREV_DELAYS_360</th>\n",
       "      <th>PREV_DELAYS_720</th>\n",
       "    </tr>\n",
       "  </thead>\n",
       "  <tbody>\n",
       "    <tr>\n",
       "      <th>21918</th>\n",
       "      <td>1</td>\n",
       "      <td>1</td>\n",
       "      <td>0</td>\n",
       "      <td>1</td>\n",
       "      <td>VX</td>\n",
       "      <td>SFO</td>\n",
       "      <td>JFK</td>\n",
       "      <td>1182.878788</td>\n",
       "      <td>103.0</td>\n",
       "      <td>103.0</td>\n",
       "      <td>1.0</td>\n",
       "      <td>6.0</td>\n",
       "      <td>339.0</td>\n",
       "      <td>0.0</td>\n",
       "      <td>2.0</td>\n",
       "      <td>36.0</td>\n",
       "      <td>55.2</td>\n",
       "      <td>75.285714</td>\n",
       "      <td>65.125</td>\n",
       "    </tr>\n",
       "    <tr>\n",
       "      <th>12532</th>\n",
       "      <td>1</td>\n",
       "      <td>1</td>\n",
       "      <td>0</td>\n",
       "      <td>0</td>\n",
       "      <td>VX</td>\n",
       "      <td>SFO</td>\n",
       "      <td>JFK</td>\n",
       "      <td>1107.878788</td>\n",
       "      <td>68.0</td>\n",
       "      <td>68.0</td>\n",
       "      <td>1.0</td>\n",
       "      <td>4.0</td>\n",
       "      <td>339.0</td>\n",
       "      <td>0.0</td>\n",
       "      <td>0.0</td>\n",
       "      <td>0.0</td>\n",
       "      <td>39.0</td>\n",
       "      <td>16.666667</td>\n",
       "      <td>9.000</td>\n",
       "    </tr>\n",
       "    <tr>\n",
       "      <th>21166</th>\n",
       "      <td>0</td>\n",
       "      <td>0</td>\n",
       "      <td>0</td>\n",
       "      <td>0</td>\n",
       "      <td>AA</td>\n",
       "      <td>JFK</td>\n",
       "      <td>LAX</td>\n",
       "      <td>1480.878788</td>\n",
       "      <td>1.0</td>\n",
       "      <td>1.0</td>\n",
       "      <td>0.0</td>\n",
       "      <td>0.0</td>\n",
       "      <td>389.0</td>\n",
       "      <td>0.0</td>\n",
       "      <td>0.0</td>\n",
       "      <td>0.0</td>\n",
       "      <td>-5.0</td>\n",
       "      <td>-3.333333</td>\n",
       "      <td>-1.375</td>\n",
       "    </tr>\n",
       "    <tr>\n",
       "      <th>21065</th>\n",
       "      <td>0</td>\n",
       "      <td>0</td>\n",
       "      <td>0</td>\n",
       "      <td>0</td>\n",
       "      <td>UA</td>\n",
       "      <td>ORD</td>\n",
       "      <td>LGA</td>\n",
       "      <td>408.878788</td>\n",
       "      <td>-1.0</td>\n",
       "      <td>0.0</td>\n",
       "      <td>0.0</td>\n",
       "      <td>-1.0</td>\n",
       "      <td>130.0</td>\n",
       "      <td>0.0</td>\n",
       "      <td>0.0</td>\n",
       "      <td>0.0</td>\n",
       "      <td>0.0</td>\n",
       "      <td>-4.000000</td>\n",
       "      <td>-4.000</td>\n",
       "    </tr>\n",
       "    <tr>\n",
       "      <th>18296</th>\n",
       "      <td>0</td>\n",
       "      <td>0</td>\n",
       "      <td>0</td>\n",
       "      <td>0</td>\n",
       "      <td>AA</td>\n",
       "      <td>LAX</td>\n",
       "      <td>JFK</td>\n",
       "      <td>888.878788</td>\n",
       "      <td>69.0</td>\n",
       "      <td>69.0</td>\n",
       "      <td>1.0</td>\n",
       "      <td>4.0</td>\n",
       "      <td>328.0</td>\n",
       "      <td>0.0</td>\n",
       "      <td>0.0</td>\n",
       "      <td>-3.0</td>\n",
       "      <td>-3.0</td>\n",
       "      <td>4.500000</td>\n",
       "      <td>0.400</td>\n",
       "    </tr>\n",
       "  </tbody>\n",
       "</table>\n",
       "</div>"
      ],
      "text/plain": [
       "       QUARTER  MONTH  DAY_OF_MONTH  DAY_OF_WEEK UNIQUE_CARRIER ORIGIN DEST  \\\n",
       "21918        1      1             0            1             VX    SFO  JFK   \n",
       "12532        1      1             0            0             VX    SFO  JFK   \n",
       "21166        0      0             0            0             AA    JFK  LAX   \n",
       "21065        0      0             0            0             UA    ORD  LGA   \n",
       "18296        0      0             0            0             AA    LAX  JFK   \n",
       "\n",
       "          DEP_TIME  DEP_DELAY  DEP_DELAY_NEW  DEP_DEL15  DEP_DELAY_GROUP  \\\n",
       "21918  1182.878788      103.0          103.0        1.0              6.0   \n",
       "12532  1107.878788       68.0           68.0        1.0              4.0   \n",
       "21166  1480.878788        1.0            1.0        0.0              0.0   \n",
       "21065   408.878788       -1.0            0.0        0.0             -1.0   \n",
       "18296   888.878788       69.0           69.0        1.0              4.0   \n",
       "\n",
       "       CRS_ELAPSED_TIME  PREV_DELAYS_30  PREV_DELAYS_60  PREV_DELAYS_120  \\\n",
       "21918             339.0             0.0             2.0             36.0   \n",
       "12532             339.0             0.0             0.0              0.0   \n",
       "21166             389.0             0.0             0.0              0.0   \n",
       "21065             130.0             0.0             0.0              0.0   \n",
       "18296             328.0             0.0             0.0             -3.0   \n",
       "\n",
       "       PREV_DELAYS_180  PREV_DELAYS_360  PREV_DELAYS_720  \n",
       "21918             55.2        75.285714           65.125  \n",
       "12532             39.0        16.666667            9.000  \n",
       "21166             -5.0        -3.333333           -1.375  \n",
       "21065              0.0        -4.000000           -4.000  \n",
       "18296             -3.0         4.500000            0.400  "
      ]
     },
     "execution_count": 208,
     "metadata": {},
     "output_type": "execute_result"
    }
   ],
   "source": [
    "df_11.sample(5)"
   ]
  },
  {
   "cell_type": "markdown",
   "metadata": {},
   "source": [
    "## Account delays of same airline\n",
    "Algorithm:\n",
    "- keep trips where destination is origin's target\n",
    "- keep trips only of the same day\n",
    "- keep trips of same airline\n",
    "- keep trips where the departure time is target's departure time - CRS elapsed time (even if they just arrived)\n",
    "- go further back in time within the same day and consume all departure delays as above\n",
    "    - sum dep delays and divide  by number of flights"
   ]
  },
  {
   "cell_type": "code",
   "execution_count": 212,
   "metadata": {
    "collapsed": true
   },
   "outputs": [],
   "source": [
    "feature_airline_delays = FeatureAirlineDelays(data_frame = df, mins_set=[30, 60, 120, 180, 360, 720])"
   ]
  },
  {
   "cell_type": "code",
   "execution_count": 214,
   "metadata": {
    "collapsed": false
   },
   "outputs": [
    {
     "name": "stdout",
     "output_type": "stream",
     "text": [
      "(31186, 25)\n",
      "CPU times: user 32min 35s, sys: 548 ms, total: 32min 35s\n",
      "Wall time: 32min 36s\n"
     ]
    }
   ],
   "source": [
    "%%time\n",
    "\n",
    "df_12 = feature_airline_delays.transform(data_frame=df_11)\n",
    "print df_12.shape"
   ]
  },
  {
   "cell_type": "code",
   "execution_count": 217,
   "metadata": {
    "collapsed": false
   },
   "outputs": [
    {
     "data": {
      "text/html": [
       "<div>\n",
       "<table border=\"1\" class=\"dataframe\">\n",
       "  <thead>\n",
       "    <tr style=\"text-align: right;\">\n",
       "      <th></th>\n",
       "      <th>QUARTER</th>\n",
       "      <th>MONTH</th>\n",
       "      <th>DAY_OF_MONTH</th>\n",
       "      <th>DAY_OF_WEEK</th>\n",
       "      <th>UNIQUE_CARRIER</th>\n",
       "      <th>ORIGIN</th>\n",
       "      <th>DEST</th>\n",
       "      <th>DEP_TIME</th>\n",
       "      <th>DEP_DELAY</th>\n",
       "      <th>DEP_DELAY_NEW</th>\n",
       "      <th>...</th>\n",
       "      <th>PREV_DELAYS_120</th>\n",
       "      <th>PREV_DELAYS_180</th>\n",
       "      <th>PREV_DELAYS_360</th>\n",
       "      <th>PREV_DELAYS_720</th>\n",
       "      <th>AIRLINE_DELAYS_30</th>\n",
       "      <th>AIRLINE_DELAYS_60</th>\n",
       "      <th>AIRLINE_DELAYS_120</th>\n",
       "      <th>AIRLINE_DELAYS_180</th>\n",
       "      <th>AIRLINE_DELAYS_360</th>\n",
       "      <th>AIRLINE_DELAYS_720</th>\n",
       "    </tr>\n",
       "  </thead>\n",
       "  <tbody>\n",
       "    <tr>\n",
       "      <th>26751</th>\n",
       "      <td>1</td>\n",
       "      <td>1</td>\n",
       "      <td>0</td>\n",
       "      <td>0</td>\n",
       "      <td>AA</td>\n",
       "      <td>ORD</td>\n",
       "      <td>LGA</td>\n",
       "      <td>1378.878788</td>\n",
       "      <td>-6.0</td>\n",
       "      <td>0.0</td>\n",
       "      <td>...</td>\n",
       "      <td>0.000000</td>\n",
       "      <td>0.000000</td>\n",
       "      <td>41.000000</td>\n",
       "      <td>10.800000</td>\n",
       "      <td>0.0</td>\n",
       "      <td>0.0</td>\n",
       "      <td>0.0</td>\n",
       "      <td>32.0</td>\n",
       "      <td>58.000000</td>\n",
       "      <td>77.0</td>\n",
       "    </tr>\n",
       "    <tr>\n",
       "      <th>224</th>\n",
       "      <td>0</td>\n",
       "      <td>0</td>\n",
       "      <td>1</td>\n",
       "      <td>0</td>\n",
       "      <td>AA</td>\n",
       "      <td>LAX</td>\n",
       "      <td>JFK</td>\n",
       "      <td>1902.878788</td>\n",
       "      <td>83.0</td>\n",
       "      <td>83.0</td>\n",
       "      <td>...</td>\n",
       "      <td>0.000000</td>\n",
       "      <td>0.000000</td>\n",
       "      <td>0.000000</td>\n",
       "      <td>64.000000</td>\n",
       "      <td>0.0</td>\n",
       "      <td>0.0</td>\n",
       "      <td>0.0</td>\n",
       "      <td>7.0</td>\n",
       "      <td>7.000000</td>\n",
       "      <td>3.0</td>\n",
       "    </tr>\n",
       "    <tr>\n",
       "      <th>2183</th>\n",
       "      <td>0</td>\n",
       "      <td>0</td>\n",
       "      <td>0</td>\n",
       "      <td>1</td>\n",
       "      <td>DL</td>\n",
       "      <td>LGA</td>\n",
       "      <td>ATL</td>\n",
       "      <td>508.878788</td>\n",
       "      <td>-1.0</td>\n",
       "      <td>0.0</td>\n",
       "      <td>...</td>\n",
       "      <td>-2.000000</td>\n",
       "      <td>29.000000</td>\n",
       "      <td>5.571429</td>\n",
       "      <td>5.571429</td>\n",
       "      <td>0.0</td>\n",
       "      <td>0.0</td>\n",
       "      <td>0.0</td>\n",
       "      <td>0.0</td>\n",
       "      <td>0.000000</td>\n",
       "      <td>0.0</td>\n",
       "    </tr>\n",
       "    <tr>\n",
       "      <th>16359</th>\n",
       "      <td>0</td>\n",
       "      <td>0</td>\n",
       "      <td>0</td>\n",
       "      <td>0</td>\n",
       "      <td>AA</td>\n",
       "      <td>ORD</td>\n",
       "      <td>LGA</td>\n",
       "      <td>478.878788</td>\n",
       "      <td>4.0</td>\n",
       "      <td>4.0</td>\n",
       "      <td>...</td>\n",
       "      <td>0.000000</td>\n",
       "      <td>0.000000</td>\n",
       "      <td>0.000000</td>\n",
       "      <td>0.000000</td>\n",
       "      <td>0.0</td>\n",
       "      <td>0.0</td>\n",
       "      <td>0.0</td>\n",
       "      <td>0.0</td>\n",
       "      <td>0.000000</td>\n",
       "      <td>0.0</td>\n",
       "    </tr>\n",
       "    <tr>\n",
       "      <th>7511</th>\n",
       "      <td>0</td>\n",
       "      <td>1</td>\n",
       "      <td>0</td>\n",
       "      <td>1</td>\n",
       "      <td>B6</td>\n",
       "      <td>JFK</td>\n",
       "      <td>SFO</td>\n",
       "      <td>1462.878788</td>\n",
       "      <td>3.0</td>\n",
       "      <td>3.0</td>\n",
       "      <td>...</td>\n",
       "      <td>2.500000</td>\n",
       "      <td>6.500000</td>\n",
       "      <td>6.200000</td>\n",
       "      <td>8.000000</td>\n",
       "      <td>0.0</td>\n",
       "      <td>0.0</td>\n",
       "      <td>0.0</td>\n",
       "      <td>0.0</td>\n",
       "      <td>9.500000</td>\n",
       "      <td>9.5</td>\n",
       "    </tr>\n",
       "    <tr>\n",
       "      <th>16416</th>\n",
       "      <td>0</td>\n",
       "      <td>0</td>\n",
       "      <td>0</td>\n",
       "      <td>0</td>\n",
       "      <td>UA</td>\n",
       "      <td>LGA</td>\n",
       "      <td>ORD</td>\n",
       "      <td>1664.878788</td>\n",
       "      <td>15.0</td>\n",
       "      <td>15.0</td>\n",
       "      <td>...</td>\n",
       "      <td>11.666667</td>\n",
       "      <td>11.666667</td>\n",
       "      <td>16.555556</td>\n",
       "      <td>21.454545</td>\n",
       "      <td>0.0</td>\n",
       "      <td>0.0</td>\n",
       "      <td>0.0</td>\n",
       "      <td>0.0</td>\n",
       "      <td>0.000000</td>\n",
       "      <td>0.0</td>\n",
       "    </tr>\n",
       "    <tr>\n",
       "      <th>15075</th>\n",
       "      <td>0</td>\n",
       "      <td>0</td>\n",
       "      <td>1</td>\n",
       "      <td>0</td>\n",
       "      <td>DL</td>\n",
       "      <td>LGA</td>\n",
       "      <td>ATL</td>\n",
       "      <td>1204.878788</td>\n",
       "      <td>-5.0</td>\n",
       "      <td>0.0</td>\n",
       "      <td>...</td>\n",
       "      <td>-6.000000</td>\n",
       "      <td>-6.000000</td>\n",
       "      <td>5.000000</td>\n",
       "      <td>6.200000</td>\n",
       "      <td>0.0</td>\n",
       "      <td>0.0</td>\n",
       "      <td>-1.0</td>\n",
       "      <td>-1.0</td>\n",
       "      <td>-1.000000</td>\n",
       "      <td>-2.5</td>\n",
       "    </tr>\n",
       "    <tr>\n",
       "      <th>10717</th>\n",
       "      <td>0</td>\n",
       "      <td>1</td>\n",
       "      <td>0</td>\n",
       "      <td>1</td>\n",
       "      <td>B6</td>\n",
       "      <td>LAX</td>\n",
       "      <td>JFK</td>\n",
       "      <td>1050.878788</td>\n",
       "      <td>1.0</td>\n",
       "      <td>1.0</td>\n",
       "      <td>...</td>\n",
       "      <td>2.000000</td>\n",
       "      <td>5.500000</td>\n",
       "      <td>9.000000</td>\n",
       "      <td>18.800000</td>\n",
       "      <td>0.0</td>\n",
       "      <td>0.0</td>\n",
       "      <td>0.0</td>\n",
       "      <td>0.0</td>\n",
       "      <td>-5.000000</td>\n",
       "      <td>-5.0</td>\n",
       "    </tr>\n",
       "    <tr>\n",
       "      <th>6498</th>\n",
       "      <td>1</td>\n",
       "      <td>1</td>\n",
       "      <td>0</td>\n",
       "      <td>1</td>\n",
       "      <td>AA</td>\n",
       "      <td>JFK</td>\n",
       "      <td>LAX</td>\n",
       "      <td>1463.878788</td>\n",
       "      <td>14.0</td>\n",
       "      <td>14.0</td>\n",
       "      <td>...</td>\n",
       "      <td>25.500000</td>\n",
       "      <td>29.600000</td>\n",
       "      <td>24.500000</td>\n",
       "      <td>24.500000</td>\n",
       "      <td>0.0</td>\n",
       "      <td>0.0</td>\n",
       "      <td>0.0</td>\n",
       "      <td>56.0</td>\n",
       "      <td>15.666667</td>\n",
       "      <td>19.0</td>\n",
       "    </tr>\n",
       "    <tr>\n",
       "      <th>16207</th>\n",
       "      <td>0</td>\n",
       "      <td>0</td>\n",
       "      <td>0</td>\n",
       "      <td>0</td>\n",
       "      <td>AA</td>\n",
       "      <td>LAX</td>\n",
       "      <td>JFK</td>\n",
       "      <td>204.878788</td>\n",
       "      <td>-5.0</td>\n",
       "      <td>0.0</td>\n",
       "      <td>...</td>\n",
       "      <td>0.000000</td>\n",
       "      <td>0.000000</td>\n",
       "      <td>0.000000</td>\n",
       "      <td>0.000000</td>\n",
       "      <td>0.0</td>\n",
       "      <td>0.0</td>\n",
       "      <td>0.0</td>\n",
       "      <td>0.0</td>\n",
       "      <td>0.000000</td>\n",
       "      <td>0.0</td>\n",
       "    </tr>\n",
       "  </tbody>\n",
       "</table>\n",
       "<p>10 rows × 25 columns</p>\n",
       "</div>"
      ],
      "text/plain": [
       "       QUARTER  MONTH  DAY_OF_MONTH  DAY_OF_WEEK UNIQUE_CARRIER ORIGIN DEST  \\\n",
       "26751        1      1             0            0             AA    ORD  LGA   \n",
       "224          0      0             1            0             AA    LAX  JFK   \n",
       "2183         0      0             0            1             DL    LGA  ATL   \n",
       "16359        0      0             0            0             AA    ORD  LGA   \n",
       "7511         0      1             0            1             B6    JFK  SFO   \n",
       "16416        0      0             0            0             UA    LGA  ORD   \n",
       "15075        0      0             1            0             DL    LGA  ATL   \n",
       "10717        0      1             0            1             B6    LAX  JFK   \n",
       "6498         1      1             0            1             AA    JFK  LAX   \n",
       "16207        0      0             0            0             AA    LAX  JFK   \n",
       "\n",
       "          DEP_TIME  DEP_DELAY  DEP_DELAY_NEW         ...          \\\n",
       "26751  1378.878788       -6.0            0.0         ...           \n",
       "224    1902.878788       83.0           83.0         ...           \n",
       "2183    508.878788       -1.0            0.0         ...           \n",
       "16359   478.878788        4.0            4.0         ...           \n",
       "7511   1462.878788        3.0            3.0         ...           \n",
       "16416  1664.878788       15.0           15.0         ...           \n",
       "15075  1204.878788       -5.0            0.0         ...           \n",
       "10717  1050.878788        1.0            1.0         ...           \n",
       "6498   1463.878788       14.0           14.0         ...           \n",
       "16207   204.878788       -5.0            0.0         ...           \n",
       "\n",
       "       PREV_DELAYS_120  PREV_DELAYS_180  PREV_DELAYS_360  PREV_DELAYS_720  \\\n",
       "26751         0.000000         0.000000        41.000000        10.800000   \n",
       "224           0.000000         0.000000         0.000000        64.000000   \n",
       "2183         -2.000000        29.000000         5.571429         5.571429   \n",
       "16359         0.000000         0.000000         0.000000         0.000000   \n",
       "7511          2.500000         6.500000         6.200000         8.000000   \n",
       "16416        11.666667        11.666667        16.555556        21.454545   \n",
       "15075        -6.000000        -6.000000         5.000000         6.200000   \n",
       "10717         2.000000         5.500000         9.000000        18.800000   \n",
       "6498         25.500000        29.600000        24.500000        24.500000   \n",
       "16207         0.000000         0.000000         0.000000         0.000000   \n",
       "\n",
       "       AIRLINE_DELAYS_30  AIRLINE_DELAYS_60  AIRLINE_DELAYS_120  \\\n",
       "26751                0.0                0.0                 0.0   \n",
       "224                  0.0                0.0                 0.0   \n",
       "2183                 0.0                0.0                 0.0   \n",
       "16359                0.0                0.0                 0.0   \n",
       "7511                 0.0                0.0                 0.0   \n",
       "16416                0.0                0.0                 0.0   \n",
       "15075                0.0                0.0                -1.0   \n",
       "10717                0.0                0.0                 0.0   \n",
       "6498                 0.0                0.0                 0.0   \n",
       "16207                0.0                0.0                 0.0   \n",
       "\n",
       "       AIRLINE_DELAYS_180  AIRLINE_DELAYS_360  AIRLINE_DELAYS_720  \n",
       "26751                32.0           58.000000                77.0  \n",
       "224                   7.0            7.000000                 3.0  \n",
       "2183                  0.0            0.000000                 0.0  \n",
       "16359                 0.0            0.000000                 0.0  \n",
       "7511                  0.0            9.500000                 9.5  \n",
       "16416                 0.0            0.000000                 0.0  \n",
       "15075                -1.0           -1.000000                -2.5  \n",
       "10717                 0.0           -5.000000                -5.0  \n",
       "6498                 56.0           15.666667                19.0  \n",
       "16207                 0.0            0.000000                 0.0  \n",
       "\n",
       "[10 rows x 25 columns]"
      ]
     },
     "execution_count": 217,
     "metadata": {},
     "output_type": "execute_result"
    }
   ],
   "source": [
    "df_12.sample(10)"
   ]
  },
  {
   "cell_type": "code",
   "execution_count": 215,
   "metadata": {
    "collapsed": false
   },
   "outputs": [
    {
     "data": {
      "text/plain": [
       "QUARTER                 int64\n",
       "MONTH                   int64\n",
       "DAY_OF_MONTH            int64\n",
       "DAY_OF_WEEK             int64\n",
       "UNIQUE_CARRIER         object\n",
       "ORIGIN                 object\n",
       "DEST                   object\n",
       "DEP_TIME              float64\n",
       "DEP_DELAY             float64\n",
       "DEP_DELAY_NEW         float64\n",
       "DEP_DEL15             float64\n",
       "DEP_DELAY_GROUP       float64\n",
       "CRS_ELAPSED_TIME      float64\n",
       "PREV_DELAYS_30        float64\n",
       "PREV_DELAYS_60        float64\n",
       "PREV_DELAYS_120       float64\n",
       "PREV_DELAYS_180       float64\n",
       "PREV_DELAYS_360       float64\n",
       "PREV_DELAYS_720       float64\n",
       "AIRLINE_DELAYS_30     float64\n",
       "AIRLINE_DELAYS_60     float64\n",
       "AIRLINE_DELAYS_120    float64\n",
       "AIRLINE_DELAYS_180    float64\n",
       "AIRLINE_DELAYS_360    float64\n",
       "AIRLINE_DELAYS_720    float64\n",
       "dtype: object"
      ]
     },
     "execution_count": 215,
     "metadata": {},
     "output_type": "execute_result"
    }
   ],
   "source": [
    "df_12.dtypes"
   ]
  },
  {
   "cell_type": "markdown",
   "metadata": {},
   "source": [
    "## One hot encodings"
   ]
  },
  {
   "cell_type": "code",
   "execution_count": 220,
   "metadata": {
    "collapsed": false
   },
   "outputs": [
    {
     "data": {
      "text/plain": [
       "(31186, 32)"
      ]
     },
     "execution_count": 220,
     "metadata": {},
     "output_type": "execute_result"
    }
   ],
   "source": [
    "df_13 = MyOneHotEncoder().encodePandasColAndMerge(data_frame = df_12, col_name = 'UNIQUE_CARRIER')\n",
    "df_13.shape"
   ]
  },
  {
   "cell_type": "code",
   "execution_count": 221,
   "metadata": {
    "collapsed": false
   },
   "outputs": [
    {
     "data": {
      "text/plain": [
       "(31186, 37)"
      ]
     },
     "execution_count": 221,
     "metadata": {},
     "output_type": "execute_result"
    }
   ],
   "source": [
    "df_14 = MyOneHotEncoder().encodePandasColAndMerge(data_frame = df_13, col_name = 'ORIGIN')\n",
    "df_14.shape"
   ]
  },
  {
   "cell_type": "code",
   "execution_count": 222,
   "metadata": {
    "collapsed": false
   },
   "outputs": [
    {
     "data": {
      "text/plain": [
       "(31186, 42)"
      ]
     },
     "execution_count": 222,
     "metadata": {},
     "output_type": "execute_result"
    }
   ],
   "source": [
    "df_15 = MyOneHotEncoder().encodePandasColAndMerge(data_frame = df_14, col_name = 'DEST')\n",
    "df_15.shape"
   ]
  },
  {
   "cell_type": "code",
   "execution_count": 227,
   "metadata": {
    "collapsed": false
   },
   "outputs": [
    {
     "name": "stdout",
     "output_type": "stream",
     "text": [
      "<class 'pandas.core.frame.DataFrame'>\n",
      "RangeIndex: 31186 entries, 0 to 31185\n",
      "Data columns (total 43 columns):\n",
      "QUARTER               31186 non-null int64\n",
      "MONTH                 31186 non-null int64\n",
      "DAY_OF_MONTH          31186 non-null int64\n",
      "DAY_OF_WEEK           31186 non-null int64\n",
      "DEP_TIME              31186 non-null float64\n",
      "DEP_DELAY             31186 non-null float64\n",
      "DEP_DELAY_NEW         31186 non-null float64\n",
      "DEP_DEL15             31186 non-null float64\n",
      "DEP_DELAY_GROUP       31186 non-null float64\n",
      "CRS_ELAPSED_TIME      31186 non-null float64\n",
      "PREV_DELAYS_30        31186 non-null float64\n",
      "PREV_DELAYS_60        31186 non-null float64\n",
      "PREV_DELAYS_120       31186 non-null float64\n",
      "PREV_DELAYS_180       31186 non-null float64\n",
      "PREV_DELAYS_360       31186 non-null float64\n",
      "PREV_DELAYS_720       31186 non-null float64\n",
      "AIRLINE_DELAYS_30     31186 non-null float64\n",
      "AIRLINE_DELAYS_60     31186 non-null float64\n",
      "AIRLINE_DELAYS_120    31186 non-null float64\n",
      "AIRLINE_DELAYS_180    31186 non-null float64\n",
      "AIRLINE_DELAYS_360    31186 non-null float64\n",
      "AIRLINE_DELAYS_720    31186 non-null float64\n",
      "UNIQUE_CARRIER_0      31186 non-null float64\n",
      "UNIQUE_CARRIER_1      31186 non-null float64\n",
      "UNIQUE_CARRIER_2      31186 non-null float64\n",
      "UNIQUE_CARRIER_3      31186 non-null float64\n",
      "UNIQUE_CARRIER_4      31186 non-null float64\n",
      "UNIQUE_CARRIER_5      31186 non-null float64\n",
      "UNIQUE_CARRIER_6      31186 non-null float64\n",
      "UNIQUE_CARRIER_7      31186 non-null float64\n",
      "ORIGIN_0              31186 non-null float64\n",
      "ORIGIN_1              31186 non-null float64\n",
      "ORIGIN_2              31186 non-null float64\n",
      "ORIGIN_3              31186 non-null float64\n",
      "ORIGIN_4              31186 non-null float64\n",
      "ORIGIN_5              31186 non-null float64\n",
      "DEST_0                31186 non-null float64\n",
      "DEST_1                31186 non-null float64\n",
      "DEST_2                31186 non-null float64\n",
      "DEST_3                31186 non-null float64\n",
      "DEST_4                31186 non-null float64\n",
      "DEST_5                31186 non-null float64\n",
      "IS_DELAYED            31186 non-null bool\n",
      "dtypes: bool(1), float64(38), int64(4)\n",
      "memory usage: 10.0 MB\n"
     ]
    }
   ],
   "source": [
    "final_df = pd.concat( (df_15, yy), axis=1)\n",
    "final_df.info()"
   ]
  },
  {
   "cell_type": "code",
   "execution_count": 228,
   "metadata": {
    "collapsed": true
   },
   "outputs": [],
   "source": [
    "final_df.to_csv(\n",
    "    os.path.realpath(os.path.join(os.getcwd(), '../Data', 'train_data_v2_engineered.csv')),\n",
    "    index=False)"
   ]
  },
  {
   "cell_type": "code",
   "execution_count": null,
   "metadata": {
    "collapsed": true
   },
   "outputs": [],
   "source": []
  }
 ],
 "metadata": {
  "kernelspec": {
   "display_name": "Python [dme]",
   "language": "python",
   "name": "Python [dme]"
  },
  "language_info": {
   "codemirror_mode": {
    "name": "ipython",
    "version": 2
   },
   "file_extension": ".py",
   "mimetype": "text/x-python",
   "name": "python",
   "nbconvert_exporter": "python",
   "pygments_lexer": "ipython2",
   "version": "2.7.12"
  }
 },
 "nbformat": 4,
 "nbformat_minor": 2
}
