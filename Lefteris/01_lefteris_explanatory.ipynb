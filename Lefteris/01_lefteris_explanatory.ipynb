{
 "cells": [
  {
   "cell_type": "code",
   "execution_count": 1,
   "metadata": {
    "collapsed": false
   },
   "outputs": [],
   "source": [
    "from __future__ import division #, print_function # Imports from __future__ since we're running Python 2\n",
    "import os\n",
    "import numpy as np \n",
    "import pandas as pd\n",
    "import matplotlib.pyplot as plt\n",
    "import seaborn as sns\n",
    "random_state = 10 # Ensure reproducible results\n",
    "%matplotlib inline\n",
    "plt.style.use('ggplot')"
   ]
  },
  {
   "cell_type": "code",
   "execution_count": 2,
   "metadata": {
    "collapsed": true
   },
   "outputs": [],
   "source": [
    "bad_column_name = \"unnamed\""
   ]
  },
  {
   "cell_type": "markdown",
   "metadata": {},
   "source": [
    "# Flying to New York City - Raw Data Preprocess"
   ]
  },
  {
   "cell_type": "code",
   "execution_count": 8,
   "metadata": {
    "collapsed": false
   },
   "outputs": [
    {
     "data": {
      "text/plain": [
       "'C:\\\\Users\\\\lmano\\\\Documents\\\\UoE\\\\2. DME\\\\DME project\\\\raw_data.csv'"
      ]
     },
     "execution_count": 8,
     "metadata": {},
     "output_type": "execute_result"
    }
   ],
   "source": [
    "path_data = os.path.realpath(os.path.join(os.getcwd(), 'raw_data.csv'))\n",
    "assert os.path.isfile(path_data)\n",
    "path_data"
   ]
  },
  {
   "cell_type": "code",
   "execution_count": 9,
   "metadata": {
    "collapsed": false
   },
   "outputs": [
    {
     "data": {
      "text/plain": [
       "(492181, 40)"
      ]
     },
     "execution_count": 9,
     "metadata": {},
     "output_type": "execute_result"
    }
   ],
   "source": [
    "data_frame = pd.read_csv(path_data, delimiter = ',', index_col=None, header=0)\n",
    "#all_pandas.append(data_full)\n",
    "#data_frame = pd.concat(all_pandas)\n",
    "data_frame.shape"
   ]
  },
  {
   "cell_type": "code",
   "execution_count": 10,
   "metadata": {
    "collapsed": false
   },
   "outputs": [
    {
     "name": "stdout",
     "output_type": "stream",
     "text": [
      "There are 492181 entries and 40 columns in the DataFrame\n"
     ]
    }
   ],
   "source": [
    "print(\"There are {} entries and {} columns in the DataFrame\"\\\n",
    "      .format(data_frame.shape[0], data_frame.shape[1]))"
   ]
  },
  {
   "cell_type": "code",
   "execution_count": 6,
   "metadata": {
    "collapsed": false
   },
   "outputs": [
    {
     "name": "stdout",
     "output_type": "stream",
     "text": [
      "Unnamed: 0\n",
      "YEAR\n",
      "QUARTER\n",
      "MONTH\n",
      "DAY_OF_MONTH\n",
      "DAY_OF_WEEK\n",
      "FL_DATE\n",
      "UNIQUE_CARRIER\n",
      "AIRLINE_ID\n",
      "CARRIER\n",
      "FL_NUM\n",
      "ORIGIN_AIRPORT_ID\n",
      "ORIGIN\n",
      "ORIGIN_CITY_NAME\n",
      "ORIGIN_STATE_ABR\n",
      "ORIGIN_STATE_NM\n",
      "DEST_AIRPORT_ID\n",
      "DEST\n",
      "DEST_CITY_NAME\n",
      "DEST_STATE_ABR\n",
      "DEST_STATE_NM\n",
      "CRS_DEP_TIME\n",
      "DEP_TIME\n",
      "DEP_DELAY\n",
      "DEP_DELAY_NEW\n",
      "DEP_DEL15\n",
      "DEP_DELAY_GROUP\n",
      "DEP_TIME_BLK\n",
      "CRS_ARR_TIME\n",
      "ARR_TIME\n",
      "ARR_DELAY\n",
      "ARR_DELAY_NEW\n",
      "ARR_DEL15\n",
      "ARR_DELAY_GROUP\n",
      "CANCELLED\n",
      "CRS_ELAPSED_TIME\n",
      "ACTUAL_ELAPSED_TIME\n",
      "FLIGHTS\n",
      "DISTANCE\n",
      "DISTANCE_GROUP\n"
     ]
    }
   ],
   "source": [
    "for col in data_frame.columns:\n",
    "    print col"
   ]
  },
  {
   "cell_type": "code",
   "execution_count": 11,
   "metadata": {
    "collapsed": false
   },
   "outputs": [
    {
     "data": {
      "text/plain": [
       "'aaa'"
      ]
     },
     "execution_count": 11,
     "metadata": {},
     "output_type": "execute_result"
    }
   ],
   "source": [
    "st = \"aAA\"\n",
    "st.lower()"
   ]
  },
  {
   "cell_type": "code",
   "execution_count": 12,
   "metadata": {
    "collapsed": false
   },
   "outputs": [
    {
     "data": {
      "text/plain": [
       "(492181, 39)"
      ]
     },
     "execution_count": 12,
     "metadata": {},
     "output_type": "execute_result"
    }
   ],
   "source": [
    "for col in data_frame.columns:\n",
    "    if bad_column_name in col.lower():\n",
    "        data_frame.drop(col, axis=1, inplace=True)\n",
    "        \n",
    "data_frame.shape"
   ]
  },
  {
   "cell_type": "code",
   "execution_count": 9,
   "metadata": {
    "collapsed": false
   },
   "outputs": [
    {
     "data": {
      "text/plain": [
       "YEAR                     int64\n",
       "QUARTER                  int64\n",
       "MONTH                    int64\n",
       "DAY_OF_MONTH             int64\n",
       "DAY_OF_WEEK              int64\n",
       "FL_DATE                 object\n",
       "UNIQUE_CARRIER          object\n",
       "AIRLINE_ID               int64\n",
       "CARRIER                 object\n",
       "FL_NUM                   int64\n",
       "ORIGIN_AIRPORT_ID        int64\n",
       "ORIGIN                  object\n",
       "ORIGIN_CITY_NAME        object\n",
       "ORIGIN_STATE_ABR        object\n",
       "ORIGIN_STATE_NM         object\n",
       "DEST_AIRPORT_ID          int64\n",
       "DEST                    object\n",
       "DEST_CITY_NAME          object\n",
       "DEST_STATE_ABR          object\n",
       "DEST_STATE_NM           object\n",
       "CRS_DEP_TIME             int64\n",
       "DEP_TIME               float64\n",
       "DEP_DELAY              float64\n",
       "DEP_DELAY_NEW          float64\n",
       "DEP_DEL15              float64\n",
       "DEP_DELAY_GROUP        float64\n",
       "DEP_TIME_BLK            object\n",
       "CRS_ARR_TIME             int64\n",
       "ARR_TIME               float64\n",
       "ARR_DELAY              float64\n",
       "ARR_DELAY_NEW          float64\n",
       "ARR_DEL15              float64\n",
       "ARR_DELAY_GROUP        float64\n",
       "CANCELLED              float64\n",
       "CRS_ELAPSED_TIME       float64\n",
       "ACTUAL_ELAPSED_TIME    float64\n",
       "FLIGHTS                float64\n",
       "DISTANCE               float64\n",
       "DISTANCE_GROUP           int64\n",
       "dtype: object"
      ]
     },
     "execution_count": 9,
     "metadata": {},
     "output_type": "execute_result"
    }
   ],
   "source": [
    "data_frame.dtypes"
   ]
  },
  {
   "cell_type": "markdown",
   "metadata": {},
   "source": [
    "### Cancelled Flights"
   ]
  },
  {
   "cell_type": "code",
   "execution_count": 13,
   "metadata": {
    "collapsed": false,
    "scrolled": true
   },
   "outputs": [
    {
     "name": "stdout",
     "output_type": "stream",
     "text": [
      "There are 8949 cancelled flights out of 483232: 1.85190550295 %\n"
     ]
    },
    {
     "data": {
      "image/png": "[encoded data removed]",
      "text/plain": [
       "<matplotlib.figure.Figure at 0x170187b8>"
      ]
     },
     "metadata": {},
     "output_type": "display_data"
    }
   ],
   "source": [
    "plt.hist(data_frame['CANCELLED'].values)\n",
    "count=0\n",
    "count_c=0\n",
    "for v in data_frame['CANCELLED'].values:\n",
    "    if v==1.0:\n",
    "        count_c +=1\n",
    "    else:\n",
    "        count +=1\n",
    "print (\"There are {} cancelled flights out of {}: {} %\".format(count_c,count, (100*count_c)/count))"
   ]
  },
  {
   "cell_type": "markdown",
   "metadata": {},
   "source": [
    "We will remove all of the cancelled flights because these were never reached their destination and therefore it does not make sense to include them when predicting flight delays"
   ]
  },
  {
   "cell_type": "code",
   "execution_count": 14,
   "metadata": {
    "collapsed": true
   },
   "outputs": [],
   "source": [
    "df = data_frame[data_frame['CANCELLED'] == 0]"
   ]
  },
  {
   "cell_type": "code",
   "execution_count": 15,
   "metadata": {
    "collapsed": false
   },
   "outputs": [],
   "source": [
    "assert len(df) == len(data_frame) - count_c"
   ]
  },
  {
   "cell_type": "code",
   "execution_count": 16,
   "metadata": {
    "collapsed": false
   },
   "outputs": [
    {
     "data": {
      "text/plain": [
       "(483232, 39)"
      ]
     },
     "execution_count": 16,
     "metadata": {},
     "output_type": "execute_result"
    }
   ],
   "source": [
    "df.shape"
   ]
  },
  {
   "cell_type": "markdown",
   "metadata": {},
   "source": [
    "### Number and percentage of nulls per feature and per row"
   ]
  },
  {
   "cell_type": "code",
   "execution_count": 17,
   "metadata": {
    "collapsed": false
   },
   "outputs": [
    {
     "data": {
      "text/plain": [
       "YEAR                      0\n",
       "QUARTER                   0\n",
       "MONTH                     0\n",
       "DAY_OF_MONTH              0\n",
       "DAY_OF_WEEK               0\n",
       "FL_DATE                   0\n",
       "UNIQUE_CARRIER            0\n",
       "AIRLINE_ID                0\n",
       "CARRIER                   0\n",
       "FL_NUM                    0\n",
       "ORIGIN_AIRPORT_ID         0\n",
       "ORIGIN                    0\n",
       "ORIGIN_CITY_NAME          0\n",
       "ORIGIN_STATE_ABR          0\n",
       "ORIGIN_STATE_NM           0\n",
       "DEST_AIRPORT_ID           0\n",
       "DEST                      0\n",
       "DEST_CITY_NAME            0\n",
       "DEST_STATE_ABR            0\n",
       "DEST_STATE_NM             0\n",
       "CRS_DEP_TIME              0\n",
       "DEP_TIME                  0\n",
       "DEP_DELAY                 0\n",
       "DEP_DELAY_NEW             0\n",
       "DEP_DEL15                 0\n",
       "DEP_DELAY_GROUP           0\n",
       "DEP_TIME_BLK              0\n",
       "CRS_ARR_TIME              0\n",
       "ARR_TIME                242\n",
       "ARR_DELAY              1570\n",
       "ARR_DELAY_NEW          1570\n",
       "ARR_DEL15              1570\n",
       "ARR_DELAY_GROUP        1570\n",
       "CANCELLED                 0\n",
       "CRS_ELAPSED_TIME          0\n",
       "ACTUAL_ELAPSED_TIME    1570\n",
       "FLIGHTS                   0\n",
       "DISTANCE                  0\n",
       "DISTANCE_GROUP            0\n",
       "dtype: int64"
      ]
     },
     "execution_count": 17,
     "metadata": {},
     "output_type": "execute_result"
    }
   ],
   "source": [
    "df.isnull().sum()"
   ]
  },
  {
   "cell_type": "code",
   "execution_count": 18,
   "metadata": {
    "collapsed": false
   },
   "outputs": [
    {
     "data": {
      "text/plain": [
       "YEAR                   0.000000\n",
       "QUARTER                0.000000\n",
       "MONTH                  0.000000\n",
       "DAY_OF_MONTH           0.000000\n",
       "DAY_OF_WEEK            0.000000\n",
       "FL_DATE                0.000000\n",
       "UNIQUE_CARRIER         0.000000\n",
       "AIRLINE_ID             0.000000\n",
       "CARRIER                0.000000\n",
       "FL_NUM                 0.000000\n",
       "ORIGIN_AIRPORT_ID      0.000000\n",
       "ORIGIN                 0.000000\n",
       "ORIGIN_CITY_NAME       0.000000\n",
       "ORIGIN_STATE_ABR       0.000000\n",
       "ORIGIN_STATE_NM        0.000000\n",
       "DEST_AIRPORT_ID        0.000000\n",
       "DEST                   0.000000\n",
       "DEST_CITY_NAME         0.000000\n",
       "DEST_STATE_ABR         0.000000\n",
       "DEST_STATE_NM          0.000000\n",
       "CRS_DEP_TIME           0.000000\n",
       "DEP_TIME               0.000000\n",
       "DEP_DELAY              0.000000\n",
       "DEP_DELAY_NEW          0.000000\n",
       "DEP_DEL15              0.000000\n",
       "DEP_DELAY_GROUP        0.000000\n",
       "DEP_TIME_BLK           0.000000\n",
       "CRS_ARR_TIME           0.000000\n",
       "ARR_TIME               0.050105\n",
       "ARR_DELAY              0.325955\n",
       "ARR_DELAY_NEW          0.325955\n",
       "ARR_DEL15              0.325955\n",
       "ARR_DELAY_GROUP        0.325955\n",
       "CANCELLED              0.000000\n",
       "CRS_ELAPSED_TIME       0.000000\n",
       "ACTUAL_ELAPSED_TIME    0.325955\n",
       "FLIGHTS                0.000000\n",
       "DISTANCE               0.000000\n",
       "DISTANCE_GROUP         0.000000\n",
       "dtype: float64"
      ]
     },
     "execution_count": 18,
     "metadata": {},
     "output_type": "execute_result"
    }
   ],
   "source": [
    "feature_number = df.count()\n",
    "(100 * df.isnull().sum()) / df.count()"
   ]
  },
  {
   "cell_type": "code",
   "execution_count": 19,
   "metadata": {
    "collapsed": false
   },
   "outputs": [
    {
     "data": {
      "image/png": "[encoded data removed]",
      "text/plain": [
       "<matplotlib.figure.Figure at 0xe83edd8>"
      ]
     },
     "metadata": {},
     "output_type": "display_data"
    }
   ],
   "source": [
    "plt.hist(df.isnull().sum(axis=1))\n",
    "x = df.isnull().sum(axis=1)"
   ]
  },
  {
   "cell_type": "code",
   "execution_count": 20,
   "metadata": {
    "collapsed": false
   },
   "outputs": [],
   "source": [
    "null_inds = set()\n",
    "for col in df.columns:\n",
    "    inds = np.argwhere(df[col].isnull()).flatten()\n",
    "    if len(inds) > 0:\n",
    "        null_inds |= set(inds)"
   ]
  },
  {
   "cell_type": "code",
   "execution_count": 21,
   "metadata": {
    "collapsed": false
   },
   "outputs": [
    {
     "data": {
      "text/plain": [
       "1570"
      ]
     },
     "execution_count": 21,
     "metadata": {},
     "output_type": "execute_result"
    }
   ],
   "source": [
    "len(null_inds)"
   ]
  },
  {
   "cell_type": "code",
   "execution_count": 22,
   "metadata": {
    "collapsed": false
   },
   "outputs": [
    {
     "name": "stdout",
     "output_type": "stream",
     "text": [
      "this is a very small portion of our original data: 0.00324895702271\n"
     ]
    }
   ],
   "source": [
    "print \"this is a very small portion of our original data: {}\".format(len(null_inds) / len(df))"
   ]
  },
  {
   "cell_type": "markdown",
   "metadata": {},
   "source": [
    "Makes sense to delete them completely"
   ]
  },
  {
   "cell_type": "code",
   "execution_count": 23,
   "metadata": {
    "collapsed": false
   },
   "outputs": [
    {
     "data": {
      "text/plain": [
       "0         True\n",
       "1         True\n",
       "2         True\n",
       "3         True\n",
       "4         True\n",
       "5         True\n",
       "6         True\n",
       "7         True\n",
       "8         True\n",
       "9         True\n",
       "10        True\n",
       "11        True\n",
       "12        True\n",
       "13        True\n",
       "14        True\n",
       "15        True\n",
       "16        True\n",
       "17        True\n",
       "18        True\n",
       "19        True\n",
       "20        True\n",
       "21        True\n",
       "22        True\n",
       "23        True\n",
       "24        True\n",
       "25        True\n",
       "26        True\n",
       "27        True\n",
       "28        True\n",
       "29        True\n",
       "          ... \n",
       "492151    True\n",
       "492152    True\n",
       "492153    True\n",
       "492154    True\n",
       "492155    True\n",
       "492156    True\n",
       "492157    True\n",
       "492158    True\n",
       "492159    True\n",
       "492160    True\n",
       "492161    True\n",
       "492162    True\n",
       "492163    True\n",
       "492164    True\n",
       "492165    True\n",
       "492166    True\n",
       "492167    True\n",
       "492168    True\n",
       "492169    True\n",
       "492170    True\n",
       "492171    True\n",
       "492172    True\n",
       "492173    True\n",
       "492174    True\n",
       "492175    True\n",
       "492176    True\n",
       "492177    True\n",
       "492178    True\n",
       "492179    True\n",
       "492180    True\n",
       "Name: DISTANCE_GROUP, dtype: bool"
      ]
     },
     "execution_count": 23,
     "metadata": {},
     "output_type": "execute_result"
    }
   ],
   "source": [
    "df[col].isnull() == False"
   ]
  },
  {
   "cell_type": "code",
   "execution_count": 24,
   "metadata": {
    "collapsed": false
   },
   "outputs": [],
   "source": [
    "df_clear = df.copy()\n",
    "for col in df_clear.columns:\n",
    "    #inds = np.argwhere().flatten()\n",
    "    df_clear = df_clear[df_clear[col].isnull() == False]\n",
    "    #if len(inds) > 0:\n",
    "    #    df = df[inds]"
   ]
  },
  {
   "cell_type": "code",
   "execution_count": 39,
   "metadata": {
    "collapsed": false
   },
   "outputs": [
    {
     "data": {
      "text/plain": [
       "(481662, 39)"
      ]
     },
     "execution_count": 39,
     "metadata": {},
     "output_type": "execute_result"
    }
   ],
   "source": [
    "df_clear.shape"
   ]
  },
  {
   "cell_type": "code",
   "execution_count": 40,
   "metadata": {
    "collapsed": false
   },
   "outputs": [],
   "source": [
    "assert len(df_clear) == len(df) - len(null_inds)"
   ]
  },
  {
   "cell_type": "code",
   "execution_count": 41,
   "metadata": {
    "collapsed": false
   },
   "outputs": [],
   "source": [
    "assert np.all(df_clear.isnull() == False)"
   ]
  },
  {
   "cell_type": "code",
   "execution_count": 42,
   "metadata": {
    "collapsed": false
   },
   "outputs": [],
   "source": [
    "clear_data_path = os.path.realpath(os.path.join(os.getcwd(), 'clear_data.csv'))\n",
    "df_clear.to_csv(clear_data_path, index=False)"
   ]
  },
  {
   "cell_type": "markdown",
   "metadata": {},
   "source": [
    "### Unique values per feature"
   ]
  },
  {
   "cell_type": "code",
   "execution_count": 43,
   "metadata": {
    "collapsed": false
   },
   "outputs": [
    {
     "name": "stdout",
     "output_type": "stream",
     "text": [
      "\n",
      "YEAR: \n",
      "[2016]\n",
      "\n",
      "QUARTER: \n",
      "[1 2 3 4]\n",
      "\n",
      "MONTH: \n",
      "[ 1  2  3  4  5  6  7  8  9 10 11 12]\n",
      "\n",
      "DAY_OF_MONTH: \n",
      "[ 4  5  6  7 16 17 18  2 12 13 14 15 25 26 27 21 22  1  3  8  9 10 11 20 19\n",
      " 30 31 28 29 23 24]\n",
      "\n",
      "DAY_OF_WEEK: \n",
      "[1 2 3 4 6 7 5]\n",
      "\n",
      "FL_DATE: \n",
      "Too large to show\n",
      "\n",
      "UNIQUE_CARRIER: \n",
      "['F9' 'HA' 'DL' 'NK' 'EV' 'OO' 'UA' 'VX' 'AA' 'AS' 'B6' 'WN']\n",
      "\n",
      "AIRLINE_ID: \n",
      "[20436 19690 19790 20416 20366 20304 19977 21171 19805 19930 20409 19393]\n",
      "\n",
      "CARRIER: \n",
      "['F9' 'HA' 'DL' 'NK' 'EV' 'OO' 'UA' 'VX' 'AA' 'AS' 'B6' 'WN']\n",
      "\n",
      "FL_NUM: \n",
      "Too large to show\n",
      "\n",
      "ORIGIN_AIRPORT_ID: \n",
      "[13303 12953 10397 12173 11433 10423 15304 15024 14107 11697 10994 10792\n",
      " 11292 13204 14747 14683 11298 12892 14869 12889 14027 14576 12478 14679\n",
      " 13495 10257 10721 14524 14843 14771 13930 13577 12265 12197 14025 15096\n",
      " 11618 12397 10577 12266 13502 11259 14262 11278 11057 14122 11503 14100\n",
      " 15070 12451 12954 12191 14831 14254 10732 14685 14492 14057 12264 14635\n",
      " 10785 14321 10140 14570 14893 14986 13796 10800 11252 13487 10693 10821\n",
      " 12339 12391 15016 13198 13232 13342 11066 12441 11986 11042 11193 11537\n",
      " 11995 10599 10581 10868 13485 14730 10990 12945 13871 13296 11996 10208\n",
      " 13931 15919 13541 10154 12250 12323 15412 10849 15380 10431 13244 15376\n",
      " 14696]\n",
      "\n",
      "ORIGIN: \n",
      "['MIA' 'LGA' 'ATL' 'HNL' 'DTW' 'AUS' 'TPA' 'STT' 'PHX' 'FLL' 'CHS' 'BUF'\n",
      " 'DEN' 'MCO' 'SEA' 'SAT' 'DFW' 'LAX' 'SLC' 'LAS' 'PBI' 'ROC' 'JFK' 'SAN'\n",
      " 'MSY' 'ALB' 'BOS' 'RIC' 'SJU' 'SFO' 'ORD' 'MYR' 'IAG' 'HPN' 'PBG' 'SYR'\n",
      " 'EWR' 'ITH' 'BGM' 'IAH' 'MTJ' 'DAL' 'PSP' 'DCA' 'CLT' 'PIT' 'EGE' 'PHL'\n",
      " 'SWF' 'JAX' 'LGB' 'HOU' 'SJC' 'PSE' 'BQN' 'SAV' 'RDU' 'PDX' 'IAD' 'RSW'\n",
      " 'BTV' 'PWM' 'ABQ' 'RNO' 'SMF' 'SRQ' 'OAK' 'BUR' 'DAB' 'MSP' 'BNA' 'BWI'\n",
      " 'IND' 'ISP' 'STL' 'MCI' 'MDW' 'MKE' 'CMH' 'JAC' 'GRR' 'CLE' 'CVG' 'ELM'\n",
      " 'GSO' 'BHM' 'BGR' 'CAE' 'MSN' 'SDF' 'CHO' 'LEX' 'OMA' 'MHT' 'GSP' 'AGS'\n",
      " 'ORF' 'XNA' 'MVY' 'ACK' 'HYA' 'ILM' 'TYS' 'BZN' 'TVC' 'AVL' 'MEM' 'TUS'\n",
      " 'SBN']\n",
      "\n",
      "ORIGIN_CITY_NAME: \n",
      "['Miami, FL' 'New York, NY' 'Atlanta, GA' 'Honolulu, HI' 'Detroit, MI'\n",
      " 'Austin, TX' 'Tampa, FL' 'Charlotte Amalie, VI' 'Phoenix, AZ'\n",
      " 'Fort Lauderdale, FL' 'Charleston, SC' 'Buffalo, NY' 'Denver, CO'\n",
      " 'Orlando, FL' 'Seattle, WA' 'San Antonio, TX' 'Dallas/Fort Worth, TX'\n",
      " 'Los Angeles, CA' 'Salt Lake City, UT' 'Las Vegas, NV'\n",
      " 'West Palm Beach/Palm Beach, FL' 'Rochester, NY' 'San Diego, CA'\n",
      " 'New Orleans, LA' 'Albany, NY' 'Boston, MA' 'Richmond, VA' 'San Juan, PR'\n",
      " 'San Francisco, CA' 'Chicago, IL' 'Myrtle Beach, SC' 'Niagara Falls, NY'\n",
      " 'White Plains, NY' 'Plattsburgh, NY' 'Syracuse, NY' 'Newark, NJ'\n",
      " 'Ithaca/Cortland, NY' 'Binghamton, NY' 'Houston, TX' 'Montrose/Delta, CO'\n",
      " 'Dallas, TX' 'Palm Springs, CA' 'Washington, DC' 'Charlotte, NC'\n",
      " 'Pittsburgh, PA' 'Eagle, CO' 'Philadelphia, PA'\n",
      " 'Newburgh/Poughkeepsie, NY' 'Jacksonville, FL' 'Long Beach, CA'\n",
      " 'San Jose, CA' 'Ponce, PR' 'Aguadilla, PR' 'Savannah, GA'\n",
      " 'Raleigh/Durham, NC' 'Portland, OR' 'Fort Myers, FL' 'Burlington, VT'\n",
      " 'Portland, ME' 'Albuquerque, NM' 'Reno, NV' 'Sacramento, CA'\n",
      " 'Sarasota/Bradenton, FL' 'Oakland, CA' 'Burbank, CA' 'Daytona Beach, FL'\n",
      " 'Minneapolis, MN' 'Nashville, TN' 'Baltimore, MD' 'Indianapolis, IN'\n",
      " 'Islip, NY' 'St. Louis, MO' 'Kansas City, MO' 'Milwaukee, WI'\n",
      " 'Columbus, OH' 'Jackson, WY' 'Grand Rapids, MI' 'Cleveland, OH'\n",
      " 'Cincinnati, OH' 'Elmira/Corning, NY' 'Greensboro/High Point, NC'\n",
      " 'Birmingham, AL' 'Bangor, ME' 'Columbia, SC' 'Madison, WI'\n",
      " 'Louisville, KY' 'Charlottesville, VA' 'Lexington, KY' 'Omaha, NE'\n",
      " 'Manchester, NH' 'Greer, SC' 'Augusta, GA' 'Norfolk, VA'\n",
      " 'Fayetteville, AR' \"Martha's Vineyard, MA\" 'Nantucket, MA' 'Hyannis, MA'\n",
      " 'Wilmington, NC' 'Knoxville, TN' 'Bozeman, MT' 'Traverse City, MI'\n",
      " 'Asheville, NC' 'Memphis, TN' 'Tucson, AZ' 'South Bend, IN']\n",
      "\n",
      "ORIGIN_STATE_ABR: \n",
      "['FL' 'NY' 'GA' 'HI' 'MI' 'TX' 'VI' 'AZ' 'SC' 'CO' 'WA' 'CA' 'UT' 'NV' 'LA'\n",
      " 'MA' 'VA' 'PR' 'IL' 'NJ' 'NC' 'PA' 'OR' 'VT' 'ME' 'NM' 'MN' 'TN' 'MD' 'IN'\n",
      " 'MO' 'WI' 'OH' 'WY' 'KY' 'AL' 'NE' 'NH' 'AR' 'MT']\n",
      "\n",
      "ORIGIN_STATE_NM: \n",
      "['Florida' 'New York' 'Georgia' 'Hawaii' 'Michigan' 'Texas'\n",
      " 'U.S. Virgin Islands' 'Arizona' 'South Carolina' 'Colorado' 'Washington'\n",
      " 'California' 'Utah' 'Nevada' 'Louisiana' 'Massachusetts' 'Virginia'\n",
      " 'Puerto Rico' 'Illinois' 'New Jersey' 'North Carolina' 'Pennsylvania'\n",
      " 'Oregon' 'Vermont' 'Maine' 'New Mexico' 'Minnesota' 'Tennessee' 'Maryland'\n",
      " 'Indiana' 'Missouri' 'Wisconsin' 'Ohio' 'Wyoming' 'Kentucky' 'Alabama'\n",
      " 'Nebraska' 'New Hampshire' 'Arkansas' 'Montana']\n",
      "\n",
      "DEST_AIRPORT_ID: \n",
      "[12953 13303 10397 12478 11433 11292 10792 11697 13342 14576 11298 14027\n",
      " 13577 13487 14843 10721 11193 14492 13204 10994 10257 15304 14679 14100\n",
      " 14057 12892 12889 14771 14107 14869 10423 14747 15024 12265 13930 11042\n",
      " 15096 14025 12397 10577 12266 12173 11618 13502 11259 14262 11278 11057\n",
      " 11503 12451 15070 12197 13495 12191 14831 14254 10732 14685 14635 12954\n",
      " 12264 10785 10140 14570 14321 14893 14986 13796 10800 11252 12441 10821\n",
      " 13232 12391 10693 12339 13198 15016 11066 11986 14683 14524 11537 11995\n",
      " 10990 10868 10599 14730 14122 12945 10581 13485 13871 13244 13296 11996\n",
      " 13931 15919 13541 10154 12250 12323 10431 10849 15380 15376 15412]\n",
      "\n",
      "DEST: \n",
      "['LGA' 'MIA' 'ATL' 'JFK' 'DTW' 'DEN' 'BUF' 'FLL' 'MKE' 'ROC' 'DFW' 'PBI'\n",
      " 'MYR' 'MSP' 'SJU' 'BOS' 'CVG' 'RDU' 'MCO' 'CHS' 'ALB' 'TPA' 'SAN' 'PHL'\n",
      " 'PDX' 'LAX' 'LAS' 'SFO' 'PHX' 'SLC' 'AUS' 'SEA' 'STT' 'IAG' 'ORD' 'CLE'\n",
      " 'SYR' 'PBG' 'ITH' 'BGM' 'IAH' 'HNL' 'EWR' 'MTJ' 'DAL' 'PSP' 'DCA' 'CLT'\n",
      " 'EGE' 'JAX' 'SWF' 'HPN' 'MSY' 'HOU' 'SJC' 'PSE' 'BQN' 'SAV' 'RSW' 'LGB'\n",
      " 'IAD' 'BTV' 'ABQ' 'RNO' 'PWM' 'SMF' 'SRQ' 'OAK' 'BUR' 'DAB' 'JAC' 'BWI'\n",
      " 'MDW' 'ISP' 'BNA' 'IND' 'MCI' 'STL' 'CMH' 'GRR' 'SAT' 'RIC' 'ELM' 'GSO'\n",
      " 'CHO' 'CAE' 'BHM' 'SDF' 'PIT' 'LEX' 'BGR' 'MSN' 'OMA' 'MEM' 'MHT' 'GSP'\n",
      " 'ORF' 'XNA' 'MVY' 'ACK' 'HYA' 'ILM' 'AVL' 'BZN' 'TVC' 'TUS' 'TYS']\n",
      "\n",
      "DEST_CITY_NAME: \n",
      "['New York, NY' 'Miami, FL' 'Atlanta, GA' 'Detroit, MI' 'Denver, CO'\n",
      " 'Buffalo, NY' 'Fort Lauderdale, FL' 'Milwaukee, WI' 'Rochester, NY'\n",
      " 'Dallas/Fort Worth, TX' 'West Palm Beach/Palm Beach, FL'\n",
      " 'Myrtle Beach, SC' 'Minneapolis, MN' 'San Juan, PR' 'Boston, MA'\n",
      " 'Cincinnati, OH' 'Raleigh/Durham, NC' 'Orlando, FL' 'Charleston, SC'\n",
      " 'Albany, NY' 'Tampa, FL' 'San Diego, CA' 'Philadelphia, PA' 'Portland, OR'\n",
      " 'Los Angeles, CA' 'Las Vegas, NV' 'San Francisco, CA' 'Phoenix, AZ'\n",
      " 'Salt Lake City, UT' 'Austin, TX' 'Seattle, WA' 'Charlotte Amalie, VI'\n",
      " 'Niagara Falls, NY' 'Chicago, IL' 'Cleveland, OH' 'Syracuse, NY'\n",
      " 'Plattsburgh, NY' 'Ithaca/Cortland, NY' 'Binghamton, NY' 'Houston, TX'\n",
      " 'Honolulu, HI' 'Newark, NJ' 'Montrose/Delta, CO' 'Dallas, TX'\n",
      " 'Palm Springs, CA' 'Washington, DC' 'Charlotte, NC' 'Eagle, CO'\n",
      " 'Jacksonville, FL' 'Newburgh/Poughkeepsie, NY' 'White Plains, NY'\n",
      " 'New Orleans, LA' 'San Jose, CA' 'Ponce, PR' 'Aguadilla, PR'\n",
      " 'Savannah, GA' 'Fort Myers, FL' 'Long Beach, CA' 'Burlington, VT'\n",
      " 'Albuquerque, NM' 'Reno, NV' 'Portland, ME' 'Sacramento, CA'\n",
      " 'Sarasota/Bradenton, FL' 'Oakland, CA' 'Burbank, CA' 'Daytona Beach, FL'\n",
      " 'Jackson, WY' 'Baltimore, MD' 'Islip, NY' 'Nashville, TN'\n",
      " 'Indianapolis, IN' 'Kansas City, MO' 'St. Louis, MO' 'Columbus, OH'\n",
      " 'Grand Rapids, MI' 'San Antonio, TX' 'Richmond, VA' 'Elmira/Corning, NY'\n",
      " 'Greensboro/High Point, NC' 'Charlottesville, VA' 'Columbia, SC'\n",
      " 'Birmingham, AL' 'Louisville, KY' 'Pittsburgh, PA' 'Lexington, KY'\n",
      " 'Bangor, ME' 'Madison, WI' 'Omaha, NE' 'Memphis, TN' 'Manchester, NH'\n",
      " 'Greer, SC' 'Norfolk, VA' 'Fayetteville, AR' \"Martha's Vineyard, MA\"\n",
      " 'Nantucket, MA' 'Hyannis, MA' 'Wilmington, NC' 'Asheville, NC'\n",
      " 'Bozeman, MT' 'Traverse City, MI' 'Tucson, AZ' 'Knoxville, TN']\n",
      "\n",
      "DEST_STATE_ABR: \n",
      "['NY' 'FL' 'GA' 'MI' 'CO' 'WI' 'TX' 'SC' 'MN' 'PR' 'MA' 'KY' 'NC' 'CA' 'PA'\n",
      " 'OR' 'NV' 'AZ' 'UT' 'WA' 'VI' 'IL' 'OH' 'HI' 'NJ' 'VA' 'LA' 'VT' 'NM' 'ME'\n",
      " 'WY' 'MD' 'TN' 'IN' 'MO' 'AL' 'NE' 'NH' 'AR' 'MT']\n",
      "\n",
      "DEST_STATE_NM: \n",
      "['New York' 'Florida' 'Georgia' 'Michigan' 'Colorado' 'Wisconsin' 'Texas'\n",
      " 'South Carolina' 'Minnesota' 'Puerto Rico' 'Massachusetts' 'Kentucky'\n",
      " 'North Carolina' 'California' 'Pennsylvania' 'Oregon' 'Nevada' 'Arizona'\n",
      " 'Utah' 'Washington' 'U.S. Virgin Islands' 'Illinois' 'Ohio' 'Hawaii'\n",
      " 'New Jersey' 'Virginia' 'Louisiana' 'Vermont' 'New Mexico' 'Maine'\n",
      " 'Wyoming' 'Maryland' 'Tennessee' 'Indiana' 'Missouri' 'Alabama' 'Nebraska'\n",
      " 'New Hampshire' 'Arkansas' 'Montana']\n",
      "\n",
      "CRS_DEP_TIME: \n",
      "Too large to show\n",
      "\n",
      "DEP_TIME: \n",
      "Too large to show\n",
      "\n",
      "DEP_DELAY: \n",
      "Too large to show\n",
      "\n",
      "DEP_DELAY_NEW: \n",
      "Too large to show\n",
      "\n",
      "DEP_DEL15: \n",
      "[ 0.  1.]\n",
      "\n",
      "DEP_DELAY_GROUP: \n",
      "[  0.   1.  -1.  12.   8.   3.   2.   5.   4.   6.   7.   9.  -2.  11.  10.]\n",
      "\n",
      "DEP_TIME_BLK: \n",
      "['1300-1359' '1700-1759' '0600-0659' '0900-0959' '1600-1659' '1500-1559'\n",
      " '1200-1259' '1400-1459' '1900-1959' '0700-0759' '2200-2259' '1000-1059'\n",
      " '0800-0859' '2100-2159' '2000-2059' '1100-1159' '2300-2359' '1800-1859'\n",
      " '0001-0559']\n",
      "\n",
      "CRS_ARR_TIME: \n",
      "Too large to show\n",
      "\n",
      "ARR_TIME: \n",
      "Too large to show\n",
      "\n",
      "ARR_DELAY: \n",
      "Too large to show\n",
      "\n",
      "ARR_DELAY_NEW: \n",
      "Too large to show\n",
      "\n",
      "ARR_DEL15: \n",
      "[ 0.  1.]\n",
      "\n",
      "ARR_DELAY_GROUP: \n",
      "[ -2.   1.  -1.  12.   0.   8.   7.   3.   2.   4.   5.   6.  10.  11.   9.]\n",
      "\n",
      "CANCELLED: \n",
      "[ 0.]\n",
      "\n",
      "CRS_ELAPSED_TIME: \n",
      "Too large to show\n",
      "\n",
      "ACTUAL_ELAPSED_TIME: \n",
      "Too large to show\n",
      "\n",
      "FLIGHTS: \n",
      "[ 1.]\n",
      "\n",
      "DISTANCE: \n",
      "Too large to show\n",
      "\n",
      "DISTANCE_GROUP: \n",
      "[ 5  4 11  3  7  9 10  6  8  1  2]\n"
     ]
    }
   ],
   "source": [
    "for column in df_clear:\n",
    "    print('\\n'+ column + ': ')\n",
    "    if (len(df_clear[column].unique()) < 150):\n",
    "        print(df_clear[column].unique())\n",
    "    else:\n",
    "        print('Too large to show')"
   ]
  },
  {
   "cell_type": "code",
   "execution_count": 47,
   "metadata": {
    "collapsed": false
   },
   "outputs": [
    {
     "ename": "ValueError",
     "evalue": "labels ['YEAR' 'CARRIER' 'AIRLINE_ID' 'FL_NUM' 'ORIGIN_AIRPORT_ID'\n 'DEST_AIRPORT_ID' 'DEP_DELAY_NEW' 'ARR_DELAY_NEW' 'CANCELLED' 'FLIGHTS'] not contained in axis",
     "output_type": "error",
     "traceback": [
      "\u001b[1;31m---------------------------------------------------------------------------\u001b[0m",
      "\u001b[1;31mValueError\u001b[0m                                Traceback (most recent call last)",
      "\u001b[1;32m<ipython-input-47-2321d66bdd9e>\u001b[0m in \u001b[0;36m<module>\u001b[1;34m()\u001b[0m\n\u001b[1;32m----> 1\u001b[1;33m \u001b[0mdf_clear\u001b[0m \u001b[1;33m=\u001b[0m \u001b[0mdf_clear\u001b[0m\u001b[1;33m.\u001b[0m\u001b[0mdrop\u001b[0m\u001b[1;33m(\u001b[0m\u001b[1;33m[\u001b[0m\u001b[1;34m'YEAR'\u001b[0m\u001b[1;33m,\u001b[0m\u001b[1;34m'CARRIER'\u001b[0m\u001b[1;33m,\u001b[0m\u001b[1;34m'AIRLINE_ID'\u001b[0m\u001b[1;33m,\u001b[0m\u001b[1;34m'FL_NUM'\u001b[0m\u001b[1;33m,\u001b[0m\u001b[1;34m'ORIGIN_AIRPORT_ID'\u001b[0m\u001b[1;33m,\u001b[0m\u001b[1;34m'DEST_AIRPORT_ID'\u001b[0m\u001b[1;33m,\u001b[0m\u001b[1;34m'DEP_DELAY_NEW'\u001b[0m\u001b[1;33m,\u001b[0m\u001b[1;34m'ARR_DELAY_NEW'\u001b[0m\u001b[1;33m,\u001b[0m\u001b[1;34m'CANCELLED'\u001b[0m\u001b[1;33m,\u001b[0m\u001b[1;34m'FLIGHTS'\u001b[0m\u001b[1;33m]\u001b[0m\u001b[1;33m,\u001b[0m\u001b[0maxis\u001b[0m\u001b[1;33m=\u001b[0m\u001b[1;36m1\u001b[0m\u001b[1;33m)\u001b[0m\u001b[1;33m\u001b[0m\u001b[0m\n\u001b[0m",
      "\u001b[1;32mC:\\Users\\lmano\\Anaconda2\\envs\\iaml\\lib\\site-packages\\pandas\\core\\generic.pyc\u001b[0m in \u001b[0;36mdrop\u001b[1;34m(self, labels, axis, level, inplace, errors)\u001b[0m\n\u001b[0;32m   1875\u001b[0m                 \u001b[0mnew_axis\u001b[0m \u001b[1;33m=\u001b[0m \u001b[0maxis\u001b[0m\u001b[1;33m.\u001b[0m\u001b[0mdrop\u001b[0m\u001b[1;33m(\u001b[0m\u001b[0mlabels\u001b[0m\u001b[1;33m,\u001b[0m \u001b[0mlevel\u001b[0m\u001b[1;33m=\u001b[0m\u001b[0mlevel\u001b[0m\u001b[1;33m,\u001b[0m \u001b[0merrors\u001b[0m\u001b[1;33m=\u001b[0m\u001b[0merrors\u001b[0m\u001b[1;33m)\u001b[0m\u001b[1;33m\u001b[0m\u001b[0m\n\u001b[0;32m   1876\u001b[0m             \u001b[1;32melse\u001b[0m\u001b[1;33m:\u001b[0m\u001b[1;33m\u001b[0m\u001b[0m\n\u001b[1;32m-> 1877\u001b[1;33m                 \u001b[0mnew_axis\u001b[0m \u001b[1;33m=\u001b[0m \u001b[0maxis\u001b[0m\u001b[1;33m.\u001b[0m\u001b[0mdrop\u001b[0m\u001b[1;33m(\u001b[0m\u001b[0mlabels\u001b[0m\u001b[1;33m,\u001b[0m \u001b[0merrors\u001b[0m\u001b[1;33m=\u001b[0m\u001b[0merrors\u001b[0m\u001b[1;33m)\u001b[0m\u001b[1;33m\u001b[0m\u001b[0m\n\u001b[0m\u001b[0;32m   1878\u001b[0m             \u001b[0mdropped\u001b[0m \u001b[1;33m=\u001b[0m \u001b[0mself\u001b[0m\u001b[1;33m.\u001b[0m\u001b[0mreindex\u001b[0m\u001b[1;33m(\u001b[0m\u001b[1;33m**\u001b[0m\u001b[1;33m{\u001b[0m\u001b[0maxis_name\u001b[0m\u001b[1;33m:\u001b[0m \u001b[0mnew_axis\u001b[0m\u001b[1;33m}\u001b[0m\u001b[1;33m)\u001b[0m\u001b[1;33m\u001b[0m\u001b[0m\n\u001b[0;32m   1879\u001b[0m             \u001b[1;32mtry\u001b[0m\u001b[1;33m:\u001b[0m\u001b[1;33m\u001b[0m\u001b[0m\n",
      "\u001b[1;32mC:\\Users\\lmano\\Anaconda2\\envs\\iaml\\lib\\site-packages\\pandas\\indexes\\base.pyc\u001b[0m in \u001b[0;36mdrop\u001b[1;34m(self, labels, errors)\u001b[0m\n\u001b[0;32m   3049\u001b[0m             \u001b[1;32mif\u001b[0m \u001b[0merrors\u001b[0m \u001b[1;33m!=\u001b[0m \u001b[1;34m'ignore'\u001b[0m\u001b[1;33m:\u001b[0m\u001b[1;33m\u001b[0m\u001b[0m\n\u001b[0;32m   3050\u001b[0m                 raise ValueError('labels %s not contained in axis' %\n\u001b[1;32m-> 3051\u001b[1;33m                                  labels[mask])\n\u001b[0m\u001b[0;32m   3052\u001b[0m             \u001b[0mindexer\u001b[0m \u001b[1;33m=\u001b[0m \u001b[0mindexer\u001b[0m\u001b[1;33m[\u001b[0m\u001b[1;33m~\u001b[0m\u001b[0mmask\u001b[0m\u001b[1;33m]\u001b[0m\u001b[1;33m\u001b[0m\u001b[0m\n\u001b[0;32m   3053\u001b[0m         \u001b[1;32mreturn\u001b[0m \u001b[0mself\u001b[0m\u001b[1;33m.\u001b[0m\u001b[0mdelete\u001b[0m\u001b[1;33m(\u001b[0m\u001b[0mindexer\u001b[0m\u001b[1;33m)\u001b[0m\u001b[1;33m\u001b[0m\u001b[0m\n",
      "\u001b[1;31mValueError\u001b[0m: labels ['YEAR' 'CARRIER' 'AIRLINE_ID' 'FL_NUM' 'ORIGIN_AIRPORT_ID'\n 'DEST_AIRPORT_ID' 'DEP_DELAY_NEW' 'ARR_DELAY_NEW' 'CANCELLED' 'FLIGHTS'] not contained in axis"
     ]
    }
   ],
   "source": [
    "df_clear = df_clear.drop(['YEAR','CARRIER','AIRLINE_ID','FL_NUM','ORIGIN_AIRPORT_ID','DEST_AIRPORT_ID','DEP_DELAY_NEW','ARR_DELAY_NEW','CANCELLED','FLIGHTS'],axis=1)"
   ]
  },
  {
   "cell_type": "code",
   "execution_count": 50,
   "metadata": {
    "collapsed": false
   },
   "outputs": [
    {
     "name": "stdout",
     "output_type": "stream",
     "text": [
      "There are 481662 entries and 29 columns in the DataFrame\n"
     ]
    }
   ],
   "source": [
    "print(\"There are {} entries and {} columns in the DataFrame\"\\\n",
    "      .format(df_clear.shape[0], df_clear.shape[1]))"
   ]
  },
  {
   "cell_type": "code",
   "execution_count": 53,
   "metadata": {
    "collapsed": false
   },
   "outputs": [
    {
     "data": {
      "text/plain": [
       "QUARTER                0\n",
       "MONTH                  0\n",
       "DAY_OF_MONTH           0\n",
       "DAY_OF_WEEK            0\n",
       "FL_DATE                0\n",
       "UNIQUE_CARRIER         0\n",
       "ORIGIN                 0\n",
       "ORIGIN_CITY_NAME       0\n",
       "ORIGIN_STATE_ABR       0\n",
       "ORIGIN_STATE_NM        0\n",
       "DEST                   0\n",
       "DEST_CITY_NAME         0\n",
       "DEST_STATE_ABR         0\n",
       "DEST_STATE_NM          0\n",
       "CRS_DEP_TIME           0\n",
       "DEP_TIME               0\n",
       "DEP_DELAY              0\n",
       "DEP_DEL15              0\n",
       "DEP_DELAY_GROUP        0\n",
       "DEP_TIME_BLK           0\n",
       "CRS_ARR_TIME           0\n",
       "ARR_TIME               0\n",
       "ARR_DELAY              0\n",
       "ARR_DEL15              0\n",
       "ARR_DELAY_GROUP        0\n",
       "CRS_ELAPSED_TIME       0\n",
       "ACTUAL_ELAPSED_TIME    0\n",
       "DISTANCE               0\n",
       "DISTANCE_GROUP         0\n",
       "dtype: int64"
      ]
     },
     "execution_count": 53,
     "metadata": {},
     "output_type": "execute_result"
    }
   ],
   "source": [
    "df_clear.isnull().sum()"
   ]
  },
  {
   "cell_type": "code",
   "execution_count": 51,
   "metadata": {
    "collapsed": false
   },
   "outputs": [],
   "source": [
    "clear_data_path = os.path.realpath(os.path.join(os.getcwd(), 'clear_data_new.csv'))\n",
    "df_clear.to_csv(clear_data_path, index=False)"
   ]
  },
  {
   "cell_type": "code",
   "execution_count": null,
   "metadata": {
    "collapsed": true
   },
   "outputs": [],
   "source": []
  }
 ],
 "metadata": {
  "kernelspec": {
   "display_name": "Python [iaml]",
   "language": "python",
   "name": "Python [iaml]"
  },
  "language_info": {
   "codemirror_mode": {
    "name": "ipython",
    "version": 2
   },
   "file_extension": ".py",
   "mimetype": "text/x-python",
   "name": "python",
   "nbconvert_exporter": "python",
   "pygments_lexer": "ipython2",
   "version": "2.7.12"
  }
 },
 "nbformat": 4,
 "nbformat_minor": 2
}
