{
 "cells": [
  {
   "cell_type": "markdown",
   "metadata": {},
   "source": [
    "https://www.transtats.bts.gov/Fields.asp?Table_ID=236"
   ]
  },
  {
   "cell_type": "code",
   "execution_count": 1,
   "metadata": {
    "collapsed": true
   },
   "outputs": [],
   "source": [
    "from __future__ import division #, print_function # Imports from __future__ since we're running Python 2"
   ]
  },
  {
   "cell_type": "code",
   "execution_count": 2,
   "metadata": {
    "collapsed": true
   },
   "outputs": [],
   "source": [
    "#%load_ext autoreload\n",
    "%reload_ext autoreload\n",
    "%autoreload 2\n",
    "%matplotlib inline"
   ]
  },
  {
   "cell_type": "code",
   "execution_count": 3,
   "metadata": {
    "collapsed": false
   },
   "outputs": [],
   "source": [
    "import os\n",
    "import numpy as np \n",
    "import pandas as pd\n",
    "import matplotlib.pyplot as plt\n",
    "import seaborn as sns\n",
    "from flights_delay.feature_processing import FlightDelayFeatureProcessing\n",
    "from helpers.outliers import MyOutliers\n",
    "from helpers.feature_engineering import makeBinaryClassification, getUniqueValuesPerFeature\n",
    "from sklearn.model_selection import train_test_split\n",
    "from helpers.plot_helper import plotDistsPerClass, plotBothDists\n",
    "from flights_delay.feature_prev_delays import FeaturePrevDelays\n",
    "from flights_delay.feature_airline_delays import FeatureAirlineDelays\n",
    "from helpers.my_one_hot_encoder import MyOneHotEncoder\n",
    "from sklearn.model_selection import train_test_split\n",
    "from sklearn.utils import shuffle\n",
    "from datetime import datetime\n",
    "from sklearn.dummy import DummyClassifier\n",
    "from helpers.feature_engineering import dateStrToDayYear, getMappingOfSimilarCategoricalColumns, \\\n",
    "    compareSimilarCategoricalColumns \n",
    "from helpers.my_one_hot_encoder import MyOneHotEncoder\n",
    "from helpers.py_helpers import is_number\n",
    "from scipy.stats import skew, kurtosis\n",
    "from helpers.outliers import MyOutliers\n",
    "from sklearn.preprocessing import StandardScaler\n",
    "from helpers.plot_helper import scatter_2d_label\n",
    "from sklearn.decomposition import PCA # Import the PCA module\n",
    "from sklearn.manifold import TSNE\n",
    "from sklearn.decomposition import KernelPCA\n",
    "from sklearn.manifold import MDS\n",
    "from sklearn.manifold import Isomap\n",
    "from helpers.performance_issues import subsample_keeping_class_proportions\n",
    "from sklearn.metrics import f1_score, precision_score\n",
    "from sklearn.manifold import Isomap\n",
    "from helpers.performance_issues import subsample_keeping_class_proportions, rbfPCAkernel\n",
    "from flights_delay.feature_processing import FlightDelayFeatureProcessing\n",
    "from sklearn.model_selection import StratifiedShuffleSplit, StratifiedKFold\n",
    "from sklearn.metrics import f1_score\n",
    "from sklearn.metrics import precision_score\n",
    "from sklearn.datasets import make_moons, make_circles, make_classification\n",
    "from sklearn.neural_network import MLPClassifier\n",
    "from sklearn.neighbors import KNeighborsClassifier\n",
    "from sklearn.svm import SVC\n",
    "from sklearn.gaussian_process import GaussianProcessClassifier\n",
    "from sklearn.gaussian_process.kernels import RBF\n",
    "from sklearn.tree import DecisionTreeClassifier\n",
    "from sklearn.ensemble import RandomForestClassifier, AdaBoostClassifier\n",
    "from sklearn.naive_bayes import GaussianNB\n",
    "from sklearn.discriminant_analysis import QuadraticDiscriminantAnalysis\n",
    "from matplotlib.colors import ListedColormap\n",
    "from flights_delay.flight_delay_scoring import printFlightDelayScores, getFlightDelayScores\n",
    "from helpers.my_cross_validation import MyCrossValidation\n",
    "from sklearn.metrics import log_loss\n",
    "from helpers.performance_issues import processSeparately\n",
    "from helpers.plot_helper import scatter_2d_label, plotGPoptFunction, plotGPoptConvergence\n",
    "from flights_delay.flight_delay_scoring import getScore_onKFold_callback, scoreWithDimReduction\n",
    "from flights_delay.dataset import getRbfKernelPCADimReducedDataset\n",
    "from skopt.space.space import Integer, Real\n",
    "from skopt import gp_minimize\n",
    "from skopt.plots import plot_convergence\n",
    "from time import time, sleep"
   ]
  },
  {
   "cell_type": "code",
   "execution_count": 4,
   "metadata": {
    "collapsed": true
   },
   "outputs": [],
   "source": [
    "plt.style.use('ggplot')"
   ]
  },
  {
   "cell_type": "code",
   "execution_count": 5,
   "metadata": {
    "collapsed": true
   },
   "outputs": [],
   "source": [
    "random_state = 0 # Ensure reproducible results"
   ]
  },
  {
   "cell_type": "code",
   "execution_count": 6,
   "metadata": {
    "collapsed": true
   },
   "outputs": [],
   "source": [
    "data_relative_path = '../Data'"
   ]
  },
  {
   "cell_type": "code",
   "execution_count": 7,
   "metadata": {
    "collapsed": true
   },
   "outputs": [],
   "source": [
    "target_col = 'IS_DELAYED'"
   ]
  },
  {
   "cell_type": "code",
   "execution_count": 8,
   "metadata": {
    "collapsed": true
   },
   "outputs": [],
   "source": [
    "n_jobs = 4"
   ]
  },
  {
   "cell_type": "markdown",
   "metadata": {},
   "source": [
    "# Flying to New York City - Classifying"
   ]
  },
  {
   "cell_type": "code",
   "execution_count": 9,
   "metadata": {
    "collapsed": false
   },
   "outputs": [
    {
     "data": {
      "text/plain": [
       "'/home/student/pligor.george@gmail.com/msc_Artificial_Intelligence/dme_Data_Mining/dmedatarats/Data/train_data_v2_engineered.csv'"
      ]
     },
     "execution_count": 9,
     "metadata": {},
     "output_type": "execute_result"
    }
   ],
   "source": [
    "path_data = os.path.realpath(os.path.join(os.getcwd(), data_relative_path, 'train_data_v2_engineered.csv'))\n",
    "assert os.path.isfile(path_data)\n",
    "path_data"
   ]
  },
  {
   "cell_type": "code",
   "execution_count": 10,
   "metadata": {
    "collapsed": false
   },
   "outputs": [
    {
     "data": {
      "text/plain": [
       "(31186, 43)"
      ]
     },
     "execution_count": 10,
     "metadata": {},
     "output_type": "execute_result"
    }
   ],
   "source": [
    "df = pd.read_csv(path_data, delimiter = ',', header=0)\n",
    "df.shape"
   ]
  },
  {
   "cell_type": "code",
   "execution_count": 11,
   "metadata": {
    "collapsed": false
   },
   "outputs": [
    {
     "name": "stdout",
     "output_type": "stream",
     "text": [
      "<class 'pandas.core.frame.DataFrame'>\n",
      "RangeIndex: 31186 entries, 0 to 31185\n",
      "Data columns (total 43 columns):\n",
      "QUARTER               31186 non-null int64\n",
      "MONTH                 31186 non-null int64\n",
      "DAY_OF_MONTH          31186 non-null int64\n",
      "DAY_OF_WEEK           31186 non-null int64\n",
      "DEP_TIME              31186 non-null float64\n",
      "DEP_DELAY             31186 non-null float64\n",
      "DEP_DELAY_NEW         31186 non-null float64\n",
      "DEP_DEL15             31186 non-null float64\n",
      "DEP_DELAY_GROUP       31186 non-null float64\n",
      "CRS_ELAPSED_TIME      31186 non-null float64\n",
      "PREV_DELAYS_30        31186 non-null float64\n",
      "PREV_DELAYS_60        31186 non-null float64\n",
      "PREV_DELAYS_120       31186 non-null float64\n",
      "PREV_DELAYS_180       31186 non-null float64\n",
      "PREV_DELAYS_360       31186 non-null float64\n",
      "PREV_DELAYS_720       31186 non-null float64\n",
      "AIRLINE_DELAYS_30     31186 non-null float64\n",
      "AIRLINE_DELAYS_60     31186 non-null float64\n",
      "AIRLINE_DELAYS_120    31186 non-null float64\n",
      "AIRLINE_DELAYS_180    31186 non-null float64\n",
      "AIRLINE_DELAYS_360    31186 non-null float64\n",
      "AIRLINE_DELAYS_720    31186 non-null float64\n",
      "UNIQUE_CARRIER_0      31186 non-null float64\n",
      "UNIQUE_CARRIER_1      31186 non-null float64\n",
      "UNIQUE_CARRIER_2      31186 non-null float64\n",
      "UNIQUE_CARRIER_3      31186 non-null float64\n",
      "UNIQUE_CARRIER_4      31186 non-null float64\n",
      "UNIQUE_CARRIER_5      31186 non-null float64\n",
      "UNIQUE_CARRIER_6      31186 non-null float64\n",
      "UNIQUE_CARRIER_7      31186 non-null float64\n",
      "ORIGIN_0              31186 non-null float64\n",
      "ORIGIN_1              31186 non-null float64\n",
      "ORIGIN_2              31186 non-null float64\n",
      "ORIGIN_3              31186 non-null float64\n",
      "ORIGIN_4              31186 non-null float64\n",
      "ORIGIN_5              31186 non-null float64\n",
      "DEST_0                31186 non-null float64\n",
      "DEST_1                31186 non-null float64\n",
      "DEST_2                31186 non-null float64\n",
      "DEST_3                31186 non-null float64\n",
      "DEST_4                31186 non-null float64\n",
      "DEST_5                31186 non-null float64\n",
      "IS_DELAYED            31186 non-null bool\n",
      "dtypes: bool(1), float64(38), int64(4)\n",
      "memory usage: 10.0 MB\n"
     ]
    }
   ],
   "source": [
    "df.info()"
   ]
  },
  {
   "cell_type": "code",
   "execution_count": 12,
   "metadata": {
    "collapsed": false
   },
   "outputs": [
    {
     "data": {
      "text/html": [
       "<div>\n",
       "<table border=\"1\" class=\"dataframe\">\n",
       "  <thead>\n",
       "    <tr style=\"text-align: right;\">\n",
       "      <th></th>\n",
       "      <th>QUARTER</th>\n",
       "      <th>MONTH</th>\n",
       "      <th>DAY_OF_MONTH</th>\n",
       "      <th>DAY_OF_WEEK</th>\n",
       "      <th>DEP_TIME</th>\n",
       "      <th>DEP_DELAY</th>\n",
       "      <th>DEP_DELAY_NEW</th>\n",
       "      <th>DEP_DEL15</th>\n",
       "      <th>DEP_DELAY_GROUP</th>\n",
       "      <th>CRS_ELAPSED_TIME</th>\n",
       "      <th>...</th>\n",
       "      <th>ORIGIN_3</th>\n",
       "      <th>ORIGIN_4</th>\n",
       "      <th>ORIGIN_5</th>\n",
       "      <th>DEST_0</th>\n",
       "      <th>DEST_1</th>\n",
       "      <th>DEST_2</th>\n",
       "      <th>DEST_3</th>\n",
       "      <th>DEST_4</th>\n",
       "      <th>DEST_5</th>\n",
       "      <th>IS_DELAYED</th>\n",
       "    </tr>\n",
       "  </thead>\n",
       "  <tbody>\n",
       "    <tr>\n",
       "      <th>4696</th>\n",
       "      <td>0</td>\n",
       "      <td>1</td>\n",
       "      <td>0</td>\n",
       "      <td>1</td>\n",
       "      <td>1358.878788</td>\n",
       "      <td>-6.0</td>\n",
       "      <td>0.0</td>\n",
       "      <td>0.0</td>\n",
       "      <td>-1.0</td>\n",
       "      <td>170.0</td>\n",
       "      <td>...</td>\n",
       "      <td>0.0</td>\n",
       "      <td>0.0</td>\n",
       "      <td>0.0</td>\n",
       "      <td>0.0</td>\n",
       "      <td>0.0</td>\n",
       "      <td>0.0</td>\n",
       "      <td>0.0</td>\n",
       "      <td>1.0</td>\n",
       "      <td>0.0</td>\n",
       "      <td>False</td>\n",
       "    </tr>\n",
       "    <tr>\n",
       "      <th>22712</th>\n",
       "      <td>0</td>\n",
       "      <td>0</td>\n",
       "      <td>0</td>\n",
       "      <td>0</td>\n",
       "      <td>667.878788</td>\n",
       "      <td>68.0</td>\n",
       "      <td>68.0</td>\n",
       "      <td>1.0</td>\n",
       "      <td>4.0</td>\n",
       "      <td>398.0</td>\n",
       "      <td>...</td>\n",
       "      <td>0.0</td>\n",
       "      <td>0.0</td>\n",
       "      <td>0.0</td>\n",
       "      <td>0.0</td>\n",
       "      <td>0.0</td>\n",
       "      <td>0.0</td>\n",
       "      <td>0.0</td>\n",
       "      <td>0.0</td>\n",
       "      <td>1.0</td>\n",
       "      <td>True</td>\n",
       "    </tr>\n",
       "    <tr>\n",
       "      <th>959</th>\n",
       "      <td>1</td>\n",
       "      <td>1</td>\n",
       "      <td>0</td>\n",
       "      <td>0</td>\n",
       "      <td>1388.878788</td>\n",
       "      <td>9.0</td>\n",
       "      <td>9.0</td>\n",
       "      <td>0.0</td>\n",
       "      <td>0.0</td>\n",
       "      <td>133.0</td>\n",
       "      <td>...</td>\n",
       "      <td>0.0</td>\n",
       "      <td>1.0</td>\n",
       "      <td>0.0</td>\n",
       "      <td>0.0</td>\n",
       "      <td>0.0</td>\n",
       "      <td>0.0</td>\n",
       "      <td>1.0</td>\n",
       "      <td>0.0</td>\n",
       "      <td>0.0</td>\n",
       "      <td>True</td>\n",
       "    </tr>\n",
       "    <tr>\n",
       "      <th>3668</th>\n",
       "      <td>1</td>\n",
       "      <td>1</td>\n",
       "      <td>0</td>\n",
       "      <td>0</td>\n",
       "      <td>1170.878788</td>\n",
       "      <td>81.0</td>\n",
       "      <td>81.0</td>\n",
       "      <td>1.0</td>\n",
       "      <td>5.0</td>\n",
       "      <td>137.0</td>\n",
       "      <td>...</td>\n",
       "      <td>0.0</td>\n",
       "      <td>1.0</td>\n",
       "      <td>0.0</td>\n",
       "      <td>0.0</td>\n",
       "      <td>0.0</td>\n",
       "      <td>0.0</td>\n",
       "      <td>1.0</td>\n",
       "      <td>0.0</td>\n",
       "      <td>0.0</td>\n",
       "      <td>True</td>\n",
       "    </tr>\n",
       "    <tr>\n",
       "      <th>24321</th>\n",
       "      <td>1</td>\n",
       "      <td>1</td>\n",
       "      <td>0</td>\n",
       "      <td>0</td>\n",
       "      <td>400.878788</td>\n",
       "      <td>-9.0</td>\n",
       "      <td>0.0</td>\n",
       "      <td>0.0</td>\n",
       "      <td>-1.0</td>\n",
       "      <td>66.0</td>\n",
       "      <td>...</td>\n",
       "      <td>0.0</td>\n",
       "      <td>0.0</td>\n",
       "      <td>0.0</td>\n",
       "      <td>1.0</td>\n",
       "      <td>0.0</td>\n",
       "      <td>0.0</td>\n",
       "      <td>0.0</td>\n",
       "      <td>0.0</td>\n",
       "      <td>0.0</td>\n",
       "      <td>False</td>\n",
       "    </tr>\n",
       "    <tr>\n",
       "      <th>2887</th>\n",
       "      <td>0</td>\n",
       "      <td>0</td>\n",
       "      <td>0</td>\n",
       "      <td>0</td>\n",
       "      <td>1194.878788</td>\n",
       "      <td>7.0</td>\n",
       "      <td>7.0</td>\n",
       "      <td>0.0</td>\n",
       "      <td>0.0</td>\n",
       "      <td>173.0</td>\n",
       "      <td>...</td>\n",
       "      <td>1.0</td>\n",
       "      <td>0.0</td>\n",
       "      <td>0.0</td>\n",
       "      <td>0.0</td>\n",
       "      <td>0.0</td>\n",
       "      <td>0.0</td>\n",
       "      <td>1.0</td>\n",
       "      <td>0.0</td>\n",
       "      <td>0.0</td>\n",
       "      <td>False</td>\n",
       "    </tr>\n",
       "    <tr>\n",
       "      <th>12034</th>\n",
       "      <td>0</td>\n",
       "      <td>0</td>\n",
       "      <td>1</td>\n",
       "      <td>0</td>\n",
       "      <td>1859.878788</td>\n",
       "      <td>70.0</td>\n",
       "      <td>70.0</td>\n",
       "      <td>1.0</td>\n",
       "      <td>4.0</td>\n",
       "      <td>168.0</td>\n",
       "      <td>...</td>\n",
       "      <td>0.0</td>\n",
       "      <td>0.0</td>\n",
       "      <td>0.0</td>\n",
       "      <td>0.0</td>\n",
       "      <td>0.0</td>\n",
       "      <td>0.0</td>\n",
       "      <td>0.0</td>\n",
       "      <td>1.0</td>\n",
       "      <td>0.0</td>\n",
       "      <td>True</td>\n",
       "    </tr>\n",
       "    <tr>\n",
       "      <th>13019</th>\n",
       "      <td>0</td>\n",
       "      <td>0</td>\n",
       "      <td>1</td>\n",
       "      <td>0</td>\n",
       "      <td>955.878788</td>\n",
       "      <td>131.0</td>\n",
       "      <td>131.0</td>\n",
       "      <td>1.0</td>\n",
       "      <td>8.0</td>\n",
       "      <td>131.0</td>\n",
       "      <td>...</td>\n",
       "      <td>0.0</td>\n",
       "      <td>1.0</td>\n",
       "      <td>0.0</td>\n",
       "      <td>0.0</td>\n",
       "      <td>0.0</td>\n",
       "      <td>0.0</td>\n",
       "      <td>1.0</td>\n",
       "      <td>0.0</td>\n",
       "      <td>0.0</td>\n",
       "      <td>True</td>\n",
       "    </tr>\n",
       "    <tr>\n",
       "      <th>15102</th>\n",
       "      <td>0</td>\n",
       "      <td>0</td>\n",
       "      <td>0</td>\n",
       "      <td>0</td>\n",
       "      <td>390.878788</td>\n",
       "      <td>-4.0</td>\n",
       "      <td>0.0</td>\n",
       "      <td>0.0</td>\n",
       "      <td>-1.0</td>\n",
       "      <td>130.0</td>\n",
       "      <td>...</td>\n",
       "      <td>0.0</td>\n",
       "      <td>0.0</td>\n",
       "      <td>0.0</td>\n",
       "      <td>0.0</td>\n",
       "      <td>0.0</td>\n",
       "      <td>0.0</td>\n",
       "      <td>1.0</td>\n",
       "      <td>0.0</td>\n",
       "      <td>0.0</td>\n",
       "      <td>False</td>\n",
       "    </tr>\n",
       "    <tr>\n",
       "      <th>15423</th>\n",
       "      <td>0</td>\n",
       "      <td>0</td>\n",
       "      <td>1</td>\n",
       "      <td>0</td>\n",
       "      <td>1271.878788</td>\n",
       "      <td>82.0</td>\n",
       "      <td>82.0</td>\n",
       "      <td>1.0</td>\n",
       "      <td>5.0</td>\n",
       "      <td>192.0</td>\n",
       "      <td>...</td>\n",
       "      <td>1.0</td>\n",
       "      <td>0.0</td>\n",
       "      <td>0.0</td>\n",
       "      <td>0.0</td>\n",
       "      <td>0.0</td>\n",
       "      <td>0.0</td>\n",
       "      <td>1.0</td>\n",
       "      <td>0.0</td>\n",
       "      <td>0.0</td>\n",
       "      <td>True</td>\n",
       "    </tr>\n",
       "  </tbody>\n",
       "</table>\n",
       "<p>10 rows × 43 columns</p>\n",
       "</div>"
      ],
      "text/plain": [
       "       QUARTER  MONTH  DAY_OF_MONTH  DAY_OF_WEEK     DEP_TIME  DEP_DELAY  \\\n",
       "4696         0      1             0            1  1358.878788       -6.0   \n",
       "22712        0      0             0            0   667.878788       68.0   \n",
       "959          1      1             0            0  1388.878788        9.0   \n",
       "3668         1      1             0            0  1170.878788       81.0   \n",
       "24321        1      1             0            0   400.878788       -9.0   \n",
       "2887         0      0             0            0  1194.878788        7.0   \n",
       "12034        0      0             1            0  1859.878788       70.0   \n",
       "13019        0      0             1            0   955.878788      131.0   \n",
       "15102        0      0             0            0   390.878788       -4.0   \n",
       "15423        0      0             1            0  1271.878788       82.0   \n",
       "\n",
       "       DEP_DELAY_NEW  DEP_DEL15  DEP_DELAY_GROUP  CRS_ELAPSED_TIME  \\\n",
       "4696             0.0        0.0             -1.0             170.0   \n",
       "22712           68.0        1.0              4.0             398.0   \n",
       "959              9.0        0.0              0.0             133.0   \n",
       "3668            81.0        1.0              5.0             137.0   \n",
       "24321            0.0        0.0             -1.0              66.0   \n",
       "2887             7.0        0.0              0.0             173.0   \n",
       "12034           70.0        1.0              4.0             168.0   \n",
       "13019          131.0        1.0              8.0             131.0   \n",
       "15102            0.0        0.0             -1.0             130.0   \n",
       "15423           82.0        1.0              5.0             192.0   \n",
       "\n",
       "          ...      ORIGIN_3  ORIGIN_4  ORIGIN_5  DEST_0  DEST_1  DEST_2  \\\n",
       "4696      ...           0.0       0.0       0.0     0.0     0.0     0.0   \n",
       "22712     ...           0.0       0.0       0.0     0.0     0.0     0.0   \n",
       "959       ...           0.0       1.0       0.0     0.0     0.0     0.0   \n",
       "3668      ...           0.0       1.0       0.0     0.0     0.0     0.0   \n",
       "24321     ...           0.0       0.0       0.0     1.0     0.0     0.0   \n",
       "2887      ...           1.0       0.0       0.0     0.0     0.0     0.0   \n",
       "12034     ...           0.0       0.0       0.0     0.0     0.0     0.0   \n",
       "13019     ...           0.0       1.0       0.0     0.0     0.0     0.0   \n",
       "15102     ...           0.0       0.0       0.0     0.0     0.0     0.0   \n",
       "15423     ...           1.0       0.0       0.0     0.0     0.0     0.0   \n",
       "\n",
       "       DEST_3  DEST_4  DEST_5  IS_DELAYED  \n",
       "4696      0.0     1.0     0.0       False  \n",
       "22712     0.0     0.0     1.0        True  \n",
       "959       1.0     0.0     0.0        True  \n",
       "3668      1.0     0.0     0.0        True  \n",
       "24321     0.0     0.0     0.0       False  \n",
       "2887      1.0     0.0     0.0       False  \n",
       "12034     0.0     1.0     0.0        True  \n",
       "13019     1.0     0.0     0.0        True  \n",
       "15102     1.0     0.0     0.0       False  \n",
       "15423     1.0     0.0     0.0        True  \n",
       "\n",
       "[10 rows x 43 columns]"
      ]
     },
     "execution_count": 12,
     "metadata": {},
     "output_type": "execute_result"
    }
   ],
   "source": [
    "df.sample(10, random_state=random_state)"
   ]
  },
  {
   "cell_type": "code",
   "execution_count": 13,
   "metadata": {
    "collapsed": false
   },
   "outputs": [
    {
     "data": {
      "text/plain": [
       "((31186, 42), (31186,))"
      ]
     },
     "execution_count": 13,
     "metadata": {},
     "output_type": "execute_result"
    }
   ],
   "source": [
    "XX = df.drop(labels=[target_col], axis=1)\n",
    "yy = df[target_col]\n",
    "XX.shape, yy.shape"
   ]
  },
  {
   "cell_type": "code",
   "execution_count": 14,
   "metadata": {
    "collapsed": false
   },
   "outputs": [],
   "source": [
    "columns_one_hot_encoded = np.array([col for col in df.columns if is_number(col[-1])])\n",
    "columns_not_one_hot = np.array([col for col in df.columns if not is_number(col[-1])])"
   ]
  },
  {
   "cell_type": "code",
   "execution_count": 15,
   "metadata": {
    "collapsed": false
   },
   "outputs": [
    {
     "data": {
      "text/html": [
       "<div>\n",
       "<table border=\"1\" class=\"dataframe\">\n",
       "  <thead>\n",
       "    <tr style=\"text-align: right;\">\n",
       "      <th></th>\n",
       "      <th>QUARTER</th>\n",
       "      <th>MONTH</th>\n",
       "      <th>DAY_OF_MONTH</th>\n",
       "      <th>DAY_OF_WEEK</th>\n",
       "      <th>DEP_TIME</th>\n",
       "      <th>DEP_DELAY</th>\n",
       "      <th>DEP_DELAY_NEW</th>\n",
       "      <th>DEP_DELAY_GROUP</th>\n",
       "      <th>CRS_ELAPSED_TIME</th>\n",
       "    </tr>\n",
       "  </thead>\n",
       "  <tbody>\n",
       "    <tr>\n",
       "      <th>count</th>\n",
       "      <td>31186.000000</td>\n",
       "      <td>31186.000000</td>\n",
       "      <td>31186.000000</td>\n",
       "      <td>31186.000000</td>\n",
       "      <td>31186.000000</td>\n",
       "      <td>31186.000000</td>\n",
       "      <td>31186.000000</td>\n",
       "      <td>31186.000000</td>\n",
       "      <td>31186.000000</td>\n",
       "    </tr>\n",
       "    <tr>\n",
       "      <th>mean</th>\n",
       "      <td>0.268903</td>\n",
       "      <td>0.285449</td>\n",
       "      <td>0.173988</td>\n",
       "      <td>0.328898</td>\n",
       "      <td>1070.573074</td>\n",
       "      <td>19.281953</td>\n",
       "      <td>21.085840</td>\n",
       "      <td>0.751812</td>\n",
       "      <td>238.534631</td>\n",
       "    </tr>\n",
       "    <tr>\n",
       "      <th>std</th>\n",
       "      <td>0.443396</td>\n",
       "      <td>0.451635</td>\n",
       "      <td>0.379106</td>\n",
       "      <td>0.469820</td>\n",
       "      <td>506.387802</td>\n",
       "      <td>32.605802</td>\n",
       "      <td>31.302126</td>\n",
       "      <td>2.237086</td>\n",
       "      <td>111.624021</td>\n",
       "    </tr>\n",
       "    <tr>\n",
       "      <th>min</th>\n",
       "      <td>0.000000</td>\n",
       "      <td>0.000000</td>\n",
       "      <td>0.000000</td>\n",
       "      <td>0.000000</td>\n",
       "      <td>178.878788</td>\n",
       "      <td>-20.000000</td>\n",
       "      <td>0.000000</td>\n",
       "      <td>-2.000000</td>\n",
       "      <td>59.000000</td>\n",
       "    </tr>\n",
       "    <tr>\n",
       "      <th>25%</th>\n",
       "      <td>0.000000</td>\n",
       "      <td>0.000000</td>\n",
       "      <td>0.000000</td>\n",
       "      <td>0.000000</td>\n",
       "      <td>605.878788</td>\n",
       "      <td>-3.000000</td>\n",
       "      <td>0.000000</td>\n",
       "      <td>-1.000000</td>\n",
       "      <td>140.000000</td>\n",
       "    </tr>\n",
       "    <tr>\n",
       "      <th>50%</th>\n",
       "      <td>0.000000</td>\n",
       "      <td>0.000000</td>\n",
       "      <td>0.000000</td>\n",
       "      <td>0.000000</td>\n",
       "      <td>1078.878788</td>\n",
       "      <td>2.000000</td>\n",
       "      <td>2.000000</td>\n",
       "      <td>0.000000</td>\n",
       "      <td>177.000000</td>\n",
       "    </tr>\n",
       "    <tr>\n",
       "      <th>75%</th>\n",
       "      <td>1.000000</td>\n",
       "      <td>1.000000</td>\n",
       "      <td>0.000000</td>\n",
       "      <td>1.000000</td>\n",
       "      <td>1482.628788</td>\n",
       "      <td>34.000000</td>\n",
       "      <td>34.000000</td>\n",
       "      <td>2.000000</td>\n",
       "      <td>341.000000</td>\n",
       "    </tr>\n",
       "    <tr>\n",
       "      <th>max</th>\n",
       "      <td>1.000000</td>\n",
       "      <td>1.000000</td>\n",
       "      <td>1.000000</td>\n",
       "      <td>1.000000</td>\n",
       "      <td>2297.878788</td>\n",
       "      <td>132.000000</td>\n",
       "      <td>132.000000</td>\n",
       "      <td>8.000000</td>\n",
       "      <td>468.000000</td>\n",
       "    </tr>\n",
       "  </tbody>\n",
       "</table>\n",
       "</div>"
      ],
      "text/plain": [
       "            QUARTER         MONTH  DAY_OF_MONTH   DAY_OF_WEEK      DEP_TIME  \\\n",
       "count  31186.000000  31186.000000  31186.000000  31186.000000  31186.000000   \n",
       "mean       0.268903      0.285449      0.173988      0.328898   1070.573074   \n",
       "std        0.443396      0.451635      0.379106      0.469820    506.387802   \n",
       "min        0.000000      0.000000      0.000000      0.000000    178.878788   \n",
       "25%        0.000000      0.000000      0.000000      0.000000    605.878788   \n",
       "50%        0.000000      0.000000      0.000000      0.000000   1078.878788   \n",
       "75%        1.000000      1.000000      0.000000      1.000000   1482.628788   \n",
       "max        1.000000      1.000000      1.000000      1.000000   2297.878788   \n",
       "\n",
       "          DEP_DELAY  DEP_DELAY_NEW  DEP_DELAY_GROUP  CRS_ELAPSED_TIME  \n",
       "count  31186.000000   31186.000000     31186.000000      31186.000000  \n",
       "mean      19.281953      21.085840         0.751812        238.534631  \n",
       "std       32.605802      31.302126         2.237086        111.624021  \n",
       "min      -20.000000       0.000000        -2.000000         59.000000  \n",
       "25%       -3.000000       0.000000        -1.000000        140.000000  \n",
       "50%        2.000000       2.000000         0.000000        177.000000  \n",
       "75%       34.000000      34.000000         2.000000        341.000000  \n",
       "max      132.000000     132.000000         8.000000        468.000000  "
      ]
     },
     "execution_count": 15,
     "metadata": {},
     "output_type": "execute_result"
    }
   ],
   "source": [
    "df[columns_not_one_hot].describe()"
   ]
  },
  {
   "cell_type": "markdown",
   "metadata": {},
   "source": [
    "### Dummy Classifier"
   ]
  },
  {
   "cell_type": "code",
   "execution_count": 16,
   "metadata": {
    "collapsed": false
   },
   "outputs": [
    {
     "data": {
      "text/plain": [
       "0.49785160007695761"
      ]
     },
     "execution_count": 16,
     "metadata": {},
     "output_type": "execute_result"
    }
   ],
   "source": [
    "dc = DummyClassifier(random_state=random_state).fit(XX, yy)\n",
    "dc.score(XX, yy)"
   ]
  },
  {
   "cell_type": "code",
   "execution_count": 17,
   "metadata": {
    "collapsed": false
   },
   "outputs": [
    {
     "name": "stdout",
     "output_type": "stream",
     "text": [
      "precision score for delayed flights: 0.498662420382\n",
      "f1 score for both classes: [ 0.49571714  0.49996807]\n",
      "f1 score for is_delayed true class: 0.499968069481\n",
      "f1 score with weighted average: 0.497846011409\n",
      "f1 score with unweighted average: 0.497842603685\n"
     ]
    }
   ],
   "source": [
    "dummy_preds = dc.predict(XX)\n",
    "printFlightDelayScores(y_true=yy, y_pred=dummy_preds)"
   ]
  },
  {
   "cell_type": "code",
   "execution_count": 18,
   "metadata": {
    "collapsed": false
   },
   "outputs": [
    {
     "data": {
      "text/plain": [
       "17.343591302004143"
      ]
     },
     "execution_count": 18,
     "metadata": {},
     "output_type": "execute_result"
    }
   ],
   "source": [
    "log_loss(y_true = yy, y_pred = dc.predict_proba(XX))"
   ]
  },
  {
   "cell_type": "markdown",
   "metadata": {},
   "source": [
    "## Naive Bayes"
   ]
  },
  {
   "cell_type": "code",
   "execution_count": 36,
   "metadata": {
    "collapsed": true
   },
   "outputs": [],
   "source": [
    "clf = GaussianNB()"
   ]
  },
  {
   "cell_type": "code",
   "execution_count": 40,
   "metadata": {
    "collapsed": true
   },
   "outputs": [],
   "source": [
    "cv = MyCrossValidation(n_folds=10, random_state=random_state)"
   ]
  },
  {
   "cell_type": "code",
   "execution_count": 42,
   "metadata": {
    "collapsed": false
   },
   "outputs": [
    {
     "data": {
      "text/plain": [
       "precision_score            0.847233\n",
       "f1_score_nondelayed        0.809183\n",
       "f1_score_delayed           0.779077\n",
       "f1_score_weighted_avg      0.794136\n",
       "f1_score_unweighted_avg    0.794130\n",
       "log_loss                   2.740051\n",
       "accuracy_score             0.795261\n",
       "dtype: float64"
      ]
     },
     "execution_count": 42,
     "metadata": {},
     "output_type": "execute_result"
    }
   ],
   "source": [
    "scores = cv.onEachKFold(XX, yy, getScore_onKFold_callback(clf))\n",
    "scores"
   ]
  },
  {
   "cell_type": "markdown",
   "metadata": {},
   "source": [
    "## Quadratic Discriminant Classifier"
   ]
  },
  {
   "cell_type": "code",
   "execution_count": 43,
   "metadata": {
    "collapsed": true
   },
   "outputs": [],
   "source": [
    "clf = QuadraticDiscriminantAnalysis()"
   ]
  },
  {
   "cell_type": "code",
   "execution_count": 44,
   "metadata": {
    "collapsed": true
   },
   "outputs": [],
   "source": [
    "cv = MyCrossValidation(n_folds=10, random_state=random_state)"
   ]
  },
  {
   "cell_type": "code",
   "execution_count": 45,
   "metadata": {
    "collapsed": false
   },
   "outputs": [
    {
     "name": "stderr",
     "output_type": "stream",
     "text": [
      "/home/student/anaconda2/envs/dme/lib/python2.7/site-packages/sklearn/discriminant_analysis.py:695: UserWarning: Variables are collinear\n",
      "  warnings.warn(\"Variables are collinear\")\n"
     ]
    },
    {
     "data": {
      "text/plain": [
       "precision_score            0.837377\n",
       "f1_score_nondelayed        0.798841\n",
       "f1_score_delayed           0.764298\n",
       "f1_score_weighted_avg      0.781585\n",
       "f1_score_unweighted_avg    0.781569\n",
       "log_loss                   1.850568\n",
       "accuracy_score             0.783012\n",
       "dtype: float64"
      ]
     },
     "execution_count": 45,
     "metadata": {},
     "output_type": "execute_result"
    }
   ],
   "source": [
    "scores = cv.onEachKFold(XX, yy, getScore_onKFold_callback(clf))\n",
    "scores"
   ]
  },
  {
   "cell_type": "markdown",
   "metadata": {},
   "source": [
    "## K-Neighbors Classifier"
   ]
  },
  {
   "cell_type": "code",
   "execution_count": 52,
   "metadata": {
    "collapsed": false
   },
   "outputs": [
    {
     "name": "stdout",
     "output_type": "stream",
     "text": [
      "precision_score            0.793938\n",
      "f1_score_nondelayed        0.781561\n",
      "f1_score_delayed           0.768018\n",
      "f1_score_weighted_avg      0.774810\n",
      "f1_score_unweighted_avg    0.774789\n",
      "log_loss                   2.998314\n",
      "accuracy_score             0.775027\n",
      "dtype: float64\n",
      "CPU times: user 17.6 s, sys: 48 ms, total: 17.7 s\n",
      "Wall time: 8.77 s\n"
     ]
    }
   ],
   "source": [
    "%%time\n",
    "clf = KNeighborsClassifier(n_neighbors=3, n_jobs=n_jobs)\n",
    "cv = MyCrossValidation(n_folds=10, random_state=random_state)\n",
    "scores = cv.onEachKFold(XX, yy, getScore_onKFold_callback(clf))\n",
    "print scores"
   ]
  },
  {
   "cell_type": "code",
   "execution_count": 61,
   "metadata": {
    "collapsed": true
   },
   "outputs": [],
   "source": [
    "def gpOptimization(n_jobs=n_jobs, n_folds=10):  # using all the features is too slow with any kind of neighbor\n",
    "    \n",
    "    def objective(params): # Here we define the metric we want to minimise\n",
    "        (n_neighbors, ) = params\n",
    "        print \"current neighbors: {}\".format(n_neighbors)\n",
    "        start = time()\n",
    "\n",
    "        clf = KNeighborsClassifier(n_neighbors=n_neighbors, n_jobs=n_jobs)\n",
    "\n",
    "        cv = MyCrossValidation(n_folds=n_folds, random_state=random_state)\n",
    "\n",
    "        scores = cv.onEachKFold(XX, yy, getScore_onKFold_callback(clf))\n",
    "        score = scores['accuracy_score']\n",
    "        print \"current accuracy score: {}\".format(score)\n",
    "        print \"time elapsed: {}\".format(time() - start)\n",
    "        print\n",
    "\n",
    "        # We want to maximise accuracy score, i.e. minimise minus average accuracy\n",
    "        return -score\n",
    "    \n",
    "    neighborsSpace = Integer(1, 100)\n",
    "    space  = [neighborsSpace]\n",
    "    \n",
    "    return gp_minimize(\n",
    "        func=objective, # function that we wish to minimise\n",
    "        dimensions=space, #the search space for the hyper-parameters\n",
    "        #x0=x0, #inital values for the hyper-parameters\n",
    "        n_calls=25, #number of times the function will be evaluated\n",
    "        random_state=random_state, #random seed\n",
    "        n_random_starts=5,  #before we start modelling the optimised function with a GP Regression\n",
    "                            #model, we want to try a few random choices for the hyper-parameters.\n",
    "        kappa=1.9, #trade-off between exploration vs. exploitation.\n",
    "        n_jobs=n_jobs\n",
    "    )"
   ]
  },
  {
   "cell_type": "code",
   "execution_count": 62,
   "metadata": {
    "collapsed": false
   },
   "outputs": [
    {
     "name": "stdout",
     "output_type": "stream",
     "text": [
      "current neighbors: 45\n",
      "current accuracy score: 0.799589976064\n",
      "time elapsed: 11.4473598003\n",
      "\n",
      "current neighbors: 48\n",
      "current accuracy score: 0.800231176379\n",
      "time elapsed: 12.320554018\n",
      "\n",
      "current neighbors: 65\n",
      "current accuracy score: 0.796896321887\n",
      "time elapsed: 10.8142950535\n",
      "\n",
      "current neighbors: 68\n",
      "current accuracy score: 0.795966577831\n",
      "time elapsed: 10.7314670086\n",
      "\n",
      "current neighbors: 68\n",
      "current accuracy score: 0.795966577831\n",
      "time elapsed: 11.099572897\n",
      "\n",
      "current neighbors: 1\n",
      "current accuracy score: 0.74337848618\n",
      "time elapsed: 7.12966108322\n",
      "\n",
      "current neighbors: 100\n",
      "current accuracy score: 0.790483269892\n",
      "time elapsed: 11.1473920345\n",
      "\n",
      "current neighbors: 33\n",
      "current accuracy score: 0.801513885493\n",
      "time elapsed: 9.73603200912\n",
      "\n",
      "current neighbors: 85\n",
      "current accuracy score: 0.793754062964\n",
      "time elapsed: 10.8607058525\n",
      "\n",
      "current neighbors: 40\n",
      "current accuracy score: 0.800231248359\n",
      "time elapsed: 11.058275938\n",
      "\n",
      "current neighbors: 29\n",
      "current accuracy score: 0.801257372462\n",
      "time elapsed: 10.8301861286\n",
      "\n",
      "current neighbors: 26\n",
      "current accuracy score: 0.802122983119\n",
      "time elapsed: 8.91115808487\n",
      "\n",
      "current neighbors: 36\n",
      "current accuracy score: 0.800199155952\n",
      "time elapsed: 10.3577578068\n",
      "\n",
      "current neighbors: 22\n",
      "current accuracy score: 0.801738244421\n",
      "time elapsed: 9.09563207626\n",
      "\n",
      "current neighbors: 29\n",
      "current accuracy score: 0.801257372462\n",
      "time elapsed: 11.6106090546\n",
      "\n",
      "current neighbors: 55\n",
      "current accuracy score: 0.798050630527\n",
      "time elapsed: 12.2974801064\n",
      "\n",
      "current neighbors: 30\n",
      "current accuracy score: 0.801385577564\n",
      "time elapsed: 7.70531702042\n",
      "\n",
      "current neighbors: 31\n",
      "current accuracy score: 0.801641967202\n",
      "time elapsed: 8.16575694084\n",
      "\n",
      "current neighbors: 20\n",
      "current accuracy score: 0.801225105249\n",
      "time elapsed: 9.89590406418\n",
      "\n",
      "current neighbors: 78\n",
      "current accuracy score: 0.794427314556\n",
      "time elapsed: 13.0266268253\n",
      "\n",
      "current neighbors: 91\n",
      "current accuracy score: 0.792407333562\n",
      "time elapsed: 13.477563858\n",
      "\n",
      "current neighbors: 55\n",
      "current accuracy score: 0.798050630527\n",
      "time elapsed: 12.2355098724\n",
      "\n",
      "current neighbors: 19\n",
      "current accuracy score: 0.801129023402\n",
      "time elapsed: 9.27032279968\n",
      "\n",
      "current neighbors: 100\n",
      "current accuracy score: 0.790483269892\n",
      "time elapsed: 11.5094199181\n",
      "\n",
      "current neighbors: 19\n",
      "current accuracy score: 0.801129023402\n",
      "time elapsed: 7.99213910103\n",
      "\n"
     ]
    }
   ],
   "source": [
    "res_gp = gpOptimization()"
   ]
  },
  {
   "cell_type": "code",
   "execution_count": 63,
   "metadata": {
    "collapsed": false
   },
   "outputs": [
    {
     "data": {
      "image/png": "[encoded data removed]",
      "text/plain": [
       "<matplotlib.figure.Figure at 0x7f6ce2379bd0>"
      ]
     },
     "metadata": {},
     "output_type": "display_data"
    }
   ],
   "source": [
    "plotGPoptFunction(res_gp)\n",
    "plt.show()"
   ]
  },
  {
   "cell_type": "code",
   "execution_count": 64,
   "metadata": {
    "collapsed": false
   },
   "outputs": [
    {
     "data": {
      "image/png": "[encoded data removed]",
      "text/plain": [
       "<matplotlib.figure.Figure at 0x7f6cd80fa210>"
      ]
     },
     "metadata": {},
     "output_type": "display_data"
    }
   ],
   "source": [
    "plotGPoptConvergence(res_gp)\n",
    "plt.show()"
   ]
  },
  {
   "cell_type": "code",
   "execution_count": 66,
   "metadata": {
    "collapsed": false
   },
   "outputs": [
    {
     "data": {
      "text/plain": [
       "26"
      ]
     },
     "execution_count": 66,
     "metadata": {},
     "output_type": "execute_result"
    }
   ],
   "source": [
    "(best_n_neighbors, ) = res_gp.x\n",
    "best_n_neighbors"
   ]
  },
  {
   "cell_type": "code",
   "execution_count": 67,
   "metadata": {
    "collapsed": false
   },
   "outputs": [
    {
     "name": "stdout",
     "output_type": "stream",
     "text": [
      "precision_score            0.875145\n",
      "f1_score_nondelayed        0.819374\n",
      "f1_score_delayed           0.781170\n",
      "f1_score_weighted_avg      0.800267\n",
      "f1_score_unweighted_avg    0.800272\n",
      "log_loss                   0.462645\n",
      "accuracy_score             0.802123\n",
      "dtype: float64\n",
      "CPU times: user 21.2 s, sys: 52 ms, total: 21.3 s\n",
      "Wall time: 8.13 s\n"
     ]
    }
   ],
   "source": [
    "%%time\n",
    "clf = KNeighborsClassifier(n_neighbors=best_n_neighbors, n_jobs=n_jobs)\n",
    "cv = MyCrossValidation(n_folds=10, random_state=random_state)\n",
    "scores = cv.onEachKFold(XX, yy, getScore_onKFold_callback(clf))\n",
    "print scores"
   ]
  },
  {
   "cell_type": "markdown",
   "metadata": {},
   "source": [
    "## Linear Support Vector Classifier"
   ]
  },
  {
   "cell_type": "code",
   "execution_count": 19,
   "metadata": {
    "collapsed": false
   },
   "outputs": [
    {
     "name": "stdout",
     "output_type": "stream",
     "text": [
      "precision_score            0.853475\n",
      "f1_score_nondelayed        0.821916\n",
      "f1_score_delayed           0.800395\n",
      "f1_score_weighted_avg      0.811141\n",
      "f1_score_unweighted_avg    0.811155\n",
      "log_loss                   0.415082\n",
      "accuracy_score             0.811775\n",
      "dtype: float64\n",
      "CPU times: user 2h 46min 13s, sys: 2.33 s, total: 2h 46min 15s\n",
      "Wall time: 2h 46min 17s\n"
     ]
    }
   ],
   "source": [
    "%%time\n",
    "clf = SVC(kernel='linear', probability=True)\n",
    "cv = MyCrossValidation(n_folds=2, random_state=random_state)\n",
    "scores = cv.onEachKFold(XX, yy, getScore_onKFold_callback(clf))\n",
    "print scores"
   ]
  },
  {
   "cell_type": "code",
   "execution_count": 19,
   "metadata": {
    "collapsed": true
   },
   "outputs": [],
   "source": [
    "def gpOptimization(n_jobs=n_jobs, n_folds=2):  # using all the features is too slow with any kind of neighbor\n",
    "    \n",
    "    def objective(params): # Here we define the metric we want to minimise\n",
    "        (CC, ) = params\n",
    "        print \"current C: {}\".format(CC)\n",
    "        start = time()\n",
    "\n",
    "        clf = SVC(kernel='linear', probability=False, C=CC)\n",
    "\n",
    "        cv = MyCrossValidation(n_folds=n_folds, random_state=random_state)\n",
    "        \n",
    "        def onKFold_callback(cls):\n",
    "            def score_onKFold(X_train, y_train, X_valid, y_valid, i):\n",
    "                return pd.Series(data = cls.fit(X_train, y_train).score(X_valid, y_valid),\n",
    "                                     name=\"accuracy_score\").to_frame()\n",
    "            return score_onKFold\n",
    "        \n",
    "        scores = cv.onEachKFold(XX, yy, onKFold_callback(clf))\n",
    "        score = scores['accuracy_score']\n",
    "        print \"current accuracy score: {}\".format(score)\n",
    "        print \"time elapsed: {}\".format(time() - start)\n",
    "        print\n",
    "\n",
    "        # We want to maximise accuracy score, i.e. minimise minus average accuracy\n",
    "        return -score\n",
    "    \n",
    "    C_space = Real(1e-4, 1e1, prior='log-uniform')\n",
    "    space  = [C_space]\n",
    "    \n",
    "    return gp_minimize(\n",
    "        func=objective, # function that we wish to minimise\n",
    "        dimensions=space, #the search space for the hyper-parameters\n",
    "        #x0=x0, #inital values for the hyper-parameters\n",
    "        n_calls=10, #number of times the function will be evaluated\n",
    "        random_state=random_state, #random seed\n",
    "        n_random_starts=1,  #before we start modelling the optimised function with a GP Regression\n",
    "                            #model, we want to try a few random choices for the hyper-parameters.\n",
    "        kappa=1.9, #trade-off between exploration vs. exploitation.\n",
    "        n_jobs=n_jobs\n",
    "    )"
   ]
  },
  {
   "cell_type": "code",
   "execution_count": 20,
   "metadata": {
    "collapsed": false
   },
   "outputs": [
    {
     "name": "stdout",
     "output_type": "stream",
     "text": [
      "current C: 0.0554711947159\n"
     ]
    },
    {
     "ename": "TypeError",
     "evalue": "cannot concatenate a non-NDFrame object",
     "output_type": "error",
     "traceback": [
      "\u001b[1;31m---------------------------------------------------------------------------\u001b[0m",
      "\u001b[1;31mTypeError\u001b[0m                                 Traceback (most recent call last)",
      "\u001b[1;32m<ipython-input-20-cf0e37951105>\u001b[0m in \u001b[0;36m<module>\u001b[1;34m()\u001b[0m\n\u001b[1;32m----> 1\u001b[1;33m \u001b[0mres_gp\u001b[0m \u001b[1;33m=\u001b[0m \u001b[0mgpOptimization\u001b[0m\u001b[1;33m(\u001b[0m\u001b[1;33m)\u001b[0m\u001b[1;33m\u001b[0m\u001b[0m\n\u001b[0m",
      "\u001b[1;32m<ipython-input-19-6a81bedd291d>\u001b[0m in \u001b[0;36mgpOptimization\u001b[1;34m(n_jobs, n_folds)\u001b[0m\n\u001b[0;32m     35\u001b[0m                             \u001b[1;31m#model, we want to try a few random choices for the hyper-parameters.\u001b[0m\u001b[1;33m\u001b[0m\u001b[1;33m\u001b[0m\u001b[0m\n\u001b[0;32m     36\u001b[0m         \u001b[0mkappa\u001b[0m\u001b[1;33m=\u001b[0m\u001b[1;36m1.9\u001b[0m\u001b[1;33m,\u001b[0m \u001b[1;31m#trade-off between exploration vs. exploitation.\u001b[0m\u001b[1;33m\u001b[0m\u001b[0m\n\u001b[1;32m---> 37\u001b[1;33m         \u001b[0mn_jobs\u001b[0m\u001b[1;33m=\u001b[0m\u001b[0mn_jobs\u001b[0m\u001b[1;33m\u001b[0m\u001b[0m\n\u001b[0m\u001b[0;32m     38\u001b[0m     )\n",
      "\u001b[1;32m/home/student/anaconda2/envs/dme/lib/python2.7/site-packages/skopt/optimizer/gp.pyc\u001b[0m in \u001b[0;36mgp_minimize\u001b[1;34m(func, dimensions, base_estimator, n_calls, n_random_starts, acq_func, acq_optimizer, x0, y0, random_state, verbose, callback, n_points, n_restarts_optimizer, xi, kappa, noise, n_jobs)\u001b[0m\n\u001b[0;32m    245\u001b[0m         \u001b[0mn_restarts_optimizer\u001b[0m\u001b[1;33m=\u001b[0m\u001b[0mn_restarts_optimizer\u001b[0m\u001b[1;33m,\u001b[0m\u001b[1;33m\u001b[0m\u001b[0m\n\u001b[0;32m    246\u001b[0m         \u001b[0mx0\u001b[0m\u001b[1;33m=\u001b[0m\u001b[0mx0\u001b[0m\u001b[1;33m,\u001b[0m \u001b[0my0\u001b[0m\u001b[1;33m=\u001b[0m\u001b[0my0\u001b[0m\u001b[1;33m,\u001b[0m \u001b[0mrandom_state\u001b[0m\u001b[1;33m=\u001b[0m\u001b[0mrandom_state\u001b[0m\u001b[1;33m,\u001b[0m \u001b[0mverbose\u001b[0m\u001b[1;33m=\u001b[0m\u001b[0mverbose\u001b[0m\u001b[1;33m,\u001b[0m\u001b[1;33m\u001b[0m\u001b[0m\n\u001b[1;32m--> 247\u001b[1;33m         callback=callback, n_jobs=n_jobs)\n\u001b[0m",
      "\u001b[1;32m/home/student/anaconda2/envs/dme/lib/python2.7/site-packages/skopt/optimizer/base.pyc\u001b[0m in \u001b[0;36mbase_minimize\u001b[1;34m(func, dimensions, base_estimator, n_calls, n_random_starts, acq_func, acq_optimizer, x0, y0, random_state, verbose, callback, n_points, n_restarts_optimizer, xi, kappa, n_jobs)\u001b[0m\n\u001b[0;32m    235\u001b[0m         \u001b[1;31m# no need to fit a model on the last iteration\u001b[0m\u001b[1;33m\u001b[0m\u001b[1;33m\u001b[0m\u001b[0m\n\u001b[0;32m    236\u001b[0m         \u001b[0mfit_model\u001b[0m \u001b[1;33m=\u001b[0m \u001b[0mn\u001b[0m \u001b[1;33m<\u001b[0m \u001b[0mn_iterations\u001b[0m \u001b[1;33m-\u001b[0m \u001b[1;36m1\u001b[0m\u001b[1;33m\u001b[0m\u001b[0m\n\u001b[1;32m--> 237\u001b[1;33m         \u001b[0mnext_y\u001b[0m \u001b[1;33m=\u001b[0m \u001b[0mfunc\u001b[0m\u001b[1;33m(\u001b[0m\u001b[0mnext_x\u001b[0m\u001b[1;33m)\u001b[0m\u001b[1;33m\u001b[0m\u001b[0m\n\u001b[0m\u001b[0;32m    238\u001b[0m         \u001b[1;32mif\u001b[0m \u001b[1;32mnot\u001b[0m \u001b[0mnp\u001b[0m\u001b[1;33m.\u001b[0m\u001b[0misscalar\u001b[0m\u001b[1;33m(\u001b[0m\u001b[0mnext_y\u001b[0m\u001b[1;33m)\u001b[0m\u001b[1;33m:\u001b[0m\u001b[1;33m\u001b[0m\u001b[0m\n\u001b[0;32m    239\u001b[0m             \u001b[1;32mraise\u001b[0m \u001b[0mValueError\u001b[0m\u001b[1;33m(\u001b[0m\u001b[1;34m\"`func` should return a scalar\"\u001b[0m\u001b[1;33m)\u001b[0m\u001b[1;33m\u001b[0m\u001b[0m\n",
      "\u001b[1;32m<ipython-input-19-6a81bedd291d>\u001b[0m in \u001b[0;36mobjective\u001b[1;34m(params)\u001b[0m\n\u001b[0;32m     15\u001b[0m             \u001b[1;32mreturn\u001b[0m \u001b[0mscore_onKFold\u001b[0m\u001b[1;33m\u001b[0m\u001b[0m\n\u001b[0;32m     16\u001b[0m \u001b[1;33m\u001b[0m\u001b[0m\n\u001b[1;32m---> 17\u001b[1;33m         \u001b[0mscore\u001b[0m \u001b[1;33m=\u001b[0m \u001b[0mcv\u001b[0m\u001b[1;33m.\u001b[0m\u001b[0monEachKFold\u001b[0m\u001b[1;33m(\u001b[0m\u001b[0mXX\u001b[0m\u001b[1;33m,\u001b[0m \u001b[0myy\u001b[0m\u001b[1;33m,\u001b[0m \u001b[0monKFold_callback\u001b[0m\u001b[1;33m(\u001b[0m\u001b[0mclf\u001b[0m\u001b[1;33m)\u001b[0m\u001b[1;33m)\u001b[0m\u001b[1;33m\u001b[0m\u001b[0m\n\u001b[0m\u001b[0;32m     18\u001b[0m         \u001b[1;32mprint\u001b[0m \u001b[1;34m\"current accuracy score: {}\"\u001b[0m\u001b[1;33m.\u001b[0m\u001b[0mformat\u001b[0m\u001b[1;33m(\u001b[0m\u001b[0mscore\u001b[0m\u001b[1;33m)\u001b[0m\u001b[1;33m\u001b[0m\u001b[0m\n\u001b[0;32m     19\u001b[0m         \u001b[1;32mprint\u001b[0m \u001b[1;34m\"time elapsed: {}\"\u001b[0m\u001b[1;33m.\u001b[0m\u001b[0mformat\u001b[0m\u001b[1;33m(\u001b[0m\u001b[0mtime\u001b[0m\u001b[1;33m(\u001b[0m\u001b[1;33m)\u001b[0m \u001b[1;33m-\u001b[0m \u001b[0mstart\u001b[0m\u001b[1;33m)\u001b[0m\u001b[1;33m\u001b[0m\u001b[0m\n",
      "\u001b[1;32m/home/student/pligor.george@gmail.com/msc_Artificial_Intelligence/dme_Data_Mining/dmedatarats/george/helpers/my_cross_validation.pyc\u001b[0m in \u001b[0;36monEachKFold\u001b[1;34m(self, inputs, targets, action, take_average)\u001b[0m\n\u001b[0;32m     20\u001b[0m \u001b[1;33m\u001b[0m\u001b[0m\n\u001b[0;32m     21\u001b[0m             results = pd.concat((\n\u001b[1;32m---> 22\u001b[1;33m                 \u001b[0mresults\u001b[0m\u001b[1;33m,\u001b[0m \u001b[0maction\u001b[0m\u001b[1;33m(\u001b[0m\u001b[0mcurXtrain\u001b[0m\u001b[1;33m,\u001b[0m \u001b[0mcurYtrain\u001b[0m\u001b[1;33m,\u001b[0m \u001b[0mcurXvalid\u001b[0m\u001b[1;33m,\u001b[0m \u001b[0mcurYvalid\u001b[0m\u001b[1;33m,\u001b[0m \u001b[0mi\u001b[0m\u001b[1;33m)\u001b[0m\u001b[1;33m\u001b[0m\u001b[0m\n\u001b[0m\u001b[0;32m     23\u001b[0m             ))\n\u001b[0;32m     24\u001b[0m \u001b[1;33m\u001b[0m\u001b[0m\n",
      "\u001b[1;32m/home/student/anaconda2/envs/dme/lib/python2.7/site-packages/pandas/tools/merge.pyc\u001b[0m in \u001b[0;36mconcat\u001b[1;34m(objs, axis, join, join_axes, ignore_index, keys, levels, names, verify_integrity, copy)\u001b[0m\n\u001b[0;32m   1449\u001b[0m                        \u001b[0mkeys\u001b[0m\u001b[1;33m=\u001b[0m\u001b[0mkeys\u001b[0m\u001b[1;33m,\u001b[0m \u001b[0mlevels\u001b[0m\u001b[1;33m=\u001b[0m\u001b[0mlevels\u001b[0m\u001b[1;33m,\u001b[0m \u001b[0mnames\u001b[0m\u001b[1;33m=\u001b[0m\u001b[0mnames\u001b[0m\u001b[1;33m,\u001b[0m\u001b[1;33m\u001b[0m\u001b[0m\n\u001b[0;32m   1450\u001b[0m                        \u001b[0mverify_integrity\u001b[0m\u001b[1;33m=\u001b[0m\u001b[0mverify_integrity\u001b[0m\u001b[1;33m,\u001b[0m\u001b[1;33m\u001b[0m\u001b[0m\n\u001b[1;32m-> 1451\u001b[1;33m                        copy=copy)\n\u001b[0m\u001b[0;32m   1452\u001b[0m     \u001b[1;32mreturn\u001b[0m \u001b[0mop\u001b[0m\u001b[1;33m.\u001b[0m\u001b[0mget_result\u001b[0m\u001b[1;33m(\u001b[0m\u001b[1;33m)\u001b[0m\u001b[1;33m\u001b[0m\u001b[0m\n\u001b[0;32m   1453\u001b[0m \u001b[1;33m\u001b[0m\u001b[0m\n",
      "\u001b[1;32m/home/student/anaconda2/envs/dme/lib/python2.7/site-packages/pandas/tools/merge.pyc\u001b[0m in \u001b[0;36m__init__\u001b[1;34m(self, objs, axis, join, join_axes, keys, levels, names, ignore_index, verify_integrity, copy)\u001b[0m\n\u001b[0;32m   1506\u001b[0m         \u001b[1;32mfor\u001b[0m \u001b[0mobj\u001b[0m \u001b[1;32min\u001b[0m \u001b[0mobjs\u001b[0m\u001b[1;33m:\u001b[0m\u001b[1;33m\u001b[0m\u001b[0m\n\u001b[0;32m   1507\u001b[0m             \u001b[1;32mif\u001b[0m \u001b[1;32mnot\u001b[0m \u001b[0misinstance\u001b[0m\u001b[1;33m(\u001b[0m\u001b[0mobj\u001b[0m\u001b[1;33m,\u001b[0m \u001b[0mNDFrame\u001b[0m\u001b[1;33m)\u001b[0m\u001b[1;33m:\u001b[0m\u001b[1;33m\u001b[0m\u001b[0m\n\u001b[1;32m-> 1508\u001b[1;33m                 \u001b[1;32mraise\u001b[0m \u001b[0mTypeError\u001b[0m\u001b[1;33m(\u001b[0m\u001b[1;34m\"cannot concatenate a non-NDFrame object\"\u001b[0m\u001b[1;33m)\u001b[0m\u001b[1;33m\u001b[0m\u001b[0m\n\u001b[0m\u001b[0;32m   1509\u001b[0m \u001b[1;33m\u001b[0m\u001b[0m\n\u001b[0;32m   1510\u001b[0m             \u001b[1;31m# consolidate\u001b[0m\u001b[1;33m\u001b[0m\u001b[1;33m\u001b[0m\u001b[0m\n",
      "\u001b[1;31mTypeError\u001b[0m: cannot concatenate a non-NDFrame object"
     ]
    }
   ],
   "source": [
    "res_gp = gpOptimization()"
   ]
  },
  {
   "cell_type": "code",
   "execution_count": null,
   "metadata": {
    "collapsed": true
   },
   "outputs": [],
   "source": [
    "plotGPoptFunction(res_gp)\n",
    "plt.show()"
   ]
  },
  {
   "cell_type": "code",
   "execution_count": null,
   "metadata": {
    "collapsed": true
   },
   "outputs": [],
   "source": [
    "plotGPoptConvergence(res_gp)\n",
    "plt.show()"
   ]
  },
  {
   "cell_type": "code",
   "execution_count": null,
   "metadata": {
    "collapsed": true
   },
   "outputs": [],
   "source": [
    "(bestC, ) = res_gp.x\n",
    "bestC"
   ]
  },
  {
   "cell_type": "code",
   "execution_count": null,
   "metadata": {
    "collapsed": true
   },
   "outputs": [],
   "source": [
    "%%time\n",
    "clf = SVC(kernel='linear', probability=True, C=bestC)\n",
    "cv = MyCrossValidation(n_folds=2, random_state=random_state)\n",
    "scores = cv.onEachKFold(XX, yy, getScore_onKFold_callback(clf))\n",
    "print scores"
   ]
  },
  {
   "cell_type": "code",
   "execution_count": null,
   "metadata": {
    "collapsed": true
   },
   "outputs": [],
   "source": []
  }
 ],
 "metadata": {
  "kernelspec": {
   "display_name": "Python [dme]",
   "language": "python",
   "name": "Python [dme]"
  },
  "language_info": {
   "codemirror_mode": {
    "name": "ipython",
    "version": 2
   },
   "file_extension": ".py",
   "mimetype": "text/x-python",
   "name": "python",
   "nbconvert_exporter": "python",
   "pygments_lexer": "ipython2",
   "version": "2.7.12"
  }
 },
 "nbformat": 4,
 "nbformat_minor": 2
}
