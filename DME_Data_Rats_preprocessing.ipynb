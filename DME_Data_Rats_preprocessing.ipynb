{
 "cells": [
  {
   "cell_type": "code",
   "execution_count": 40,
   "metadata": {
    "collapsed": true
   },
   "outputs": [],
   "source": [
    "from __future__ import division, print_function # Imports from __future__ since we're running Python 2\n",
    "import os\n",
    "import numpy as np \n",
    "import pandas as pd\n",
    "import matplotlib.pyplot as plt\n",
    "import seaborn as sns\n",
    "random_state = 10 # Ensure reproducible results\n",
    "%matplotlib inline\n",
    "plt.style.use('ggplot')"
   ]
  },
  {
   "cell_type": "markdown",
   "metadata": {},
   "source": [
    "# Flying to New York City - Raw Data Preprocess"
   ]
  },
  {
   "cell_type": "markdown",
   "metadata": {},
   "source": [
    "### Do not execute the following code!"
   ]
  },
  {
   "cell_type": "markdown",
   "metadata": {},
   "source": [
    "Read the data from csv files and concatenate them to data framework\n"
   ]
  },
  {
   "cell_type": "code",
   "execution_count": 2,
   "metadata": {
    "collapsed": false
   },
   "outputs": [],
   "source": [
    "all_pandas = []\n",
    "for i in range(1,13):\n",
    "    path_data = os.path.join(os.getcwd(), 'DME_data', '78448857_T_ONTIME_2016_'+str(i)+'.csv')\n",
    "    data_full = pd.read_csv(path_data, delimiter = ',',index_col=None, header=0)\n",
    "    all_pandas.append(data_full)\n",
    "data_frame = pd.concat(all_pandas)"
   ]
  },
  {
   "cell_type": "code",
   "execution_count": 3,
   "metadata": {
    "collapsed": false
   },
   "outputs": [
    {
     "name": "stdout",
     "output_type": "stream",
     "text": [
      "There are 492181 entries and 40 columns in the landsat_train DataFrame\n"
     ]
    }
   ],
   "source": [
    "print(\"There are {} entries and {} columns in the landsat_train DataFrame\"\\\n",
    "      .format(data_frame.shape[0], data_frame.shape[1]))"
   ]
  },
  {
   "cell_type": "code",
   "execution_count": 4,
   "metadata": {
    "collapsed": false
   },
   "outputs": [],
   "source": [
    "data_frame = data_frame.drop('Unnamed: 39',1)"
   ]
  },
  {
   "cell_type": "code",
   "execution_count": 21,
   "metadata": {
    "collapsed": false
   },
   "outputs": [],
   "source": [
    "data_frame.to_csv('raw_data.csv',sep=\",\",)"
   ]
  },
  {
   "cell_type": "markdown",
   "metadata": {},
   "source": [
    "### Execute the following code to load the raw data"
   ]
  },
  {
   "cell_type": "markdown",
   "metadata": {},
   "source": [
    "Read the raw data and pass it to pandas framework. Please remember to drop the collumn \"Unnamed: 0\" (Some weird collumn the csv is passing to the data, it has nothing to do with the real data)."
   ]
  },
  {
   "cell_type": "code",
   "execution_count": 31,
   "metadata": {
    "collapsed": false
   },
   "outputs": [],
   "source": [
    "path_data = os.path.join(os.getcwd(),'raw_data.csv')\n",
    "df = pd.read_csv(path_data, delimiter = ',')\n",
    "df = df.drop('Unnamed: 0',1)"
   ]
  },
  {
   "cell_type": "code",
   "execution_count": 32,
   "metadata": {
    "collapsed": false
   },
   "outputs": [
    {
     "name": "stdout",
     "output_type": "stream",
     "text": [
      "There are 492181 entries and 39 columns in the landsat_train DataFrame\n"
     ]
    }
   ],
   "source": [
    "print(\"There are {} entries and {} columns in the landsat_train DataFrame\"\\\n",
    "      .format(df.shape[0], df.shape[1]))"
   ]
  },
  {
   "cell_type": "markdown",
   "metadata": {},
   "source": [
    "These are the features that I downloaded. Some of them are unnecessary. Read the Readme.csv and Terms.csv files to know more about each feature."
   ]
  },
  {
   "cell_type": "code",
   "execution_count": 33,
   "metadata": {
    "collapsed": false
   },
   "outputs": [
    {
     "data": {
      "text/plain": [
       "YEAR                     int64\n",
       "QUARTER                  int64\n",
       "MONTH                    int64\n",
       "DAY_OF_MONTH             int64\n",
       "DAY_OF_WEEK              int64\n",
       "FL_DATE                 object\n",
       "UNIQUE_CARRIER          object\n",
       "AIRLINE_ID               int64\n",
       "CARRIER                 object\n",
       "FL_NUM                   int64\n",
       "ORIGIN_AIRPORT_ID        int64\n",
       "ORIGIN                  object\n",
       "ORIGIN_CITY_NAME        object\n",
       "ORIGIN_STATE_ABR        object\n",
       "ORIGIN_STATE_NM         object\n",
       "DEST_AIRPORT_ID          int64\n",
       "DEST                    object\n",
       "DEST_CITY_NAME          object\n",
       "DEST_STATE_ABR          object\n",
       "DEST_STATE_NM           object\n",
       "CRS_DEP_TIME             int64\n",
       "DEP_TIME               float64\n",
       "DEP_DELAY              float64\n",
       "DEP_DELAY_NEW          float64\n",
       "DEP_DEL15              float64\n",
       "DEP_DELAY_GROUP        float64\n",
       "DEP_TIME_BLK            object\n",
       "CRS_ARR_TIME             int64\n",
       "ARR_TIME               float64\n",
       "ARR_DELAY              float64\n",
       "ARR_DELAY_NEW          float64\n",
       "ARR_DEL15              float64\n",
       "ARR_DELAY_GROUP        float64\n",
       "CANCELLED              float64\n",
       "CRS_ELAPSED_TIME       float64\n",
       "ACTUAL_ELAPSED_TIME    float64\n",
       "FLIGHTS                float64\n",
       "DISTANCE               float64\n",
       "DISTANCE_GROUP           int64\n",
       "dtype: object"
      ]
     },
     "execution_count": 33,
     "metadata": {},
     "output_type": "execute_result"
    }
   ],
   "source": [
    "df.dtypes"
   ]
  },
  {
   "cell_type": "markdown",
   "metadata": {},
   "source": [
    "### Cancelled Flights"
   ]
  },
  {
   "cell_type": "code",
   "execution_count": 69,
   "metadata": {
    "collapsed": false,
    "scrolled": true
   },
   "outputs": [
    {
     "name": "stdout",
     "output_type": "stream",
     "text": [
      "There are 8949 cancelled flights out of 483232\n"
     ]
    },
    {
     "data": {
      "image/png": "[encoded data removed]",
      "text/plain": [
       "<matplotlib.figure.Figure at 0x6e81290>"
      ]
     },
     "metadata": {},
     "output_type": "display_data"
    }
   ],
   "source": [
    "plt.hist(df['CANCELLED'].values)\n",
    "count=0\n",
    "count_c=0\n",
    "for v in df['CANCELLED'].values:\n",
    "    if v==1.0:\n",
    "        count_c +=1\n",
    "    else:\n",
    "        count +=1\n",
    "print (\"There are {} cancelled flights out of {}\".format(count_c,count))"
   ]
  },
  {
   "cell_type": "code",
   "execution_count": null,
   "metadata": {
    "collapsed": true
   },
   "outputs": [],
   "source": []
  }
 ],
 "metadata": {
  "kernelspec": {
   "display_name": "Python 2",
   "language": "python",
   "name": "python2"
  },
  "language_info": {
   "codemirror_mode": {
    "name": "ipython",
    "version": 2
   },
   "file_extension": ".py",
   "mimetype": "text/x-python",
   "name": "python",
   "nbconvert_exporter": "python",
   "pygments_lexer": "ipython2",
   "version": "2.7.5"
  }
 },
 "nbformat": 4,
 "nbformat_minor": 2
}
