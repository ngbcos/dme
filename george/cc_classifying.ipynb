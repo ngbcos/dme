{
 "cells": [
  {
   "cell_type": "markdown",
   "metadata": {},
   "source": [
    "https://www.transtats.bts.gov/Fields.asp?Table_ID=236"
   ]
  },
  {
   "cell_type": "code",
   "execution_count": 1,
   "metadata": {
    "collapsed": true
   },
   "outputs": [],
   "source": [
    "from __future__ import division #, print_function # Imports from __future__ since we're running Python 2"
   ]
  },
  {
   "cell_type": "code",
   "execution_count": 2,
   "metadata": {
    "collapsed": true
   },
   "outputs": [],
   "source": [
    "#%load_ext autoreload\n",
    "%reload_ext autoreload\n",
    "%autoreload 2\n",
    "%matplotlib inline"
   ]
  },
  {
   "cell_type": "code",
   "execution_count": 3,
   "metadata": {
    "collapsed": false
   },
   "outputs": [],
   "source": [
    "import os\n",
    "import numpy as np \n",
    "import pandas as pd\n",
    "import matplotlib.pyplot as plt\n",
    "import seaborn as sns\n",
    "from flights_delay.feature_processing import FlightDelayFeatureProcessing\n",
    "from helpers.outliers import MyOutliers\n",
    "from helpers.feature_engineering import makeBinaryClassification, getUniqueValuesPerFeature\n",
    "from sklearn.model_selection import train_test_split\n",
    "from helpers.plot_helper import plotDistsPerClass, plotBothDists\n",
    "from flights_delay.feature_prev_delays import FeaturePrevDelays\n",
    "from flights_delay.feature_airline_delays import FeatureAirlineDelays\n",
    "from helpers.my_one_hot_encoder import MyOneHotEncoder\n",
    "import os\n",
    "import numpy as np \n",
    "import pandas as pd\n",
    "import matplotlib.pyplot as plt\n",
    "import seaborn as sns\n",
    "from sklearn.model_selection import train_test_split\n",
    "from sklearn.utils import shuffle\n",
    "from datetime import datetime\n",
    "from sklearn.dummy import DummyClassifier\n",
    "from helpers.feature_engineering import dateStrToDayYear, getMappingOfSimilarCategoricalColumns, \\\n",
    "    compareSimilarCategoricalColumns \n",
    "from helpers.my_one_hot_encoder import MyOneHotEncoder\n",
    "from helpers.py_helpers import is_number\n",
    "from scipy.stats import skew, kurtosis\n",
    "from helpers.outliers import MyOutliers\n",
    "from sklearn.preprocessing import StandardScaler\n",
    "from helpers.plot_helper import scatter_2d_label\n",
    "from sklearn.decomposition import PCA # Import the PCA module\n",
    "from sklearn.manifold import TSNE\n",
    "from sklearn.decomposition import KernelPCA\n",
    "from sklearn.manifold import MDS\n",
    "from sklearn.manifold import Isomap\n",
    "from helpers.performance_issues import subsample_keeping_class_proportions\n",
    "from sklearn.metrics import f1_score, precision_score"
   ]
  },
  {
   "cell_type": "code",
   "execution_count": null,
   "metadata": {
    "collapsed": true
   },
   "outputs": [],
   "source": [
    "plt.style.use('ggplot')"
   ]
  },
  {
   "cell_type": "code",
   "execution_count": 14,
   "metadata": {
    "collapsed": true
   },
   "outputs": [],
   "source": [
    "random_state = 0 # Ensure reproducible results"
   ]
  },
  {
   "cell_type": "code",
   "execution_count": 4,
   "metadata": {
    "collapsed": true
   },
   "outputs": [],
   "source": [
    "data_relative_path = '../Data'"
   ]
  },
  {
   "cell_type": "code",
   "execution_count": 9,
   "metadata": {
    "collapsed": true
   },
   "outputs": [],
   "source": [
    "target_col = 'IS_DELAYED'"
   ]
  },
  {
   "cell_type": "markdown",
   "metadata": {},
   "source": [
    "# Flying to New York City - Classifying"
   ]
  },
  {
   "cell_type": "code",
   "execution_count": 5,
   "metadata": {
    "collapsed": false
   },
   "outputs": [
    {
     "data": {
      "text/plain": [
       "'/home/student/pligor.george@gmail.com/msc_Artificial_Intelligence/dme_Data_Mining/dmedatarats/Data/train_data_v2_engineered.csv'"
      ]
     },
     "execution_count": 5,
     "metadata": {},
     "output_type": "execute_result"
    }
   ],
   "source": [
    "path_data = os.path.realpath(os.path.join(os.getcwd(), data_relative_path, 'train_data_v2_engineered.csv'))\n",
    "assert os.path.isfile(path_data)\n",
    "path_data"
   ]
  },
  {
   "cell_type": "code",
   "execution_count": 6,
   "metadata": {
    "collapsed": false
   },
   "outputs": [
    {
     "data": {
      "text/plain": [
       "(31186, 43)"
      ]
     },
     "execution_count": 6,
     "metadata": {},
     "output_type": "execute_result"
    }
   ],
   "source": [
    "df = pd.read_csv(path_data, delimiter = ',', header=0)\n",
    "df.shape"
   ]
  },
  {
   "cell_type": "code",
   "execution_count": 8,
   "metadata": {
    "collapsed": false
   },
   "outputs": [
    {
     "name": "stdout",
     "output_type": "stream",
     "text": [
      "<class 'pandas.core.frame.DataFrame'>\n",
      "RangeIndex: 31186 entries, 0 to 31185\n",
      "Data columns (total 43 columns):\n",
      "QUARTER               31186 non-null int64\n",
      "MONTH                 31186 non-null int64\n",
      "DAY_OF_MONTH          31186 non-null int64\n",
      "DAY_OF_WEEK           31186 non-null int64\n",
      "DEP_TIME              31186 non-null float64\n",
      "DEP_DELAY             31186 non-null float64\n",
      "DEP_DELAY_NEW         31186 non-null float64\n",
      "DEP_DEL15             31186 non-null float64\n",
      "DEP_DELAY_GROUP       31186 non-null float64\n",
      "CRS_ELAPSED_TIME      31186 non-null float64\n",
      "PREV_DELAYS_30        31186 non-null float64\n",
      "PREV_DELAYS_60        31186 non-null float64\n",
      "PREV_DELAYS_120       31186 non-null float64\n",
      "PREV_DELAYS_180       31186 non-null float64\n",
      "PREV_DELAYS_360       31186 non-null float64\n",
      "PREV_DELAYS_720       31186 non-null float64\n",
      "AIRLINE_DELAYS_30     31186 non-null float64\n",
      "AIRLINE_DELAYS_60     31186 non-null float64\n",
      "AIRLINE_DELAYS_120    31186 non-null float64\n",
      "AIRLINE_DELAYS_180    31186 non-null float64\n",
      "AIRLINE_DELAYS_360    31186 non-null float64\n",
      "AIRLINE_DELAYS_720    31186 non-null float64\n",
      "UNIQUE_CARRIER_0      31186 non-null float64\n",
      "UNIQUE_CARRIER_1      31186 non-null float64\n",
      "UNIQUE_CARRIER_2      31186 non-null float64\n",
      "UNIQUE_CARRIER_3      31186 non-null float64\n",
      "UNIQUE_CARRIER_4      31186 non-null float64\n",
      "UNIQUE_CARRIER_5      31186 non-null float64\n",
      "UNIQUE_CARRIER_6      31186 non-null float64\n",
      "UNIQUE_CARRIER_7      31186 non-null float64\n",
      "ORIGIN_0              31186 non-null float64\n",
      "ORIGIN_1              31186 non-null float64\n",
      "ORIGIN_2              31186 non-null float64\n",
      "ORIGIN_3              31186 non-null float64\n",
      "ORIGIN_4              31186 non-null float64\n",
      "ORIGIN_5              31186 non-null float64\n",
      "DEST_0                31186 non-null float64\n",
      "DEST_1                31186 non-null float64\n",
      "DEST_2                31186 non-null float64\n",
      "DEST_3                31186 non-null float64\n",
      "DEST_4                31186 non-null float64\n",
      "DEST_5                31186 non-null float64\n",
      "IS_DELAYED            31186 non-null bool\n",
      "dtypes: bool(1), float64(38), int64(4)\n",
      "memory usage: 10.0 MB\n"
     ]
    }
   ],
   "source": [
    "df.info()"
   ]
  },
  {
   "cell_type": "code",
   "execution_count": 11,
   "metadata": {
    "collapsed": false
   },
   "outputs": [
    {
     "data": {
      "text/html": [
       "<div>\n",
       "<table border=\"1\" class=\"dataframe\">\n",
       "  <thead>\n",
       "    <tr style=\"text-align: right;\">\n",
       "      <th></th>\n",
       "      <th>QUARTER</th>\n",
       "      <th>MONTH</th>\n",
       "      <th>DAY_OF_MONTH</th>\n",
       "      <th>DAY_OF_WEEK</th>\n",
       "      <th>DEP_TIME</th>\n",
       "      <th>DEP_DELAY</th>\n",
       "      <th>DEP_DELAY_NEW</th>\n",
       "      <th>DEP_DEL15</th>\n",
       "      <th>DEP_DELAY_GROUP</th>\n",
       "      <th>CRS_ELAPSED_TIME</th>\n",
       "      <th>...</th>\n",
       "      <th>ORIGIN_3</th>\n",
       "      <th>ORIGIN_4</th>\n",
       "      <th>ORIGIN_5</th>\n",
       "      <th>DEST_0</th>\n",
       "      <th>DEST_1</th>\n",
       "      <th>DEST_2</th>\n",
       "      <th>DEST_3</th>\n",
       "      <th>DEST_4</th>\n",
       "      <th>DEST_5</th>\n",
       "      <th>IS_DELAYED</th>\n",
       "    </tr>\n",
       "  </thead>\n",
       "  <tbody>\n",
       "    <tr>\n",
       "      <th>16192</th>\n",
       "      <td>1</td>\n",
       "      <td>1</td>\n",
       "      <td>0</td>\n",
       "      <td>0</td>\n",
       "      <td>268.878788</td>\n",
       "      <td>-1.0</td>\n",
       "      <td>0.0</td>\n",
       "      <td>0.0</td>\n",
       "      <td>-1.0</td>\n",
       "      <td>328.0</td>\n",
       "      <td>...</td>\n",
       "      <td>0.0</td>\n",
       "      <td>0.0</td>\n",
       "      <td>0.0</td>\n",
       "      <td>0.0</td>\n",
       "      <td>1.0</td>\n",
       "      <td>0.0</td>\n",
       "      <td>0.0</td>\n",
       "      <td>0.0</td>\n",
       "      <td>0.0</td>\n",
       "      <td>False</td>\n",
       "    </tr>\n",
       "    <tr>\n",
       "      <th>10496</th>\n",
       "      <td>0</td>\n",
       "      <td>0</td>\n",
       "      <td>0</td>\n",
       "      <td>0</td>\n",
       "      <td>383.878788</td>\n",
       "      <td>-1.0</td>\n",
       "      <td>0.0</td>\n",
       "      <td>0.0</td>\n",
       "      <td>-1.0</td>\n",
       "      <td>315.0</td>\n",
       "      <td>...</td>\n",
       "      <td>0.0</td>\n",
       "      <td>0.0</td>\n",
       "      <td>0.0</td>\n",
       "      <td>0.0</td>\n",
       "      <td>1.0</td>\n",
       "      <td>0.0</td>\n",
       "      <td>0.0</td>\n",
       "      <td>0.0</td>\n",
       "      <td>0.0</td>\n",
       "      <td>False</td>\n",
       "    </tr>\n",
       "    <tr>\n",
       "      <th>18939</th>\n",
       "      <td>1</td>\n",
       "      <td>1</td>\n",
       "      <td>1</td>\n",
       "      <td>1</td>\n",
       "      <td>193.878788</td>\n",
       "      <td>-1.0</td>\n",
       "      <td>0.0</td>\n",
       "      <td>0.0</td>\n",
       "      <td>-1.0</td>\n",
       "      <td>346.0</td>\n",
       "      <td>...</td>\n",
       "      <td>0.0</td>\n",
       "      <td>0.0</td>\n",
       "      <td>0.0</td>\n",
       "      <td>0.0</td>\n",
       "      <td>0.0</td>\n",
       "      <td>1.0</td>\n",
       "      <td>0.0</td>\n",
       "      <td>0.0</td>\n",
       "      <td>0.0</td>\n",
       "      <td>True</td>\n",
       "    </tr>\n",
       "    <tr>\n",
       "      <th>30189</th>\n",
       "      <td>0</td>\n",
       "      <td>0</td>\n",
       "      <td>0</td>\n",
       "      <td>0</td>\n",
       "      <td>1803.878788</td>\n",
       "      <td>-5.0</td>\n",
       "      <td>0.0</td>\n",
       "      <td>0.0</td>\n",
       "      <td>-1.0</td>\n",
       "      <td>147.0</td>\n",
       "      <td>...</td>\n",
       "      <td>0.0</td>\n",
       "      <td>0.0</td>\n",
       "      <td>0.0</td>\n",
       "      <td>0.0</td>\n",
       "      <td>0.0</td>\n",
       "      <td>0.0</td>\n",
       "      <td>0.0</td>\n",
       "      <td>1.0</td>\n",
       "      <td>0.0</td>\n",
       "      <td>False</td>\n",
       "    </tr>\n",
       "    <tr>\n",
       "      <th>25267</th>\n",
       "      <td>0</td>\n",
       "      <td>1</td>\n",
       "      <td>1</td>\n",
       "      <td>0</td>\n",
       "      <td>1350.878788</td>\n",
       "      <td>11.0</td>\n",
       "      <td>11.0</td>\n",
       "      <td>0.0</td>\n",
       "      <td>0.0</td>\n",
       "      <td>408.0</td>\n",
       "      <td>...</td>\n",
       "      <td>0.0</td>\n",
       "      <td>0.0</td>\n",
       "      <td>0.0</td>\n",
       "      <td>0.0</td>\n",
       "      <td>0.0</td>\n",
       "      <td>0.0</td>\n",
       "      <td>0.0</td>\n",
       "      <td>0.0</td>\n",
       "      <td>1.0</td>\n",
       "      <td>True</td>\n",
       "    </tr>\n",
       "    <tr>\n",
       "      <th>20921</th>\n",
       "      <td>1</td>\n",
       "      <td>1</td>\n",
       "      <td>0</td>\n",
       "      <td>0</td>\n",
       "      <td>594.878788</td>\n",
       "      <td>-5.0</td>\n",
       "      <td>0.0</td>\n",
       "      <td>0.0</td>\n",
       "      <td>-1.0</td>\n",
       "      <td>356.0</td>\n",
       "      <td>...</td>\n",
       "      <td>0.0</td>\n",
       "      <td>0.0</td>\n",
       "      <td>0.0</td>\n",
       "      <td>0.0</td>\n",
       "      <td>0.0</td>\n",
       "      <td>1.0</td>\n",
       "      <td>0.0</td>\n",
       "      <td>0.0</td>\n",
       "      <td>0.0</td>\n",
       "      <td>False</td>\n",
       "    </tr>\n",
       "    <tr>\n",
       "      <th>21224</th>\n",
       "      <td>1</td>\n",
       "      <td>1</td>\n",
       "      <td>0</td>\n",
       "      <td>0</td>\n",
       "      <td>885.878788</td>\n",
       "      <td>-5.0</td>\n",
       "      <td>0.0</td>\n",
       "      <td>0.0</td>\n",
       "      <td>-1.0</td>\n",
       "      <td>169.0</td>\n",
       "      <td>...</td>\n",
       "      <td>0.0</td>\n",
       "      <td>0.0</td>\n",
       "      <td>0.0</td>\n",
       "      <td>0.0</td>\n",
       "      <td>0.0</td>\n",
       "      <td>0.0</td>\n",
       "      <td>0.0</td>\n",
       "      <td>1.0</td>\n",
       "      <td>0.0</td>\n",
       "      <td>False</td>\n",
       "    </tr>\n",
       "    <tr>\n",
       "      <th>7213</th>\n",
       "      <td>0</td>\n",
       "      <td>0</td>\n",
       "      <td>1</td>\n",
       "      <td>0</td>\n",
       "      <td>1152.878788</td>\n",
       "      <td>-6.0</td>\n",
       "      <td>0.0</td>\n",
       "      <td>0.0</td>\n",
       "      <td>-1.0</td>\n",
       "      <td>166.0</td>\n",
       "      <td>...</td>\n",
       "      <td>0.0</td>\n",
       "      <td>0.0</td>\n",
       "      <td>0.0</td>\n",
       "      <td>0.0</td>\n",
       "      <td>0.0</td>\n",
       "      <td>0.0</td>\n",
       "      <td>0.0</td>\n",
       "      <td>1.0</td>\n",
       "      <td>0.0</td>\n",
       "      <td>False</td>\n",
       "    </tr>\n",
       "    <tr>\n",
       "      <th>7726</th>\n",
       "      <td>0</td>\n",
       "      <td>0</td>\n",
       "      <td>0</td>\n",
       "      <td>0</td>\n",
       "      <td>770.878788</td>\n",
       "      <td>-2.0</td>\n",
       "      <td>0.0</td>\n",
       "      <td>0.0</td>\n",
       "      <td>-1.0</td>\n",
       "      <td>177.0</td>\n",
       "      <td>...</td>\n",
       "      <td>1.0</td>\n",
       "      <td>0.0</td>\n",
       "      <td>0.0</td>\n",
       "      <td>0.0</td>\n",
       "      <td>0.0</td>\n",
       "      <td>0.0</td>\n",
       "      <td>1.0</td>\n",
       "      <td>0.0</td>\n",
       "      <td>0.0</td>\n",
       "      <td>False</td>\n",
       "    </tr>\n",
       "    <tr>\n",
       "      <th>22552</th>\n",
       "      <td>0</td>\n",
       "      <td>0</td>\n",
       "      <td>0</td>\n",
       "      <td>0</td>\n",
       "      <td>686.878788</td>\n",
       "      <td>7.0</td>\n",
       "      <td>7.0</td>\n",
       "      <td>0.0</td>\n",
       "      <td>0.0</td>\n",
       "      <td>389.0</td>\n",
       "      <td>...</td>\n",
       "      <td>0.0</td>\n",
       "      <td>0.0</td>\n",
       "      <td>0.0</td>\n",
       "      <td>0.0</td>\n",
       "      <td>0.0</td>\n",
       "      <td>0.0</td>\n",
       "      <td>0.0</td>\n",
       "      <td>0.0</td>\n",
       "      <td>1.0</td>\n",
       "      <td>False</td>\n",
       "    </tr>\n",
       "  </tbody>\n",
       "</table>\n",
       "<p>10 rows × 43 columns</p>\n",
       "</div>"
      ],
      "text/plain": [
       "       QUARTER  MONTH  DAY_OF_MONTH  DAY_OF_WEEK     DEP_TIME  DEP_DELAY  \\\n",
       "16192        1      1             0            0   268.878788       -1.0   \n",
       "10496        0      0             0            0   383.878788       -1.0   \n",
       "18939        1      1             1            1   193.878788       -1.0   \n",
       "30189        0      0             0            0  1803.878788       -5.0   \n",
       "25267        0      1             1            0  1350.878788       11.0   \n",
       "20921        1      1             0            0   594.878788       -5.0   \n",
       "21224        1      1             0            0   885.878788       -5.0   \n",
       "7213         0      0             1            0  1152.878788       -6.0   \n",
       "7726         0      0             0            0   770.878788       -2.0   \n",
       "22552        0      0             0            0   686.878788        7.0   \n",
       "\n",
       "       DEP_DELAY_NEW  DEP_DEL15  DEP_DELAY_GROUP  CRS_ELAPSED_TIME  \\\n",
       "16192            0.0        0.0             -1.0             328.0   \n",
       "10496            0.0        0.0             -1.0             315.0   \n",
       "18939            0.0        0.0             -1.0             346.0   \n",
       "30189            0.0        0.0             -1.0             147.0   \n",
       "25267           11.0        0.0              0.0             408.0   \n",
       "20921            0.0        0.0             -1.0             356.0   \n",
       "21224            0.0        0.0             -1.0             169.0   \n",
       "7213             0.0        0.0             -1.0             166.0   \n",
       "7726             0.0        0.0             -1.0             177.0   \n",
       "22552            7.0        0.0              0.0             389.0   \n",
       "\n",
       "          ...      ORIGIN_3  ORIGIN_4  ORIGIN_5  DEST_0  DEST_1  DEST_2  \\\n",
       "16192     ...           0.0       0.0       0.0     0.0     1.0     0.0   \n",
       "10496     ...           0.0       0.0       0.0     0.0     1.0     0.0   \n",
       "18939     ...           0.0       0.0       0.0     0.0     0.0     1.0   \n",
       "30189     ...           0.0       0.0       0.0     0.0     0.0     0.0   \n",
       "25267     ...           0.0       0.0       0.0     0.0     0.0     0.0   \n",
       "20921     ...           0.0       0.0       0.0     0.0     0.0     1.0   \n",
       "21224     ...           0.0       0.0       0.0     0.0     0.0     0.0   \n",
       "7213      ...           0.0       0.0       0.0     0.0     0.0     0.0   \n",
       "7726      ...           1.0       0.0       0.0     0.0     0.0     0.0   \n",
       "22552     ...           0.0       0.0       0.0     0.0     0.0     0.0   \n",
       "\n",
       "       DEST_3  DEST_4  DEST_5  IS_DELAYED  \n",
       "16192     0.0     0.0     0.0       False  \n",
       "10496     0.0     0.0     0.0       False  \n",
       "18939     0.0     0.0     0.0        True  \n",
       "30189     0.0     1.0     0.0       False  \n",
       "25267     0.0     0.0     1.0        True  \n",
       "20921     0.0     0.0     0.0       False  \n",
       "21224     0.0     1.0     0.0       False  \n",
       "7213      0.0     1.0     0.0       False  \n",
       "7726      1.0     0.0     0.0       False  \n",
       "22552     0.0     0.0     1.0       False  \n",
       "\n",
       "[10 rows x 43 columns]"
      ]
     },
     "execution_count": 11,
     "metadata": {},
     "output_type": "execute_result"
    }
   ],
   "source": [
    "df.sample(10, random_state=random_state)"
   ]
  },
  {
   "cell_type": "code",
   "execution_count": 10,
   "metadata": {
    "collapsed": false
   },
   "outputs": [
    {
     "data": {
      "text/plain": [
       "((31186, 42), (31186,))"
      ]
     },
     "execution_count": 10,
     "metadata": {},
     "output_type": "execute_result"
    }
   ],
   "source": [
    "XX = df.drop(labels=[target_col], axis=1)\n",
    "yy = df[target_col]\n",
    "XX.shape, yy.shape"
   ]
  },
  {
   "cell_type": "code",
   "execution_count": 13,
   "metadata": {
    "collapsed": false
   },
   "outputs": [
    {
     "ename": "NameError",
     "evalue": "name 'is_number' is not defined",
     "output_type": "error",
     "traceback": [
      "\u001b[1;31m---------------------------------------------------------------------------\u001b[0m",
      "\u001b[1;31mNameError\u001b[0m                                 Traceback (most recent call last)",
      "\u001b[1;32m<ipython-input-13-59a6dce065fb>\u001b[0m in \u001b[0;36m<module>\u001b[1;34m()\u001b[0m\n\u001b[1;32m----> 1\u001b[1;33m \u001b[0mcolumns_one_hot_encoded\u001b[0m \u001b[1;33m=\u001b[0m \u001b[0mnp\u001b[0m\u001b[1;33m.\u001b[0m\u001b[0marray\u001b[0m\u001b[1;33m(\u001b[0m\u001b[1;33m[\u001b[0m\u001b[0mcol\u001b[0m \u001b[1;32mfor\u001b[0m \u001b[0mcol\u001b[0m \u001b[1;32min\u001b[0m \u001b[0mdf\u001b[0m\u001b[1;33m.\u001b[0m\u001b[0mcolumns\u001b[0m \u001b[1;32mif\u001b[0m \u001b[0mis_number\u001b[0m\u001b[1;33m(\u001b[0m\u001b[0mcol\u001b[0m\u001b[1;33m[\u001b[0m\u001b[1;33m-\u001b[0m\u001b[1;36m1\u001b[0m\u001b[1;33m]\u001b[0m\u001b[1;33m)\u001b[0m\u001b[1;33m]\u001b[0m\u001b[1;33m)\u001b[0m\u001b[1;33m\u001b[0m\u001b[0m\n\u001b[0m\u001b[0;32m      2\u001b[0m \u001b[0mcolumns_not_one_hot\u001b[0m \u001b[1;33m=\u001b[0m \u001b[0mnp\u001b[0m\u001b[1;33m.\u001b[0m\u001b[0marray\u001b[0m\u001b[1;33m(\u001b[0m\u001b[1;33m[\u001b[0m\u001b[0mcol\u001b[0m \u001b[1;32mfor\u001b[0m \u001b[0mcol\u001b[0m \u001b[1;32min\u001b[0m \u001b[0mdf\u001b[0m\u001b[1;33m.\u001b[0m\u001b[0mcolumns\u001b[0m \u001b[1;32mif\u001b[0m \u001b[1;32mnot\u001b[0m \u001b[0mis_number\u001b[0m\u001b[1;33m(\u001b[0m\u001b[0mcol\u001b[0m\u001b[1;33m[\u001b[0m\u001b[1;33m-\u001b[0m\u001b[1;36m1\u001b[0m\u001b[1;33m]\u001b[0m\u001b[1;33m)\u001b[0m\u001b[1;33m]\u001b[0m\u001b[1;33m)\u001b[0m\u001b[1;33m\u001b[0m\u001b[0m\n",
      "\u001b[1;31mNameError\u001b[0m: name 'is_number' is not defined"
     ]
    }
   ],
   "source": [
    "columns_one_hot_encoded = np.array([col for col in df.columns if is_number(col[-1])])\n",
    "columns_not_one_hot = np.array([col for col in df.columns if not is_number(col[-1])])"
   ]
  },
  {
   "cell_type": "code",
   "execution_count": null,
   "metadata": {
    "collapsed": true
   },
   "outputs": [],
   "source": []
  }
 ],
 "metadata": {
  "kernelspec": {
   "display_name": "Python [dme]",
   "language": "python",
   "name": "Python [dme]"
  },
  "language_info": {
   "codemirror_mode": {
    "name": "ipython",
    "version": 2
   },
   "file_extension": ".py",
   "mimetype": "text/x-python",
   "name": "python",
   "nbconvert_exporter": "python",
   "pygments_lexer": "ipython2",
   "version": "2.7.12"
  }
 },
 "nbformat": 4,
 "nbformat_minor": 2
}
