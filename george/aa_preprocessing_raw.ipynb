{
 "cells": [
  {
   "cell_type": "code",
   "execution_count": 1,
   "metadata": {
    "collapsed": true
   },
   "outputs": [],
   "source": [
    "from __future__ import division #, print_function # Imports from __future__ since we're running Python 2"
   ]
  },
  {
   "cell_type": "code",
   "execution_count": 2,
   "metadata": {
    "collapsed": true
   },
   "outputs": [],
   "source": [
    "#%load_ext autoreload\n",
    "%reload_ext autoreload\n",
    "%autoreload 2"
   ]
  },
  {
   "cell_type": "code",
   "execution_count": 95,
   "metadata": {
    "collapsed": false
   },
   "outputs": [],
   "source": [
    "import os\n",
    "import numpy as np \n",
    "import pandas as pd\n",
    "import matplotlib.pyplot as plt\n",
    "import seaborn as sns\n",
    "random_state = 10 # Ensure reproducible results\n",
    "%matplotlib inline\n",
    "plt.style.use('ggplot')\n",
    "from flights_delay.feature_processing import FlightDelayFeatureProcessing\n",
    "from helpers.outliers import MyOutliers"
   ]
  },
  {
   "cell_type": "code",
   "execution_count": 4,
   "metadata": {
    "collapsed": true
   },
   "outputs": [],
   "source": [
    "data_relative_path = '../Data'"
   ]
  },
  {
   "cell_type": "markdown",
   "metadata": {},
   "source": [
    "# Flying to New York City - Raw Data Preprocess"
   ]
  },
  {
   "cell_type": "code",
   "execution_count": 5,
   "metadata": {
    "collapsed": false
   },
   "outputs": [
    {
     "data": {
      "text/plain": [
       "'/home/student/pligor.george@gmail.com/msc_Artificial_Intelligence/dme_Data_Mining/dmedatarats/Data/raw_data.csv'"
      ]
     },
     "execution_count": 5,
     "metadata": {},
     "output_type": "execute_result"
    }
   ],
   "source": [
    "path_data = os.path.realpath(os.path.join(os.getcwd(), data_relative_path, 'raw_data.csv'))\n",
    "assert os.path.isfile(path_data)\n",
    "path_data"
   ]
  },
  {
   "cell_type": "code",
   "execution_count": 6,
   "metadata": {
    "collapsed": false
   },
   "outputs": [
    {
     "data": {
      "text/plain": [
       "(492181, 39)"
      ]
     },
     "execution_count": 6,
     "metadata": {},
     "output_type": "execute_result"
    }
   ],
   "source": [
    "df = pd.read_csv(path_data, delimiter = ',', index_col=0, header=0)\n",
    "df.shape"
   ]
  },
  {
   "cell_type": "code",
   "execution_count": 7,
   "metadata": {
    "collapsed": false
   },
   "outputs": [
    {
     "name": "stdout",
     "output_type": "stream",
     "text": [
      "There are 492181 entries and 39 columns in the DataFrame\n"
     ]
    }
   ],
   "source": [
    "print(\"There are {} entries and {} columns in the DataFrame\"\\\n",
    "      .format(df.shape[0], df.shape[1]))"
   ]
  },
  {
   "cell_type": "code",
   "execution_count": 8,
   "metadata": {
    "collapsed": false
   },
   "outputs": [
    {
     "name": "stdout",
     "output_type": "stream",
     "text": [
      "<class 'pandas.core.frame.DataFrame'>\n",
      "Int64Index: 492181 entries, 0 to 492180\n",
      "Data columns (total 39 columns):\n",
      "YEAR                   492181 non-null int64\n",
      "QUARTER                492181 non-null int64\n",
      "MONTH                  492181 non-null int64\n",
      "DAY_OF_MONTH           492181 non-null int64\n",
      "DAY_OF_WEEK            492181 non-null int64\n",
      "FL_DATE                492181 non-null object\n",
      "UNIQUE_CARRIER         492181 non-null object\n",
      "AIRLINE_ID             492181 non-null int64\n",
      "CARRIER                492181 non-null object\n",
      "FL_NUM                 492181 non-null int64\n",
      "ORIGIN_AIRPORT_ID      492181 non-null int64\n",
      "ORIGIN                 492181 non-null object\n",
      "ORIGIN_CITY_NAME       492181 non-null object\n",
      "ORIGIN_STATE_ABR       492181 non-null object\n",
      "ORIGIN_STATE_NM        492181 non-null object\n",
      "DEST_AIRPORT_ID        492181 non-null int64\n",
      "DEST                   492181 non-null object\n",
      "DEST_CITY_NAME         492181 non-null object\n",
      "DEST_STATE_ABR         492181 non-null object\n",
      "DEST_STATE_NM          492181 non-null object\n",
      "CRS_DEP_TIME           492181 non-null int64\n",
      "DEP_TIME               483624 non-null float64\n",
      "DEP_DELAY              483624 non-null float64\n",
      "DEP_DELAY_NEW          483624 non-null float64\n",
      "DEP_DEL15              483624 non-null float64\n",
      "DEP_DELAY_GROUP        483624 non-null float64\n",
      "DEP_TIME_BLK           492181 non-null object\n",
      "CRS_ARR_TIME           492181 non-null int64\n",
      "ARR_TIME               482990 non-null float64\n",
      "ARR_DELAY              481662 non-null float64\n",
      "ARR_DELAY_NEW          481662 non-null float64\n",
      "ARR_DEL15              481662 non-null float64\n",
      "ARR_DELAY_GROUP        481662 non-null float64\n",
      "CANCELLED              492181 non-null float64\n",
      "CRS_ELAPSED_TIME       492181 non-null float64\n",
      "ACTUAL_ELAPSED_TIME    481662 non-null float64\n",
      "FLIGHTS                492181 non-null float64\n",
      "DISTANCE               492181 non-null float64\n",
      "DISTANCE_GROUP         492181 non-null int64\n",
      "dtypes: float64(15), int64(12), object(12)\n",
      "memory usage: 150.2+ MB\n"
     ]
    }
   ],
   "source": [
    "df.info()"
   ]
  },
  {
   "cell_type": "markdown",
   "metadata": {},
   "source": [
    "#### Create is flight delayed boolean"
   ]
  },
  {
   "cell_type": "code",
   "execution_count": 9,
   "metadata": {
    "collapsed": false
   },
   "outputs": [
    {
     "data": {
      "text/plain": [
       "(492181, 40)"
      ]
     },
     "execution_count": 9,
     "metadata": {},
     "output_type": "execute_result"
    }
   ],
   "source": [
    "df_1 = FlightDelayFeatureProcessing.createIsDelayedCol(df = df, shuffle_it=False)\n",
    "df_1.shape"
   ]
  },
  {
   "cell_type": "markdown",
   "metadata": {},
   "source": [
    "#### Remove all arrival columns"
   ]
  },
  {
   "cell_type": "code",
   "execution_count": 10,
   "metadata": {
    "collapsed": false
   },
   "outputs": [
    {
     "data": {
      "text/plain": [
       "(492181, 34)"
      ]
     },
     "execution_count": 10,
     "metadata": {},
     "output_type": "execute_result"
    }
   ],
   "source": [
    "df_2 = FlightDelayFeatureProcessing.removeArrivalAttrs(df_1)\n",
    "df_2.shape"
   ]
  },
  {
   "cell_type": "markdown",
   "metadata": {},
   "source": [
    "#### Remove also elapsed time because it indicates when the airplane arrives, which is what we want to predict"
   ]
  },
  {
   "cell_type": "code",
   "execution_count": 11,
   "metadata": {
    "collapsed": false
   },
   "outputs": [
    {
     "data": {
      "text/plain": [
       "(492181, 32)"
      ]
     },
     "execution_count": 11,
     "metadata": {},
     "output_type": "execute_result"
    }
   ],
   "source": [
    "df_3 = FlightDelayFeatureProcessing.removeElapsedTime(df_2)\n",
    "df_3.shape"
   ]
  },
  {
   "cell_type": "code",
   "execution_count": 12,
   "metadata": {
    "collapsed": false
   },
   "outputs": [
    {
     "data": {
      "text/plain": [
       "(483232, 32)"
      ]
     },
     "execution_count": 12,
     "metadata": {},
     "output_type": "execute_result"
    }
   ],
   "source": [
    "df_4 = FlightDelayFeatureProcessing.eraseCancelledFlights(df_3)\n",
    "df_4.shape"
   ]
  },
  {
   "cell_type": "code",
   "execution_count": 13,
   "metadata": {
    "collapsed": false
   },
   "outputs": [
    {
     "data": {
      "text/plain": [
       "(483232, 30)"
      ]
     },
     "execution_count": 13,
     "metadata": {},
     "output_type": "execute_result"
    }
   ],
   "source": [
    "df_5 = FlightDelayFeatureProcessing.removeCancelledAndFlights(df_4)\n",
    "df_5.shape"
   ]
  },
  {
   "cell_type": "markdown",
   "metadata": {},
   "source": [
    "#### Erase rows with nulls"
   ]
  },
  {
   "cell_type": "code",
   "execution_count": 14,
   "metadata": {
    "collapsed": false
   },
   "outputs": [
    {
     "data": {
      "text/plain": [
       "(483232, 30)"
      ]
     },
     "execution_count": 14,
     "metadata": {},
     "output_type": "execute_result"
    }
   ],
   "source": [
    "df_6 = FlightDelayFeatureProcessing.eraseRowsWithNulls(df_5)\n",
    "df_6.shape"
   ]
  },
  {
   "cell_type": "code",
   "execution_count": 15,
   "metadata": {
    "collapsed": false
   },
   "outputs": [
    {
     "data": {
      "text/plain": [
       "set()"
      ]
     },
     "execution_count": 15,
     "metadata": {},
     "output_type": "execute_result"
    }
   ],
   "source": [
    "FlightDelayFeatureProcessing.getAllRowsWithAtLeastOneNull(df_6)"
   ]
  },
  {
   "cell_type": "markdown",
   "metadata": {},
   "source": [
    "### CONCLUSION: ONLY CANCELLED FLIGHTS HAD MISSING DATA, ALL THE REST ARE OK"
   ]
  },
  {
   "cell_type": "markdown",
   "metadata": {},
   "source": [
    "#### CRS departure time is not a useful information"
   ]
  },
  {
   "cell_type": "code",
   "execution_count": 16,
   "metadata": {
    "collapsed": false
   },
   "outputs": [
    {
     "data": {
      "text/plain": [
       "(483232, 29)"
      ]
     },
     "execution_count": 16,
     "metadata": {},
     "output_type": "execute_result"
    }
   ],
   "source": [
    "df_7 = FlightDelayFeatureProcessing.removeCRSDeptTime(df_6)\n",
    "df_7.shape"
   ]
  },
  {
   "cell_type": "markdown",
   "metadata": {},
   "source": [
    "#### Remove redundant State names"
   ]
  },
  {
   "cell_type": "code",
   "execution_count": 17,
   "metadata": {
    "collapsed": false
   },
   "outputs": [
    {
     "data": {
      "text/plain": [
       "(483232, 27)"
      ]
     },
     "execution_count": 17,
     "metadata": {},
     "output_type": "execute_result"
    }
   ],
   "source": [
    "df_8 = FlightDelayFeatureProcessing.removeRedundantStateNames(df_7)\n",
    "df_8.shape"
   ]
  },
  {
   "cell_type": "markdown",
   "metadata": {},
   "source": [
    "#### Remove Origin Airport Id, Dest Airport Id and Airline Id"
   ]
  },
  {
   "cell_type": "code",
   "execution_count": 18,
   "metadata": {
    "collapsed": false
   },
   "outputs": [
    {
     "data": {
      "text/plain": [
       "(483232, 24)"
      ]
     },
     "execution_count": 18,
     "metadata": {},
     "output_type": "execute_result"
    }
   ],
   "source": [
    "df_9 = FlightDelayFeatureProcessing.removeIdColsAlreadyRepresentedByStrCols(df_8)\n",
    "df_9.shape"
   ]
  },
  {
   "cell_type": "markdown",
   "metadata": {},
   "source": [
    "#### remove carrier because it is already represented in unique carrier"
   ]
  },
  {
   "cell_type": "code",
   "execution_count": 19,
   "metadata": {
    "collapsed": false
   },
   "outputs": [
    {
     "data": {
      "text/plain": [
       "(483232, 23)"
      ]
     },
     "execution_count": 19,
     "metadata": {},
     "output_type": "execute_result"
    }
   ],
   "source": [
    "df_10 = FlightDelayFeatureProcessing.removeCarrier(df_9)\n",
    "df_10.shape"
   ]
  },
  {
   "cell_type": "markdown",
   "metadata": {},
   "source": [
    "#### remove year since we are dealing with only 2016 and also remove flight date"
   ]
  },
  {
   "cell_type": "code",
   "execution_count": 20,
   "metadata": {
    "collapsed": false
   },
   "outputs": [
    {
     "data": {
      "text/plain": [
       "(483232, 21)"
      ]
     },
     "execution_count": 20,
     "metadata": {},
     "output_type": "execute_result"
    }
   ],
   "source": [
    "df_11 = FlightDelayFeatureProcessing.dropYearAndDate(df_10)\n",
    "df_11.shape"
   ]
  },
  {
   "cell_type": "code",
   "execution_count": 21,
   "metadata": {
    "collapsed": false
   },
   "outputs": [
    {
     "data": {
      "text/plain": [
       "QUARTER               int64\n",
       "MONTH                 int64\n",
       "DAY_OF_MONTH          int64\n",
       "DAY_OF_WEEK           int64\n",
       "UNIQUE_CARRIER       object\n",
       "FL_NUM                int64\n",
       "ORIGIN               object\n",
       "ORIGIN_CITY_NAME     object\n",
       "ORIGIN_STATE_ABR     object\n",
       "DEST                 object\n",
       "DEST_CITY_NAME       object\n",
       "DEST_STATE_ABR       object\n",
       "DEP_TIME            float64\n",
       "DEP_DELAY           float64\n",
       "DEP_DELAY_NEW       float64\n",
       "DEP_DEL15           float64\n",
       "DEP_DELAY_GROUP     float64\n",
       "DEP_TIME_BLK         object\n",
       "DISTANCE            float64\n",
       "DISTANCE_GROUP        int64\n",
       "IS_DELAYED             bool\n",
       "dtype: object"
      ]
     },
     "execution_count": 21,
     "metadata": {},
     "output_type": "execute_result"
    }
   ],
   "source": [
    "df_11.dtypes"
   ]
  },
  {
   "cell_type": "markdown",
   "metadata": {},
   "source": [
    "## Too many instances for our hardward, let's reduce them by taking the some kind of popular destinations and kind of popular origins - kind of popular trips"
   ]
  },
  {
   "cell_type": "code",
   "execution_count": 53,
   "metadata": {
    "collapsed": true
   },
   "outputs": [],
   "source": [
    "testdf = df_11.copy()"
   ]
  },
  {
   "cell_type": "code",
   "execution_count": 71,
   "metadata": {
    "collapsed": false
   },
   "outputs": [],
   "source": [
    "countPerOrigin = testdf.groupby(['ORIGIN', 'DEST']).size()"
   ]
  },
  {
   "cell_type": "code",
   "execution_count": 67,
   "metadata": {
    "collapsed": false
   },
   "outputs": [
    {
     "data": {
      "text/plain": [
       "1887"
      ]
     },
     "execution_count": 67,
     "metadata": {},
     "output_type": "execute_result"
    }
   ],
   "source": [
    "len(testdf[np.logical_and(testdf['ORIGIN'] == 'BWI',  testdf['DEST'] == 'ALB')])"
   ]
  },
  {
   "cell_type": "code",
   "execution_count": 73,
   "metadata": {
    "collapsed": false
   },
   "outputs": [
    {
     "data": {
      "text/plain": [
       "ORIGIN  DEST\n",
       "LAX     JFK     12481\n",
       "JFK     LAX     12476\n",
       "LGA     ORD      9819\n",
       "ORD     LGA      9730\n",
       "SFO     JFK      8020\n",
       "JFK     SFO      8020\n",
       "ATL     LGA      8016\n",
       "LGA     ATL      8008\n",
       "MIA     LGA      6387\n",
       "LGA     BOS      6355\n",
       "BOS     LGA      6333\n",
       "LGA     MIA      6333\n",
       "FLL     LGA      5565\n",
       "LGA     FLL      5554\n",
       "JFK     BOS      5420\n",
       "BOS     JFK      5412\n",
       "JFK     MCO      5405\n",
       "MCO     JFK      5397\n",
       "DFW     LGA      4448\n",
       "LGA     DFW      4442\n",
       "JFK     FLL      4365\n",
       "FLL     JFK      4344\n",
       "LGA     MCO      4324\n",
       "MCO     LGA      4312\n",
       "JFK     SJU      4292\n",
       "SJU     JFK      4283\n",
       "JFK     LAS      4074\n",
       "LAS     JFK      4073\n",
       "LGA     CLT      4072\n",
       "CLT     LGA      4015\n",
       "                ...  \n",
       "ALB     DEN         9\n",
       "DEN     ALB         9\n",
       "        BUF         9\n",
       "BUF     DEN         9\n",
       "PHL     BUF         8\n",
       "BZN     LGA         8\n",
       "LGA     BZN         8\n",
       "BUF     PHL         8\n",
       "CVG     JFK         7\n",
       "JFK     CVG         6\n",
       "        PHL         5\n",
       "LGA     MEM         4\n",
       "SBN     LGA         3\n",
       "AVL     LGA         3\n",
       "PHL     JFK         3\n",
       "LGA     AVL         3\n",
       "MEM     LGA         3\n",
       "AGS     LGA         1\n",
       "JFK     CLE         1\n",
       "SYR     ITH         1\n",
       "RIC     JFK         1\n",
       "SWF     BOS         1\n",
       "        RSW         1\n",
       "        PBI         1\n",
       "JFK     ORF         1\n",
       "LGA     LAS         1\n",
       "CLE     JFK         1\n",
       "JFK     RIC         1\n",
       "LGB     BUF         1\n",
       "ORF     JFK         1\n",
       "dtype: int64"
      ]
     },
     "execution_count": 73,
     "metadata": {},
     "output_type": "execute_result"
    }
   ],
   "source": [
    "countSorted = countPerOrigin.sort_values()[::-1]\n",
    "countSorted"
   ]
  },
  {
   "cell_type": "code",
   "execution_count": 82,
   "metadata": {
    "collapsed": false
   },
   "outputs": [
    {
     "data": {
      "text/plain": [
       "ORIGIN  DEST\n",
       "LAX     JFK     12481\n",
       "JFK     LAX     12476\n",
       "LGA     ORD      9819\n",
       "ORD     LGA      9730\n",
       "SFO     JFK      8020\n",
       "JFK     SFO      8020\n",
       "ATL     LGA      8016\n",
       "LGA     ATL      8008\n",
       "MIA     LGA      6387\n",
       "LGA     BOS      6355\n",
       "dtype: int64"
      ]
     },
     "execution_count": 82,
     "metadata": {},
     "output_type": "execute_result"
    }
   ],
   "source": [
    "mostPopular = countSorted[:10].copy()\n",
    "mostPopular"
   ]
  },
  {
   "cell_type": "code",
   "execution_count": 88,
   "metadata": {
    "collapsed": true
   },
   "outputs": [],
   "source": [
    "popular = pd.DataFrame()"
   ]
  },
  {
   "cell_type": "code",
   "execution_count": 89,
   "metadata": {
    "collapsed": false
   },
   "outputs": [
    {
     "name": "stdout",
     "output_type": "stream",
     "text": [
      "('LAX', 'JFK')\n",
      "12481\n",
      "\n",
      "('JFK', 'LAX')\n",
      "12476\n",
      "\n",
      "('LGA', 'ORD')\n",
      "9819\n",
      "\n",
      "('ORD', 'LGA')\n",
      "9730\n",
      "\n",
      "('SFO', 'JFK')\n",
      "8020\n",
      "\n",
      "('JFK', 'SFO')\n",
      "8020\n",
      "\n",
      "('ATL', 'LGA')\n",
      "8016\n",
      "\n",
      "('LGA', 'ATL')\n",
      "8008\n",
      "\n",
      "('MIA', 'LGA')\n",
      "6387\n",
      "\n",
      "('LGA', 'BOS')\n",
      "6355\n",
      "\n"
     ]
    }
   ],
   "source": [
    "for key in mostPopular.keys():\n",
    "    print key\n",
    "    subset = testdf[np.logical_and(testdf['ORIGIN'] == key[0], testdf['DEST'] == key[1])]\n",
    "    print len(subset)\n",
    "    print\n",
    "    popular = pd.concat((\n",
    "            popular, subset            \n",
    "        ))"
   ]
  },
  {
   "cell_type": "code",
   "execution_count": 90,
   "metadata": {
    "collapsed": false
   },
   "outputs": [
    {
     "data": {
      "text/plain": [
       "89312"
      ]
     },
     "execution_count": 90,
     "metadata": {},
     "output_type": "execute_result"
    }
   ],
   "source": [
    "np.sum(mostPopular)"
   ]
  },
  {
   "cell_type": "code",
   "execution_count": 91,
   "metadata": {
    "collapsed": false
   },
   "outputs": [
    {
     "data": {
      "text/plain": [
       "89312"
      ]
     },
     "execution_count": 91,
     "metadata": {},
     "output_type": "execute_result"
    }
   ],
   "source": [
    "len(popular)"
   ]
  },
  {
   "cell_type": "code",
   "execution_count": 93,
   "metadata": {
    "collapsed": false
   },
   "outputs": [
    {
     "data": {
      "text/plain": [
       "19449"
      ]
     },
     "execution_count": 93,
     "metadata": {},
     "output_type": "execute_result"
    }
   ],
   "source": [
    "len(popular[popular['IS_DELAYED']])"
   ]
  },
  {
   "cell_type": "code",
   "execution_count": 94,
   "metadata": {
    "collapsed": false
   },
   "outputs": [],
   "source": [
    "# fig, ax = plt.subplots(figsize=(16,5))\n",
    "\n",
    "# sns.barplot(x='ORIGIN', y=countPerOrigin.values, data=df_11, #ax=ax,\n",
    "#             color = \"r\")\n",
    "\n",
    "# plt.show()"
   ]
  },
  {
   "cell_type": "markdown",
   "metadata": {},
   "source": [
    "### Remove Outliers"
   ]
  },
  {
   "cell_type": "code",
   "execution_count": 96,
   "metadata": {
    "collapsed": false
   },
   "outputs": [
    {
     "data": {
      "text/plain": [
       "QUARTER               int64\n",
       "MONTH                 int64\n",
       "DAY_OF_MONTH          int64\n",
       "DAY_OF_WEEK           int64\n",
       "UNIQUE_CARRIER       object\n",
       "FL_NUM                int64\n",
       "ORIGIN               object\n",
       "ORIGIN_CITY_NAME     object\n",
       "ORIGIN_STATE_ABR     object\n",
       "DEST                 object\n",
       "DEST_CITY_NAME       object\n",
       "DEST_STATE_ABR       object\n",
       "DEP_TIME            float64\n",
       "DEP_DELAY           float64\n",
       "DEP_DELAY_NEW       float64\n",
       "DEP_DEL15           float64\n",
       "DEP_DELAY_GROUP     float64\n",
       "DEP_TIME_BLK         object\n",
       "DISTANCE            float64\n",
       "DISTANCE_GROUP        int64\n",
       "IS_DELAYED             bool\n",
       "dtype: object"
      ]
     },
     "execution_count": 96,
     "metadata": {},
     "output_type": "execute_result"
    }
   ],
   "source": [
    "popular.dtypes"
   ]
  },
  {
   "cell_type": "markdown",
   "metadata": {},
   "source": [
    "From all the features only the dep delay and distance make sense to be considered for outliers (we neglect the destination feature for now, even though this could have been considered among the outliers)"
   ]
  },
  {
   "cell_type": "markdown",
   "metadata": {},
   "source": [
    "# ???????????????????"
   ]
  },
  {
   "cell_type": "markdown",
   "metadata": {},
   "source": [
    "### Unique values per feature"
   ]
  },
  {
   "cell_type": "code",
   "execution_count": 36,
   "metadata": {
    "collapsed": false
   },
   "outputs": [
    {
     "name": "stdout",
     "output_type": "stream",
     "text": [
      "\n",
      "YEAR: \n",
      "[2016]\n",
      "\n",
      "QUARTER: \n",
      "[1 2 3 4]\n",
      "\n",
      "MONTH: \n",
      "[ 1  2  3  4  5  6  7  8  9 10 11 12]\n",
      "\n",
      "DAY_OF_MONTH: \n",
      "[ 4  5  6  7 16 17 18  2 12 13 14 15 25 26 27 21 22  1  3  8  9 10 11 20 19\n",
      " 30 31 28 29 23 24]\n",
      "\n",
      "DAY_OF_WEEK: \n",
      "[1 2 3 4 6 7 5]\n",
      "\n",
      "FL_DATE: \n",
      "Too large to show\n",
      "\n",
      "UNIQUE_CARRIER: \n",
      "['F9' 'HA' 'DL' 'NK' 'EV' 'OO' 'UA' 'VX' 'AA' 'AS' 'B6' 'WN']\n",
      "\n",
      "AIRLINE_ID: \n",
      "[20436 19690 19790 20416 20366 20304 19977 21171 19805 19930 20409 19393]\n",
      "\n",
      "CARRIER: \n",
      "['F9' 'HA' 'DL' 'NK' 'EV' 'OO' 'UA' 'VX' 'AA' 'AS' 'B6' 'WN']\n",
      "\n",
      "FL_NUM: \n",
      "Too large to show\n",
      "\n",
      "ORIGIN_AIRPORT_ID: \n",
      "[13303 12953 10397 12173 11433 10423 15304 15024 14107 11697 10994 10792\n",
      " 11292 13204 14747 14683 11298 12892 14869 12889 14027 14576 12478 14679\n",
      " 13495 10257 10721 14524 14843 14771 13930 13577 12265 12197 14025 15096\n",
      " 11618 12397 10577 12266 13502 11259 14262 11278 11057 14122 11503 14100\n",
      " 15070 12451 12954 12191 14831 14254 10732 14685 14492 14057 12264 14635\n",
      " 10785 14321 10140 14570 14893 14986 13796 10800 11252 13487 10693 10821\n",
      " 12339 12391 15016 13198 13232 13342 11066 12441 11986 11042 11193 11537\n",
      " 11995 10599 10581 10868 13485 14730 10990 12945 13871 13296 11996 10208\n",
      " 13931 15919 13541 10154 12250 12323 15412 10849 15380 10431 13244 15376\n",
      " 14696]\n",
      "\n",
      "ORIGIN: \n",
      "['MIA' 'LGA' 'ATL' 'HNL' 'DTW' 'AUS' 'TPA' 'STT' 'PHX' 'FLL' 'CHS' 'BUF'\n",
      " 'DEN' 'MCO' 'SEA' 'SAT' 'DFW' 'LAX' 'SLC' 'LAS' 'PBI' 'ROC' 'JFK' 'SAN'\n",
      " 'MSY' 'ALB' 'BOS' 'RIC' 'SJU' 'SFO' 'ORD' 'MYR' 'IAG' 'HPN' 'PBG' 'SYR'\n",
      " 'EWR' 'ITH' 'BGM' 'IAH' 'MTJ' 'DAL' 'PSP' 'DCA' 'CLT' 'PIT' 'EGE' 'PHL'\n",
      " 'SWF' 'JAX' 'LGB' 'HOU' 'SJC' 'PSE' 'BQN' 'SAV' 'RDU' 'PDX' 'IAD' 'RSW'\n",
      " 'BTV' 'PWM' 'ABQ' 'RNO' 'SMF' 'SRQ' 'OAK' 'BUR' 'DAB' 'MSP' 'BNA' 'BWI'\n",
      " 'IND' 'ISP' 'STL' 'MCI' 'MDW' 'MKE' 'CMH' 'JAC' 'GRR' 'CLE' 'CVG' 'ELM'\n",
      " 'GSO' 'BHM' 'BGR' 'CAE' 'MSN' 'SDF' 'CHO' 'LEX' 'OMA' 'MHT' 'GSP' 'AGS'\n",
      " 'ORF' 'XNA' 'MVY' 'ACK' 'HYA' 'ILM' 'TYS' 'BZN' 'TVC' 'AVL' 'MEM' 'TUS'\n",
      " 'SBN']\n",
      "\n",
      "ORIGIN_CITY_NAME: \n",
      "['Miami, FL' 'New York, NY' 'Atlanta, GA' 'Honolulu, HI' 'Detroit, MI'\n",
      " 'Austin, TX' 'Tampa, FL' 'Charlotte Amalie, VI' 'Phoenix, AZ'\n",
      " 'Fort Lauderdale, FL' 'Charleston, SC' 'Buffalo, NY' 'Denver, CO'\n",
      " 'Orlando, FL' 'Seattle, WA' 'San Antonio, TX' 'Dallas/Fort Worth, TX'\n",
      " 'Los Angeles, CA' 'Salt Lake City, UT' 'Las Vegas, NV'\n",
      " 'West Palm Beach/Palm Beach, FL' 'Rochester, NY' 'San Diego, CA'\n",
      " 'New Orleans, LA' 'Albany, NY' 'Boston, MA' 'Richmond, VA' 'San Juan, PR'\n",
      " 'San Francisco, CA' 'Chicago, IL' 'Myrtle Beach, SC' 'Niagara Falls, NY'\n",
      " 'White Plains, NY' 'Plattsburgh, NY' 'Syracuse, NY' 'Newark, NJ'\n",
      " 'Ithaca/Cortland, NY' 'Binghamton, NY' 'Houston, TX' 'Montrose/Delta, CO'\n",
      " 'Dallas, TX' 'Palm Springs, CA' 'Washington, DC' 'Charlotte, NC'\n",
      " 'Pittsburgh, PA' 'Eagle, CO' 'Philadelphia, PA'\n",
      " 'Newburgh/Poughkeepsie, NY' 'Jacksonville, FL' 'Long Beach, CA'\n",
      " 'San Jose, CA' 'Ponce, PR' 'Aguadilla, PR' 'Savannah, GA'\n",
      " 'Raleigh/Durham, NC' 'Portland, OR' 'Fort Myers, FL' 'Burlington, VT'\n",
      " 'Portland, ME' 'Albuquerque, NM' 'Reno, NV' 'Sacramento, CA'\n",
      " 'Sarasota/Bradenton, FL' 'Oakland, CA' 'Burbank, CA' 'Daytona Beach, FL'\n",
      " 'Minneapolis, MN' 'Nashville, TN' 'Baltimore, MD' 'Indianapolis, IN'\n",
      " 'Islip, NY' 'St. Louis, MO' 'Kansas City, MO' 'Milwaukee, WI'\n",
      " 'Columbus, OH' 'Jackson, WY' 'Grand Rapids, MI' 'Cleveland, OH'\n",
      " 'Cincinnati, OH' 'Elmira/Corning, NY' 'Greensboro/High Point, NC'\n",
      " 'Birmingham, AL' 'Bangor, ME' 'Columbia, SC' 'Madison, WI'\n",
      " 'Louisville, KY' 'Charlottesville, VA' 'Lexington, KY' 'Omaha, NE'\n",
      " 'Manchester, NH' 'Greer, SC' 'Augusta, GA' 'Norfolk, VA'\n",
      " 'Fayetteville, AR' \"Martha's Vineyard, MA\" 'Nantucket, MA' 'Hyannis, MA'\n",
      " 'Wilmington, NC' 'Knoxville, TN' 'Bozeman, MT' 'Traverse City, MI'\n",
      " 'Asheville, NC' 'Memphis, TN' 'Tucson, AZ' 'South Bend, IN']\n",
      "\n",
      "ORIGIN_STATE_ABR: \n",
      "['FL' 'NY' 'GA' 'HI' 'MI' 'TX' 'VI' 'AZ' 'SC' 'CO' 'WA' 'CA' 'UT' 'NV' 'LA'\n",
      " 'MA' 'VA' 'PR' 'IL' 'NJ' 'NC' 'PA' 'OR' 'VT' 'ME' 'NM' 'MN' 'TN' 'MD' 'IN'\n",
      " 'MO' 'WI' 'OH' 'WY' 'KY' 'AL' 'NE' 'NH' 'AR' 'MT']\n",
      "\n",
      "ORIGIN_STATE_NM: \n",
      "['Florida' 'New York' 'Georgia' 'Hawaii' 'Michigan' 'Texas'\n",
      " 'U.S. Virgin Islands' 'Arizona' 'South Carolina' 'Colorado' 'Washington'\n",
      " 'California' 'Utah' 'Nevada' 'Louisiana' 'Massachusetts' 'Virginia'\n",
      " 'Puerto Rico' 'Illinois' 'New Jersey' 'North Carolina' 'Pennsylvania'\n",
      " 'Oregon' 'Vermont' 'Maine' 'New Mexico' 'Minnesota' 'Tennessee' 'Maryland'\n",
      " 'Indiana' 'Missouri' 'Wisconsin' 'Ohio' 'Wyoming' 'Kentucky' 'Alabama'\n",
      " 'Nebraska' 'New Hampshire' 'Arkansas' 'Montana']\n",
      "\n",
      "DEST_AIRPORT_ID: \n",
      "[12953 13303 10397 12478 11433 11292 10792 11697 13342 14576 11298 14027\n",
      " 13577 13487 14843 10721 11193 14492 13204 10994 10257 15304 14679 14100\n",
      " 14057 12892 12889 14771 14107 14869 10423 14747 15024 12265 13930 11042\n",
      " 15096 14025 12397 10577 12266 12173 11618 13502 11259 14262 11278 11057\n",
      " 11503 12451 15070 12197 13495 12191 14831 14254 10732 14685 14635 12954\n",
      " 12264 10785 10140 14570 14321 14893 14986 13796 10800 11252 12441 10821\n",
      " 13232 12391 10693 12339 13198 15016 11066 11986 14683 14524 11537 11995\n",
      " 10990 10868 10599 14730 14122 12945 10581 13485 13871 13244 13296 11996\n",
      " 13931 15919 13541 10154 12250 12323 10431 10849 15380 15376 15412]\n",
      "\n",
      "DEST: \n",
      "['LGA' 'MIA' 'ATL' 'JFK' 'DTW' 'DEN' 'BUF' 'FLL' 'MKE' 'ROC' 'DFW' 'PBI'\n",
      " 'MYR' 'MSP' 'SJU' 'BOS' 'CVG' 'RDU' 'MCO' 'CHS' 'ALB' 'TPA' 'SAN' 'PHL'\n",
      " 'PDX' 'LAX' 'LAS' 'SFO' 'PHX' 'SLC' 'AUS' 'SEA' 'STT' 'IAG' 'ORD' 'CLE'\n",
      " 'SYR' 'PBG' 'ITH' 'BGM' 'IAH' 'HNL' 'EWR' 'MTJ' 'DAL' 'PSP' 'DCA' 'CLT'\n",
      " 'EGE' 'JAX' 'SWF' 'HPN' 'MSY' 'HOU' 'SJC' 'PSE' 'BQN' 'SAV' 'RSW' 'LGB'\n",
      " 'IAD' 'BTV' 'ABQ' 'RNO' 'PWM' 'SMF' 'SRQ' 'OAK' 'BUR' 'DAB' 'JAC' 'BWI'\n",
      " 'MDW' 'ISP' 'BNA' 'IND' 'MCI' 'STL' 'CMH' 'GRR' 'SAT' 'RIC' 'ELM' 'GSO'\n",
      " 'CHO' 'CAE' 'BHM' 'SDF' 'PIT' 'LEX' 'BGR' 'MSN' 'OMA' 'MEM' 'MHT' 'GSP'\n",
      " 'ORF' 'XNA' 'MVY' 'ACK' 'HYA' 'ILM' 'AVL' 'BZN' 'TVC' 'TUS' 'TYS']\n",
      "\n",
      "DEST_CITY_NAME: \n",
      "['New York, NY' 'Miami, FL' 'Atlanta, GA' 'Detroit, MI' 'Denver, CO'\n",
      " 'Buffalo, NY' 'Fort Lauderdale, FL' 'Milwaukee, WI' 'Rochester, NY'\n",
      " 'Dallas/Fort Worth, TX' 'West Palm Beach/Palm Beach, FL'\n",
      " 'Myrtle Beach, SC' 'Minneapolis, MN' 'San Juan, PR' 'Boston, MA'\n",
      " 'Cincinnati, OH' 'Raleigh/Durham, NC' 'Orlando, FL' 'Charleston, SC'\n",
      " 'Albany, NY' 'Tampa, FL' 'San Diego, CA' 'Philadelphia, PA' 'Portland, OR'\n",
      " 'Los Angeles, CA' 'Las Vegas, NV' 'San Francisco, CA' 'Phoenix, AZ'\n",
      " 'Salt Lake City, UT' 'Austin, TX' 'Seattle, WA' 'Charlotte Amalie, VI'\n",
      " 'Niagara Falls, NY' 'Chicago, IL' 'Cleveland, OH' 'Syracuse, NY'\n",
      " 'Plattsburgh, NY' 'Ithaca/Cortland, NY' 'Binghamton, NY' 'Houston, TX'\n",
      " 'Honolulu, HI' 'Newark, NJ' 'Montrose/Delta, CO' 'Dallas, TX'\n",
      " 'Palm Springs, CA' 'Washington, DC' 'Charlotte, NC' 'Eagle, CO'\n",
      " 'Jacksonville, FL' 'Newburgh/Poughkeepsie, NY' 'White Plains, NY'\n",
      " 'New Orleans, LA' 'San Jose, CA' 'Ponce, PR' 'Aguadilla, PR'\n",
      " 'Savannah, GA' 'Fort Myers, FL' 'Long Beach, CA' 'Burlington, VT'\n",
      " 'Albuquerque, NM' 'Reno, NV' 'Portland, ME' 'Sacramento, CA'\n",
      " 'Sarasota/Bradenton, FL' 'Oakland, CA' 'Burbank, CA' 'Daytona Beach, FL'\n",
      " 'Jackson, WY' 'Baltimore, MD' 'Islip, NY' 'Nashville, TN'\n",
      " 'Indianapolis, IN' 'Kansas City, MO' 'St. Louis, MO' 'Columbus, OH'\n",
      " 'Grand Rapids, MI' 'San Antonio, TX' 'Richmond, VA' 'Elmira/Corning, NY'\n",
      " 'Greensboro/High Point, NC' 'Charlottesville, VA' 'Columbia, SC'\n",
      " 'Birmingham, AL' 'Louisville, KY' 'Pittsburgh, PA' 'Lexington, KY'\n",
      " 'Bangor, ME' 'Madison, WI' 'Omaha, NE' 'Memphis, TN' 'Manchester, NH'\n",
      " 'Greer, SC' 'Norfolk, VA' 'Fayetteville, AR' \"Martha's Vineyard, MA\"\n",
      " 'Nantucket, MA' 'Hyannis, MA' 'Wilmington, NC' 'Asheville, NC'\n",
      " 'Bozeman, MT' 'Traverse City, MI' 'Tucson, AZ' 'Knoxville, TN']\n",
      "\n",
      "DEST_STATE_ABR: \n",
      "['NY' 'FL' 'GA' 'MI' 'CO' 'WI' 'TX' 'SC' 'MN' 'PR' 'MA' 'KY' 'NC' 'CA' 'PA'\n",
      " 'OR' 'NV' 'AZ' 'UT' 'WA' 'VI' 'IL' 'OH' 'HI' 'NJ' 'VA' 'LA' 'VT' 'NM' 'ME'\n",
      " 'WY' 'MD' 'TN' 'IN' 'MO' 'AL' 'NE' 'NH' 'AR' 'MT']\n",
      "\n",
      "DEST_STATE_NM: \n",
      "['New York' 'Florida' 'Georgia' 'Michigan' 'Colorado' 'Wisconsin' 'Texas'\n",
      " 'South Carolina' 'Minnesota' 'Puerto Rico' 'Massachusetts' 'Kentucky'\n",
      " 'North Carolina' 'California' 'Pennsylvania' 'Oregon' 'Nevada' 'Arizona'\n",
      " 'Utah' 'Washington' 'U.S. Virgin Islands' 'Illinois' 'Ohio' 'Hawaii'\n",
      " 'New Jersey' 'Virginia' 'Louisiana' 'Vermont' 'New Mexico' 'Maine'\n",
      " 'Wyoming' 'Maryland' 'Tennessee' 'Indiana' 'Missouri' 'Alabama' 'Nebraska'\n",
      " 'New Hampshire' 'Arkansas' 'Montana']\n",
      "\n",
      "CRS_DEP_TIME: \n",
      "Too large to show\n",
      "\n",
      "DEP_TIME: \n",
      "Too large to show\n",
      "\n",
      "DEP_DELAY: \n",
      "Too large to show\n",
      "\n",
      "DEP_DELAY_NEW: \n",
      "Too large to show\n",
      "\n",
      "DEP_DEL15: \n",
      "[ 0.  1.]\n",
      "\n",
      "DEP_DELAY_GROUP: \n",
      "[  0.   1.  -1.  12.   8.   3.   2.   5.   4.   6.   7.   9.  -2.  11.  10.]\n",
      "\n",
      "DEP_TIME_BLK: \n",
      "['1300-1359' '1700-1759' '0600-0659' '0900-0959' '1600-1659' '1500-1559'\n",
      " '1200-1259' '1400-1459' '1900-1959' '0700-0759' '2200-2259' '1000-1059'\n",
      " '0800-0859' '2100-2159' '2000-2059' '1100-1159' '2300-2359' '1800-1859'\n",
      " '0001-0559']\n",
      "\n",
      "CRS_ARR_TIME: \n",
      "Too large to show\n",
      "\n",
      "ARR_TIME: \n",
      "Too large to show\n",
      "\n",
      "ARR_DELAY: \n",
      "Too large to show\n",
      "\n",
      "ARR_DELAY_NEW: \n",
      "Too large to show\n",
      "\n",
      "ARR_DEL15: \n",
      "[ 0.  1.]\n",
      "\n",
      "ARR_DELAY_GROUP: \n",
      "[ -2.   1.  -1.  12.   0.   8.   7.   3.   2.   4.   5.   6.  10.  11.   9.]\n",
      "\n",
      "CANCELLED: \n",
      "[ 0.]\n",
      "\n",
      "CRS_ELAPSED_TIME: \n",
      "Too large to show\n",
      "\n",
      "ACTUAL_ELAPSED_TIME: \n",
      "Too large to show\n",
      "\n",
      "FLIGHTS: \n",
      "[ 1.]\n",
      "\n",
      "DISTANCE: \n",
      "Too large to show\n",
      "\n",
      "DISTANCE_GROUP: \n",
      "[ 5  4 11  3  7  9 10  6  8  1  2]\n"
     ]
    }
   ],
   "source": []
  },
  {
   "cell_type": "code",
   "execution_count": null,
   "metadata": {
    "collapsed": true
   },
   "outputs": [],
   "source": [
    "# clear_data_path = os.path.realpath(os.path.join(os.getcwd(), '../Data', 'clear_data.csv'))\n",
    "# df_clear.to_csv(clear_data_path, index=False)"
   ]
  }
 ],
 "metadata": {
  "kernelspec": {
   "display_name": "Python [dme]",
   "language": "python",
   "name": "Python [dme]"
  },
  "language_info": {
   "codemirror_mode": {
    "name": "ipython",
    "version": 2
   },
   "file_extension": ".py",
   "mimetype": "text/x-python",
   "name": "python",
   "nbconvert_exporter": "python",
   "pygments_lexer": "ipython2",
   "version": "2.7.12"
  }
 },
 "nbformat": 4,
 "nbformat_minor": 2
}
