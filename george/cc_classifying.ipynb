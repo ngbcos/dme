{
 "cells": [
  {
   "cell_type": "markdown",
   "metadata": {},
   "source": [
    "https://www.transtats.bts.gov/Fields.asp?Table_ID=236"
   ]
  },
  {
   "cell_type": "code",
   "execution_count": 1,
   "metadata": {
    "collapsed": true
   },
   "outputs": [],
   "source": [
    "from __future__ import division #, print_function # Imports from __future__ since we're running Python 2"
   ]
  },
  {
   "cell_type": "code",
   "execution_count": 2,
   "metadata": {
    "collapsed": true
   },
   "outputs": [],
   "source": [
    "#%load_ext autoreload\n",
    "%reload_ext autoreload\n",
    "%autoreload 2\n",
    "%matplotlib inline"
   ]
  },
  {
   "cell_type": "code",
   "execution_count": 3,
   "metadata": {
    "collapsed": false
   },
   "outputs": [],
   "source": [
    "import os\n",
    "import numpy as np \n",
    "import pandas as pd\n",
    "import matplotlib.pyplot as plt\n",
    "import seaborn as sns\n",
    "from flights_delay.feature_processing import FlightDelayFeatureProcessing\n",
    "from helpers.outliers import MyOutliers\n",
    "from helpers.feature_engineering import makeBinaryClassification, getUniqueValuesPerFeature\n",
    "from sklearn.model_selection import train_test_split\n",
    "from helpers.plot_helper import plotDistsPerClass, plotBothDists\n",
    "from flights_delay.feature_prev_delays import FeaturePrevDelays\n",
    "from flights_delay.feature_airline_delays import FeatureAirlineDelays\n",
    "from helpers.my_one_hot_encoder import MyOneHotEncoder\n",
    "from sklearn.model_selection import train_test_split\n",
    "from sklearn.utils import shuffle\n",
    "from datetime import datetime\n",
    "from sklearn.dummy import DummyClassifier\n",
    "from helpers.feature_engineering import dateStrToDayYear, getMappingOfSimilarCategoricalColumns, \\\n",
    "    compareSimilarCategoricalColumns \n",
    "from helpers.my_one_hot_encoder import MyOneHotEncoder\n",
    "from helpers.py_helpers import is_number\n",
    "from scipy.stats import skew, kurtosis\n",
    "from helpers.outliers import MyOutliers\n",
    "from sklearn.preprocessing import StandardScaler\n",
    "from helpers.plot_helper import scatter_2d_label\n",
    "from sklearn.decomposition import PCA # Import the PCA module\n",
    "from sklearn.manifold import TSNE\n",
    "from sklearn.decomposition import KernelPCA\n",
    "from sklearn.manifold import MDS\n",
    "from sklearn.manifold import Isomap\n",
    "from helpers.performance_issues import subsample_keeping_class_proportions\n",
    "from sklearn.metrics import f1_score, precision_score\n",
    "from sklearn.manifold import Isomap\n",
    "from helpers.performance_issues import subsample_keeping_class_proportions, rbfPCAkernel\n",
    "from flights_delay.feature_processing import FlightDelayFeatureProcessing\n",
    "from sklearn.model_selection import StratifiedShuffleSplit, StratifiedKFold\n",
    "from sklearn.metrics import f1_score\n",
    "from sklearn.metrics import precision_score\n",
    "from sklearn.datasets import make_moons, make_circles, make_classification\n",
    "from sklearn.neural_network import MLPClassifier\n",
    "from sklearn.neighbors import KNeighborsClassifier\n",
    "from sklearn.svm import SVC\n",
    "from sklearn.gaussian_process import GaussianProcessClassifier\n",
    "from sklearn.gaussian_process.kernels import RBF\n",
    "from sklearn.tree import DecisionTreeClassifier\n",
    "from sklearn.ensemble import RandomForestClassifier, AdaBoostClassifier\n",
    "from sklearn.naive_bayes import GaussianNB\n",
    "from sklearn.discriminant_analysis import QuadraticDiscriminantAnalysis\n",
    "from matplotlib.colors import ListedColormap\n",
    "from flights_delay.flight_delay_scoring import printFlightDelayScores, getFlightDelayScores\n",
    "from helpers.my_cross_validation import MyCrossValidation\n",
    "from sklearn.metrics import log_loss\n",
    "from helpers.performance_issues import processSeparately\n",
    "from helpers.plot_helper import scatter_2d_label, plotGPoptFunction, plotGPoptConvergence\n",
    "from flights_delay.flight_delay_scoring import getScore_onKFold_callback, scoreWithDimReduction\n",
    "from flights_delay.dataset import getRbfKernelPCADimReducedDataset\n",
    "from skopt.space.space import Integer, Real\n",
    "from skopt import gp_minimize\n",
    "from skopt.plots import plot_convergence\n",
    "from time import time, sleep"
   ]
  },
  {
   "cell_type": "code",
   "execution_count": 4,
   "metadata": {
    "collapsed": true
   },
   "outputs": [],
   "source": [
    "plt.style.use('ggplot')"
   ]
  },
  {
   "cell_type": "code",
   "execution_count": 5,
   "metadata": {
    "collapsed": true
   },
   "outputs": [],
   "source": [
    "random_state = 0 # Ensure reproducible results"
   ]
  },
  {
   "cell_type": "code",
   "execution_count": 6,
   "metadata": {
    "collapsed": true
   },
   "outputs": [],
   "source": [
    "data_relative_path = '../Data'"
   ]
  },
  {
   "cell_type": "code",
   "execution_count": 7,
   "metadata": {
    "collapsed": true
   },
   "outputs": [],
   "source": [
    "target_col = 'IS_DELAYED'"
   ]
  },
  {
   "cell_type": "code",
   "execution_count": 8,
   "metadata": {
    "collapsed": true
   },
   "outputs": [],
   "source": [
    "n_jobs = 4"
   ]
  },
  {
   "cell_type": "markdown",
   "metadata": {},
   "source": [
    "# Flying to New York City - Classifying"
   ]
  },
  {
   "cell_type": "code",
   "execution_count": 9,
   "metadata": {
    "collapsed": false
   },
   "outputs": [
    {
     "data": {
      "text/plain": [
       "'/home/student/pligor.george@gmail.com/msc_Artificial_Intelligence/dme_Data_Mining/dmedatarats/Data/train_data_v2_engineered.csv'"
      ]
     },
     "execution_count": 9,
     "metadata": {},
     "output_type": "execute_result"
    }
   ],
   "source": [
    "path_data = os.path.realpath(os.path.join(os.getcwd(), data_relative_path, 'train_data_v2_engineered.csv'))\n",
    "assert os.path.isfile(path_data)\n",
    "path_data"
   ]
  },
  {
   "cell_type": "code",
   "execution_count": 10,
   "metadata": {
    "collapsed": false
   },
   "outputs": [
    {
     "data": {
      "text/plain": [
       "(31186, 43)"
      ]
     },
     "execution_count": 10,
     "metadata": {},
     "output_type": "execute_result"
    }
   ],
   "source": [
    "df = pd.read_csv(path_data, delimiter = ',', header=0)\n",
    "df.shape"
   ]
  },
  {
   "cell_type": "code",
   "execution_count": 11,
   "metadata": {
    "collapsed": false
   },
   "outputs": [
    {
     "name": "stdout",
     "output_type": "stream",
     "text": [
      "<class 'pandas.core.frame.DataFrame'>\n",
      "RangeIndex: 31186 entries, 0 to 31185\n",
      "Data columns (total 43 columns):\n",
      "QUARTER               31186 non-null int64\n",
      "MONTH                 31186 non-null int64\n",
      "DAY_OF_MONTH          31186 non-null int64\n",
      "DAY_OF_WEEK           31186 non-null int64\n",
      "DEP_TIME              31186 non-null float64\n",
      "DEP_DELAY             31186 non-null float64\n",
      "DEP_DELAY_NEW         31186 non-null float64\n",
      "DEP_DEL15             31186 non-null float64\n",
      "DEP_DELAY_GROUP       31186 non-null float64\n",
      "CRS_ELAPSED_TIME      31186 non-null float64\n",
      "PREV_DELAYS_30        31186 non-null float64\n",
      "PREV_DELAYS_60        31186 non-null float64\n",
      "PREV_DELAYS_120       31186 non-null float64\n",
      "PREV_DELAYS_180       31186 non-null float64\n",
      "PREV_DELAYS_360       31186 non-null float64\n",
      "PREV_DELAYS_720       31186 non-null float64\n",
      "AIRLINE_DELAYS_30     31186 non-null float64\n",
      "AIRLINE_DELAYS_60     31186 non-null float64\n",
      "AIRLINE_DELAYS_120    31186 non-null float64\n",
      "AIRLINE_DELAYS_180    31186 non-null float64\n",
      "AIRLINE_DELAYS_360    31186 non-null float64\n",
      "AIRLINE_DELAYS_720    31186 non-null float64\n",
      "UNIQUE_CARRIER_0      31186 non-null float64\n",
      "UNIQUE_CARRIER_1      31186 non-null float64\n",
      "UNIQUE_CARRIER_2      31186 non-null float64\n",
      "UNIQUE_CARRIER_3      31186 non-null float64\n",
      "UNIQUE_CARRIER_4      31186 non-null float64\n",
      "UNIQUE_CARRIER_5      31186 non-null float64\n",
      "UNIQUE_CARRIER_6      31186 non-null float64\n",
      "UNIQUE_CARRIER_7      31186 non-null float64\n",
      "ORIGIN_0              31186 non-null float64\n",
      "ORIGIN_1              31186 non-null float64\n",
      "ORIGIN_2              31186 non-null float64\n",
      "ORIGIN_3              31186 non-null float64\n",
      "ORIGIN_4              31186 non-null float64\n",
      "ORIGIN_5              31186 non-null float64\n",
      "DEST_0                31186 non-null float64\n",
      "DEST_1                31186 non-null float64\n",
      "DEST_2                31186 non-null float64\n",
      "DEST_3                31186 non-null float64\n",
      "DEST_4                31186 non-null float64\n",
      "DEST_5                31186 non-null float64\n",
      "IS_DELAYED            31186 non-null bool\n",
      "dtypes: bool(1), float64(38), int64(4)\n",
      "memory usage: 10.0 MB\n"
     ]
    }
   ],
   "source": [
    "df.info()"
   ]
  },
  {
   "cell_type": "code",
   "execution_count": 12,
   "metadata": {
    "collapsed": false
   },
   "outputs": [
    {
     "data": {
      "text/html": [
       "<div>\n",
       "<table border=\"1\" class=\"dataframe\">\n",
       "  <thead>\n",
       "    <tr style=\"text-align: right;\">\n",
       "      <th></th>\n",
       "      <th>QUARTER</th>\n",
       "      <th>MONTH</th>\n",
       "      <th>DAY_OF_MONTH</th>\n",
       "      <th>DAY_OF_WEEK</th>\n",
       "      <th>DEP_TIME</th>\n",
       "      <th>DEP_DELAY</th>\n",
       "      <th>DEP_DELAY_NEW</th>\n",
       "      <th>DEP_DEL15</th>\n",
       "      <th>DEP_DELAY_GROUP</th>\n",
       "      <th>CRS_ELAPSED_TIME</th>\n",
       "      <th>...</th>\n",
       "      <th>ORIGIN_3</th>\n",
       "      <th>ORIGIN_4</th>\n",
       "      <th>ORIGIN_5</th>\n",
       "      <th>DEST_0</th>\n",
       "      <th>DEST_1</th>\n",
       "      <th>DEST_2</th>\n",
       "      <th>DEST_3</th>\n",
       "      <th>DEST_4</th>\n",
       "      <th>DEST_5</th>\n",
       "      <th>IS_DELAYED</th>\n",
       "    </tr>\n",
       "  </thead>\n",
       "  <tbody>\n",
       "    <tr>\n",
       "      <th>4696</th>\n",
       "      <td>0</td>\n",
       "      <td>1</td>\n",
       "      <td>0</td>\n",
       "      <td>1</td>\n",
       "      <td>1358.878788</td>\n",
       "      <td>-6.0</td>\n",
       "      <td>0.0</td>\n",
       "      <td>0.0</td>\n",
       "      <td>-1.0</td>\n",
       "      <td>170.0</td>\n",
       "      <td>...</td>\n",
       "      <td>0.0</td>\n",
       "      <td>0.0</td>\n",
       "      <td>0.0</td>\n",
       "      <td>0.0</td>\n",
       "      <td>0.0</td>\n",
       "      <td>0.0</td>\n",
       "      <td>0.0</td>\n",
       "      <td>1.0</td>\n",
       "      <td>0.0</td>\n",
       "      <td>False</td>\n",
       "    </tr>\n",
       "    <tr>\n",
       "      <th>22712</th>\n",
       "      <td>0</td>\n",
       "      <td>0</td>\n",
       "      <td>0</td>\n",
       "      <td>0</td>\n",
       "      <td>667.878788</td>\n",
       "      <td>68.0</td>\n",
       "      <td>68.0</td>\n",
       "      <td>1.0</td>\n",
       "      <td>4.0</td>\n",
       "      <td>398.0</td>\n",
       "      <td>...</td>\n",
       "      <td>0.0</td>\n",
       "      <td>0.0</td>\n",
       "      <td>0.0</td>\n",
       "      <td>0.0</td>\n",
       "      <td>0.0</td>\n",
       "      <td>0.0</td>\n",
       "      <td>0.0</td>\n",
       "      <td>0.0</td>\n",
       "      <td>1.0</td>\n",
       "      <td>True</td>\n",
       "    </tr>\n",
       "    <tr>\n",
       "      <th>959</th>\n",
       "      <td>1</td>\n",
       "      <td>1</td>\n",
       "      <td>0</td>\n",
       "      <td>0</td>\n",
       "      <td>1388.878788</td>\n",
       "      <td>9.0</td>\n",
       "      <td>9.0</td>\n",
       "      <td>0.0</td>\n",
       "      <td>0.0</td>\n",
       "      <td>133.0</td>\n",
       "      <td>...</td>\n",
       "      <td>0.0</td>\n",
       "      <td>1.0</td>\n",
       "      <td>0.0</td>\n",
       "      <td>0.0</td>\n",
       "      <td>0.0</td>\n",
       "      <td>0.0</td>\n",
       "      <td>1.0</td>\n",
       "      <td>0.0</td>\n",
       "      <td>0.0</td>\n",
       "      <td>True</td>\n",
       "    </tr>\n",
       "    <tr>\n",
       "      <th>3668</th>\n",
       "      <td>1</td>\n",
       "      <td>1</td>\n",
       "      <td>0</td>\n",
       "      <td>0</td>\n",
       "      <td>1170.878788</td>\n",
       "      <td>81.0</td>\n",
       "      <td>81.0</td>\n",
       "      <td>1.0</td>\n",
       "      <td>5.0</td>\n",
       "      <td>137.0</td>\n",
       "      <td>...</td>\n",
       "      <td>0.0</td>\n",
       "      <td>1.0</td>\n",
       "      <td>0.0</td>\n",
       "      <td>0.0</td>\n",
       "      <td>0.0</td>\n",
       "      <td>0.0</td>\n",
       "      <td>1.0</td>\n",
       "      <td>0.0</td>\n",
       "      <td>0.0</td>\n",
       "      <td>True</td>\n",
       "    </tr>\n",
       "    <tr>\n",
       "      <th>24321</th>\n",
       "      <td>1</td>\n",
       "      <td>1</td>\n",
       "      <td>0</td>\n",
       "      <td>0</td>\n",
       "      <td>400.878788</td>\n",
       "      <td>-9.0</td>\n",
       "      <td>0.0</td>\n",
       "      <td>0.0</td>\n",
       "      <td>-1.0</td>\n",
       "      <td>66.0</td>\n",
       "      <td>...</td>\n",
       "      <td>0.0</td>\n",
       "      <td>0.0</td>\n",
       "      <td>0.0</td>\n",
       "      <td>1.0</td>\n",
       "      <td>0.0</td>\n",
       "      <td>0.0</td>\n",
       "      <td>0.0</td>\n",
       "      <td>0.0</td>\n",
       "      <td>0.0</td>\n",
       "      <td>False</td>\n",
       "    </tr>\n",
       "    <tr>\n",
       "      <th>2887</th>\n",
       "      <td>0</td>\n",
       "      <td>0</td>\n",
       "      <td>0</td>\n",
       "      <td>0</td>\n",
       "      <td>1194.878788</td>\n",
       "      <td>7.0</td>\n",
       "      <td>7.0</td>\n",
       "      <td>0.0</td>\n",
       "      <td>0.0</td>\n",
       "      <td>173.0</td>\n",
       "      <td>...</td>\n",
       "      <td>1.0</td>\n",
       "      <td>0.0</td>\n",
       "      <td>0.0</td>\n",
       "      <td>0.0</td>\n",
       "      <td>0.0</td>\n",
       "      <td>0.0</td>\n",
       "      <td>1.0</td>\n",
       "      <td>0.0</td>\n",
       "      <td>0.0</td>\n",
       "      <td>False</td>\n",
       "    </tr>\n",
       "    <tr>\n",
       "      <th>12034</th>\n",
       "      <td>0</td>\n",
       "      <td>0</td>\n",
       "      <td>1</td>\n",
       "      <td>0</td>\n",
       "      <td>1859.878788</td>\n",
       "      <td>70.0</td>\n",
       "      <td>70.0</td>\n",
       "      <td>1.0</td>\n",
       "      <td>4.0</td>\n",
       "      <td>168.0</td>\n",
       "      <td>...</td>\n",
       "      <td>0.0</td>\n",
       "      <td>0.0</td>\n",
       "      <td>0.0</td>\n",
       "      <td>0.0</td>\n",
       "      <td>0.0</td>\n",
       "      <td>0.0</td>\n",
       "      <td>0.0</td>\n",
       "      <td>1.0</td>\n",
       "      <td>0.0</td>\n",
       "      <td>True</td>\n",
       "    </tr>\n",
       "    <tr>\n",
       "      <th>13019</th>\n",
       "      <td>0</td>\n",
       "      <td>0</td>\n",
       "      <td>1</td>\n",
       "      <td>0</td>\n",
       "      <td>955.878788</td>\n",
       "      <td>131.0</td>\n",
       "      <td>131.0</td>\n",
       "      <td>1.0</td>\n",
       "      <td>8.0</td>\n",
       "      <td>131.0</td>\n",
       "      <td>...</td>\n",
       "      <td>0.0</td>\n",
       "      <td>1.0</td>\n",
       "      <td>0.0</td>\n",
       "      <td>0.0</td>\n",
       "      <td>0.0</td>\n",
       "      <td>0.0</td>\n",
       "      <td>1.0</td>\n",
       "      <td>0.0</td>\n",
       "      <td>0.0</td>\n",
       "      <td>True</td>\n",
       "    </tr>\n",
       "    <tr>\n",
       "      <th>15102</th>\n",
       "      <td>0</td>\n",
       "      <td>0</td>\n",
       "      <td>0</td>\n",
       "      <td>0</td>\n",
       "      <td>390.878788</td>\n",
       "      <td>-4.0</td>\n",
       "      <td>0.0</td>\n",
       "      <td>0.0</td>\n",
       "      <td>-1.0</td>\n",
       "      <td>130.0</td>\n",
       "      <td>...</td>\n",
       "      <td>0.0</td>\n",
       "      <td>0.0</td>\n",
       "      <td>0.0</td>\n",
       "      <td>0.0</td>\n",
       "      <td>0.0</td>\n",
       "      <td>0.0</td>\n",
       "      <td>1.0</td>\n",
       "      <td>0.0</td>\n",
       "      <td>0.0</td>\n",
       "      <td>False</td>\n",
       "    </tr>\n",
       "    <tr>\n",
       "      <th>15423</th>\n",
       "      <td>0</td>\n",
       "      <td>0</td>\n",
       "      <td>1</td>\n",
       "      <td>0</td>\n",
       "      <td>1271.878788</td>\n",
       "      <td>82.0</td>\n",
       "      <td>82.0</td>\n",
       "      <td>1.0</td>\n",
       "      <td>5.0</td>\n",
       "      <td>192.0</td>\n",
       "      <td>...</td>\n",
       "      <td>1.0</td>\n",
       "      <td>0.0</td>\n",
       "      <td>0.0</td>\n",
       "      <td>0.0</td>\n",
       "      <td>0.0</td>\n",
       "      <td>0.0</td>\n",
       "      <td>1.0</td>\n",
       "      <td>0.0</td>\n",
       "      <td>0.0</td>\n",
       "      <td>True</td>\n",
       "    </tr>\n",
       "  </tbody>\n",
       "</table>\n",
       "<p>10 rows × 43 columns</p>\n",
       "</div>"
      ],
      "text/plain": [
       "       QUARTER  MONTH  DAY_OF_MONTH  DAY_OF_WEEK     DEP_TIME  DEP_DELAY  \\\n",
       "4696         0      1             0            1  1358.878788       -6.0   \n",
       "22712        0      0             0            0   667.878788       68.0   \n",
       "959          1      1             0            0  1388.878788        9.0   \n",
       "3668         1      1             0            0  1170.878788       81.0   \n",
       "24321        1      1             0            0   400.878788       -9.0   \n",
       "2887         0      0             0            0  1194.878788        7.0   \n",
       "12034        0      0             1            0  1859.878788       70.0   \n",
       "13019        0      0             1            0   955.878788      131.0   \n",
       "15102        0      0             0            0   390.878788       -4.0   \n",
       "15423        0      0             1            0  1271.878788       82.0   \n",
       "\n",
       "       DEP_DELAY_NEW  DEP_DEL15  DEP_DELAY_GROUP  CRS_ELAPSED_TIME  \\\n",
       "4696             0.0        0.0             -1.0             170.0   \n",
       "22712           68.0        1.0              4.0             398.0   \n",
       "959              9.0        0.0              0.0             133.0   \n",
       "3668            81.0        1.0              5.0             137.0   \n",
       "24321            0.0        0.0             -1.0              66.0   \n",
       "2887             7.0        0.0              0.0             173.0   \n",
       "12034           70.0        1.0              4.0             168.0   \n",
       "13019          131.0        1.0              8.0             131.0   \n",
       "15102            0.0        0.0             -1.0             130.0   \n",
       "15423           82.0        1.0              5.0             192.0   \n",
       "\n",
       "          ...      ORIGIN_3  ORIGIN_4  ORIGIN_5  DEST_0  DEST_1  DEST_2  \\\n",
       "4696      ...           0.0       0.0       0.0     0.0     0.0     0.0   \n",
       "22712     ...           0.0       0.0       0.0     0.0     0.0     0.0   \n",
       "959       ...           0.0       1.0       0.0     0.0     0.0     0.0   \n",
       "3668      ...           0.0       1.0       0.0     0.0     0.0     0.0   \n",
       "24321     ...           0.0       0.0       0.0     1.0     0.0     0.0   \n",
       "2887      ...           1.0       0.0       0.0     0.0     0.0     0.0   \n",
       "12034     ...           0.0       0.0       0.0     0.0     0.0     0.0   \n",
       "13019     ...           0.0       1.0       0.0     0.0     0.0     0.0   \n",
       "15102     ...           0.0       0.0       0.0     0.0     0.0     0.0   \n",
       "15423     ...           1.0       0.0       0.0     0.0     0.0     0.0   \n",
       "\n",
       "       DEST_3  DEST_4  DEST_5  IS_DELAYED  \n",
       "4696      0.0     1.0     0.0       False  \n",
       "22712     0.0     0.0     1.0        True  \n",
       "959       1.0     0.0     0.0        True  \n",
       "3668      1.0     0.0     0.0        True  \n",
       "24321     0.0     0.0     0.0       False  \n",
       "2887      1.0     0.0     0.0       False  \n",
       "12034     0.0     1.0     0.0        True  \n",
       "13019     1.0     0.0     0.0        True  \n",
       "15102     1.0     0.0     0.0       False  \n",
       "15423     1.0     0.0     0.0        True  \n",
       "\n",
       "[10 rows x 43 columns]"
      ]
     },
     "execution_count": 12,
     "metadata": {},
     "output_type": "execute_result"
    }
   ],
   "source": [
    "df.sample(10, random_state=random_state)"
   ]
  },
  {
   "cell_type": "code",
   "execution_count": 13,
   "metadata": {
    "collapsed": false
   },
   "outputs": [
    {
     "data": {
      "text/plain": [
       "((31186, 42), (31186,))"
      ]
     },
     "execution_count": 13,
     "metadata": {},
     "output_type": "execute_result"
    }
   ],
   "source": [
    "XX = df.drop(labels=[target_col], axis=1)\n",
    "yy = df[target_col]\n",
    "XX.shape, yy.shape"
   ]
  },
  {
   "cell_type": "code",
   "execution_count": 14,
   "metadata": {
    "collapsed": false
   },
   "outputs": [],
   "source": [
    "columns_one_hot_encoded = np.array([col for col in df.columns if is_number(col[-1])])\n",
    "columns_not_one_hot = np.array([col for col in df.columns if not is_number(col[-1])])"
   ]
  },
  {
   "cell_type": "code",
   "execution_count": 15,
   "metadata": {
    "collapsed": false
   },
   "outputs": [
    {
     "data": {
      "text/html": [
       "<div>\n",
       "<table border=\"1\" class=\"dataframe\">\n",
       "  <thead>\n",
       "    <tr style=\"text-align: right;\">\n",
       "      <th></th>\n",
       "      <th>QUARTER</th>\n",
       "      <th>MONTH</th>\n",
       "      <th>DAY_OF_MONTH</th>\n",
       "      <th>DAY_OF_WEEK</th>\n",
       "      <th>DEP_TIME</th>\n",
       "      <th>DEP_DELAY</th>\n",
       "      <th>DEP_DELAY_NEW</th>\n",
       "      <th>DEP_DELAY_GROUP</th>\n",
       "      <th>CRS_ELAPSED_TIME</th>\n",
       "    </tr>\n",
       "  </thead>\n",
       "  <tbody>\n",
       "    <tr>\n",
       "      <th>count</th>\n",
       "      <td>31186.000000</td>\n",
       "      <td>31186.000000</td>\n",
       "      <td>31186.000000</td>\n",
       "      <td>31186.000000</td>\n",
       "      <td>31186.000000</td>\n",
       "      <td>31186.000000</td>\n",
       "      <td>31186.000000</td>\n",
       "      <td>31186.000000</td>\n",
       "      <td>31186.000000</td>\n",
       "    </tr>\n",
       "    <tr>\n",
       "      <th>mean</th>\n",
       "      <td>0.268903</td>\n",
       "      <td>0.285449</td>\n",
       "      <td>0.173988</td>\n",
       "      <td>0.328898</td>\n",
       "      <td>1070.573074</td>\n",
       "      <td>19.281953</td>\n",
       "      <td>21.085840</td>\n",
       "      <td>0.751812</td>\n",
       "      <td>238.534631</td>\n",
       "    </tr>\n",
       "    <tr>\n",
       "      <th>std</th>\n",
       "      <td>0.443396</td>\n",
       "      <td>0.451635</td>\n",
       "      <td>0.379106</td>\n",
       "      <td>0.469820</td>\n",
       "      <td>506.387802</td>\n",
       "      <td>32.605802</td>\n",
       "      <td>31.302126</td>\n",
       "      <td>2.237086</td>\n",
       "      <td>111.624021</td>\n",
       "    </tr>\n",
       "    <tr>\n",
       "      <th>min</th>\n",
       "      <td>0.000000</td>\n",
       "      <td>0.000000</td>\n",
       "      <td>0.000000</td>\n",
       "      <td>0.000000</td>\n",
       "      <td>178.878788</td>\n",
       "      <td>-20.000000</td>\n",
       "      <td>0.000000</td>\n",
       "      <td>-2.000000</td>\n",
       "      <td>59.000000</td>\n",
       "    </tr>\n",
       "    <tr>\n",
       "      <th>25%</th>\n",
       "      <td>0.000000</td>\n",
       "      <td>0.000000</td>\n",
       "      <td>0.000000</td>\n",
       "      <td>0.000000</td>\n",
       "      <td>605.878788</td>\n",
       "      <td>-3.000000</td>\n",
       "      <td>0.000000</td>\n",
       "      <td>-1.000000</td>\n",
       "      <td>140.000000</td>\n",
       "    </tr>\n",
       "    <tr>\n",
       "      <th>50%</th>\n",
       "      <td>0.000000</td>\n",
       "      <td>0.000000</td>\n",
       "      <td>0.000000</td>\n",
       "      <td>0.000000</td>\n",
       "      <td>1078.878788</td>\n",
       "      <td>2.000000</td>\n",
       "      <td>2.000000</td>\n",
       "      <td>0.000000</td>\n",
       "      <td>177.000000</td>\n",
       "    </tr>\n",
       "    <tr>\n",
       "      <th>75%</th>\n",
       "      <td>1.000000</td>\n",
       "      <td>1.000000</td>\n",
       "      <td>0.000000</td>\n",
       "      <td>1.000000</td>\n",
       "      <td>1482.628788</td>\n",
       "      <td>34.000000</td>\n",
       "      <td>34.000000</td>\n",
       "      <td>2.000000</td>\n",
       "      <td>341.000000</td>\n",
       "    </tr>\n",
       "    <tr>\n",
       "      <th>max</th>\n",
       "      <td>1.000000</td>\n",
       "      <td>1.000000</td>\n",
       "      <td>1.000000</td>\n",
       "      <td>1.000000</td>\n",
       "      <td>2297.878788</td>\n",
       "      <td>132.000000</td>\n",
       "      <td>132.000000</td>\n",
       "      <td>8.000000</td>\n",
       "      <td>468.000000</td>\n",
       "    </tr>\n",
       "  </tbody>\n",
       "</table>\n",
       "</div>"
      ],
      "text/plain": [
       "            QUARTER         MONTH  DAY_OF_MONTH   DAY_OF_WEEK      DEP_TIME  \\\n",
       "count  31186.000000  31186.000000  31186.000000  31186.000000  31186.000000   \n",
       "mean       0.268903      0.285449      0.173988      0.328898   1070.573074   \n",
       "std        0.443396      0.451635      0.379106      0.469820    506.387802   \n",
       "min        0.000000      0.000000      0.000000      0.000000    178.878788   \n",
       "25%        0.000000      0.000000      0.000000      0.000000    605.878788   \n",
       "50%        0.000000      0.000000      0.000000      0.000000   1078.878788   \n",
       "75%        1.000000      1.000000      0.000000      1.000000   1482.628788   \n",
       "max        1.000000      1.000000      1.000000      1.000000   2297.878788   \n",
       "\n",
       "          DEP_DELAY  DEP_DELAY_NEW  DEP_DELAY_GROUP  CRS_ELAPSED_TIME  \n",
       "count  31186.000000   31186.000000     31186.000000      31186.000000  \n",
       "mean      19.281953      21.085840         0.751812        238.534631  \n",
       "std       32.605802      31.302126         2.237086        111.624021  \n",
       "min      -20.000000       0.000000        -2.000000         59.000000  \n",
       "25%       -3.000000       0.000000        -1.000000        140.000000  \n",
       "50%        2.000000       2.000000         0.000000        177.000000  \n",
       "75%       34.000000      34.000000         2.000000        341.000000  \n",
       "max      132.000000     132.000000         8.000000        468.000000  "
      ]
     },
     "execution_count": 15,
     "metadata": {},
     "output_type": "execute_result"
    }
   ],
   "source": [
    "df[columns_not_one_hot].describe()"
   ]
  },
  {
   "cell_type": "markdown",
   "metadata": {},
   "source": [
    "### Dummy Classifier"
   ]
  },
  {
   "cell_type": "code",
   "execution_count": 16,
   "metadata": {
    "collapsed": false
   },
   "outputs": [
    {
     "data": {
      "text/plain": [
       "0.49785160007695761"
      ]
     },
     "execution_count": 16,
     "metadata": {},
     "output_type": "execute_result"
    }
   ],
   "source": [
    "dc = DummyClassifier(random_state=random_state).fit(XX, yy)\n",
    "dc.score(XX, yy)"
   ]
  },
  {
   "cell_type": "code",
   "execution_count": 17,
   "metadata": {
    "collapsed": false
   },
   "outputs": [
    {
     "name": "stdout",
     "output_type": "stream",
     "text": [
      "precision score for delayed flights: 0.498662420382\n",
      "f1 score for both classes: [ 0.49571714  0.49996807]\n",
      "f1 score for is_delayed true class: 0.499968069481\n",
      "f1 score with weighted average: 0.497846011409\n",
      "f1 score with unweighted average: 0.497842603685\n"
     ]
    }
   ],
   "source": [
    "dummy_preds = dc.predict(XX)\n",
    "printFlightDelayScores(y_true=yy, y_pred=dummy_preds)"
   ]
  },
  {
   "cell_type": "code",
   "execution_count": 18,
   "metadata": {
    "collapsed": false
   },
   "outputs": [
    {
     "data": {
      "text/plain": [
       "17.343591302004143"
      ]
     },
     "execution_count": 18,
     "metadata": {},
     "output_type": "execute_result"
    }
   ],
   "source": [
    "log_loss(y_true = yy, y_pred = dc.predict_proba(XX))"
   ]
  },
  {
   "cell_type": "markdown",
   "metadata": {},
   "source": [
    "## Naive Bayes"
   ]
  },
  {
   "cell_type": "code",
   "execution_count": 36,
   "metadata": {
    "collapsed": true
   },
   "outputs": [],
   "source": [
    "clf = GaussianNB()"
   ]
  },
  {
   "cell_type": "code",
   "execution_count": 40,
   "metadata": {
    "collapsed": true
   },
   "outputs": [],
   "source": [
    "cv = MyCrossValidation(n_folds=10, random_state=random_state)"
   ]
  },
  {
   "cell_type": "code",
   "execution_count": 42,
   "metadata": {
    "collapsed": false
   },
   "outputs": [
    {
     "data": {
      "text/plain": [
       "precision_score            0.847233\n",
       "f1_score_nondelayed        0.809183\n",
       "f1_score_delayed           0.779077\n",
       "f1_score_weighted_avg      0.794136\n",
       "f1_score_unweighted_avg    0.794130\n",
       "log_loss                   2.740051\n",
       "accuracy_score             0.795261\n",
       "dtype: float64"
      ]
     },
     "execution_count": 42,
     "metadata": {},
     "output_type": "execute_result"
    }
   ],
   "source": [
    "scores = cv.onEachKFold(XX, yy, getScore_onKFold_callback(clf))\n",
    "scores"
   ]
  },
  {
   "cell_type": "markdown",
   "metadata": {},
   "source": [
    "## Quadratic Discriminant Classifier"
   ]
  },
  {
   "cell_type": "code",
   "execution_count": 43,
   "metadata": {
    "collapsed": true
   },
   "outputs": [],
   "source": [
    "clf = QuadraticDiscriminantAnalysis()"
   ]
  },
  {
   "cell_type": "code",
   "execution_count": 44,
   "metadata": {
    "collapsed": true
   },
   "outputs": [],
   "source": [
    "cv = MyCrossValidation(n_folds=10, random_state=random_state)"
   ]
  },
  {
   "cell_type": "code",
   "execution_count": 45,
   "metadata": {
    "collapsed": false
   },
   "outputs": [
    {
     "name": "stderr",
     "output_type": "stream",
     "text": [
      "/home/student/anaconda2/envs/dme/lib/python2.7/site-packages/sklearn/discriminant_analysis.py:695: UserWarning: Variables are collinear\n",
      "  warnings.warn(\"Variables are collinear\")\n"
     ]
    },
    {
     "data": {
      "text/plain": [
       "precision_score            0.837377\n",
       "f1_score_nondelayed        0.798841\n",
       "f1_score_delayed           0.764298\n",
       "f1_score_weighted_avg      0.781585\n",
       "f1_score_unweighted_avg    0.781569\n",
       "log_loss                   1.850568\n",
       "accuracy_score             0.783012\n",
       "dtype: float64"
      ]
     },
     "execution_count": 45,
     "metadata": {},
     "output_type": "execute_result"
    }
   ],
   "source": [
    "scores = cv.onEachKFold(XX, yy, getScore_onKFold_callback(clf))\n",
    "scores"
   ]
  },
  {
   "cell_type": "markdown",
   "metadata": {},
   "source": [
    "## K-Neighbors Classifier"
   ]
  },
  {
   "cell_type": "code",
   "execution_count": 52,
   "metadata": {
    "collapsed": false
   },
   "outputs": [
    {
     "name": "stdout",
     "output_type": "stream",
     "text": [
      "precision_score            0.793938\n",
      "f1_score_nondelayed        0.781561\n",
      "f1_score_delayed           0.768018\n",
      "f1_score_weighted_avg      0.774810\n",
      "f1_score_unweighted_avg    0.774789\n",
      "log_loss                   2.998314\n",
      "accuracy_score             0.775027\n",
      "dtype: float64\n",
      "CPU times: user 17.6 s, sys: 48 ms, total: 17.7 s\n",
      "Wall time: 8.77 s\n"
     ]
    }
   ],
   "source": [
    "%%time\n",
    "clf = KNeighborsClassifier(n_neighbors=3, n_jobs=n_jobs)\n",
    "cv = MyCrossValidation(n_folds=10, random_state=random_state)\n",
    "scores = cv.onEachKFold(XX, yy, getScore_onKFold_callback(clf))\n",
    "print scores"
   ]
  },
  {
   "cell_type": "code",
   "execution_count": 61,
   "metadata": {
    "collapsed": true
   },
   "outputs": [],
   "source": [
    "def gpOptimization(n_jobs=n_jobs, n_folds=10):  # using all the features is too slow with any kind of neighbor\n",
    "    \n",
    "    def objective(params): # Here we define the metric we want to minimise\n",
    "        (n_neighbors, ) = params\n",
    "        print \"current neighbors: {}\".format(n_neighbors)\n",
    "        start = time()\n",
    "\n",
    "        clf = KNeighborsClassifier(n_neighbors=n_neighbors, n_jobs=n_jobs)\n",
    "\n",
    "        cv = MyCrossValidation(n_folds=n_folds, random_state=random_state)\n",
    "\n",
    "        scores = cv.onEachKFold(XX, yy, getScore_onKFold_callback(clf))\n",
    "        score = scores['accuracy_score']\n",
    "        print \"current accuracy score: {}\".format(score)\n",
    "        print \"time elapsed: {}\".format(time() - start)\n",
    "        print\n",
    "\n",
    "        # We want to maximise accuracy score, i.e. minimise minus average accuracy\n",
    "        return -score\n",
    "    \n",
    "    neighborsSpace = Integer(1, 100)\n",
    "    space  = [neighborsSpace]\n",
    "    \n",
    "    return gp_minimize(\n",
    "        func=objective, # function that we wish to minimise\n",
    "        dimensions=space, #the search space for the hyper-parameters\n",
    "        #x0=x0, #inital values for the hyper-parameters\n",
    "        n_calls=25, #number of times the function will be evaluated\n",
    "        random_state=random_state, #random seed\n",
    "        n_random_starts=5,  #before we start modelling the optimised function with a GP Regression\n",
    "                            #model, we want to try a few random choices for the hyper-parameters.\n",
    "        kappa=1.9, #trade-off between exploration vs. exploitation.\n",
    "        n_jobs=n_jobs\n",
    "    )"
   ]
  },
  {
   "cell_type": "code",
   "execution_count": 62,
   "metadata": {
    "collapsed": false
   },
   "outputs": [
    {
     "name": "stdout",
     "output_type": "stream",
     "text": [
      "current neighbors: 45\n",
      "current accuracy score: 0.799589976064\n",
      "time elapsed: 11.4473598003\n",
      "\n",
      "current neighbors: 48\n",
      "current accuracy score: 0.800231176379\n",
      "time elapsed: 12.320554018\n",
      "\n",
      "current neighbors: 65\n",
      "current accuracy score: 0.796896321887\n",
      "time elapsed: 10.8142950535\n",
      "\n",
      "current neighbors: 68\n",
      "current accuracy score: 0.795966577831\n",
      "time elapsed: 10.7314670086\n",
      "\n",
      "current neighbors: 68\n",
      "current accuracy score: 0.795966577831\n",
      "time elapsed: 11.099572897\n",
      "\n",
      "current neighbors: 1\n",
      "current accuracy score: 0.74337848618\n",
      "time elapsed: 7.12966108322\n",
      "\n",
      "current neighbors: 100\n",
      "current accuracy score: 0.790483269892\n",
      "time elapsed: 11.1473920345\n",
      "\n",
      "current neighbors: 33\n",
      "current accuracy score: 0.801513885493\n",
      "time elapsed: 9.73603200912\n",
      "\n",
      "current neighbors: 85\n",
      "current accuracy score: 0.793754062964\n",
      "time elapsed: 10.8607058525\n",
      "\n",
      "current neighbors: 40\n",
      "current accuracy score: 0.800231248359\n",
      "time elapsed: 11.058275938\n",
      "\n",
      "current neighbors: 29\n",
      "current accuracy score: 0.801257372462\n",
      "time elapsed: 10.8301861286\n",
      "\n",
      "current neighbors: 26\n",
      "current accuracy score: 0.802122983119\n",
      "time elapsed: 8.91115808487\n",
      "\n",
      "current neighbors: 36\n",
      "current accuracy score: 0.800199155952\n",
      "time elapsed: 10.3577578068\n",
      "\n",
      "current neighbors: 22\n",
      "current accuracy score: 0.801738244421\n",
      "time elapsed: 9.09563207626\n",
      "\n",
      "current neighbors: 29\n",
      "current accuracy score: 0.801257372462\n",
      "time elapsed: 11.6106090546\n",
      "\n",
      "current neighbors: 55\n",
      "current accuracy score: 0.798050630527\n",
      "time elapsed: 12.2974801064\n",
      "\n",
      "current neighbors: 30\n",
      "current accuracy score: 0.801385577564\n",
      "time elapsed: 7.70531702042\n",
      "\n",
      "current neighbors: 31\n",
      "current accuracy score: 0.801641967202\n",
      "time elapsed: 8.16575694084\n",
      "\n",
      "current neighbors: 20\n",
      "current accuracy score: 0.801225105249\n",
      "time elapsed: 9.89590406418\n",
      "\n",
      "current neighbors: 78\n",
      "current accuracy score: 0.794427314556\n",
      "time elapsed: 13.0266268253\n",
      "\n",
      "current neighbors: 91\n",
      "current accuracy score: 0.792407333562\n",
      "time elapsed: 13.477563858\n",
      "\n",
      "current neighbors: 55\n",
      "current accuracy score: 0.798050630527\n",
      "time elapsed: 12.2355098724\n",
      "\n",
      "current neighbors: 19\n",
      "current accuracy score: 0.801129023402\n",
      "time elapsed: 9.27032279968\n",
      "\n",
      "current neighbors: 100\n",
      "current accuracy score: 0.790483269892\n",
      "time elapsed: 11.5094199181\n",
      "\n",
      "current neighbors: 19\n",
      "current accuracy score: 0.801129023402\n",
      "time elapsed: 7.99213910103\n",
      "\n"
     ]
    }
   ],
   "source": [
    "res_gp = gpOptimization()"
   ]
  },
  {
   "cell_type": "code",
   "execution_count": 63,
   "metadata": {
    "collapsed": false
   },
   "outputs": [
    {
     "data": {
      "image/png": "[encoded data removed]",
      "text/plain": [
       "<matplotlib.figure.Figure at 0x7f6ce2379bd0>"
      ]
     },
     "metadata": {},
     "output_type": "display_data"
    }
   ],
   "source": [
    "plotGPoptFunction(res_gp)\n",
    "plt.show()"
   ]
  },
  {
   "cell_type": "code",
   "execution_count": 64,
   "metadata": {
    "collapsed": false
   },
   "outputs": [
    {
     "data": {
      "image/png": "[encoded data removed]",
      "text/plain": [
       "<matplotlib.figure.Figure at 0x7f6cd80fa210>"
      ]
     },
     "metadata": {},
     "output_type": "display_data"
    }
   ],
   "source": [
    "plotGPoptConvergence(res_gp)\n",
    "plt.show()"
   ]
  },
  {
   "cell_type": "code",
   "execution_count": 66,
   "metadata": {
    "collapsed": false
   },
   "outputs": [
    {
     "data": {
      "text/plain": [
       "26"
      ]
     },
     "execution_count": 66,
     "metadata": {},
     "output_type": "execute_result"
    }
   ],
   "source": [
    "(best_n_neighbors, ) = res_gp.x\n",
    "best_n_neighbors"
   ]
  },
  {
   "cell_type": "code",
   "execution_count": 67,
   "metadata": {
    "collapsed": false
   },
   "outputs": [
    {
     "name": "stdout",
     "output_type": "stream",
     "text": [
      "precision_score            0.875145\n",
      "f1_score_nondelayed        0.819374\n",
      "f1_score_delayed           0.781170\n",
      "f1_score_weighted_avg      0.800267\n",
      "f1_score_unweighted_avg    0.800272\n",
      "log_loss                   0.462645\n",
      "accuracy_score             0.802123\n",
      "dtype: float64\n",
      "CPU times: user 21.2 s, sys: 52 ms, total: 21.3 s\n",
      "Wall time: 8.13 s\n"
     ]
    }
   ],
   "source": [
    "%%time\n",
    "clf = KNeighborsClassifier(n_neighbors=best_n_neighbors, n_jobs=n_jobs)\n",
    "cv = MyCrossValidation(n_folds=10, random_state=random_state)\n",
    "scores = cv.onEachKFold(XX, yy, getScore_onKFold_callback(clf))\n",
    "print scores"
   ]
  },
  {
   "cell_type": "markdown",
   "metadata": {},
   "source": [
    "## Linear Support Vector Classifier"
   ]
  },
  {
   "cell_type": "code",
   "execution_count": 19,
   "metadata": {
    "collapsed": false
   },
   "outputs": [
    {
     "name": "stdout",
     "output_type": "stream",
     "text": [
      "precision_score            0.853475\n",
      "f1_score_nondelayed        0.821916\n",
      "f1_score_delayed           0.800395\n",
      "f1_score_weighted_avg      0.811141\n",
      "f1_score_unweighted_avg    0.811155\n",
      "log_loss                   0.415082\n",
      "accuracy_score             0.811775\n",
      "dtype: float64\n",
      "CPU times: user 2h 46min 13s, sys: 2.33 s, total: 2h 46min 15s\n",
      "Wall time: 2h 46min 17s\n"
     ]
    }
   ],
   "source": [
    "%%time\n",
    "clf = SVC(kernel='linear', probability=True)\n",
    "cv = MyCrossValidation(n_folds=2, random_state=random_state)\n",
    "scores = cv.onEachKFold(XX, yy, getScore_onKFold_callback(clf))\n",
    "print scores"
   ]
  },
  {
   "cell_type": "code",
   "execution_count": 24,
   "metadata": {
    "collapsed": true
   },
   "outputs": [],
   "source": [
    "def gpOptimization(n_jobs=n_jobs, n_folds=2):  # using all the features is too slow with any kind of neighbor\n",
    "    \n",
    "    def objective(params): # Here we define the metric we want to minimise\n",
    "        (CC, ) = params\n",
    "        print \"current C: {}\".format(CC)\n",
    "        start = time()\n",
    "\n",
    "        clf = SVC(kernel='linear', probability=False, C=CC)\n",
    "\n",
    "        cv = MyCrossValidation(n_folds=n_folds, random_state=random_state)\n",
    "        \n",
    "        def onKFold_callback(cls):\n",
    "            def score_onKFold(X_train, y_train, X_valid, y_valid, i):\n",
    "                return pd.Series(data = cls.fit(X_train, y_train).score(X_valid, y_valid),\n",
    "                                 name=\"accuracy_score\").to_frame()\n",
    "            return score_onKFold\n",
    "        \n",
    "        scores = cv.onEachKFold(XX, yy, onKFold_callback(clf))\n",
    "        score = scores['accuracy_score']\n",
    "        print \"current accuracy score: {}\".format(score)\n",
    "        print \"time elapsed: {}\".format(time() - start)\n",
    "        print\n",
    "\n",
    "        # We want to maximise accuracy score, i.e. minimise minus average accuracy\n",
    "        return -score\n",
    "    \n",
    "    C_space = Real(1e-4, 1e1, prior='log-uniform')\n",
    "    space  = [C_space]\n",
    "    \n",
    "    return gp_minimize(\n",
    "        func=objective, # function that we wish to minimise\n",
    "        dimensions=space, #the search space for the hyper-parameters\n",
    "        #x0=x0, #inital values for the hyper-parameters\n",
    "        n_calls=10, #number of times the function will be evaluated\n",
    "        random_state=random_state, #random seed\n",
    "        n_random_starts=1,  #before we start modelling the optimised function with a GP Regression\n",
    "                            #model, we want to try a few random choices for the hyper-parameters.\n",
    "        kappa=1.9, #trade-off between exploration vs. exploitation.\n",
    "        n_jobs=n_jobs\n",
    "    )"
   ]
  },
  {
   "cell_type": "code",
   "execution_count": null,
   "metadata": {
    "collapsed": false
   },
   "outputs": [
    {
     "name": "stdout",
     "output_type": "stream",
     "text": [
      "current C: 0.0554711947159\n"
     ]
    }
   ],
   "source": [
    "res_gp = gpOptimization()"
   ]
  },
  {
   "cell_type": "code",
   "execution_count": null,
   "metadata": {
    "collapsed": true
   },
   "outputs": [],
   "source": [
    "plotGPoptFunction(res_gp)\n",
    "plt.show()"
   ]
  },
  {
   "cell_type": "code",
   "execution_count": null,
   "metadata": {
    "collapsed": true
   },
   "outputs": [],
   "source": [
    "plotGPoptConvergence(res_gp)\n",
    "plt.show()"
   ]
  },
  {
   "cell_type": "code",
   "execution_count": null,
   "metadata": {
    "collapsed": true
   },
   "outputs": [],
   "source": [
    "(bestC, ) = res_gp.x\n",
    "bestC"
   ]
  },
  {
   "cell_type": "code",
   "execution_count": null,
   "metadata": {
    "collapsed": true
   },
   "outputs": [],
   "source": [
    "%%time\n",
    "clf = SVC(kernel='linear', probability=True, C=bestC)\n",
    "cv = MyCrossValidation(n_folds=2, random_state=random_state)\n",
    "scores = cv.onEachKFold(XX, yy, getScore_onKFold_callback(clf))\n",
    "print scores"
   ]
  },
  {
   "cell_type": "code",
   "execution_count": null,
   "metadata": {
    "collapsed": true
   },
   "outputs": [],
   "source": []
  },
  {
   "cell_type": "markdown",
   "metadata": {},
   "source": [
    "## Decision Tree Classifier"
   ]
  },
  {
   "cell_type": "code",
   "execution_count": 22,
   "metadata": {
    "collapsed": false
   },
   "outputs": [
    {
     "name": "stdout",
     "output_type": "stream",
     "text": [
      "precision_score            0.740021\n",
      "f1_score_nondelayed        0.740521\n",
      "f1_score_delayed           0.744467\n",
      "f1_score_weighted_avg      0.742528\n",
      "f1_score_unweighted_avg    0.742494\n",
      "log_loss                   8.886615\n",
      "accuracy_score             0.742545\n",
      "dtype: float64\n",
      "CPU times: user 3.13 s, sys: 8 ms, total: 3.14 s\n",
      "Wall time: 3.14 s\n"
     ]
    }
   ],
   "source": [
    "%%time\n",
    "clf = DecisionTreeClassifier(max_depth=None)\n",
    "cv = MyCrossValidation(n_folds=10, random_state=random_state)\n",
    "scores = cv.onEachKFold(XX, yy, getScore_onKFold_callback(clf))\n",
    "print scores"
   ]
  },
  {
   "cell_type": "code",
   "execution_count": 26,
   "metadata": {
    "collapsed": true
   },
   "outputs": [],
   "source": [
    "def gpOptimization(n_jobs=n_jobs, n_folds=10):\n",
    "    \n",
    "    def objective(params): # Here we define the metric we want to minimise\n",
    "        (max_depth, ) = params\n",
    "        print \"current depth: {}\".format(max_depth)\n",
    "        start = time()\n",
    "\n",
    "        clf = DecisionTreeClassifier(max_depth=max_depth)\n",
    "\n",
    "        cv = MyCrossValidation(n_folds=n_folds, random_state=random_state)\n",
    "\n",
    "        scores = cv.onEachKFold(XX, yy, getScore_onKFold_callback(clf))\n",
    "        score = scores['accuracy_score']\n",
    "        print \"current accuracy score: {}\".format(score)\n",
    "        print \"time elapsed: {}\".format(time() - start)\n",
    "        print\n",
    "\n",
    "        # We want to maximise accuracy score, i.e. minimise minus average accuracy\n",
    "        return -score\n",
    "    \n",
    "    max_depth_space = Integer(1, 100)\n",
    "    space  = [max_depth_space]\n",
    "    \n",
    "    return gp_minimize(\n",
    "        func=objective, # function that we wish to minimise\n",
    "        dimensions=space, #the search space for the hyper-parameters\n",
    "        #x0=x0, #inital values for the hyper-parameters\n",
    "        n_calls=25, #number of times the function will be evaluated\n",
    "        random_state=random_state, #random seed\n",
    "        n_random_starts=5,  #before we start modelling the optimised function with a GP Regression\n",
    "                            #model, we want to try a few random choices for the hyper-parameters.\n",
    "        kappa=1.9, #trade-off between exploration vs. exploitation.\n",
    "        n_jobs=n_jobs\n",
    "    )"
   ]
  },
  {
   "cell_type": "code",
   "execution_count": 27,
   "metadata": {
    "collapsed": false
   },
   "outputs": [
    {
     "name": "stdout",
     "output_type": "stream",
     "text": [
      "current depth: 45\n",
      "current accuracy score: 0.743153726226\n",
      "time elapsed: 3.19104409218\n",
      "\n",
      "current depth: 48\n",
      "current accuracy score: 0.743538485489\n",
      "time elapsed: 3.21846318245\n",
      "\n",
      "current depth: 65\n",
      "current accuracy score: 0.744179829763\n",
      "time elapsed: 3.35046100616\n",
      "\n",
      "current depth: 68\n",
      "current accuracy score: 0.744564732985\n",
      "time elapsed: 3.29130387306\n",
      "\n",
      "current depth: 68\n",
      "current accuracy score: 0.744115624385\n",
      "time elapsed: 3.14930319786\n",
      "\n",
      "current depth: 1\n",
      "current accuracy score: 0.812415936096\n",
      "time elapsed: 0.536122083664\n",
      "\n"
     ]
    },
    {
     "name": "stderr",
     "output_type": "stream",
     "text": [
      "/home/student/anaconda2/envs/dme/lib/python2.7/site-packages/skopt/optimizer/optimizer.py:195: UserWarning: The objective has been evaluated at this point before.\n",
      "  warnings.warn(\"The objective has been evaluated \"\n"
     ]
    },
    {
     "name": "stdout",
     "output_type": "stream",
     "text": [
      "current depth: 1\n",
      "current accuracy score: 0.812415936096\n",
      "time elapsed: 0.545443058014\n",
      "\n",
      "current depth: 1\n",
      "current accuracy score: 0.812415936096\n",
      "time elapsed: 0.526083946228\n",
      "\n",
      "current depth: 100\n",
      "current accuracy score: 0.743346218967\n",
      "time elapsed: 3.35515189171\n",
      "\n",
      "current depth: 10\n",
      "current accuracy score: 0.80132135162\n",
      "time elapsed: 2.08828878403\n",
      "\n",
      "current depth: 1\n",
      "current accuracy score: 0.812415936096\n",
      "time elapsed: 0.516134977341\n",
      "\n",
      "current depth: 1\n",
      "current accuracy score: 0.812415936096\n",
      "time elapsed: 0.596716880798\n",
      "\n",
      "current depth: 1\n",
      "current accuracy score: 0.812415936096\n",
      "time elapsed: 0.506857872009\n",
      "\n",
      "current depth: 1\n",
      "current accuracy score: 0.812415936096\n",
      "time elapsed: 0.536137104034\n",
      "\n",
      "current depth: 1\n",
      "current accuracy score: 0.812415936096\n",
      "time elapsed: 0.532940149307\n",
      "\n",
      "current depth: 1\n",
      "current accuracy score: 0.812415936096\n",
      "time elapsed: 0.521903991699\n",
      "\n",
      "current depth: 1\n",
      "current accuracy score: 0.812415936096\n",
      "time elapsed: 0.505615949631\n",
      "\n",
      "current depth: 1\n",
      "current accuracy score: 0.812415936096\n",
      "time elapsed: 0.496787786484\n",
      "\n",
      "current depth: 12\n",
      "current accuracy score: 0.790514930424\n",
      "time elapsed: 2.41352391243\n",
      "\n",
      "current depth: 1\n",
      "current accuracy score: 0.812415936096\n",
      "time elapsed: 0.541361093521\n",
      "\n",
      "current depth: 1\n",
      "current accuracy score: 0.812415936096\n",
      "time elapsed: 0.52546787262\n",
      "\n",
      "current depth: 1\n",
      "current accuracy score: 0.812415936096\n",
      "time elapsed: 0.543112039566\n",
      "\n",
      "current depth: 1\n",
      "current accuracy score: 0.812415936096\n",
      "time elapsed: 0.521728038788\n",
      "\n",
      "current depth: 1\n",
      "current accuracy score: 0.812415936096\n",
      "time elapsed: 0.490775108337\n",
      "\n",
      "current depth: 1\n",
      "current accuracy score: 0.812415936096\n",
      "time elapsed: 0.545036077499\n",
      "\n"
     ]
    }
   ],
   "source": [
    "res_gp = gpOptimization()"
   ]
  },
  {
   "cell_type": "code",
   "execution_count": 28,
   "metadata": {
    "collapsed": false
   },
   "outputs": [
    {
     "data": {
      "image/png": "[encoded data removed]",
      "text/plain": [
       "<matplotlib.figure.Figure at 0x7f8a2ca07210>"
      ]
     },
     "metadata": {},
     "output_type": "display_data"
    }
   ],
   "source": [
    "plotGPoptFunction(res_gp)\n",
    "plt.show()"
   ]
  },
  {
   "cell_type": "code",
   "execution_count": 29,
   "metadata": {
    "collapsed": false
   },
   "outputs": [
    {
     "data": {
      "image/png": "[encoded data removed]",
      "text/plain": [
       "<matplotlib.figure.Figure at 0x7f8a2ca531d0>"
      ]
     },
     "metadata": {},
     "output_type": "display_data"
    }
   ],
   "source": [
    "plotGPoptConvergence(res_gp)\n",
    "plt.show()"
   ]
  },
  {
   "cell_type": "code",
   "execution_count": 31,
   "metadata": {
    "collapsed": false
   },
   "outputs": [
    {
     "data": {
      "text/plain": [
       "1"
      ]
     },
     "execution_count": 31,
     "metadata": {},
     "output_type": "execute_result"
    }
   ],
   "source": [
    "(best_max_depth, ) = res_gp.x\n",
    "best_max_depth"
   ]
  },
  {
   "cell_type": "code",
   "execution_count": 32,
   "metadata": {
    "collapsed": false
   },
   "outputs": [
    {
     "name": "stdout",
     "output_type": "stream",
     "text": [
      "precision_score            0.900854\n",
      "f1_score_nondelayed        0.830753\n",
      "f1_score_delayed           0.789529\n",
      "f1_score_weighted_avg      0.810134\n",
      "f1_score_unweighted_avg    0.810141\n",
      "log_loss                   0.465058\n",
      "accuracy_score             0.812416\n",
      "dtype: float64\n",
      "CPU times: user 496 ms, sys: 0 ns, total: 496 ms\n",
      "Wall time: 496 ms\n"
     ]
    }
   ],
   "source": [
    "%%time\n",
    "clf = DecisionTreeClassifier(max_depth=best_max_depth)\n",
    "cv = MyCrossValidation(n_folds=10, random_state=random_state)\n",
    "scores = cv.onEachKFold(XX, yy, getScore_onKFold_callback(clf))\n",
    "print scores"
   ]
  },
  {
   "cell_type": "markdown",
   "metadata": {},
   "source": [
    "### log loss"
   ]
  },
  {
   "cell_type": "code",
   "execution_count": 48,
   "metadata": {
    "collapsed": true
   },
   "outputs": [],
   "source": [
    "def gpOptimization(n_jobs=1, n_folds=10):\n",
    "    \n",
    "    def objective(params): # Here we define the metric we want to minimise\n",
    "        (max_depth, ) = params\n",
    "        print \"current depth: {}\".format(max_depth)\n",
    "        start = time()\n",
    "\n",
    "        clf = DecisionTreeClassifier(max_depth=max_depth)\n",
    "\n",
    "        cv = MyCrossValidation(n_folds=n_folds, random_state=random_state)\n",
    "\n",
    "        scores = cv.onEachKFold(XX, yy, getScore_onKFold_callback(clf))\n",
    "        score = scores['log_loss']\n",
    "        print \"current log loss: {}\".format(score)\n",
    "        print \"time elapsed: {}\".format(time() - start)\n",
    "        print\n",
    "\n",
    "        return score\n",
    "    \n",
    "    max_depth_space = Integer(1, 100)\n",
    "    space  = [max_depth_space]\n",
    "    \n",
    "    return gp_minimize(\n",
    "        func=objective, # function that we wish to minimise\n",
    "        dimensions=space, #the search space for the hyper-parameters\n",
    "        #x0=x0, #inital values for the hyper-parameters\n",
    "        n_calls=25, #number of times the function will be evaluated\n",
    "        random_state=random_state, #random seed\n",
    "        n_random_starts=5,  #before we start modelling the optimised function with a GP Regression\n",
    "                            #model, we want to try a few random choices for the hyper-parameters.\n",
    "        kappa=1.9, #trade-off between exploration vs. exploitation.\n",
    "        n_jobs=n_jobs\n",
    "    )"
   ]
  },
  {
   "cell_type": "code",
   "execution_count": 49,
   "metadata": {
    "collapsed": false
   },
   "outputs": [
    {
     "name": "stdout",
     "output_type": "stream",
     "text": [
      "current depth: 45\n",
      "current log loss: 8.90646201474\n",
      "time elapsed: 3.14535593987\n",
      "\n",
      "current depth: 48\n",
      "current log loss: 8.83005391395\n",
      "time elapsed: 3.22690916061\n",
      "\n",
      "current depth: 65\n",
      "current log loss: 8.84334019734\n",
      "time elapsed: 3.2940518856\n",
      "\n",
      "current depth: 68\n",
      "current log loss: 8.88217487785\n",
      "time elapsed: 3.07227301598\n",
      "\n",
      "current depth: 68\n",
      "current log loss: 8.86767094031\n",
      "time elapsed: 3.39970684052\n",
      "\n",
      "current depth: 54\n",
      "current log loss: 8.82996452778\n",
      "time elapsed: 3.13702487946\n",
      "\n",
      "current depth: 53\n",
      "current log loss: 8.89095569809\n",
      "time elapsed: 3.35341310501\n",
      "\n",
      "current depth: 1\n",
      "current log loss: 0.465058178284\n",
      "time elapsed: 0.544570207596\n",
      "\n",
      "current depth: 1\n",
      "current log loss: 0.465058178284\n",
      "time elapsed: 0.964903831482\n",
      "\n",
      "current depth: 1\n",
      "current log loss: 0.465058178284\n",
      "time elapsed: 0.934834003448\n",
      "\n",
      "current depth: 7\n",
      "current log loss: 0.48531578548\n",
      "time elapsed: 1.93286514282\n",
      "\n",
      "current depth: 3\n",
      "current log loss: 0.414045178683\n",
      "time elapsed: 1.00506591797\n",
      "\n",
      "current depth: 4\n",
      "current log loss: 0.407389865121\n",
      "time elapsed: 1.15106606483\n",
      "\n",
      "current depth: 4\n",
      "current log loss: 0.407389865121\n",
      "time elapsed: 1.21402978897\n",
      "\n",
      "current depth: 4\n",
      "current log loss: 0.407389865121\n",
      "time elapsed: 1.043145895\n",
      "\n",
      "current depth: 100\n",
      "current log loss: 8.95962651672\n",
      "time elapsed: 3.28638720512\n",
      "\n",
      "current depth: 4\n",
      "current log loss: 0.407389865121\n",
      "time elapsed: 1.14604592323\n",
      "\n",
      "current depth: 4\n",
      "current log loss: 0.407389865121\n",
      "time elapsed: 1.03237509727\n",
      "\n",
      "current depth: 4\n",
      "current log loss: 0.407389865121\n",
      "time elapsed: 1.11574983597\n",
      "\n",
      "current depth: 5\n",
      "current log loss: 0.414939218883\n",
      "time elapsed: 1.36891388893\n",
      "\n",
      "current depth: 14\n",
      "current log loss: 3.39472121512\n",
      "time elapsed: 2.66799902916\n",
      "\n",
      "current depth: 86\n",
      "current log loss: 8.87880727179\n",
      "time elapsed: 3.29109096527\n",
      "\n",
      "current depth: 2\n",
      "current log loss: 0.427832876119\n",
      "time elapsed: 0.728270053864\n",
      "\n",
      "current depth: 5\n",
      "current log loss: 0.414939218883\n",
      "time elapsed: 2.43477702141\n",
      "\n",
      "current depth: 6\n",
      "current log loss: 0.436137199366\n",
      "time elapsed: 1.77742195129\n",
      "\n"
     ]
    }
   ],
   "source": [
    "res_gp = gpOptimization()"
   ]
  },
  {
   "cell_type": "code",
   "execution_count": 50,
   "metadata": {
    "collapsed": false
   },
   "outputs": [
    {
     "data": {
      "image/png": "[encoded data removed]",
      "text/plain": [
       "<matplotlib.figure.Figure at 0x7f8a26ea7f50>"
      ]
     },
     "metadata": {},
     "output_type": "display_data"
    }
   ],
   "source": [
    "plotGPoptFunction(res_gp)\n",
    "plt.show()"
   ]
  },
  {
   "cell_type": "code",
   "execution_count": 51,
   "metadata": {
    "collapsed": false
   },
   "outputs": [
    {
     "data": {
      "image/png": "[encoded data removed]",
      "text/plain": [
       "<matplotlib.figure.Figure at 0x7f8a2ca33250>"
      ]
     },
     "metadata": {},
     "output_type": "display_data"
    }
   ],
   "source": [
    "plotGPoptConvergence(res_gp)\n",
    "plt.show()"
   ]
  },
  {
   "cell_type": "code",
   "execution_count": 52,
   "metadata": {
    "collapsed": false
   },
   "outputs": [
    {
     "data": {
      "text/plain": [
       "4"
      ]
     },
     "execution_count": 52,
     "metadata": {},
     "output_type": "execute_result"
    }
   ],
   "source": [
    "(best_max_depth, ) = res_gp.x\n",
    "best_max_depth"
   ]
  },
  {
   "cell_type": "code",
   "execution_count": 53,
   "metadata": {
    "collapsed": false
   },
   "outputs": [
    {
     "name": "stdout",
     "output_type": "stream",
     "text": [
      "precision_score            0.884108\n",
      "f1_score_nondelayed        0.831145\n",
      "f1_score_delayed           0.799404\n",
      "f1_score_weighted_avg      0.815279\n",
      "f1_score_unweighted_avg    0.815275\n",
      "log_loss                   0.407390\n",
      "accuracy_score             0.816681\n",
      "dtype: float64\n",
      "CPU times: user 1.41 s, sys: 0 ns, total: 1.41 s\n",
      "Wall time: 1.41 s\n"
     ]
    }
   ],
   "source": [
    "%%time\n",
    "clf = DecisionTreeClassifier(max_depth=best_max_depth)\n",
    "cv = MyCrossValidation(n_folds=10, random_state=random_state)\n",
    "scores = cv.onEachKFold(XX, yy, getScore_onKFold_callback(clf))\n",
    "print scores"
   ]
  },
  {
   "cell_type": "code",
   "execution_count": null,
   "metadata": {
    "collapsed": true
   },
   "outputs": [],
   "source": []
  }
 ],
 "metadata": {
  "kernelspec": {
   "display_name": "Python [dme]",
   "language": "python",
   "name": "Python [dme]"
  },
  "language_info": {
   "codemirror_mode": {
    "name": "ipython",
    "version": 2
   },
   "file_extension": ".py",
   "mimetype": "text/x-python",
   "name": "python",
   "nbconvert_exporter": "python",
   "pygments_lexer": "ipython2",
   "version": "2.7.12"
  }
 },
 "nbformat": 4,
 "nbformat_minor": 2
}
