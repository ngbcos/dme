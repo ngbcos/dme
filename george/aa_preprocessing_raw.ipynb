{
 "cells": [
  {
   "cell_type": "markdown",
   "metadata": {},
   "source": [
    "https://www.transtats.bts.gov/Fields.asp?Table_ID=236"
   ]
  },
  {
   "cell_type": "code",
   "execution_count": 1,
   "metadata": {
    "collapsed": true
   },
   "outputs": [],
   "source": [
    "from __future__ import division #, print_function # Imports from __future__ since we're running Python 2"
   ]
  },
  {
   "cell_type": "code",
   "execution_count": 2,
   "metadata": {
    "collapsed": true
   },
   "outputs": [],
   "source": [
    "#%load_ext autoreload\n",
    "%reload_ext autoreload\n",
    "%autoreload 2"
   ]
  },
  {
   "cell_type": "code",
   "execution_count": 3,
   "metadata": {
    "collapsed": false
   },
   "outputs": [],
   "source": [
    "import os\n",
    "import numpy as np \n",
    "import pandas as pd\n",
    "import matplotlib.pyplot as plt\n",
    "import seaborn as sns\n",
    "random_state = 10 # Ensure reproducible results\n",
    "%matplotlib inline\n",
    "plt.style.use('ggplot')\n",
    "from flights_delay.feature_processing import FlightDelayFeatureProcessing\n",
    "from helpers.outliers import MyOutliers\n",
    "from helpers.feature_engineering import makeBinaryClassification, getUniqueValuesPerFeature\n",
    "from sklearn.model_selection import train_test_split"
   ]
  },
  {
   "cell_type": "code",
   "execution_count": 4,
   "metadata": {
    "collapsed": true
   },
   "outputs": [],
   "source": [
    "data_relative_path = '../Data'"
   ]
  },
  {
   "cell_type": "markdown",
   "metadata": {},
   "source": [
    "# Flying to New York City - Raw Data Preprocess"
   ]
  },
  {
   "cell_type": "code",
   "execution_count": 5,
   "metadata": {
    "collapsed": false
   },
   "outputs": [
    {
     "data": {
      "text/plain": [
       "'/home/student/pligor.george@gmail.com/msc_Artificial_Intelligence/dme_Data_Mining/dmedatarats/Data/raw_data.csv'"
      ]
     },
     "execution_count": 5,
     "metadata": {},
     "output_type": "execute_result"
    }
   ],
   "source": [
    "path_data = os.path.realpath(os.path.join(os.getcwd(), data_relative_path, 'raw_data.csv'))\n",
    "assert os.path.isfile(path_data)\n",
    "path_data"
   ]
  },
  {
   "cell_type": "code",
   "execution_count": 6,
   "metadata": {
    "collapsed": false
   },
   "outputs": [
    {
     "data": {
      "text/plain": [
       "(492181, 39)"
      ]
     },
     "execution_count": 6,
     "metadata": {},
     "output_type": "execute_result"
    }
   ],
   "source": [
    "df = pd.read_csv(path_data, delimiter = ',', index_col=0, header=0)\n",
    "df.shape"
   ]
  },
  {
   "cell_type": "code",
   "execution_count": 7,
   "metadata": {
    "collapsed": false
   },
   "outputs": [
    {
     "name": "stdout",
     "output_type": "stream",
     "text": [
      "There are 492181 entries and 39 columns in the DataFrame\n"
     ]
    }
   ],
   "source": [
    "print(\"There are {} entries and {} columns in the DataFrame\"\\\n",
    "      .format(df.shape[0], df.shape[1]))"
   ]
  },
  {
   "cell_type": "code",
   "execution_count": 8,
   "metadata": {
    "collapsed": false
   },
   "outputs": [
    {
     "name": "stdout",
     "output_type": "stream",
     "text": [
      "<class 'pandas.core.frame.DataFrame'>\n",
      "Int64Index: 492181 entries, 0 to 492180\n",
      "Data columns (total 39 columns):\n",
      "YEAR                   492181 non-null int64\n",
      "QUARTER                492181 non-null int64\n",
      "MONTH                  492181 non-null int64\n",
      "DAY_OF_MONTH           492181 non-null int64\n",
      "DAY_OF_WEEK            492181 non-null int64\n",
      "FL_DATE                492181 non-null object\n",
      "UNIQUE_CARRIER         492181 non-null object\n",
      "AIRLINE_ID             492181 non-null int64\n",
      "CARRIER                492181 non-null object\n",
      "FL_NUM                 492181 non-null int64\n",
      "ORIGIN_AIRPORT_ID      492181 non-null int64\n",
      "ORIGIN                 492181 non-null object\n",
      "ORIGIN_CITY_NAME       492181 non-null object\n",
      "ORIGIN_STATE_ABR       492181 non-null object\n",
      "ORIGIN_STATE_NM        492181 non-null object\n",
      "DEST_AIRPORT_ID        492181 non-null int64\n",
      "DEST                   492181 non-null object\n",
      "DEST_CITY_NAME         492181 non-null object\n",
      "DEST_STATE_ABR         492181 non-null object\n",
      "DEST_STATE_NM          492181 non-null object\n",
      "CRS_DEP_TIME           492181 non-null int64\n",
      "DEP_TIME               483624 non-null float64\n",
      "DEP_DELAY              483624 non-null float64\n",
      "DEP_DELAY_NEW          483624 non-null float64\n",
      "DEP_DEL15              483624 non-null float64\n",
      "DEP_DELAY_GROUP        483624 non-null float64\n",
      "DEP_TIME_BLK           492181 non-null object\n",
      "CRS_ARR_TIME           492181 non-null int64\n",
      "ARR_TIME               482990 non-null float64\n",
      "ARR_DELAY              481662 non-null float64\n",
      "ARR_DELAY_NEW          481662 non-null float64\n",
      "ARR_DEL15              481662 non-null float64\n",
      "ARR_DELAY_GROUP        481662 non-null float64\n",
      "CANCELLED              492181 non-null float64\n",
      "CRS_ELAPSED_TIME       492181 non-null float64\n",
      "ACTUAL_ELAPSED_TIME    481662 non-null float64\n",
      "FLIGHTS                492181 non-null float64\n",
      "DISTANCE               492181 non-null float64\n",
      "DISTANCE_GROUP         492181 non-null int64\n",
      "dtypes: float64(15), int64(12), object(12)\n",
      "memory usage: 150.2+ MB\n"
     ]
    }
   ],
   "source": [
    "df.info()"
   ]
  },
  {
   "cell_type": "code",
   "execution_count": 9,
   "metadata": {
    "collapsed": false
   },
   "outputs": [
    {
     "data": {
      "text/plain": [
       "(492181, 38)"
      ]
     },
     "execution_count": 9,
     "metadata": {},
     "output_type": "execute_result"
    }
   ],
   "source": [
    "df_0 = FlightDelayFeatureProcessing.dropFlightNumber(df)\n",
    "df_0.shape"
   ]
  },
  {
   "cell_type": "markdown",
   "metadata": {},
   "source": [
    "#### Create is flight delayed boolean"
   ]
  },
  {
   "cell_type": "code",
   "execution_count": 10,
   "metadata": {
    "collapsed": false
   },
   "outputs": [
    {
     "data": {
      "text/plain": [
       "(492181, 39)"
      ]
     },
     "execution_count": 10,
     "metadata": {},
     "output_type": "execute_result"
    }
   ],
   "source": [
    "df_1 = FlightDelayFeatureProcessing.createIsDelayedCol(df_0, shuffle_it=False)\n",
    "df_1.shape"
   ]
  },
  {
   "cell_type": "code",
   "execution_count": 11,
   "metadata": {
    "collapsed": false
   },
   "outputs": [
    {
     "data": {
      "text/plain": [
       "False"
      ]
     },
     "execution_count": 11,
     "metadata": {},
     "output_type": "execute_result"
    }
   ],
   "source": [
    "np.all( df_1['ARR_DEL15'] == df_1['IS_DELAYED'] )"
   ]
  },
  {
   "cell_type": "markdown",
   "metadata": {},
   "source": [
    "#### Remove all arrival columns except arrival delay group (useful for narrow the dataset for binary classification)"
   ]
  },
  {
   "cell_type": "code",
   "execution_count": 12,
   "metadata": {
    "collapsed": false
   },
   "outputs": [
    {
     "data": {
      "text/plain": [
       "(492181, 34)"
      ]
     },
     "execution_count": 12,
     "metadata": {},
     "output_type": "execute_result"
    }
   ],
   "source": [
    "#df_2 = FlightDelayFeatureProcessing.removeArrivalAttrsExceptArrDelay(df_1)\n",
    "#df_2 = FlightDelayFeatureProcessing.removeArrivalAttrs(df_1)\n",
    "df_2 = FlightDelayFeatureProcessing.removeArrivalAttrsExceptArrDelayGroup(df_1)\n",
    "df_2.shape"
   ]
  },
  {
   "cell_type": "markdown",
   "metadata": {},
   "source": [
    "#### Remove also elapsed time because it indicates when the airplane arrives, which is what we want to predict"
   ]
  },
  {
   "cell_type": "code",
   "execution_count": 13,
   "metadata": {
    "collapsed": false
   },
   "outputs": [
    {
     "data": {
      "text/plain": [
       "(492181, 33)"
      ]
     },
     "execution_count": 13,
     "metadata": {},
     "output_type": "execute_result"
    }
   ],
   "source": [
    "df_3 = FlightDelayFeatureProcessing.dropActualElapsedTime(df_2)\n",
    "df_3.shape"
   ]
  },
  {
   "cell_type": "code",
   "execution_count": 14,
   "metadata": {
    "collapsed": false
   },
   "outputs": [
    {
     "data": {
      "text/plain": [
       "(483232, 33)"
      ]
     },
     "execution_count": 14,
     "metadata": {},
     "output_type": "execute_result"
    }
   ],
   "source": [
    "df_4 = FlightDelayFeatureProcessing.eraseCancelledFlights(df_3)\n",
    "df_4.shape"
   ]
  },
  {
   "cell_type": "code",
   "execution_count": 15,
   "metadata": {
    "collapsed": false
   },
   "outputs": [
    {
     "data": {
      "text/plain": [
       "(483232, 31)"
      ]
     },
     "execution_count": 15,
     "metadata": {},
     "output_type": "execute_result"
    }
   ],
   "source": [
    "df_5 = FlightDelayFeatureProcessing.removeCancelledAndFlights(df_4)\n",
    "df_5.shape"
   ]
  },
  {
   "cell_type": "markdown",
   "metadata": {},
   "source": [
    "#### Erase rows with nulls"
   ]
  },
  {
   "cell_type": "code",
   "execution_count": 16,
   "metadata": {
    "collapsed": false
   },
   "outputs": [
    {
     "data": {
      "text/plain": [
       "(481662, 31)"
      ]
     },
     "execution_count": 16,
     "metadata": {},
     "output_type": "execute_result"
    }
   ],
   "source": [
    "df_6 = FlightDelayFeatureProcessing.eraseRowsWithNulls(df_5)\n",
    "df_6.shape"
   ]
  },
  {
   "cell_type": "code",
   "execution_count": 17,
   "metadata": {
    "collapsed": false
   },
   "outputs": [
    {
     "data": {
      "text/plain": [
       "set()"
      ]
     },
     "execution_count": 17,
     "metadata": {},
     "output_type": "execute_result"
    }
   ],
   "source": [
    "FlightDelayFeatureProcessing.getAllRowsWithAtLeastOneNull(df_6)"
   ]
  },
  {
   "cell_type": "markdown",
   "metadata": {},
   "source": [
    "### CONCLUSION: ONLY CANCELLED FLIGHTS HAD MISSING DATA, ALL THE REST ARE OK"
   ]
  },
  {
   "cell_type": "markdown",
   "metadata": {},
   "source": [
    "#### CRS departure time is not a useful information"
   ]
  },
  {
   "cell_type": "code",
   "execution_count": 18,
   "metadata": {
    "collapsed": false
   },
   "outputs": [
    {
     "data": {
      "text/plain": [
       "(481662, 30)"
      ]
     },
     "execution_count": 18,
     "metadata": {},
     "output_type": "execute_result"
    }
   ],
   "source": [
    "df_7 = FlightDelayFeatureProcessing.removeCRSDeptTime(df_6)\n",
    "df_7.shape"
   ]
  },
  {
   "cell_type": "markdown",
   "metadata": {},
   "source": [
    "#### Remove redundant State names"
   ]
  },
  {
   "cell_type": "code",
   "execution_count": 19,
   "metadata": {
    "collapsed": false
   },
   "outputs": [
    {
     "data": {
      "text/plain": [
       "(481662, 28)"
      ]
     },
     "execution_count": 19,
     "metadata": {},
     "output_type": "execute_result"
    }
   ],
   "source": [
    "df_8 = FlightDelayFeatureProcessing.removeRedundantStateNames(df_7)\n",
    "df_8.shape"
   ]
  },
  {
   "cell_type": "markdown",
   "metadata": {},
   "source": [
    "#### Remove Origin Airport Id, Dest Airport Id and Airline Id"
   ]
  },
  {
   "cell_type": "code",
   "execution_count": 20,
   "metadata": {
    "collapsed": false
   },
   "outputs": [
    {
     "data": {
      "text/plain": [
       "(481662, 25)"
      ]
     },
     "execution_count": 20,
     "metadata": {},
     "output_type": "execute_result"
    }
   ],
   "source": [
    "df_9 = FlightDelayFeatureProcessing.removeIdColsAlreadyRepresentedByStrCols(df_8)\n",
    "df_9.shape"
   ]
  },
  {
   "cell_type": "markdown",
   "metadata": {},
   "source": [
    "#### remove carrier because it is already represented in unique carrier"
   ]
  },
  {
   "cell_type": "code",
   "execution_count": 21,
   "metadata": {
    "collapsed": false
   },
   "outputs": [
    {
     "data": {
      "text/plain": [
       "(481662, 24)"
      ]
     },
     "execution_count": 21,
     "metadata": {},
     "output_type": "execute_result"
    }
   ],
   "source": [
    "df_10 = FlightDelayFeatureProcessing.removeCarrier(df_9)\n",
    "df_10.shape"
   ]
  },
  {
   "cell_type": "markdown",
   "metadata": {},
   "source": [
    "#### remove year since we are dealing with only 2016 and also remove flight date"
   ]
  },
  {
   "cell_type": "code",
   "execution_count": 22,
   "metadata": {
    "collapsed": false
   },
   "outputs": [
    {
     "data": {
      "text/plain": [
       "(481662, 22)"
      ]
     },
     "execution_count": 22,
     "metadata": {},
     "output_type": "execute_result"
    }
   ],
   "source": [
    "df_11 = FlightDelayFeatureProcessing.dropYearAndDate(df_10)\n",
    "df_11.shape"
   ]
  },
  {
   "cell_type": "code",
   "execution_count": 23,
   "metadata": {
    "collapsed": false
   },
   "outputs": [
    {
     "data": {
      "text/plain": [
       "QUARTER               int64\n",
       "MONTH                 int64\n",
       "DAY_OF_MONTH          int64\n",
       "DAY_OF_WEEK           int64\n",
       "UNIQUE_CARRIER       object\n",
       "ORIGIN               object\n",
       "ORIGIN_CITY_NAME     object\n",
       "ORIGIN_STATE_ABR     object\n",
       "DEST                 object\n",
       "DEST_CITY_NAME       object\n",
       "DEST_STATE_ABR       object\n",
       "DEP_TIME            float64\n",
       "DEP_DELAY           float64\n",
       "DEP_DELAY_NEW       float64\n",
       "DEP_DEL15           float64\n",
       "DEP_DELAY_GROUP     float64\n",
       "DEP_TIME_BLK         object\n",
       "ARR_DELAY_GROUP     float64\n",
       "CRS_ELAPSED_TIME    float64\n",
       "DISTANCE            float64\n",
       "DISTANCE_GROUP        int64\n",
       "IS_DELAYED             bool\n",
       "dtype: object"
      ]
     },
     "execution_count": 23,
     "metadata": {},
     "output_type": "execute_result"
    }
   ],
   "source": [
    "df_11.dtypes"
   ]
  },
  {
   "cell_type": "markdown",
   "metadata": {},
   "source": [
    "## Too many instances for our hardware, let's reduce them by taking the some kind of popular destinations and kind of popular origins - kind of popular trips"
   ]
  },
  {
   "cell_type": "code",
   "execution_count": 24,
   "metadata": {
    "collapsed": true
   },
   "outputs": [],
   "source": [
    "testdf = df_11.copy()"
   ]
  },
  {
   "cell_type": "code",
   "execution_count": 25,
   "metadata": {
    "collapsed": false
   },
   "outputs": [],
   "source": [
    "countPerOrigin = testdf.groupby(['ORIGIN', 'DEST']).size()"
   ]
  },
  {
   "cell_type": "code",
   "execution_count": 26,
   "metadata": {
    "collapsed": false
   },
   "outputs": [
    {
     "data": {
      "text/plain": [
       "1885"
      ]
     },
     "execution_count": 26,
     "metadata": {},
     "output_type": "execute_result"
    }
   ],
   "source": [
    "len(testdf[np.logical_and(testdf['ORIGIN'] == 'BWI',  testdf['DEST'] == 'ALB')])"
   ]
  },
  {
   "cell_type": "code",
   "execution_count": 27,
   "metadata": {
    "collapsed": false
   },
   "outputs": [
    {
     "data": {
      "text/plain": [
       "ORIGIN  DEST\n",
       "JFK     LAX     12445\n",
       "LAX     JFK     12435\n",
       "LGA     ORD      9803\n",
       "ORD     LGA      9680\n",
       "SFO     JFK      7997\n",
       "LGA     ATL      7992\n",
       "ATL     LGA      7977\n",
       "JFK     SFO      7976\n",
       "LGA     BOS      6354\n",
       "MIA     LGA      6335\n",
       "BOS     LGA      6329\n",
       "LGA     MIA      6311\n",
       "        FLL      5543\n",
       "FLL     LGA      5538\n",
       "JFK     BOS      5418\n",
       "BOS     JFK      5411\n",
       "JFK     MCO      5392\n",
       "MCO     JFK      5375\n",
       "DFW     LGA      4417\n",
       "LGA     DFW      4415\n",
       "JFK     FLL      4359\n",
       "FLL     JFK      4334\n",
       "LGA     MCO      4316\n",
       "JFK     SJU      4288\n",
       "MCO     LGA      4283\n",
       "SJU     JFK      4267\n",
       "LGA     CLT      4067\n",
       "JFK     LAS      4066\n",
       "LAS     JFK      4060\n",
       "CLT     LGA      4007\n",
       "                ...  \n",
       "MHT     LGA        10\n",
       "JFK     JAC        10\n",
       "ALB     DEN         9\n",
       "DEN     ALB         9\n",
       "        BUF         9\n",
       "BUF     DEN         9\n",
       "BZN     LGA         8\n",
       "LGA     BZN         8\n",
       "BUF     PHL         8\n",
       "PHL     BUF         8\n",
       "CVG     JFK         7\n",
       "JFK     CVG         6\n",
       "        PHL         5\n",
       "LGA     MEM         4\n",
       "AVL     LGA         3\n",
       "LGA     AVL         3\n",
       "SBN     LGA         3\n",
       "PHL     JFK         3\n",
       "MEM     LGA         2\n",
       "AGS     LGA         1\n",
       "JFK     ORF         1\n",
       "SWF     RSW         1\n",
       "        PBI         1\n",
       "        BOS         1\n",
       "JFK     RIC         1\n",
       "        CLE         1\n",
       "CLE     JFK         1\n",
       "RIC     JFK         1\n",
       "LGB     BUF         1\n",
       "ORF     JFK         1\n",
       "dtype: int64"
      ]
     },
     "execution_count": 27,
     "metadata": {},
     "output_type": "execute_result"
    }
   ],
   "source": [
    "countSorted = countPerOrigin.sort_values()[::-1]\n",
    "countSorted"
   ]
  },
  {
   "cell_type": "code",
   "execution_count": 28,
   "metadata": {
    "collapsed": false
   },
   "outputs": [
    {
     "data": {
      "text/plain": [
       "ORIGIN  DEST\n",
       "JFK     LAX     12445\n",
       "LAX     JFK     12435\n",
       "LGA     ORD      9803\n",
       "ORD     LGA      9680\n",
       "SFO     JFK      7997\n",
       "LGA     ATL      7992\n",
       "ATL     LGA      7977\n",
       "JFK     SFO      7976\n",
       "LGA     BOS      6354\n",
       "MIA     LGA      6335\n",
       "dtype: int64"
      ]
     },
     "execution_count": 28,
     "metadata": {},
     "output_type": "execute_result"
    }
   ],
   "source": [
    "mostPopular = countSorted[:10].copy()\n",
    "mostPopular"
   ]
  },
  {
   "cell_type": "code",
   "execution_count": 29,
   "metadata": {
    "collapsed": true
   },
   "outputs": [],
   "source": [
    "popular = pd.DataFrame()"
   ]
  },
  {
   "cell_type": "code",
   "execution_count": 30,
   "metadata": {
    "collapsed": false
   },
   "outputs": [
    {
     "name": "stdout",
     "output_type": "stream",
     "text": [
      "('JFK', 'LAX')\n",
      "12445\n",
      "\n",
      "('LAX', 'JFK')\n",
      "12435\n",
      "\n",
      "('LGA', 'ORD')\n",
      "9803\n",
      "\n",
      "('ORD', 'LGA')\n",
      "9680\n",
      "\n",
      "('SFO', 'JFK')\n",
      "7997\n",
      "\n",
      "('LGA', 'ATL')\n",
      "7992\n",
      "\n",
      "('ATL', 'LGA')\n",
      "7977\n",
      "\n",
      "('JFK', 'SFO')\n",
      "7976\n",
      "\n",
      "('LGA', 'BOS')\n",
      "6354\n",
      "\n",
      "('MIA', 'LGA')\n",
      "6335\n",
      "\n"
     ]
    }
   ],
   "source": [
    "for key in mostPopular.keys():\n",
    "    print key\n",
    "    subset = testdf[np.logical_and(testdf['ORIGIN'] == key[0], testdf['DEST'] == key[1])]\n",
    "    print len(subset)\n",
    "    print\n",
    "    popular = pd.concat((\n",
    "            popular, subset            \n",
    "        ))"
   ]
  },
  {
   "cell_type": "code",
   "execution_count": 31,
   "metadata": {
    "collapsed": false
   },
   "outputs": [
    {
     "data": {
      "text/plain": [
       "88994"
      ]
     },
     "execution_count": 31,
     "metadata": {},
     "output_type": "execute_result"
    }
   ],
   "source": [
    "np.sum(mostPopular)"
   ]
  },
  {
   "cell_type": "code",
   "execution_count": 32,
   "metadata": {
    "collapsed": false
   },
   "outputs": [
    {
     "data": {
      "text/plain": [
       "88994"
      ]
     },
     "execution_count": 32,
     "metadata": {},
     "output_type": "execute_result"
    }
   ],
   "source": [
    "len(popular)"
   ]
  },
  {
   "cell_type": "code",
   "execution_count": 33,
   "metadata": {
    "collapsed": false
   },
   "outputs": [
    {
     "data": {
      "text/plain": [
       "19449"
      ]
     },
     "execution_count": 33,
     "metadata": {},
     "output_type": "execute_result"
    }
   ],
   "source": [
    "len(popular[popular['IS_DELAYED']])"
   ]
  },
  {
   "cell_type": "code",
   "execution_count": 34,
   "metadata": {
    "collapsed": false
   },
   "outputs": [],
   "source": [
    "# fig, ax = plt.subplots(figsize=(16,5))\n",
    "\n",
    "# sns.barplot(x='ORIGIN', y=countPerOrigin.values, data=df_11, #ax=ax,\n",
    "#             color = \"r\")\n",
    "\n",
    "# plt.show()"
   ]
  },
  {
   "cell_type": "markdown",
   "metadata": {},
   "source": [
    "### Remove Outliers"
   ]
  },
  {
   "cell_type": "code",
   "execution_count": 35,
   "metadata": {
    "collapsed": false
   },
   "outputs": [
    {
     "data": {
      "text/plain": [
       "QUARTER               int64\n",
       "MONTH                 int64\n",
       "DAY_OF_MONTH          int64\n",
       "DAY_OF_WEEK           int64\n",
       "UNIQUE_CARRIER       object\n",
       "ORIGIN               object\n",
       "ORIGIN_CITY_NAME     object\n",
       "ORIGIN_STATE_ABR     object\n",
       "DEST                 object\n",
       "DEST_CITY_NAME       object\n",
       "DEST_STATE_ABR       object\n",
       "DEP_TIME            float64\n",
       "DEP_DELAY           float64\n",
       "DEP_DELAY_NEW       float64\n",
       "DEP_DEL15           float64\n",
       "DEP_DELAY_GROUP     float64\n",
       "DEP_TIME_BLK         object\n",
       "ARR_DELAY_GROUP     float64\n",
       "CRS_ELAPSED_TIME    float64\n",
       "DISTANCE            float64\n",
       "DISTANCE_GROUP        int64\n",
       "IS_DELAYED             bool\n",
       "dtype: object"
      ]
     },
     "execution_count": 35,
     "metadata": {},
     "output_type": "execute_result"
    }
   ],
   "source": [
    "popular.dtypes"
   ]
  },
  {
   "cell_type": "markdown",
   "metadata": {},
   "source": [
    "From all the features only the dep delay, distance, and arrival delay make sense to be considered for outliers"
   ]
  },
  {
   "cell_type": "code",
   "execution_count": 36,
   "metadata": {
    "collapsed": true
   },
   "outputs": [],
   "source": [
    "outlier_columns = ['DEP_DELAY', 'DISTANCE']#, 'ARR_DELAY']"
   ]
  },
  {
   "cell_type": "code",
   "execution_count": 37,
   "metadata": {
    "collapsed": false
   },
   "outputs": [
    {
     "data": {
      "text/plain": [
       "DEP_DELAY    (-107.639863362, 132.353776659)\n",
       "DISTANCE                   (-4493.0, 7701.0)\n",
       "dtype: object"
      ]
     },
     "execution_count": 37,
     "metadata": {},
     "output_type": "execute_result"
    }
   ],
   "source": [
    "types = popular[outlier_columns].dtypes\n",
    "for col in outlier_columns:\n",
    "    types[col] = MyOutliers().getLooseBoundaries(popular[col], k=3)\n",
    "bounds_k3 = types.copy()\n",
    "\n",
    "bounds_k3"
   ]
  },
  {
   "cell_type": "code",
   "execution_count": 38,
   "metadata": {
    "collapsed": false
   },
   "outputs": [
    {
     "data": {
      "text/plain": [
       "DEP_DELAY    2123\n",
       "DISTANCE        0\n",
       "dtype: object"
      ]
     },
     "execution_count": 38,
     "metadata": {},
     "output_type": "execute_result"
    }
   ],
   "source": [
    "outliersCount = MyOutliers.countOutliersDataPoints(popular, bounds_k3)\n",
    "outliersCount"
   ]
  },
  {
   "cell_type": "code",
   "execution_count": 39,
   "metadata": {
    "collapsed": false
   },
   "outputs": [
    {
     "data": {
      "text/plain": [
       "2.385554082297683"
      ]
     },
     "execution_count": 39,
     "metadata": {},
     "output_type": "execute_result"
    }
   ],
   "source": [
    "100 * np.sum(outliersCount) / len(popular)"
   ]
  },
  {
   "cell_type": "code",
   "execution_count": 40,
   "metadata": {
    "collapsed": true
   },
   "outputs": [],
   "source": [
    "inds = MyOutliers().getOutlierDataPoints(popular, bounds_k3)"
   ]
  },
  {
   "cell_type": "markdown",
   "metadata": {},
   "source": [
    "#### ARE ALL INDICES delayed flights ?"
   ]
  },
  {
   "cell_type": "code",
   "execution_count": 41,
   "metadata": {
    "collapsed": true
   },
   "outputs": [],
   "source": [
    "outliers = popular.iloc[list(inds)]"
   ]
  },
  {
   "cell_type": "code",
   "execution_count": 42,
   "metadata": {
    "collapsed": false
   },
   "outputs": [
    {
     "data": {
      "text/plain": [
       "1.0"
      ]
     },
     "execution_count": 42,
     "metadata": {},
     "output_type": "execute_result"
    }
   ],
   "source": [
    "len(outliers[outliers['IS_DELAYED']]) / len(outliers)"
   ]
  },
  {
   "cell_type": "code",
   "execution_count": 43,
   "metadata": {
    "collapsed": false
   },
   "outputs": [
    {
     "data": {
      "text/plain": [
       "(86871, 22)"
      ]
     },
     "execution_count": 43,
     "metadata": {},
     "output_type": "execute_result"
    }
   ],
   "source": [
    "survivors, survivor_inds = MyOutliers().removeOutliers(popular, bounds_k3)\n",
    "survivors.shape"
   ]
  },
  {
   "cell_type": "code",
   "execution_count": 44,
   "metadata": {
    "collapsed": false
   },
   "outputs": [
    {
     "data": {
      "text/plain": [
       "QUARTER               int64\n",
       "MONTH                 int64\n",
       "DAY_OF_MONTH          int64\n",
       "DAY_OF_WEEK           int64\n",
       "UNIQUE_CARRIER       object\n",
       "ORIGIN               object\n",
       "ORIGIN_CITY_NAME     object\n",
       "ORIGIN_STATE_ABR     object\n",
       "DEST                 object\n",
       "DEST_CITY_NAME       object\n",
       "DEST_STATE_ABR       object\n",
       "DEP_TIME            float64\n",
       "DEP_DELAY           float64\n",
       "DEP_DELAY_NEW       float64\n",
       "DEP_DEL15           float64\n",
       "DEP_DELAY_GROUP     float64\n",
       "DEP_TIME_BLK         object\n",
       "ARR_DELAY_GROUP     float64\n",
       "CRS_ELAPSED_TIME    float64\n",
       "DISTANCE            float64\n",
       "DISTANCE_GROUP        int64\n",
       "IS_DELAYED             bool\n",
       "dtype: object"
      ]
     },
     "execution_count": 44,
     "metadata": {},
     "output_type": "execute_result"
    }
   ],
   "source": [
    "survivors.dtypes"
   ]
  },
  {
   "cell_type": "markdown",
   "metadata": {},
   "source": [
    "## Make it a balanced classification problem"
   ]
  },
  {
   "cell_type": "code",
   "execution_count": 45,
   "metadata": {
    "collapsed": false
   },
   "outputs": [
    {
     "data": {
      "text/plain": [
       "(34652, 22)"
      ]
     },
     "execution_count": 45,
     "metadata": {},
     "output_type": "execute_result"
    }
   ],
   "source": [
    "binary_df = makeBinaryClassification(survivors, survivors['ARR_DELAY_GROUP'] <= 0)\n",
    "binary_df.shape"
   ]
  },
  {
   "cell_type": "code",
   "execution_count": 46,
   "metadata": {
    "collapsed": false
   },
   "outputs": [],
   "source": [
    "assert len(binary_df[binary_df['IS_DELAYED']]) * 2  == len(binary_df)"
   ]
  },
  {
   "cell_type": "code",
   "execution_count": 47,
   "metadata": {
    "collapsed": false
   },
   "outputs": [
    {
     "data": {
      "text/plain": [
       "(34652, 21)"
      ]
     },
     "execution_count": 47,
     "metadata": {},
     "output_type": "execute_result"
    }
   ],
   "source": [
    "final_df = FlightDelayFeatureProcessing.removeArrDelayGroup(binary_df)\n",
    "final_df.shape"
   ]
  },
  {
   "cell_type": "markdown",
   "metadata": {},
   "source": [
    "### Unique values per feature"
   ]
  },
  {
   "cell_type": "code",
   "execution_count": 48,
   "metadata": {
    "collapsed": false
   },
   "outputs": [
    {
     "name": "stdout",
     "output_type": "stream",
     "text": [
      "\n",
      "QUARTER: \n",
      "[2 1 3 4]\n",
      "\n",
      "MONTH: \n",
      "[ 5  2  8  7 12  3  6 10  9  1  4 11]\n",
      "\n",
      "DAY_OF_MONTH: \n",
      "[ 9  5 30  8 14 22  2  3 12 11 16 29 21 31 25 13  6 24 18 28  1 20 23 27 15\n",
      " 17 26  4 19  7 10]\n",
      "\n",
      "DAY_OF_WEEK: \n",
      "[1 5 2 3 4 6 7]\n",
      "\n",
      "UNIQUE_CARRIER: \n",
      "['AA' 'VX' 'DL' 'WN' 'B6' 'UA' 'NK' 'OO' 'F9']\n",
      "\n",
      "ORIGIN: \n",
      "['LGA' 'LAX' 'JFK' 'ATL' 'SFO' 'ORD' 'MIA']\n",
      "\n",
      "ORIGIN_CITY_NAME: \n",
      "['New York, NY' 'Los Angeles, CA' 'Atlanta, GA' 'San Francisco, CA'\n",
      " 'Chicago, IL' 'Miami, FL']\n",
      "\n",
      "ORIGIN_STATE_ABR: \n",
      "['NY' 'CA' 'GA' 'IL' 'FL']\n",
      "\n",
      "DEST: \n",
      "['BOS' 'JFK' 'SFO' 'ATL' 'LGA' 'ORD' 'LAX']\n",
      "\n",
      "DEST_CITY_NAME: \n",
      "['Boston, MA' 'New York, NY' 'San Francisco, CA' 'Atlanta, GA'\n",
      " 'Chicago, IL' 'Los Angeles, CA']\n",
      "\n",
      "DEST_STATE_ABR: \n",
      "['MA' 'NY' 'CA' 'GA' 'IL']\n",
      "\n",
      "DEP_TIME: \n",
      "Too large to show\n",
      "\n",
      "DEP_DELAY: \n",
      "Too large to show\n",
      "\n",
      "DEP_DELAY_NEW: \n",
      "[   0.    2.   45.   46.   14.   72.   57.   78.  122.   16.   55.    1.\n",
      "   11.   33.  107.   20.   62.   49.   40.   32.   93.    6.   15.   76.\n",
      "  117.   47.    7.   69.   10.   91.   42.   67.   92.   85.   29.   17.\n",
      "   26.   38.   66.   18.   23.   27.   21.  112.    4.   97.  131.    3.\n",
      "   13.   39.   94.   19.  100.    5.   50.    8.   70.   71.   52.   63.\n",
      "   44.   24.  105.   89.  110.   53.   48.   82.  109.   25.  121.    9.\n",
      "   74.   34.   43.   96.   86.   30.  130.   75.   31.   81.  120.   90.\n",
      "   83.   54.  115.   77.   68.   36.   41.   37.   35.   88.   65.  106.\n",
      "  119.   12.   58.   51.   59.  125.   56.   60.   22.  113.  118.  104.\n",
      "   64.   73.  111.  129.  116.  124.  123.   28.  132.  103.   99.  102.\n",
      "   61.   80.  127.   98.   79.   87.  126.  114.  108.   84.  128.  101.\n",
      "   95.]\n",
      "\n",
      "DEP_DEL15: \n",
      "[ 0.  1.]\n",
      "\n",
      "DEP_DELAY_GROUP: \n",
      "[-1.  0.  3.  4.  5.  8.  1.  2.  7.  6. -2.]\n",
      "\n",
      "DEP_TIME_BLK: \n",
      "['2000-2059' '1000-1059' '0700-0759' '1500-1559' '1100-1159' '0600-0659'\n",
      " '1400-1459' '1200-1259' '1300-1359' '2300-2359' '1700-1759' '1800-1859'\n",
      " '1900-1959' '0900-0959' '0001-0559' '0800-0859' '2100-2159' '2200-2259'\n",
      " '1600-1659']\n",
      "\n",
      "CRS_ELAPSED_TIME: \n",
      "Too large to show\n",
      "\n",
      "DISTANCE: \n",
      "[  184.  2475.  2586.   762.   733.  1096.]\n",
      "\n",
      "DISTANCE_GROUP: \n",
      "[ 1 10 11  4  3  5]\n",
      "\n",
      "IS_DELAYED: \n",
      "[False True]\n"
     ]
    }
   ],
   "source": [
    "getUniqueValuesPerFeature(final_df)"
   ]
  },
  {
   "cell_type": "markdown",
   "metadata": {},
   "source": [
    "### Save Train and Test Data"
   ]
  },
  {
   "cell_type": "code",
   "execution_count": 49,
   "metadata": {
    "collapsed": false
   },
   "outputs": [
    {
     "data": {
      "text/plain": [
       "((31186, 21), (3466, 21))"
      ]
     },
     "execution_count": 49,
     "metadata": {},
     "output_type": "execute_result"
    }
   ],
   "source": [
    "data_train, data_test = train_test_split(final_df, test_size=0.1, random_state=random_state)\n",
    "data_train.shape, data_test.shape"
   ]
  },
  {
   "cell_type": "code",
   "execution_count": 50,
   "metadata": {
    "collapsed": true
   },
   "outputs": [],
   "source": [
    "# data_train.to_csv(\n",
    "#     os.path.realpath(os.path.join(os.getcwd(), '../Data', 'train_data_v2.csv')),\n",
    "#     index=False)"
   ]
  },
  {
   "cell_type": "code",
   "execution_count": 51,
   "metadata": {
    "collapsed": true
   },
   "outputs": [],
   "source": [
    "# data_test.to_csv(\n",
    "#     os.path.realpath(os.path.join(os.getcwd(), '../Data', 'test_data_v2.csv')),\n",
    "#     index=False)"
   ]
  },
  {
   "cell_type": "code",
   "execution_count": null,
   "metadata": {
    "collapsed": true
   },
   "outputs": [],
   "source": []
  }
 ],
 "metadata": {
  "kernelspec": {
   "display_name": "Python [dme]",
   "language": "python",
   "name": "Python [dme]"
  },
  "language_info": {
   "codemirror_mode": {
    "name": "ipython",
    "version": 2
   },
   "file_extension": ".py",
   "mimetype": "text/x-python",
   "name": "python",
   "nbconvert_exporter": "python",
   "pygments_lexer": "ipython2",
   "version": "2.7.12"
  }
 },
 "nbformat": 4,
 "nbformat_minor": 2
}
