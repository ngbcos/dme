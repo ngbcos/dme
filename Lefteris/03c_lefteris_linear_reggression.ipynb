{
 "cells": [
  {
   "cell_type": "code",
   "execution_count": 1,
   "metadata": {
    "collapsed": false
   },
   "outputs": [
    {
     "name": "stderr",
     "output_type": "stream",
     "text": [
      "C:\\Users\\lmano\\Anaconda2\\envs\\iaml\\lib\\site-packages\\sklearn\\cross_validation.py:44: DeprecationWarning: This module was deprecated in version 0.18 in favor of the model_selection module into which all the refactored classes and functions are moved. Also note that the interface of the new CV iterators are different from that of this module. This module will be removed in 0.20.\n",
      "  \"This module will be removed in 0.20.\", DeprecationWarning)\n"
     ]
    }
   ],
   "source": [
    "from __future__ import division #, print_function # Imports from __future__ since we're running Python 2\n",
    "import os\n",
    "import numpy as np \n",
    "import pandas as pd\n",
    "import matplotlib.pyplot as plt\n",
    "import seaborn as sns\n",
    "from sklearn.preprocessing import LabelEncoder, StandardScaler\n",
    "from sklearn.cross_validation import train_test_split\n",
    "from sklearn.linear_model import LinearRegression\n",
    "from helpers.my_one_hot_encoder import MyOneHotEncoder\n",
    "from sklearn.utils import shuffle\n",
    "from sklearn.cross_validation import train_test_split\n",
    "from sklearn.linear_model import LinearRegression\n",
    "from sklearn.tree import DecisionTreeClassifier, export_graphviz\n",
    "from sklearn.ensemble import RandomForestClassifier\n",
    "from sklearn.metrics import accuracy_score, confusion_matrix, r2_score\n",
    "\n",
    "random_state = 0 # Ensure reproducible results\n",
    "%matplotlib inline\n",
    "plt.style.use('ggplot')"
   ]
  },
  {
   "cell_type": "markdown",
   "metadata": {},
   "source": [
    "# Flying to New York City - Linear Regression"
   ]
  },
  {
   "cell_type": "code",
   "execution_count": 2,
   "metadata": {
    "collapsed": false
   },
   "outputs": [
    {
     "data": {
      "text/plain": [
       "'C:\\\\Users\\\\lmano\\\\Documents\\\\UoE\\\\2. DME\\\\DME project\\\\clear_data_holiday.csv'"
      ]
     },
     "execution_count": 2,
     "metadata": {},
     "output_type": "execute_result"
    }
   ],
   "source": [
    "path_data = os.path.realpath(os.path.join(os.getcwd(), 'clear_data_holiday.csv'))\n",
    "assert os.path.isfile(path_data)\n",
    "path_data"
   ]
  },
  {
   "cell_type": "code",
   "execution_count": 3,
   "metadata": {
    "collapsed": false
   },
   "outputs": [
    {
     "data": {
      "text/plain": [
       "(479820, 34)"
      ]
     },
     "execution_count": 3,
     "metadata": {},
     "output_type": "execute_result"
    }
   ],
   "source": [
    "data = pd.read_csv(path_data, delimiter = ',', index_col=None, header=0)\n",
    "#all_pandas.append(data_full)\n",
    "#data_frame = pd.concat(all_pandas)\n",
    "data.shape"
   ]
  },
  {
   "cell_type": "markdown",
   "metadata": {},
   "source": [
    "### Subsample the dataset to be able to handle the data in LR and find most important weights"
   ]
  },
  {
   "cell_type": "code",
   "execution_count": 4,
   "metadata": {
    "collapsed": true
   },
   "outputs": [],
   "source": [
    "temp = data.groupby('ARR_DELAY_GROUP')['ARR_DELAY'].count()"
   ]
  },
  {
   "cell_type": "code",
   "execution_count": 5,
   "metadata": {
    "collapsed": true
   },
   "outputs": [],
   "source": [
    "upcoming_flights = data[data['ORIGIN_STATE_ABR'] != 'NY']"
   ]
  },
  {
   "cell_type": "code",
   "execution_count": 6,
   "metadata": {
    "collapsed": false
   },
   "outputs": [
    {
     "name": "stderr",
     "output_type": "stream",
     "text": [
      "C:\\Users\\lmano\\Anaconda2\\envs\\iaml\\lib\\site-packages\\pandas\\core\\indexing.py:465: SettingWithCopyWarning: \n",
      "A value is trying to be set on a copy of a slice from a DataFrame.\n",
      "Try using .loc[row_indexer,col_indexer] = value instead\n",
      "\n",
      "See the caveats in the documentation: http://pandas.pydata.org/pandas-docs/stable/indexing.html#indexing-view-versus-copy\n",
      "  self.obj[item] = s\n"
     ]
    }
   ],
   "source": [
    "upcoming_flights.loc[upcoming_flights['ARR_DELAY_GROUP'] < 0, 'ARR_DELAY_GROUP'] = 0"
   ]
  },
  {
   "cell_type": "code",
   "execution_count": 7,
   "metadata": {
    "collapsed": false
   },
   "outputs": [],
   "source": [
    "nondelayed = upcoming_flights[upcoming_flights['ARR_DELAY_GROUP'] == 0]"
   ]
  },
  {
   "cell_type": "code",
   "execution_count": 8,
   "metadata": {
    "collapsed": true
   },
   "outputs": [],
   "source": [
    "delayed = upcoming_flights[upcoming_flights['ARR_DELAY_GROUP'] > 0]"
   ]
  },
  {
   "cell_type": "code",
   "execution_count": 9,
   "metadata": {
    "collapsed": false
   },
   "outputs": [],
   "source": [
    "non_delayed_short = shuffle(nondelayed, random_state = random_state, n_samples = int(len(delayed)/2))"
   ]
  },
  {
   "cell_type": "code",
   "execution_count": 10,
   "metadata": {
    "collapsed": true
   },
   "outputs": [],
   "source": [
    "flights = shuffle(pd.concat((delayed, non_delayed_short)), random_state = random_state)"
   ]
  },
  {
   "cell_type": "code",
   "execution_count": 11,
   "metadata": {
    "collapsed": false
   },
   "outputs": [
    {
     "name": "stdout",
     "output_type": "stream",
     "text": [
      "There are 78997 entries and 34 columns in the DataFrame\n"
     ]
    }
   ],
   "source": [
    "print(\"There are {} entries and {} columns in the DataFrame\"\\\n",
    "      .format(flights.shape[0], flights.shape[1]))"
   ]
  },
  {
   "cell_type": "code",
   "execution_count": 12,
   "metadata": {
    "collapsed": false
   },
   "outputs": [
    {
     "name": "stdout",
     "output_type": "stream",
     "text": [
      "There are 78997 entries and 34 columns in the DataFrame\n"
     ]
    }
   ],
   "source": [
    "print(\"There are {} entries and {} columns in the DataFrame\"\\\n",
    "      .format(flights.shape[0], flights.shape[1]))"
   ]
  },
  {
   "cell_type": "markdown",
   "metadata": {},
   "source": [
    "### Fix the data for Linear Regression task"
   ]
  },
  {
   "cell_type": "code",
   "execution_count": 13,
   "metadata": {
    "collapsed": false
   },
   "outputs": [
    {
     "data": {
      "text/plain": [
       "Index([u'QUARTER', u'MONTH', u'DAY_OF_MONTH', u'DAY_OF_WEEK', u'FL_DATE',\n",
       "       u'UNIQUE_CARRIER', u'ORIGIN', u'ORIGIN_CITY_NAME', u'ORIGIN_STATE_ABR',\n",
       "       u'ORIGIN_STATE_NM', u'DEST', u'DEST_CITY_NAME', u'DEST_STATE_ABR',\n",
       "       u'DEST_STATE_NM', u'CRS_DEP_TIME', u'DEP_TIME', u'DEP_DELAY',\n",
       "       u'DEP_DEL15', u'DEP_DELAY_GROUP', u'DEP_TIME_BLK', u'CRS_ARR_TIME',\n",
       "       u'ARR_TIME', u'ARR_DELAY', u'ARR_DEL15', u'ARR_DELAY_GROUP',\n",
       "       u'CRS_ELAPSED_TIME', u'ACTUAL_ELAPSED_TIME', u'DISTANCE',\n",
       "       u'DISTANCE_GROUP', u'IS_HOLIDAY', u'DAYS_TO_NEXT_HOLIDAY',\n",
       "       u'DAYS_FROM_LAST_HOLIDAY', u'DAYS_FROM_NEAREST_HOLIDAY',\n",
       "       u'WEEK_OF_YEAR'],\n",
       "      dtype='object')"
      ]
     },
     "execution_count": 13,
     "metadata": {},
     "output_type": "execute_result"
    }
   ],
   "source": [
    "flights.columns"
   ]
  },
  {
   "cell_type": "code",
   "execution_count": 14,
   "metadata": {
    "collapsed": false
   },
   "outputs": [],
   "source": [
    "flights_dropped = flights.drop(['ORIGIN_STATE_ABR', 'DEST_STATE_ABR', 'CRS_DEP_TIME', 'CRS_ELAPSED_TIME', 'ACTUAL_ELAPSED_TIME', 'CRS_ARR_TIME'], axis=1)"
   ]
  },
  {
   "cell_type": "code",
   "execution_count": 15,
   "metadata": {
    "collapsed": false
   },
   "outputs": [],
   "source": [
    "flights_dropped = flights_dropped.drop(['FL_DATE'],axis=1)"
   ]
  },
  {
   "cell_type": "code",
   "execution_count": 16,
   "metadata": {
    "collapsed": false
   },
   "outputs": [
    {
     "data": {
      "text/plain": [
       "(78997, 27)"
      ]
     },
     "execution_count": 16,
     "metadata": {},
     "output_type": "execute_result"
    }
   ],
   "source": [
    "# np.sum(flights_dropped.isnull())\n",
    "flights_dropped.shape\n"
   ]
  },
  {
   "cell_type": "code",
   "execution_count": null,
   "metadata": {
    "collapsed": true
   },
   "outputs": [],
   "source": []
  },
  {
   "cell_type": "code",
   "execution_count": 17,
   "metadata": {
    "collapsed": false
   },
   "outputs": [
    {
     "data": {
      "text/plain": [
       "Index([u'QUARTER', u'MONTH', u'DAY_OF_MONTH', u'DAY_OF_WEEK',\n",
       "       u'UNIQUE_CARRIER', u'ORIGIN', u'ORIGIN_CITY_NAME', u'ORIGIN_STATE_NM',\n",
       "       u'DEST', u'DEST_CITY_NAME', u'DEST_STATE_NM', u'DEP_TIME', u'DEP_DELAY',\n",
       "       u'DEP_DEL15', u'DEP_DELAY_GROUP', u'DEP_TIME_BLK', u'ARR_TIME',\n",
       "       u'ARR_DELAY', u'ARR_DEL15', u'ARR_DELAY_GROUP', u'DISTANCE',\n",
       "       u'DISTANCE_GROUP', u'IS_HOLIDAY', u'DAYS_TO_NEXT_HOLIDAY',\n",
       "       u'DAYS_FROM_LAST_HOLIDAY', u'DAYS_FROM_NEAREST_HOLIDAY',\n",
       "       u'WEEK_OF_YEAR'],\n",
       "      dtype='object')"
      ]
     },
     "execution_count": 17,
     "metadata": {},
     "output_type": "execute_result"
    }
   ],
   "source": [
    "flights_dropped.columns"
   ]
  },
  {
   "cell_type": "code",
   "execution_count": 18,
   "metadata": {
    "collapsed": true
   },
   "outputs": [],
   "source": [
    "def one_hot(df, cols):\n",
    "    \"\"\"\n",
    "    @param df pandas DataFrame\n",
    "    @param cols a list of columns to encode \n",
    "    @return a DataFrame with one-hot encoding\n",
    "    \"\"\"\n",
    "    for each in cols:\n",
    "        dummies = pd.get_dummies(df[each], prefix=each, drop_first=False)\n",
    "        df = pd.concat([df, dummies], axis=1)\n",
    "    return df"
   ]
  },
  {
   "cell_type": "code",
   "execution_count": 19,
   "metadata": {
    "collapsed": true
   },
   "outputs": [],
   "source": [
    "columns_one_hot = ['DEP_TIME_BLK', 'MONTH', 'DAY_OF_MONTH', 'DAY_OF_WEEK', 'ORIGIN_STATE_NM', 'UNIQUE_CARRIER', 'DEST', 'DEP_DELAY_GROUP',\n",
    "                  'DISTANCE_GROUP']"
   ]
  },
  {
   "cell_type": "code",
   "execution_count": 23,
   "metadata": {
    "collapsed": true
   },
   "outputs": [],
   "source": [
    "flights_dropped2 = flights_dropped.drop(['QUARTER', 'MONTH', 'DAY_OF_MONTH', 'DAY_OF_WEEK', 'UNIQUE_CARRIER', 'ORIGIN', 'ORIGIN_CITY_NAME', \n",
    "       'ORIGIN_STATE_NM', 'DEST', 'DEST_CITY_NAME', \n",
    "       'DEST_STATE_NM', 'DEP_TIME', 'DEP_DELAY',\n",
    "       'DEP_DEL15', 'DEP_DELAY_GROUP', 'DEP_TIME_BLK', 'ARR_TIME',  \n",
    "       'DISTANCE', 'DISTANCE_GROUP', 'WEEK_OF_YEAR'], axis=1)\n"
   ]
  },
  {
   "cell_type": "code",
   "execution_count": 24,
   "metadata": {
    "collapsed": false
   },
   "outputs": [
    {
     "name": "stdout",
     "output_type": "stream",
     "text": [
      "<class 'pandas.core.frame.DataFrame'>\n",
      "Int64Index: 78997 entries, 112086 to 118325\n",
      "Data columns (total 7 columns):\n",
      "ARR_DELAY                    78997 non-null float64\n",
      "ARR_DEL15                    78997 non-null float64\n",
      "ARR_DELAY_GROUP              78997 non-null float64\n",
      "IS_HOLIDAY                   78997 non-null float64\n",
      "DAYS_TO_NEXT_HOLIDAY         78997 non-null float64\n",
      "DAYS_FROM_LAST_HOLIDAY       78997 non-null float64\n",
      "DAYS_FROM_NEAREST_HOLIDAY    78997 non-null float64\n",
      "dtypes: float64(7)\n",
      "memory usage: 4.8 MB\n"
     ]
    }
   ],
   "source": [
    "flights_dropped2.info()"
   ]
  },
  {
   "cell_type": "code",
   "execution_count": null,
   "metadata": {
    "collapsed": true
   },
   "outputs": [],
   "source": []
  },
  {
   "cell_type": "code",
   "execution_count": null,
   "metadata": {
    "collapsed": true
   },
   "outputs": [],
   "source": []
  },
  {
   "cell_type": "code",
   "execution_count": null,
   "metadata": {
    "collapsed": true
   },
   "outputs": [],
   "source": []
  },
  {
   "cell_type": "code",
   "execution_count": 25,
   "metadata": {
    "collapsed": true
   },
   "outputs": [],
   "source": [
    "df_hot = one_hot(flights_dropped, columns_one_hot)"
   ]
  },
  {
   "cell_type": "code",
   "execution_count": 26,
   "metadata": {
    "collapsed": false
   },
   "outputs": [],
   "source": [
    "df_hot = df_hot.drop(['QUARTER', 'MONTH', 'DAY_OF_MONTH', 'DAY_OF_WEEK', 'UNIQUE_CARRIER', 'ORIGIN', 'ORIGIN_CITY_NAME', \n",
    "       'ORIGIN_STATE_NM', 'DEST', 'DEST_CITY_NAME', \n",
    "       'DEST_STATE_NM', 'DEP_TIME', 'DEP_DELAY',\n",
    "       'DEP_DEL15', 'DEP_DELAY_GROUP', 'DEP_TIME_BLK', 'ARR_TIME',  \n",
    "       'DISTANCE', 'DISTANCE_GROUP', 'WEEK_OF_YEAR'], axis=1)"
   ]
  },
  {
   "cell_type": "code",
   "execution_count": 27,
   "metadata": {
    "collapsed": false
   },
   "outputs": [
    {
     "data": {
      "text/plain": [
       "(78997, 167)"
      ]
     },
     "execution_count": 27,
     "metadata": {},
     "output_type": "execute_result"
    }
   ],
   "source": [
    "df_hot.shape"
   ]
  },
  {
   "cell_type": "code",
   "execution_count": null,
   "metadata": {
    "collapsed": true
   },
   "outputs": [],
   "source": [
    "ARR_DELAY                    78997 non-null float64\n",
    "ARR_DEL15                    78997 non-null float64\n",
    "ARR_DELAY_GROUP              78997 non-null float64\n",
    "IS_HOLIDAY                   78997 non-null float64\n",
    "DAYS_TO_NEXT_HOLIDAY         78997 non-null float64\n",
    "DAYS_FROM_LAST_HOLIDAY       78997 non-null float64\n",
    "DAYS_FROM_NEAREST_HOLIDAY    78997 non-null float64"
   ]
  },
  {
   "cell_type": "code",
   "execution_count": 28,
   "metadata": {
    "collapsed": false
   },
   "outputs": [
    {
     "data": {
      "text/plain": [
       "Index([u'ARR_DELAY', u'ARR_DEL15', u'ARR_DELAY_GROUP', u'IS_HOLIDAY',\n",
       "       u'DAYS_TO_NEXT_HOLIDAY', u'DAYS_FROM_LAST_HOLIDAY',\n",
       "       u'DAYS_FROM_NEAREST_HOLIDAY', u'DEP_TIME_BLK_0001-0559',\n",
       "       u'DEP_TIME_BLK_0600-0659', u'DEP_TIME_BLK_0700-0759',\n",
       "       ...\n",
       "       u'DISTANCE_GROUP_2', u'DISTANCE_GROUP_3', u'DISTANCE_GROUP_4',\n",
       "       u'DISTANCE_GROUP_5', u'DISTANCE_GROUP_6', u'DISTANCE_GROUP_7',\n",
       "       u'DISTANCE_GROUP_8', u'DISTANCE_GROUP_9', u'DISTANCE_GROUP_10',\n",
       "       u'DISTANCE_GROUP_11'],\n",
       "      dtype='object', length=167)"
      ]
     },
     "execution_count": 28,
     "metadata": {},
     "output_type": "execute_result"
    }
   ],
   "source": [
    "df_hot.columns"
   ]
  },
  {
   "cell_type": "code",
   "execution_count": null,
   "metadata": {
    "collapsed": true
   },
   "outputs": [],
   "source": [
    "# 'ARR_DEL15', 'ARR_DELAY_GROUP' 'ARR_DELAY'"
   ]
  },
  {
   "cell_type": "code",
   "execution_count": 29,
   "metadata": {
    "collapsed": false
   },
   "outputs": [],
   "source": [
    "df_hot2 = df_hot.drop(['ARR_DELAY_GROUP', 'ARR_DEL15', 'DAYS_TO_NEXT_HOLIDAY', \n",
    "                       'DAYS_FROM_LAST_HOLIDAY', 'DAYS_FROM_NEAREST_HOLIDAY'],axis=1)"
   ]
  },
  {
   "cell_type": "code",
   "execution_count": 30,
   "metadata": {
    "collapsed": false
   },
   "outputs": [
    {
     "data": {
      "text/plain": [
       "(78997, 162)"
      ]
     },
     "execution_count": 30,
     "metadata": {},
     "output_type": "execute_result"
    }
   ],
   "source": [
    "df_hot2.shape"
   ]
  },
  {
   "cell_type": "code",
   "execution_count": 31,
   "metadata": {
    "collapsed": false
   },
   "outputs": [
    {
     "name": "stdout",
     "output_type": "stream",
     "text": [
      "X shape: (78997, 161)\n",
      "y shape: (78997L,)\n"
     ]
    }
   ],
   "source": [
    "X = df_hot2.drop('ARR_DELAY', axis=1) # Input features (attributes)\n",
    "y = df_hot2['ARR_DELAY'] # Target vector\n",
    "print('X shape: {}'.format(np.shape(X)))\n",
    "print('y shape: {}'.format(np.shape(y)))"
   ]
  },
  {
   "cell_type": "code",
   "execution_count": 32,
   "metadata": {
    "collapsed": true
   },
   "outputs": [],
   "source": [
    "X_train, X_test, y_train, y_test = train_test_split(X, y, train_size = 0.8, test_size=0.2, random_state=0)"
   ]
  },
  {
   "cell_type": "code",
   "execution_count": 33,
   "metadata": {
    "collapsed": false
   },
   "outputs": [
    {
     "name": "stdout",
     "output_type": "stream",
     "text": [
      "Number of instances in X: 78997\n",
      "Number of instances in X_train: 63197\n",
      "Number of instances in X_test: 15800\n",
      "Number of instances in X_train and X_test together: 78997\n"
     ]
    }
   ],
   "source": [
    "print('Number of instances in X: {}'.format(np.shape(X)[0]))\n",
    "print('Number of instances in X_train: {}'.format(X_train.shape[0]))\n",
    "print('Number of instances in X_test: {}'.format(X_test.shape[0]))\n",
    "print('Number of instances in X_train and X_test together: {}'.format(X_train.shape[0] + X_test.shape[0]))"
   ]
  },
  {
   "cell_type": "code",
   "execution_count": 72,
   "metadata": {
    "collapsed": false
   },
   "outputs": [],
   "source": [
    "### save the created data\n",
    "clear_data_path = os.path.realpath(os.path.join(os.getcwd(), 'X_train.csv'))\n",
    "X_train.to_csv(clear_data_path, index=False)\n",
    "clear_data_path = os.path.realpath(os.path.join(os.getcwd(), 'y_train.csv'))\n",
    "y_train.to_csv(clear_data_path, index=False)"
   ]
  },
  {
   "cell_type": "code",
   "execution_count": 73,
   "metadata": {
    "collapsed": true
   },
   "outputs": [],
   "source": [
    "### save the created data\n",
    "clear_data_path = os.path.realpath(os.path.join(os.getcwd(), 'X_test.csv'))\n",
    "X_test.to_csv(clear_data_path, index=False)\n",
    "clear_data_path = os.path.realpath(os.path.join(os.getcwd(), 'y_test.csv'))\n",
    "y_test.to_csv(clear_data_path, index=False)"
   ]
  },
  {
   "cell_type": "code",
   "execution_count": 34,
   "metadata": {
    "collapsed": false
   },
   "outputs": [],
   "source": [
    "X_train = X_train.as_matrix()\n",
    "X_test = X_test.as_matrix()\n",
    "y_train = y_train.as_matrix()\n",
    "y_test = y_test.as_matrix()"
   ]
  },
  {
   "cell_type": "code",
   "execution_count": 35,
   "metadata": {
    "collapsed": false
   },
   "outputs": [
    {
     "name": "stdout",
     "output_type": "stream",
     "text": [
      "Number of instances in X: 78997\n",
      "Number of instances in X_train: 63197\n",
      "Number of instances in X_test: 15800\n",
      "Number of instances in X_train and X_test together: 78997\n"
     ]
    }
   ],
   "source": [
    "print('Number of instances in X: {}'.format(np.shape(X)[0]))\n",
    "print('Number of instances in X_train: {}'.format(X_train.shape[0]))\n",
    "print('Number of instances in X_test: {}'.format(X_test.shape[0]))\n",
    "print('Number of instances in X_train and X_test together: {}'.format(X_train.shape[0] + X_test.shape[0]))"
   ]
  },
  {
   "cell_type": "markdown",
   "metadata": {
    "collapsed": true
   },
   "source": [
    "## Linear Regression"
   ]
  },
  {
   "cell_type": "code",
   "execution_count": 54,
   "metadata": {
    "collapsed": false
   },
   "outputs": [],
   "source": [
    "sc = StandardScaler().fit(X_train)\n",
    "X_train_sc = sc.transform(X_train)\n",
    "X_test_sc = sc.transform(X_test)"
   ]
  },
  {
   "cell_type": "code",
   "execution_count": 55,
   "metadata": {
    "collapsed": false
   },
   "outputs": [
    {
     "name": "stdout",
     "output_type": "stream",
     "text": [
      "Training accuracy: 0.864\n",
      "Testing accuracy by using score function: -29843542050964846411776.000\n",
      "Testing accuracy by using r2_score meric: -29843542050964846411776.000\n"
     ]
    }
   ],
   "source": [
    "lm = LinearRegression(fit_intercept=True, normalize=True, copy_X=True)\n",
    "lm.fit(X_train_sc, y_train)\n",
    "print('Training accuracy: {:.3f}'.format(lm.score(X_train_sc, y_train)))\n",
    "print('Testing accuracy by using score function: {:.3f}'.format(lm.score(X_test_sc, y_test)))\n",
    "print('Testing accuracy by using r2_score meric: {:.3f}'.format(r2_score(y_test, lm.predict(X_test_sc))))"
   ]
  },
  {
   "cell_type": "code",
   "execution_count": 56,
   "metadata": {
    "collapsed": false
   },
   "outputs": [
    {
     "data": {
      "text/plain": [
       "37.69889814560004"
      ]
     },
     "execution_count": 56,
     "metadata": {},
     "output_type": "execute_result"
    }
   ],
   "source": [
    "lm.intercept_ "
   ]
  },
  {
   "cell_type": "code",
   "execution_count": 57,
   "metadata": {
    "collapsed": false
   },
   "outputs": [
    {
     "data": {
      "text/plain": [
       "array([ -2.23352162e-01,  -1.69404410e+11,  -3.33753639e+11,\n",
       "        -3.50958132e+11,  -2.94478869e+11,  -3.34029083e+11,\n",
       "        -3.64668325e+11,  -3.93572864e+11,  -3.82628318e+11,\n",
       "        -4.14871787e+11,  -3.67715149e+11,  -4.00739467e+11,\n",
       "        -3.98633858e+11,  -4.48040139e+11,  -3.71455089e+11,\n",
       "        -4.01481674e+11,  -3.69906667e+11,  -3.30983935e+11,\n",
       "        -2.89770039e+11,  -2.36566815e+11,   2.29186288e+12,\n",
       "         2.41496121e+12,   2.43549558e+12,   2.28258340e+12,\n",
       "         2.33685165e+12,   2.55760851e+12,   2.64895740e+12,\n",
       "         2.58073464e+12,   2.28524001e+12,   2.23173327e+12,\n",
       "         2.30895912e+12,   2.32047576e+12,  -1.25705942e+13,\n",
       "        -1.22536966e+13,  -1.20489353e+13,  -1.20371146e+13,\n",
       "        -1.20548406e+13,  -1.18310944e+13,  -1.22855195e+13,\n",
       "        -1.27989182e+13,  -1.21342430e+13,  -1.20430266e+13,\n",
       "        -1.26602621e+13,  -1.19032125e+13,  -1.19688883e+13,\n",
       "        -1.25085176e+13,  -1.29140592e+13,  -1.31274607e+13,\n",
       "        -1.23746989e+13,  -1.28621197e+13,  -1.23057215e+13,\n",
       "        -1.16945147e+13,  -1.32127596e+13,  -1.22362987e+13,\n",
       "        -1.20784292e+13,  -1.19121925e+13,  -1.16332308e+13,\n",
       "        -1.24175869e+13,  -1.18521802e+13,  -1.29276873e+13,\n",
       "        -1.28456671e+13,  -1.18491705e+13,  -9.40316417e+12,\n",
       "         1.63023786e+13,   1.59334308e+13,   1.54112250e+13,\n",
       "         1.67998146e+13,   1.69587026e+13,   1.38624461e+13,\n",
       "         1.55453025e+13,   3.28981780e+11,   7.39681627e+11,\n",
       "         2.59297562e+11,   2.09649605e+12,   1.05549498e+12,\n",
       "         3.00353549e+12,   1.75056910e+12,   2.73301973e+11,\n",
       "         1.98578203e+12,   3.70477981e+11,   3.26710244e+11,\n",
       "         5.87009906e+11,   5.35044726e+11,   1.07188103e+12,\n",
       "         1.56443412e+12,   1.32630484e+12,   8.87503028e+11,\n",
       "         5.98201702e+11,   5.47019608e+10,   1.91388682e+11,\n",
       "         1.01624234e+12,  -1.17068129e+15,   7.16586428e+11,\n",
       "         2.67788640e+11,   1.59409859e+12,   7.38198478e+11,\n",
       "         3.85237300e+11,   5.25285087e+11,   9.01233601e+11,\n",
       "         8.58492841e+11,   5.17484544e+11,   1.65140261e+12,\n",
       "         3.24422657e+11,   6.01884640e+11,   4.40969177e+11,\n",
       "         1.23665974e+12,   6.70633483e+11,   4.48475588e+11,\n",
       "         5.47019608e+10,  -1.92123766e+13,  -1.31224736e+12,\n",
       "        -2.02478986e+13,  -1.97957382e+13,  -1.34247062e+13,\n",
       "        -3.27259929e+12,  -1.80720653e+12,  -6.86083586e+12,\n",
       "        -5.69187309e+12,  -1.00393113e+13,  -7.22769428e+12,\n",
       "        -1.49227483e+13,  -3.51760237e+13,  -1.07018708e+13,\n",
       "        -4.42369486e+13,  -1.54422799e+13,  -3.33011470e+13,\n",
       "        -7.51347761e+12,  -2.54168622e+13,  -1.04187777e+13,\n",
       "        -9.47627959e+13,  -9.63984031e+13,  -7.74919201e+12,\n",
       "        -2.84732908e+13,  -1.16891488e+13,  -2.39677555e+13,\n",
       "         1.42093147e+12,   2.01274234e+13,   1.63286135e+13,\n",
       "         1.44993157e+13,   1.39096363e+13,   1.20340205e+13,\n",
       "         1.02300001e+13,   8.70496589e+12,   7.78640156e+12,\n",
       "         6.77637464e+12,   6.05017087e+12,   5.20603571e+12,\n",
       "         4.71744824e+12,   4.17998204e+12,   7.31003629e+12,\n",
       "         2.55481665e+13,   2.59582663e+13,   3.40744460e+13,\n",
       "         2.97922964e+13,   3.61972679e+13,   1.99965413e+13,\n",
       "         1.92470547e+13,   9.81273225e+12,   1.50093131e+13,\n",
       "         2.35072282e+13,   1.71304473e+13])"
      ]
     },
     "execution_count": 57,
     "metadata": {},
     "output_type": "execute_result"
    }
   ],
   "source": [
    "lm.coef_ "
   ]
  },
  {
   "cell_type": "code",
   "execution_count": 40,
   "metadata": {
    "collapsed": true
   },
   "outputs": [],
   "source": [
    "weights = lm.coef_"
   ]
  },
  {
   "cell_type": "code",
   "execution_count": 41,
   "metadata": {
    "collapsed": false
   },
   "outputs": [
    {
     "data": {
      "text/plain": [
       "array([ -1.17068129e+15,  -9.63984031e+13,  -9.47627959e+13,\n",
       "        -4.42369486e+13,  -3.51760237e+13,  -3.33011470e+13,\n",
       "        -2.84732908e+13,  -2.54168622e+13,  -2.39677555e+13,\n",
       "        -2.02478986e+13,  -1.97957382e+13,  -1.92123766e+13,\n",
       "        -1.54422799e+13,  -1.49227483e+13,  -1.34247062e+13,\n",
       "        -1.32127596e+13,  -1.31274607e+13,  -1.29276873e+13,\n",
       "        -1.29140592e+13,  -1.28621197e+13,  -1.28456671e+13,\n",
       "        -1.27989182e+13,  -1.26602621e+13,  -1.25705942e+13,\n",
       "        -1.25085176e+13,  -1.24175869e+13,  -1.23746989e+13,\n",
       "        -1.23057215e+13,  -1.22855195e+13,  -1.22536966e+13,\n",
       "        -1.22362987e+13,  -1.21342430e+13,  -1.20784292e+13,\n",
       "        -1.20548406e+13,  -1.20489353e+13,  -1.20430266e+13,\n",
       "        -1.20371146e+13,  -1.19688883e+13,  -1.19121925e+13,\n",
       "        -1.19032125e+13,  -1.18521802e+13,  -1.18491705e+13,\n",
       "        -1.18310944e+13,  -1.16945147e+13,  -1.16891488e+13,\n",
       "        -1.16332308e+13,  -1.07018708e+13,  -1.04187777e+13,\n",
       "        -1.00393113e+13,  -9.40316417e+12,  -7.74919201e+12,\n",
       "        -7.51347761e+12,  -7.22769428e+12,  -6.86083586e+12,\n",
       "        -5.69187309e+12,  -3.27259929e+12,  -1.80720653e+12,\n",
       "        -1.31224736e+12,  -4.48040139e+11,  -4.14871787e+11,\n",
       "        -4.01481674e+11,  -4.00739467e+11,  -3.98633858e+11,\n",
       "        -3.93572864e+11,  -3.82628318e+11,  -3.71455089e+11,\n",
       "        -3.69906667e+11,  -3.67715149e+11,  -3.64668325e+11,\n",
       "        -3.50958132e+11,  -3.34029083e+11,  -3.33753639e+11,\n",
       "        -3.30983935e+11,  -2.94478869e+11,  -2.89770039e+11,\n",
       "        -2.36566815e+11,  -1.69404410e+11,  -2.23352162e-01,\n",
       "         5.47019608e+10,   5.47019608e+10,   1.91388682e+11,\n",
       "         2.59297562e+11,   2.67788640e+11,   2.73301973e+11,\n",
       "         3.24422657e+11,   3.26710244e+11,   3.28981780e+11,\n",
       "         3.70477981e+11,   3.85237300e+11,   4.40969177e+11,\n",
       "         4.48475588e+11,   5.17484544e+11,   5.25285087e+11,\n",
       "         5.35044726e+11,   5.87009906e+11,   5.98201702e+11,\n",
       "         6.01884640e+11,   6.70633483e+11,   7.16586428e+11,\n",
       "         7.38198478e+11,   7.39681627e+11,   8.58492841e+11,\n",
       "         8.87503028e+11,   9.01233601e+11,   1.01624234e+12,\n",
       "         1.05549498e+12,   1.07188103e+12,   1.23665974e+12,\n",
       "         1.32630484e+12,   1.42093147e+12,   1.56443412e+12,\n",
       "         1.59409859e+12,   1.65140261e+12,   1.75056910e+12,\n",
       "         1.98578203e+12,   2.09649605e+12,   2.23173327e+12,\n",
       "         2.28258340e+12,   2.28524001e+12,   2.29186288e+12,\n",
       "         2.30895912e+12,   2.32047576e+12,   2.33685165e+12,\n",
       "         2.41496121e+12,   2.43549558e+12,   2.55760851e+12,\n",
       "         2.58073464e+12,   2.64895740e+12,   3.00353549e+12,\n",
       "         4.17998204e+12,   4.71744824e+12,   5.20603571e+12,\n",
       "         6.05017087e+12,   6.77637464e+12,   7.31003629e+12,\n",
       "         7.78640156e+12,   8.70496589e+12,   9.81273225e+12,\n",
       "         1.02300001e+13,   1.20340205e+13,   1.38624461e+13,\n",
       "         1.39096363e+13,   1.44993157e+13,   1.50093131e+13,\n",
       "         1.54112250e+13,   1.55453025e+13,   1.59334308e+13,\n",
       "         1.63023786e+13,   1.63286135e+13,   1.67998146e+13,\n",
       "         1.69587026e+13,   1.71304473e+13,   1.92470547e+13,\n",
       "         1.99965413e+13,   2.01274234e+13,   2.35072282e+13,\n",
       "         2.55481665e+13,   2.59582663e+13,   2.97922964e+13,\n",
       "         3.40744460e+13,   3.61972679e+13])"
      ]
     },
     "execution_count": 41,
     "metadata": {},
     "output_type": "execute_result"
    }
   ],
   "source": [
    "np.sort(weights)"
   ]
  },
  {
   "cell_type": "code",
   "execution_count": 42,
   "metadata": {
    "collapsed": true
   },
   "outputs": [],
   "source": [
    "def fit_scatter(y_true, y_pred):\n",
    "    assert y_true.shape == y_pred.shape\n",
    "    fig, ax = plt.subplots()\n",
    "    ax.scatter(y_true, y_pred)\n",
    "    ax.plot([y_true.min(), y_true.max()], [y_true.min(), y_true.max()], 'k--', lw=4)\n",
    "    ax.set_xlabel('Measured')\n",
    "    ax.set_ylabel('Predicted')"
   ]
  },
  {
   "cell_type": "code",
   "execution_count": 43,
   "metadata": {
    "collapsed": false
   },
   "outputs": [
    {
     "data": {
      "image/png": "[encoded data removed]",
      "text/plain": [
       "<matplotlib.figure.Figure at 0x1572dda0>"
      ]
     },
     "metadata": {},
     "output_type": "display_data"
    }
   ],
   "source": [
    "prediction = lm.predict(X_test)\n",
    "fit_scatter(y_test, prediction)"
   ]
  },
  {
   "cell_type": "code",
   "execution_count": 81,
   "metadata": {
    "collapsed": false
   },
   "outputs": [
    {
     "data": {
      "image/png": "[encoded data removed]",
      "text/plain": [
       "<matplotlib.figure.Figure at 0x60d58a90>"
      ]
     },
     "metadata": {},
     "output_type": "display_data"
    }
   ],
   "source": [
    "g = sns.distplot(y_test-prediction, rug=True)"
   ]
  },
  {
   "cell_type": "code",
   "execution_count": null,
   "metadata": {
    "collapsed": true
   },
   "outputs": [],
   "source": []
  },
  {
   "cell_type": "code",
   "execution_count": null,
   "metadata": {
    "collapsed": true
   },
   "outputs": [],
   "source": []
  },
  {
   "cell_type": "code",
   "execution_count": 51,
   "metadata": {
    "collapsed": false
   },
   "outputs": [],
   "source": [
    "#clear_data_path = os.path.realpath(os.path.join(os.getcwd(), 'clear_data_holiday.csv'))\n",
    "#data_frame.to_csv(clear_data_path, index=False)"
   ]
  }
 ],
 "metadata": {
  "anaconda-cloud": {},
  "kernelspec": {
   "display_name": "Python [iaml]",
   "language": "python",
   "name": "Python [iaml]"
  },
  "language_info": {
   "codemirror_mode": {
    "name": "ipython",
    "version": 2
   },
   "file_extension": ".py",
   "mimetype": "text/x-python",
   "name": "python",
   "nbconvert_exporter": "python",
   "pygments_lexer": "ipython2",
   "version": "2.7.12"
  }
 },
 "nbformat": 4,
 "nbformat_minor": 2
}
