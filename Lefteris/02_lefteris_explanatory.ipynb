{
 "cells": [
  {
   "cell_type": "code",
   "execution_count": 135,
   "metadata": {
    "collapsed": false
   },
   "outputs": [],
   "source": [
    "from __future__ import division #, print_function # Imports from __future__ since we're running Python 2\n",
    "import os\n",
    "import numpy as np \n",
    "import pandas as pd\n",
    "import matplotlib.pyplot as plt\n",
    "import seaborn as sns\n",
    "from sklearn.preprocessing import LabelEncoder\n",
    "random_state = 10 # Ensure reproducible results\n",
    "%matplotlib inline\n",
    "plt.style.use('ggplot')"
   ]
  },
  {
   "cell_type": "code",
   "execution_count": 136,
   "metadata": {
    "collapsed": true
   },
   "outputs": [],
   "source": [
    "bad_column_name = \"unnamed\""
   ]
  },
  {
   "cell_type": "markdown",
   "metadata": {},
   "source": [
    "# Flying to New York City - Raw Data Preprocess"
   ]
  },
  {
   "cell_type": "code",
   "execution_count": 137,
   "metadata": {
    "collapsed": false
   },
   "outputs": [
    {
     "data": {
      "text/plain": [
       "'C:\\\\Users\\\\lmano\\\\Documents\\\\UoE\\\\2. DME\\\\DME project\\\\clear_data_new.csv'"
      ]
     },
     "execution_count": 137,
     "metadata": {},
     "output_type": "execute_result"
    }
   ],
   "source": [
    "path_data = os.path.realpath(os.path.join(os.getcwd(), 'clear_data_new.csv'))\n",
    "assert os.path.isfile(path_data)\n",
    "path_data"
   ]
  },
  {
   "cell_type": "code",
   "execution_count": 138,
   "metadata": {
    "collapsed": false
   },
   "outputs": [
    {
     "data": {
      "text/plain": [
       "(481662, 29)"
      ]
     },
     "execution_count": 138,
     "metadata": {},
     "output_type": "execute_result"
    }
   ],
   "source": [
    "data_frame = pd.read_csv(path_data, delimiter = ',', index_col=None, header=0)\n",
    "#all_pandas.append(data_full)\n",
    "#data_frame = pd.concat(all_pandas)\n",
    "data_frame.shape"
   ]
  },
  {
   "cell_type": "code",
   "execution_count": 139,
   "metadata": {
    "collapsed": false
   },
   "outputs": [
    {
     "name": "stdout",
     "output_type": "stream",
     "text": [
      "There are 481662 entries and 29 columns in the DataFrame\n"
     ]
    }
   ],
   "source": [
    "print(\"There are {} entries and {} columns in the DataFrame\"\\\n",
    "      .format(data_frame.shape[0], data_frame.shape[1]))"
   ]
  },
  {
   "cell_type": "markdown",
   "metadata": {},
   "source": [
    "### Unique values per feature"
   ]
  },
  {
   "cell_type": "code",
   "execution_count": 140,
   "metadata": {
    "collapsed": false
   },
   "outputs": [
    {
     "name": "stdout",
     "output_type": "stream",
     "text": [
      "\n",
      "QUARTER: \n",
      "[1 2 3 4]\n",
      "\n",
      "MONTH: \n",
      "[ 1  2  3  4  5  6  7  8  9 10 11 12]\n",
      "\n",
      "DAY_OF_MONTH: \n",
      "[ 4  5  6  7 16 17 18  2 12 13 14 15 25 26 27 21 22  1  3  8  9 10 11 20 19\n",
      " 30 31 28 29 23 24]\n",
      "\n",
      "DAY_OF_WEEK: \n",
      "[1 2 3 4 6 7 5]\n",
      "\n",
      "FL_DATE: \n",
      "Too large to show\n",
      "\n",
      "UNIQUE_CARRIER: \n",
      "['F9' 'HA' 'DL' 'NK' 'EV' 'OO' 'UA' 'VX' 'AA' 'AS' 'B6' 'WN']\n",
      "\n",
      "ORIGIN: \n",
      "['MIA' 'LGA' 'ATL' 'HNL' 'DTW' 'AUS' 'TPA' 'STT' 'PHX' 'FLL' 'CHS' 'BUF'\n",
      " 'DEN' 'MCO' 'SEA' 'SAT' 'DFW' 'LAX' 'SLC' 'LAS' 'PBI' 'ROC' 'JFK' 'SAN'\n",
      " 'MSY' 'ALB' 'BOS' 'RIC' 'SJU' 'SFO' 'ORD' 'MYR' 'IAG' 'HPN' 'PBG' 'SYR'\n",
      " 'EWR' 'ITH' 'BGM' 'IAH' 'MTJ' 'DAL' 'PSP' 'DCA' 'CLT' 'PIT' 'EGE' 'PHL'\n",
      " 'SWF' 'JAX' 'LGB' 'HOU' 'SJC' 'PSE' 'BQN' 'SAV' 'RDU' 'PDX' 'IAD' 'RSW'\n",
      " 'BTV' 'PWM' 'ABQ' 'RNO' 'SMF' 'SRQ' 'OAK' 'BUR' 'DAB' 'MSP' 'BNA' 'BWI'\n",
      " 'IND' 'ISP' 'STL' 'MCI' 'MDW' 'MKE' 'CMH' 'JAC' 'GRR' 'CLE' 'CVG' 'ELM'\n",
      " 'GSO' 'BHM' 'BGR' 'CAE' 'MSN' 'SDF' 'CHO' 'LEX' 'OMA' 'MHT' 'GSP' 'AGS'\n",
      " 'ORF' 'XNA' 'MVY' 'ACK' 'HYA' 'ILM' 'TYS' 'BZN' 'TVC' 'AVL' 'MEM' 'TUS'\n",
      " 'SBN']\n",
      "\n",
      "ORIGIN_CITY_NAME: \n",
      "['Miami, FL' 'New York, NY' 'Atlanta, GA' 'Honolulu, HI' 'Detroit, MI'\n",
      " 'Austin, TX' 'Tampa, FL' 'Charlotte Amalie, VI' 'Phoenix, AZ'\n",
      " 'Fort Lauderdale, FL' 'Charleston, SC' 'Buffalo, NY' 'Denver, CO'\n",
      " 'Orlando, FL' 'Seattle, WA' 'San Antonio, TX' 'Dallas/Fort Worth, TX'\n",
      " 'Los Angeles, CA' 'Salt Lake City, UT' 'Las Vegas, NV'\n",
      " 'West Palm Beach/Palm Beach, FL' 'Rochester, NY' 'San Diego, CA'\n",
      " 'New Orleans, LA' 'Albany, NY' 'Boston, MA' 'Richmond, VA' 'San Juan, PR'\n",
      " 'San Francisco, CA' 'Chicago, IL' 'Myrtle Beach, SC' 'Niagara Falls, NY'\n",
      " 'White Plains, NY' 'Plattsburgh, NY' 'Syracuse, NY' 'Newark, NJ'\n",
      " 'Ithaca/Cortland, NY' 'Binghamton, NY' 'Houston, TX' 'Montrose/Delta, CO'\n",
      " 'Dallas, TX' 'Palm Springs, CA' 'Washington, DC' 'Charlotte, NC'\n",
      " 'Pittsburgh, PA' 'Eagle, CO' 'Philadelphia, PA'\n",
      " 'Newburgh/Poughkeepsie, NY' 'Jacksonville, FL' 'Long Beach, CA'\n",
      " 'San Jose, CA' 'Ponce, PR' 'Aguadilla, PR' 'Savannah, GA'\n",
      " 'Raleigh/Durham, NC' 'Portland, OR' 'Fort Myers, FL' 'Burlington, VT'\n",
      " 'Portland, ME' 'Albuquerque, NM' 'Reno, NV' 'Sacramento, CA'\n",
      " 'Sarasota/Bradenton, FL' 'Oakland, CA' 'Burbank, CA' 'Daytona Beach, FL'\n",
      " 'Minneapolis, MN' 'Nashville, TN' 'Baltimore, MD' 'Indianapolis, IN'\n",
      " 'Islip, NY' 'St. Louis, MO' 'Kansas City, MO' 'Milwaukee, WI'\n",
      " 'Columbus, OH' 'Jackson, WY' 'Grand Rapids, MI' 'Cleveland, OH'\n",
      " 'Cincinnati, OH' 'Elmira/Corning, NY' 'Greensboro/High Point, NC'\n",
      " 'Birmingham, AL' 'Bangor, ME' 'Columbia, SC' 'Madison, WI'\n",
      " 'Louisville, KY' 'Charlottesville, VA' 'Lexington, KY' 'Omaha, NE'\n",
      " 'Manchester, NH' 'Greer, SC' 'Augusta, GA' 'Norfolk, VA'\n",
      " 'Fayetteville, AR' \"Martha's Vineyard, MA\" 'Nantucket, MA' 'Hyannis, MA'\n",
      " 'Wilmington, NC' 'Knoxville, TN' 'Bozeman, MT' 'Traverse City, MI'\n",
      " 'Asheville, NC' 'Memphis, TN' 'Tucson, AZ' 'South Bend, IN']\n",
      "\n",
      "ORIGIN_STATE_ABR: \n",
      "['FL' 'NY' 'GA' 'HI' 'MI' 'TX' 'VI' 'AZ' 'SC' 'CO' 'WA' 'CA' 'UT' 'NV' 'LA'\n",
      " 'MA' 'VA' 'PR' 'IL' 'NJ' 'NC' 'PA' 'OR' 'VT' 'ME' 'NM' 'MN' 'TN' 'MD' 'IN'\n",
      " 'MO' 'WI' 'OH' 'WY' 'KY' 'AL' 'NE' 'NH' 'AR' 'MT']\n",
      "\n",
      "ORIGIN_STATE_NM: \n",
      "['Florida' 'New York' 'Georgia' 'Hawaii' 'Michigan' 'Texas'\n",
      " 'U.S. Virgin Islands' 'Arizona' 'South Carolina' 'Colorado' 'Washington'\n",
      " 'California' 'Utah' 'Nevada' 'Louisiana' 'Massachusetts' 'Virginia'\n",
      " 'Puerto Rico' 'Illinois' 'New Jersey' 'North Carolina' 'Pennsylvania'\n",
      " 'Oregon' 'Vermont' 'Maine' 'New Mexico' 'Minnesota' 'Tennessee' 'Maryland'\n",
      " 'Indiana' 'Missouri' 'Wisconsin' 'Ohio' 'Wyoming' 'Kentucky' 'Alabama'\n",
      " 'Nebraska' 'New Hampshire' 'Arkansas' 'Montana']\n",
      "\n",
      "DEST: \n",
      "['LGA' 'MIA' 'ATL' 'JFK' 'DTW' 'DEN' 'BUF' 'FLL' 'MKE' 'ROC' 'DFW' 'PBI'\n",
      " 'MYR' 'MSP' 'SJU' 'BOS' 'CVG' 'RDU' 'MCO' 'CHS' 'ALB' 'TPA' 'SAN' 'PHL'\n",
      " 'PDX' 'LAX' 'LAS' 'SFO' 'PHX' 'SLC' 'AUS' 'SEA' 'STT' 'IAG' 'ORD' 'CLE'\n",
      " 'SYR' 'PBG' 'ITH' 'BGM' 'IAH' 'HNL' 'EWR' 'MTJ' 'DAL' 'PSP' 'DCA' 'CLT'\n",
      " 'EGE' 'JAX' 'SWF' 'HPN' 'MSY' 'HOU' 'SJC' 'PSE' 'BQN' 'SAV' 'RSW' 'LGB'\n",
      " 'IAD' 'BTV' 'ABQ' 'RNO' 'PWM' 'SMF' 'SRQ' 'OAK' 'BUR' 'DAB' 'JAC' 'BWI'\n",
      " 'MDW' 'ISP' 'BNA' 'IND' 'MCI' 'STL' 'CMH' 'GRR' 'SAT' 'RIC' 'ELM' 'GSO'\n",
      " 'CHO' 'CAE' 'BHM' 'SDF' 'PIT' 'LEX' 'BGR' 'MSN' 'OMA' 'MEM' 'MHT' 'GSP'\n",
      " 'ORF' 'XNA' 'MVY' 'ACK' 'HYA' 'ILM' 'AVL' 'BZN' 'TVC' 'TUS' 'TYS']\n",
      "\n",
      "DEST_CITY_NAME: \n",
      "['New York, NY' 'Miami, FL' 'Atlanta, GA' 'Detroit, MI' 'Denver, CO'\n",
      " 'Buffalo, NY' 'Fort Lauderdale, FL' 'Milwaukee, WI' 'Rochester, NY'\n",
      " 'Dallas/Fort Worth, TX' 'West Palm Beach/Palm Beach, FL'\n",
      " 'Myrtle Beach, SC' 'Minneapolis, MN' 'San Juan, PR' 'Boston, MA'\n",
      " 'Cincinnati, OH' 'Raleigh/Durham, NC' 'Orlando, FL' 'Charleston, SC'\n",
      " 'Albany, NY' 'Tampa, FL' 'San Diego, CA' 'Philadelphia, PA' 'Portland, OR'\n",
      " 'Los Angeles, CA' 'Las Vegas, NV' 'San Francisco, CA' 'Phoenix, AZ'\n",
      " 'Salt Lake City, UT' 'Austin, TX' 'Seattle, WA' 'Charlotte Amalie, VI'\n",
      " 'Niagara Falls, NY' 'Chicago, IL' 'Cleveland, OH' 'Syracuse, NY'\n",
      " 'Plattsburgh, NY' 'Ithaca/Cortland, NY' 'Binghamton, NY' 'Houston, TX'\n",
      " 'Honolulu, HI' 'Newark, NJ' 'Montrose/Delta, CO' 'Dallas, TX'\n",
      " 'Palm Springs, CA' 'Washington, DC' 'Charlotte, NC' 'Eagle, CO'\n",
      " 'Jacksonville, FL' 'Newburgh/Poughkeepsie, NY' 'White Plains, NY'\n",
      " 'New Orleans, LA' 'San Jose, CA' 'Ponce, PR' 'Aguadilla, PR'\n",
      " 'Savannah, GA' 'Fort Myers, FL' 'Long Beach, CA' 'Burlington, VT'\n",
      " 'Albuquerque, NM' 'Reno, NV' 'Portland, ME' 'Sacramento, CA'\n",
      " 'Sarasota/Bradenton, FL' 'Oakland, CA' 'Burbank, CA' 'Daytona Beach, FL'\n",
      " 'Jackson, WY' 'Baltimore, MD' 'Islip, NY' 'Nashville, TN'\n",
      " 'Indianapolis, IN' 'Kansas City, MO' 'St. Louis, MO' 'Columbus, OH'\n",
      " 'Grand Rapids, MI' 'San Antonio, TX' 'Richmond, VA' 'Elmira/Corning, NY'\n",
      " 'Greensboro/High Point, NC' 'Charlottesville, VA' 'Columbia, SC'\n",
      " 'Birmingham, AL' 'Louisville, KY' 'Pittsburgh, PA' 'Lexington, KY'\n",
      " 'Bangor, ME' 'Madison, WI' 'Omaha, NE' 'Memphis, TN' 'Manchester, NH'\n",
      " 'Greer, SC' 'Norfolk, VA' 'Fayetteville, AR' \"Martha's Vineyard, MA\"\n",
      " 'Nantucket, MA' 'Hyannis, MA' 'Wilmington, NC' 'Asheville, NC'\n",
      " 'Bozeman, MT' 'Traverse City, MI' 'Tucson, AZ' 'Knoxville, TN']\n",
      "\n",
      "DEST_STATE_ABR: \n",
      "['NY' 'FL' 'GA' 'MI' 'CO' 'WI' 'TX' 'SC' 'MN' 'PR' 'MA' 'KY' 'NC' 'CA' 'PA'\n",
      " 'OR' 'NV' 'AZ' 'UT' 'WA' 'VI' 'IL' 'OH' 'HI' 'NJ' 'VA' 'LA' 'VT' 'NM' 'ME'\n",
      " 'WY' 'MD' 'TN' 'IN' 'MO' 'AL' 'NE' 'NH' 'AR' 'MT']\n",
      "\n",
      "DEST_STATE_NM: \n",
      "['New York' 'Florida' 'Georgia' 'Michigan' 'Colorado' 'Wisconsin' 'Texas'\n",
      " 'South Carolina' 'Minnesota' 'Puerto Rico' 'Massachusetts' 'Kentucky'\n",
      " 'North Carolina' 'California' 'Pennsylvania' 'Oregon' 'Nevada' 'Arizona'\n",
      " 'Utah' 'Washington' 'U.S. Virgin Islands' 'Illinois' 'Ohio' 'Hawaii'\n",
      " 'New Jersey' 'Virginia' 'Louisiana' 'Vermont' 'New Mexico' 'Maine'\n",
      " 'Wyoming' 'Maryland' 'Tennessee' 'Indiana' 'Missouri' 'Alabama' 'Nebraska'\n",
      " 'New Hampshire' 'Arkansas' 'Montana']\n",
      "\n",
      "CRS_DEP_TIME: \n",
      "Too large to show\n",
      "\n",
      "DEP_TIME: \n",
      "Too large to show\n",
      "\n",
      "DEP_DELAY: \n",
      "Too large to show\n",
      "\n",
      "DEP_DEL15: \n",
      "[ 0.  1.]\n",
      "\n",
      "DEP_DELAY_GROUP: \n",
      "[  0.   1.  -1.  12.   8.   3.   2.   5.   4.   6.   7.   9.  -2.  11.  10.]\n",
      "\n",
      "DEP_TIME_BLK: \n",
      "['1300-1359' '1700-1759' '0600-0659' '0900-0959' '1600-1659' '1500-1559'\n",
      " '1200-1259' '1400-1459' '1900-1959' '0700-0759' '2200-2259' '1000-1059'\n",
      " '0800-0859' '2100-2159' '2000-2059' '1100-1159' '2300-2359' '1800-1859'\n",
      " '0001-0559']\n",
      "\n",
      "CRS_ARR_TIME: \n",
      "Too large to show\n",
      "\n",
      "ARR_TIME: \n",
      "Too large to show\n",
      "\n",
      "ARR_DELAY: \n",
      "Too large to show\n",
      "\n",
      "ARR_DEL15: \n",
      "[ 0.  1.]\n",
      "\n",
      "ARR_DELAY_GROUP: \n",
      "[ -2.   1.  -1.  12.   0.   8.   7.   3.   2.   4.   5.   6.  10.  11.   9.]\n",
      "\n",
      "CRS_ELAPSED_TIME: \n",
      "Too large to show\n",
      "\n",
      "ACTUAL_ELAPSED_TIME: \n",
      "Too large to show\n",
      "\n",
      "DISTANCE: \n",
      "Too large to show\n",
      "\n",
      "DISTANCE_GROUP: \n",
      "[ 5  4 11  3  7  9 10  6  8  1  2]\n"
     ]
    }
   ],
   "source": [
    "for column in data_frame:\n",
    "    print('\\n'+ column + ': ')\n",
    "    if (len(data_frame[column].unique()) < 150):\n",
    "        print(data_frame[column].unique())\n",
    "    else:\n",
    "        print('Too large to show')"
   ]
  },
  {
   "cell_type": "markdown",
   "metadata": {},
   "source": [
    "### Create holiday features"
   ]
  },
  {
   "cell_type": "code",
   "execution_count": 141,
   "metadata": {
    "collapsed": false
   },
   "outputs": [
    {
     "name": "stdout",
     "output_type": "stream",
     "text": [
      "Number of values for attribute QUARTER: 4 -- [1 2 3 4]\n",
      "Number of values for attribute MONTH: 12 -- [ 1  2  3  4  5  6  7  8  9 10 11 12]\n",
      "Number of values for attribute DAY_OF_MONTH: 31\n",
      "Number of values for attribute DAY_OF_WEEK: 7 -- [1 2 3 4 5 6 7]\n",
      "Number of values for attribute FL_DATE: 366\n",
      "Number of values for attribute UNIQUE_CARRIER: 12 -- ['AA' 'AS' 'B6' 'DL' 'EV' 'F9' 'HA' 'NK' 'OO' 'UA' 'VX' 'WN']\n",
      "Number of values for attribute ORIGIN: 109\n",
      "Number of values for attribute ORIGIN_CITY_NAME: 105\n",
      "Number of values for attribute ORIGIN_STATE_ABR: 40\n",
      "Number of values for attribute ORIGIN_STATE_NM: 40\n",
      "Number of values for attribute DEST: 107\n",
      "Number of values for attribute DEST_CITY_NAME: 103\n",
      "Number of values for attribute DEST_STATE_ABR: 40\n",
      "Number of values for attribute DEST_STATE_NM: 40\n",
      "Number of values for attribute CRS_DEP_TIME: 1127\n",
      "Number of values for attribute DEP_TIME: 1419\n",
      "Number of values for attribute DEP_DELAY: 864\n",
      "Number of values for attribute DEP_DEL15: 2 -- [ 0.  1.]\n",
      "Number of values for attribute DEP_DELAY_GROUP: 15 -- [ -2.  -1.   0.   1.   2.   3.   4.   5.   6.   7.   8.   9.  10.  11.  12.]\n",
      "Number of values for attribute DEP_TIME_BLK: 19 -- ['0001-0559' '0600-0659' '0700-0759' '0800-0859' '0900-0959' '1000-1059'\n",
      " '1100-1159' '1200-1259' '1300-1359' '1400-1459' '1500-1559' '1600-1659'\n",
      " '1700-1759' '1800-1859' '1900-1959' '2000-2059' '2100-2159' '2200-2259'\n",
      " '2300-2359']\n",
      "Number of values for attribute CRS_ARR_TIME: 1293\n",
      "Number of values for attribute ARR_TIME: 1440\n",
      "Number of values for attribute ARR_DELAY: 920\n",
      "Number of values for attribute ARR_DEL15: 2 -- [ 0.  1.]\n",
      "Number of values for attribute ARR_DELAY_GROUP: 15 -- [ -2.  -1.   0.   1.   2.   3.   4.   5.   6.   7.   8.   9.  10.  11.  12.]\n",
      "Number of values for attribute CRS_ELAPSED_TIME: 394\n",
      "Number of values for attribute ACTUAL_ELAPSED_TIME: 656\n",
      "Number of values for attribute DISTANCE: 198\n",
      "Number of values for attribute DISTANCE_GROUP: 11 -- [ 1  2  3  4  5  6  7  8  9 10 11]\n"
     ]
    }
   ],
   "source": [
    "for column in data_frame:\n",
    "    unique_vals = np.unique(data_frame[column])\n",
    "    nr_vals = len(unique_vals)\n",
    "    if nr_vals < 20:\n",
    "        print('Number of values for attribute {}: {} -- {}'.format(column, nr_vals, unique_vals))\n",
    "    else:\n",
    "        print('Number of values for attribute {}: {}'.format(column, nr_vals))"
   ]
  },
  {
   "cell_type": "code",
   "execution_count": 142,
   "metadata": {
    "collapsed": false
   },
   "outputs": [],
   "source": [
    "le_dict = dict() # Initialise an empty dictionary to keep all LabelEncoders\n",
    "df_hol = data_frame.copy(deep=True) # Make a copy of the DataFrame\n",
    "le = LabelEncoder().fit(data_frame['FL_DATE']) # Initialise the LabelEncoder and fit\n",
    "df_hol['FL_DATE'] = le.transform(data_frame['FL_DATE']) # Transform data and save in credit_clean DataFrame\n",
    "le_dict['FL_DATE'] = le # Store the LabelEncdoer in dictionary\n",
    "\n",
    "# increase the day by one because Label Encoder starts from 0"
   ]
  },
  {
   "cell_type": "code",
   "execution_count": 143,
   "metadata": {
    "collapsed": false
   },
   "outputs": [],
   "source": [
    "# source: http://www.officeholidays.com/calendars/year_planner/index.php?planner_year=2016&planner_country=USA\n",
    "# Jan 01: New Years Day\n",
    "# Jan 18: Martin Luther King Day\n",
    "# Feb 12: Lincoln's Birthday (Only New York)\n",
    "# Feb 15: Presidents' Day\n",
    "# Apr 15: Emancipation Day\n",
    "# May 08: Mother's Day\n",
    "# May 30: Memorial Day\n",
    "# Jun 19: Father's Day\n",
    "# Jul 04: Independence Day\n",
    "# Sep 05: Labor Day\n",
    "# Oct 10: Columbus Day\n",
    "# Nov 11: Veterans Day\n",
    "# Nov 24: Thanksgiving\n",
    "# Nov 25: Day after Thanksgiving\n",
    "# Dec 26: Christmas Day (in lieu)\n",
    "\n",
    "# pick: Jan1, Jan18, Feb12, Apr15, May30, Jul4, Sep05, Oct10, Nov11, Nov24, Nov25, Dec26 \n",
    "holidays = [0, 17, 42, 105, 150, 165, 248, 283, 315, 328, 329, 360]\n",
    "    "
   ]
  },
  {
   "cell_type": "code",
   "execution_count": 144,
   "metadata": {
    "collapsed": false
   },
   "outputs": [],
   "source": [
    "# make a binary holiday feature (if on holiday or not)\n",
    "isholiday = np.zeros(df_hol.shape[0])\n",
    "i = 0\n",
    "for day in df_hol['FL_DATE']:\n",
    "    if (day in holidays):\n",
    "        isholiday[i] = 1\n",
    "    i += 1"
   ]
  },
  {
   "cell_type": "code",
   "execution_count": 145,
   "metadata": {
    "collapsed": false
   },
   "outputs": [
    {
     "name": "stdout",
     "output_type": "stream",
     "text": [
      "The percentage of days that are holidays is: 3.27868852459\n",
      "The percentage of flights on holidays is: 3.20888922107\n",
      "So maybe slightly less people travel by plane on holidays.\n"
     ]
    }
   ],
   "source": [
    "print('The percentage of days that are holidays is: {}'.format((len(holidays)*100)/366))\n",
    "print('The percentage of flights on holidays is: {}'.format(np.mean(isholiday)*100))\n",
    "print('So maybe slightly less people travel by plane on holidays.')"
   ]
  },
  {
   "cell_type": "code",
   "execution_count": 146,
   "metadata": {
    "collapsed": false
   },
   "outputs": [],
   "source": [
    "df_hol['IS_HOLIDAY'] = isholiday"
   ]
  },
  {
   "cell_type": "code",
   "execution_count": 147,
   "metadata": {
    "collapsed": false
   },
   "outputs": [],
   "source": [
    "# make aa feature for the days from the next closest holiday\n",
    "DAYS_TO_NEXT_HOLIDAY = np.zeros(df_hol.shape[0])\n",
    "i = 0\n",
    "for day in df_hol['FL_DATE']:\n",
    "    for holiday in holidays:\n",
    "        if holiday >= day:\n",
    "            DAYS_TO_NEXT_HOLIDAY[i] = holiday - day\n",
    "            break\n",
    "    i += 1"
   ]
  },
  {
   "cell_type": "code",
   "execution_count": 148,
   "metadata": {
    "collapsed": true
   },
   "outputs": [],
   "source": [
    "df_hol['DAYS_TO_NEXT_HOLIDAY'] = DAYS_TO_NEXT_HOLIDAY"
   ]
  },
  {
   "cell_type": "code",
   "execution_count": 149,
   "metadata": {
    "collapsed": false
   },
   "outputs": [],
   "source": [
    "# make a feature for the days from the previous closest holiday\n",
    "DAYS_FROM_LAST_HOLIDAY = np.zeros(df_hol.shape[0])\n",
    "i = 0\n",
    "for day in df_hol['FL_DATE']:\n",
    "    for holiday in reversed(holidays):\n",
    "        if holiday <= day:\n",
    "            DAYS_FROM_LAST_HOLIDAY[i] = day - holiday\n",
    "            break    \n",
    "    i += 1"
   ]
  },
  {
   "cell_type": "code",
   "execution_count": 150,
   "metadata": {
    "collapsed": true
   },
   "outputs": [],
   "source": [
    "df_hol['DAYS_FROM_LAST_HOLIDAY'] = DAYS_FROM_LAST_HOLIDAY"
   ]
  },
  {
   "cell_type": "code",
   "execution_count": 151,
   "metadata": {
    "collapsed": false
   },
   "outputs": [],
   "source": [
    "# make a feature for the days from the closest holiday\n",
    "df_hol['DAYS_FROM_NEAREST_HOLIDAY'] = df_hol[['DAYS_FROM_LAST_HOLIDAY', 'DAYS_TO_NEXT_HOLIDAY']].min(axis=1)   "
   ]
  },
  {
   "cell_type": "code",
   "execution_count": 152,
   "metadata": {
    "collapsed": false
   },
   "outputs": [
    {
     "name": "stdout",
     "output_type": "stream",
     "text": [
      "The mean number of days to the next holiday is: 23.6206883665\n",
      "The mean number of days from the previous holiday is: 23.5910015737\n",
      "The mean number of days to nearest holiday is: 12.0914749347\n"
     ]
    }
   ],
   "source": [
    "print('The mean number of days to the next holiday is: {}'.format(np.mean(df_hol['DAYS_TO_NEXT_HOLIDAY'])))\n",
    "print('The mean number of days from the previous holiday is: {}'.format(np.mean(df_hol['DAYS_FROM_LAST_HOLIDAY'])))\n",
    "print('The mean number of days to nearest holiday is: {}'.format(np.mean(df_hol['DAYS_FROM_NEAREST_HOLIDAY'])))"
   ]
  },
  {
   "cell_type": "markdown",
   "metadata": {},
   "source": [
    "### Outliers detection"
   ]
  },
  {
   "cell_type": "markdown",
   "metadata": {},
   "source": [
    "#### Find departure delay outliers"
   ]
  },
  {
   "cell_type": "code",
   "execution_count": 153,
   "metadata": {
    "collapsed": false
   },
   "outputs": [
    {
     "data": {
      "text/html": [
       "<div>\n",
       "<table border=\"1\" class=\"dataframe\">\n",
       "  <thead>\n",
       "    <tr style=\"text-align: right;\">\n",
       "      <th></th>\n",
       "      <th>QUARTER</th>\n",
       "      <th>MONTH</th>\n",
       "      <th>DAY_OF_MONTH</th>\n",
       "      <th>DAY_OF_WEEK</th>\n",
       "      <th>FL_DATE</th>\n",
       "      <th>CRS_DEP_TIME</th>\n",
       "      <th>DEP_TIME</th>\n",
       "      <th>DEP_DELAY</th>\n",
       "      <th>DEP_DEL15</th>\n",
       "      <th>DEP_DELAY_GROUP</th>\n",
       "      <th>...</th>\n",
       "      <th>ARR_DEL15</th>\n",
       "      <th>ARR_DELAY_GROUP</th>\n",
       "      <th>CRS_ELAPSED_TIME</th>\n",
       "      <th>ACTUAL_ELAPSED_TIME</th>\n",
       "      <th>DISTANCE</th>\n",
       "      <th>DISTANCE_GROUP</th>\n",
       "      <th>IS_HOLIDAY</th>\n",
       "      <th>DAYS_TO_NEXT_HOLIDAY</th>\n",
       "      <th>DAYS_FROM_LAST_HOLIDAY</th>\n",
       "      <th>DAYS_FROM_NEAREST_HOLIDAY</th>\n",
       "    </tr>\n",
       "  </thead>\n",
       "  <tbody>\n",
       "    <tr>\n",
       "      <th>count</th>\n",
       "      <td>481662.000000</td>\n",
       "      <td>481662.000000</td>\n",
       "      <td>481662.000000</td>\n",
       "      <td>481662.000000</td>\n",
       "      <td>481662.000000</td>\n",
       "      <td>481662.000000</td>\n",
       "      <td>481662.000000</td>\n",
       "      <td>481662.000000</td>\n",
       "      <td>481662.000000</td>\n",
       "      <td>481662.000000</td>\n",
       "      <td>...</td>\n",
       "      <td>481662.000000</td>\n",
       "      <td>481662.000000</td>\n",
       "      <td>481662.000000</td>\n",
       "      <td>481662.000000</td>\n",
       "      <td>481662.000000</td>\n",
       "      <td>481662.000000</td>\n",
       "      <td>481662.000000</td>\n",
       "      <td>481662.000000</td>\n",
       "      <td>481662.000000</td>\n",
       "      <td>481662.000000</td>\n",
       "    </tr>\n",
       "    <tr>\n",
       "      <th>mean</th>\n",
       "      <td>2.497675</td>\n",
       "      <td>6.501188</td>\n",
       "      <td>15.755831</td>\n",
       "      <td>3.902699</td>\n",
       "      <td>182.109114</td>\n",
       "      <td>1334.302590</td>\n",
       "      <td>1332.402668</td>\n",
       "      <td>12.720954</td>\n",
       "      <td>0.209668</td>\n",
       "      <td>0.209001</td>\n",
       "      <td>...</td>\n",
       "      <td>0.214844</td>\n",
       "      <td>-0.118467</td>\n",
       "      <td>179.016011</td>\n",
       "      <td>171.958458</td>\n",
       "      <td>1056.063204</td>\n",
       "      <td>4.700780</td>\n",
       "      <td>0.032089</td>\n",
       "      <td>23.620688</td>\n",
       "      <td>23.591002</td>\n",
       "      <td>12.091475</td>\n",
       "    </tr>\n",
       "    <tr>\n",
       "      <th>std</th>\n",
       "      <td>1.105716</td>\n",
       "      <td>3.397049</td>\n",
       "      <td>8.796962</td>\n",
       "      <td>1.978143</td>\n",
       "      <td>104.058219</td>\n",
       "      <td>492.958409</td>\n",
       "      <td>513.927984</td>\n",
       "      <td>47.310783</td>\n",
       "      <td>0.407072</td>\n",
       "      <td>2.396745</td>\n",
       "      <td>...</td>\n",
       "      <td>0.410714</td>\n",
       "      <td>2.598493</td>\n",
       "      <td>88.872756</td>\n",
       "      <td>88.346760</td>\n",
       "      <td>719.024115</td>\n",
       "      <td>2.780201</td>\n",
       "      <td>0.176236</td>\n",
       "      <td>19.782236</td>\n",
       "      <td>19.664201</td>\n",
       "      <td>9.916251</td>\n",
       "    </tr>\n",
       "    <tr>\n",
       "      <th>min</th>\n",
       "      <td>1.000000</td>\n",
       "      <td>1.000000</td>\n",
       "      <td>1.000000</td>\n",
       "      <td>1.000000</td>\n",
       "      <td>0.000000</td>\n",
       "      <td>2.000000</td>\n",
       "      <td>1.000000</td>\n",
       "      <td>-149.000000</td>\n",
       "      <td>0.000000</td>\n",
       "      <td>-2.000000</td>\n",
       "      <td>...</td>\n",
       "      <td>0.000000</td>\n",
       "      <td>-2.000000</td>\n",
       "      <td>49.000000</td>\n",
       "      <td>34.000000</td>\n",
       "      <td>94.000000</td>\n",
       "      <td>1.000000</td>\n",
       "      <td>0.000000</td>\n",
       "      <td>0.000000</td>\n",
       "      <td>0.000000</td>\n",
       "      <td>0.000000</td>\n",
       "    </tr>\n",
       "    <tr>\n",
       "      <th>25%</th>\n",
       "      <td>2.000000</td>\n",
       "      <td>4.000000</td>\n",
       "      <td>8.000000</td>\n",
       "      <td>2.000000</td>\n",
       "      <td>93.000000</td>\n",
       "      <td>907.000000</td>\n",
       "      <td>904.000000</td>\n",
       "      <td>-5.000000</td>\n",
       "      <td>0.000000</td>\n",
       "      <td>-1.000000</td>\n",
       "      <td>...</td>\n",
       "      <td>0.000000</td>\n",
       "      <td>-2.000000</td>\n",
       "      <td>115.000000</td>\n",
       "      <td>109.000000</td>\n",
       "      <td>541.000000</td>\n",
       "      <td>3.000000</td>\n",
       "      <td>0.000000</td>\n",
       "      <td>8.000000</td>\n",
       "      <td>8.000000</td>\n",
       "      <td>4.000000</td>\n",
       "    </tr>\n",
       "    <tr>\n",
       "      <th>50%</th>\n",
       "      <td>2.000000</td>\n",
       "      <td>6.000000</td>\n",
       "      <td>16.000000</td>\n",
       "      <td>4.000000</td>\n",
       "      <td>181.000000</td>\n",
       "      <td>1325.000000</td>\n",
       "      <td>1327.000000</td>\n",
       "      <td>-2.000000</td>\n",
       "      <td>0.000000</td>\n",
       "      <td>-1.000000</td>\n",
       "      <td>...</td>\n",
       "      <td>0.000000</td>\n",
       "      <td>-1.000000</td>\n",
       "      <td>163.000000</td>\n",
       "      <td>154.000000</td>\n",
       "      <td>944.000000</td>\n",
       "      <td>4.000000</td>\n",
       "      <td>0.000000</td>\n",
       "      <td>18.000000</td>\n",
       "      <td>18.000000</td>\n",
       "      <td>10.000000</td>\n",
       "    </tr>\n",
       "    <tr>\n",
       "      <th>75%</th>\n",
       "      <td>3.000000</td>\n",
       "      <td>9.000000</td>\n",
       "      <td>23.000000</td>\n",
       "      <td>6.000000</td>\n",
       "      <td>271.000000</td>\n",
       "      <td>1735.000000</td>\n",
       "      <td>1746.000000</td>\n",
       "      <td>9.000000</td>\n",
       "      <td>0.000000</td>\n",
       "      <td>0.000000</td>\n",
       "      <td>...</td>\n",
       "      <td>0.000000</td>\n",
       "      <td>0.000000</td>\n",
       "      <td>210.000000</td>\n",
       "      <td>208.000000</td>\n",
       "      <td>1389.000000</td>\n",
       "      <td>6.000000</td>\n",
       "      <td>0.000000</td>\n",
       "      <td>34.000000</td>\n",
       "      <td>34.000000</td>\n",
       "      <td>17.000000</td>\n",
       "    </tr>\n",
       "    <tr>\n",
       "      <th>max</th>\n",
       "      <td>4.000000</td>\n",
       "      <td>12.000000</td>\n",
       "      <td>31.000000</td>\n",
       "      <td>7.000000</td>\n",
       "      <td>365.000000</td>\n",
       "      <td>2359.000000</td>\n",
       "      <td>2400.000000</td>\n",
       "      <td>1435.000000</td>\n",
       "      <td>1.000000</td>\n",
       "      <td>12.000000</td>\n",
       "      <td>...</td>\n",
       "      <td>1.000000</td>\n",
       "      <td>12.000000</td>\n",
       "      <td>705.000000</td>\n",
       "      <td>769.000000</td>\n",
       "      <td>4983.000000</td>\n",
       "      <td>11.000000</td>\n",
       "      <td>1.000000</td>\n",
       "      <td>82.000000</td>\n",
       "      <td>82.000000</td>\n",
       "      <td>41.000000</td>\n",
       "    </tr>\n",
       "  </tbody>\n",
       "</table>\n",
       "<p>8 rows × 23 columns</p>\n",
       "</div>"
      ],
      "text/plain": [
       "             QUARTER          MONTH   DAY_OF_MONTH    DAY_OF_WEEK  \\\n",
       "count  481662.000000  481662.000000  481662.000000  481662.000000   \n",
       "mean        2.497675       6.501188      15.755831       3.902699   \n",
       "std         1.105716       3.397049       8.796962       1.978143   \n",
       "min         1.000000       1.000000       1.000000       1.000000   \n",
       "25%         2.000000       4.000000       8.000000       2.000000   \n",
       "50%         2.000000       6.000000      16.000000       4.000000   \n",
       "75%         3.000000       9.000000      23.000000       6.000000   \n",
       "max         4.000000      12.000000      31.000000       7.000000   \n",
       "\n",
       "             FL_DATE   CRS_DEP_TIME       DEP_TIME      DEP_DELAY  \\\n",
       "count  481662.000000  481662.000000  481662.000000  481662.000000   \n",
       "mean      182.109114    1334.302590    1332.402668      12.720954   \n",
       "std       104.058219     492.958409     513.927984      47.310783   \n",
       "min         0.000000       2.000000       1.000000    -149.000000   \n",
       "25%        93.000000     907.000000     904.000000      -5.000000   \n",
       "50%       181.000000    1325.000000    1327.000000      -2.000000   \n",
       "75%       271.000000    1735.000000    1746.000000       9.000000   \n",
       "max       365.000000    2359.000000    2400.000000    1435.000000   \n",
       "\n",
       "           DEP_DEL15  DEP_DELAY_GROUP            ...              \\\n",
       "count  481662.000000    481662.000000            ...               \n",
       "mean        0.209668         0.209001            ...               \n",
       "std         0.407072         2.396745            ...               \n",
       "min         0.000000        -2.000000            ...               \n",
       "25%         0.000000        -1.000000            ...               \n",
       "50%         0.000000        -1.000000            ...               \n",
       "75%         0.000000         0.000000            ...               \n",
       "max         1.000000        12.000000            ...               \n",
       "\n",
       "           ARR_DEL15  ARR_DELAY_GROUP  CRS_ELAPSED_TIME  ACTUAL_ELAPSED_TIME  \\\n",
       "count  481662.000000    481662.000000     481662.000000        481662.000000   \n",
       "mean        0.214844        -0.118467        179.016011           171.958458   \n",
       "std         0.410714         2.598493         88.872756            88.346760   \n",
       "min         0.000000        -2.000000         49.000000            34.000000   \n",
       "25%         0.000000        -2.000000        115.000000           109.000000   \n",
       "50%         0.000000        -1.000000        163.000000           154.000000   \n",
       "75%         0.000000         0.000000        210.000000           208.000000   \n",
       "max         1.000000        12.000000        705.000000           769.000000   \n",
       "\n",
       "            DISTANCE  DISTANCE_GROUP     IS_HOLIDAY  DAYS_TO_NEXT_HOLIDAY  \\\n",
       "count  481662.000000   481662.000000  481662.000000         481662.000000   \n",
       "mean     1056.063204        4.700780       0.032089             23.620688   \n",
       "std       719.024115        2.780201       0.176236             19.782236   \n",
       "min        94.000000        1.000000       0.000000              0.000000   \n",
       "25%       541.000000        3.000000       0.000000              8.000000   \n",
       "50%       944.000000        4.000000       0.000000             18.000000   \n",
       "75%      1389.000000        6.000000       0.000000             34.000000   \n",
       "max      4983.000000       11.000000       1.000000             82.000000   \n",
       "\n",
       "       DAYS_FROM_LAST_HOLIDAY  DAYS_FROM_NEAREST_HOLIDAY  \n",
       "count           481662.000000              481662.000000  \n",
       "mean                23.591002                  12.091475  \n",
       "std                 19.664201                   9.916251  \n",
       "min                  0.000000                   0.000000  \n",
       "25%                  8.000000                   4.000000  \n",
       "50%                 18.000000                  10.000000  \n",
       "75%                 34.000000                  17.000000  \n",
       "max                 82.000000                  41.000000  \n",
       "\n",
       "[8 rows x 23 columns]"
      ]
     },
     "execution_count": 153,
     "metadata": {},
     "output_type": "execute_result"
    }
   ],
   "source": [
    "df_hol.describe()"
   ]
  },
  {
   "cell_type": "code",
   "execution_count": 154,
   "metadata": {
    "collapsed": false
   },
   "outputs": [
    {
     "data": {
      "text/plain": [
       "Index([u'QUARTER', u'MONTH', u'DAY_OF_MONTH', u'DAY_OF_WEEK', u'FL_DATE',\n",
       "       u'UNIQUE_CARRIER', u'ORIGIN', u'ORIGIN_CITY_NAME', u'ORIGIN_STATE_ABR',\n",
       "       u'ORIGIN_STATE_NM', u'DEST', u'DEST_CITY_NAME', u'DEST_STATE_ABR',\n",
       "       u'DEST_STATE_NM', u'CRS_DEP_TIME', u'DEP_TIME', u'DEP_DELAY',\n",
       "       u'DEP_DEL15', u'DEP_DELAY_GROUP', u'DEP_TIME_BLK', u'CRS_ARR_TIME',\n",
       "       u'ARR_TIME', u'ARR_DELAY', u'ARR_DEL15', u'ARR_DELAY_GROUP',\n",
       "       u'CRS_ELAPSED_TIME', u'ACTUAL_ELAPSED_TIME', u'DISTANCE',\n",
       "       u'DISTANCE_GROUP', u'IS_HOLIDAY', u'DAYS_TO_NEXT_HOLIDAY',\n",
       "       u'DAYS_FROM_LAST_HOLIDAY', u'DAYS_FROM_NEAREST_HOLIDAY'],\n",
       "      dtype='object')"
      ]
     },
     "execution_count": 154,
     "metadata": {},
     "output_type": "execute_result"
    }
   ],
   "source": [
    "df_hol.columns"
   ]
  },
  {
   "cell_type": "code",
   "execution_count": 155,
   "metadata": {
    "collapsed": false
   },
   "outputs": [
    {
     "data": {
      "text/plain": [
       "[<matplotlib.lines.Line2D at 0xaf14a470>]"
      ]
     },
     "execution_count": 155,
     "metadata": {},
     "output_type": "execute_result"
    },
    {
     "data": {
      "image/png": "[encoded data removed]",
      "text/plain": [
       "<matplotlib.figure.Figure at 0x2546b780>"
      ]
     },
     "metadata": {},
     "output_type": "display_data"
    }
   ],
   "source": [
    "plt.plot(np.arange(df_hol.shape[0]), df_hol[\"DEP_DELAY\"], \"ob\")"
   ]
  },
  {
   "cell_type": "code",
   "execution_count": 161,
   "metadata": {
    "collapsed": false
   },
   "outputs": [
    {
     "data": {
      "text/plain": [
       "1828"
      ]
     },
     "execution_count": 161,
     "metadata": {},
     "output_type": "execute_result"
    }
   ],
   "source": [
    "temp = df_hol[df_hol[\"DEP_DELAY\"]>300]\n",
    "len(temp)"
   ]
  },
  {
   "cell_type": "code",
   "execution_count": 159,
   "metadata": {
    "collapsed": false
   },
   "outputs": [
    {
     "data": {
      "text/plain": [
       "(array([ 883.,  377.,  151.,   71.,   61.,   47.,   65.,   44.,   57.,\n",
       "          32.,   16.,   16.,    2.,    3.,    3.]),\n",
       " array([  301. ,   376.6,   452.2,   527.8,   603.4,   679. ,   754.6,\n",
       "          830.2,   905.8,   981.4,  1057. ,  1132.6,  1208.2,  1283.8,\n",
       "         1359.4,  1435. ]),\n",
       " <a list of 15 Patch objects>)"
      ]
     },
     "execution_count": 159,
     "metadata": {},
     "output_type": "execute_result"
    },
    {
     "data": {
      "image/png": "[encoded data removed]",
      "text/plain": [
       "<matplotlib.figure.Figure at 0xb0013160>"
      ]
     },
     "metadata": {},
     "output_type": "display_data"
    }
   ],
   "source": [
    "plt.hist(temp[\"DEP_DELAY\"], bins=15)"
   ]
  },
  {
   "cell_type": "markdown",
   "metadata": {},
   "source": [
    "We must drop only 1828 of 481662 if we want to drop flighs with delays more the 300 minutes!"
   ]
  },
  {
   "cell_type": "code",
   "execution_count": 163,
   "metadata": {
    "collapsed": true
   },
   "outputs": [],
   "source": [
    "df_hol = df_hol[df_hol[\"DEP_DELAY\"]<300]"
   ]
  },
  {
   "cell_type": "markdown",
   "metadata": {},
   "source": [
    "#### Find arrival delay outliers"
   ]
  },
  {
   "cell_type": "code",
   "execution_count": 170,
   "metadata": {
    "collapsed": false
   },
   "outputs": [
    {
     "data": {
      "text/html": [
       "<div>\n",
       "<table border=\"1\" class=\"dataframe\">\n",
       "  <thead>\n",
       "    <tr style=\"text-align: right;\">\n",
       "      <th></th>\n",
       "      <th>QUARTER</th>\n",
       "      <th>MONTH</th>\n",
       "      <th>DAY_OF_MONTH</th>\n",
       "      <th>DAY_OF_WEEK</th>\n",
       "      <th>FL_DATE</th>\n",
       "      <th>CRS_DEP_TIME</th>\n",
       "      <th>DEP_TIME</th>\n",
       "      <th>DEP_DELAY</th>\n",
       "      <th>DEP_DEL15</th>\n",
       "      <th>DEP_DELAY_GROUP</th>\n",
       "      <th>...</th>\n",
       "      <th>ARR_DEL15</th>\n",
       "      <th>ARR_DELAY_GROUP</th>\n",
       "      <th>CRS_ELAPSED_TIME</th>\n",
       "      <th>ACTUAL_ELAPSED_TIME</th>\n",
       "      <th>DISTANCE</th>\n",
       "      <th>DISTANCE_GROUP</th>\n",
       "      <th>IS_HOLIDAY</th>\n",
       "      <th>DAYS_TO_NEXT_HOLIDAY</th>\n",
       "      <th>DAYS_FROM_LAST_HOLIDAY</th>\n",
       "      <th>DAYS_FROM_NEAREST_HOLIDAY</th>\n",
       "    </tr>\n",
       "  </thead>\n",
       "  <tbody>\n",
       "    <tr>\n",
       "      <th>count</th>\n",
       "      <td>479820.000000</td>\n",
       "      <td>479820.000000</td>\n",
       "      <td>479820.000000</td>\n",
       "      <td>479820.000000</td>\n",
       "      <td>479820.000000</td>\n",
       "      <td>479820.000000</td>\n",
       "      <td>479820.000000</td>\n",
       "      <td>479820.000000</td>\n",
       "      <td>479820.000000</td>\n",
       "      <td>479820.000000</td>\n",
       "      <td>...</td>\n",
       "      <td>479820.000000</td>\n",
       "      <td>479820.000000</td>\n",
       "      <td>479820.000000</td>\n",
       "      <td>479820.000000</td>\n",
       "      <td>479820.000000</td>\n",
       "      <td>479820.000000</td>\n",
       "      <td>479820.000000</td>\n",
       "      <td>479820.000000</td>\n",
       "      <td>479820.000000</td>\n",
       "      <td>479820.000000</td>\n",
       "    </tr>\n",
       "    <tr>\n",
       "      <th>mean</th>\n",
       "      <td>2.497499</td>\n",
       "      <td>6.501048</td>\n",
       "      <td>15.757232</td>\n",
       "      <td>3.902393</td>\n",
       "      <td>182.106392</td>\n",
       "      <td>1333.889186</td>\n",
       "      <td>1332.136451</td>\n",
       "      <td>10.976789</td>\n",
       "      <td>0.206634</td>\n",
       "      <td>0.163736</td>\n",
       "      <td>...</td>\n",
       "      <td>0.211829</td>\n",
       "      <td>-0.164989</td>\n",
       "      <td>179.035436</td>\n",
       "      <td>171.975480</td>\n",
       "      <td>1056.345569</td>\n",
       "      <td>4.701786</td>\n",
       "      <td>0.032158</td>\n",
       "      <td>23.591793</td>\n",
       "      <td>23.579567</td>\n",
       "      <td>12.076527</td>\n",
       "    </tr>\n",
       "    <tr>\n",
       "      <th>std</th>\n",
       "      <td>1.105968</td>\n",
       "      <td>3.397790</td>\n",
       "      <td>8.795682</td>\n",
       "      <td>1.978034</td>\n",
       "      <td>104.079420</td>\n",
       "      <td>493.017947</td>\n",
       "      <td>512.784894</td>\n",
       "      <td>35.835438</td>\n",
       "      <td>0.404891</td>\n",
       "      <td>2.287066</td>\n",
       "      <td>...</td>\n",
       "      <td>0.408605</td>\n",
       "      <td>2.492418</td>\n",
       "      <td>88.902505</td>\n",
       "      <td>88.376442</td>\n",
       "      <td>719.236564</td>\n",
       "      <td>2.781173</td>\n",
       "      <td>0.176419</td>\n",
       "      <td>19.765712</td>\n",
       "      <td>19.663812</td>\n",
       "      <td>9.903900</td>\n",
       "    </tr>\n",
       "    <tr>\n",
       "      <th>min</th>\n",
       "      <td>1.000000</td>\n",
       "      <td>1.000000</td>\n",
       "      <td>1.000000</td>\n",
       "      <td>1.000000</td>\n",
       "      <td>0.000000</td>\n",
       "      <td>2.000000</td>\n",
       "      <td>1.000000</td>\n",
       "      <td>-149.000000</td>\n",
       "      <td>0.000000</td>\n",
       "      <td>-2.000000</td>\n",
       "      <td>...</td>\n",
       "      <td>0.000000</td>\n",
       "      <td>-2.000000</td>\n",
       "      <td>49.000000</td>\n",
       "      <td>34.000000</td>\n",
       "      <td>94.000000</td>\n",
       "      <td>1.000000</td>\n",
       "      <td>0.000000</td>\n",
       "      <td>0.000000</td>\n",
       "      <td>0.000000</td>\n",
       "      <td>0.000000</td>\n",
       "    </tr>\n",
       "    <tr>\n",
       "      <th>25%</th>\n",
       "      <td>2.000000</td>\n",
       "      <td>4.000000</td>\n",
       "      <td>8.000000</td>\n",
       "      <td>2.000000</td>\n",
       "      <td>93.000000</td>\n",
       "      <td>906.000000</td>\n",
       "      <td>904.000000</td>\n",
       "      <td>-5.000000</td>\n",
       "      <td>0.000000</td>\n",
       "      <td>-1.000000</td>\n",
       "      <td>...</td>\n",
       "      <td>0.000000</td>\n",
       "      <td>-2.000000</td>\n",
       "      <td>115.000000</td>\n",
       "      <td>109.000000</td>\n",
       "      <td>541.000000</td>\n",
       "      <td>3.000000</td>\n",
       "      <td>0.000000</td>\n",
       "      <td>8.000000</td>\n",
       "      <td>8.000000</td>\n",
       "      <td>4.000000</td>\n",
       "    </tr>\n",
       "    <tr>\n",
       "      <th>50%</th>\n",
       "      <td>2.000000</td>\n",
       "      <td>6.000000</td>\n",
       "      <td>16.000000</td>\n",
       "      <td>4.000000</td>\n",
       "      <td>181.000000</td>\n",
       "      <td>1325.000000</td>\n",
       "      <td>1327.000000</td>\n",
       "      <td>-2.000000</td>\n",
       "      <td>0.000000</td>\n",
       "      <td>-1.000000</td>\n",
       "      <td>...</td>\n",
       "      <td>0.000000</td>\n",
       "      <td>-1.000000</td>\n",
       "      <td>163.000000</td>\n",
       "      <td>154.000000</td>\n",
       "      <td>944.000000</td>\n",
       "      <td>4.000000</td>\n",
       "      <td>0.000000</td>\n",
       "      <td>18.000000</td>\n",
       "      <td>18.000000</td>\n",
       "      <td>10.000000</td>\n",
       "    </tr>\n",
       "    <tr>\n",
       "      <th>75%</th>\n",
       "      <td>3.000000</td>\n",
       "      <td>9.000000</td>\n",
       "      <td>23.000000</td>\n",
       "      <td>6.000000</td>\n",
       "      <td>271.000000</td>\n",
       "      <td>1735.000000</td>\n",
       "      <td>1745.000000</td>\n",
       "      <td>9.000000</td>\n",
       "      <td>0.000000</td>\n",
       "      <td>0.000000</td>\n",
       "      <td>...</td>\n",
       "      <td>0.000000</td>\n",
       "      <td>0.000000</td>\n",
       "      <td>210.000000</td>\n",
       "      <td>208.000000</td>\n",
       "      <td>1389.000000</td>\n",
       "      <td>6.000000</td>\n",
       "      <td>0.000000</td>\n",
       "      <td>34.000000</td>\n",
       "      <td>34.000000</td>\n",
       "      <td>17.000000</td>\n",
       "    </tr>\n",
       "    <tr>\n",
       "      <th>max</th>\n",
       "      <td>4.000000</td>\n",
       "      <td>12.000000</td>\n",
       "      <td>31.000000</td>\n",
       "      <td>7.000000</td>\n",
       "      <td>365.000000</td>\n",
       "      <td>2359.000000</td>\n",
       "      <td>2400.000000</td>\n",
       "      <td>299.000000</td>\n",
       "      <td>1.000000</td>\n",
       "      <td>12.000000</td>\n",
       "      <td>...</td>\n",
       "      <td>1.000000</td>\n",
       "      <td>12.000000</td>\n",
       "      <td>705.000000</td>\n",
       "      <td>769.000000</td>\n",
       "      <td>4983.000000</td>\n",
       "      <td>11.000000</td>\n",
       "      <td>1.000000</td>\n",
       "      <td>82.000000</td>\n",
       "      <td>82.000000</td>\n",
       "      <td>41.000000</td>\n",
       "    </tr>\n",
       "  </tbody>\n",
       "</table>\n",
       "<p>8 rows × 23 columns</p>\n",
       "</div>"
      ],
      "text/plain": [
       "             QUARTER          MONTH   DAY_OF_MONTH    DAY_OF_WEEK  \\\n",
       "count  479820.000000  479820.000000  479820.000000  479820.000000   \n",
       "mean        2.497499       6.501048      15.757232       3.902393   \n",
       "std         1.105968       3.397790       8.795682       1.978034   \n",
       "min         1.000000       1.000000       1.000000       1.000000   \n",
       "25%         2.000000       4.000000       8.000000       2.000000   \n",
       "50%         2.000000       6.000000      16.000000       4.000000   \n",
       "75%         3.000000       9.000000      23.000000       6.000000   \n",
       "max         4.000000      12.000000      31.000000       7.000000   \n",
       "\n",
       "             FL_DATE   CRS_DEP_TIME       DEP_TIME      DEP_DELAY  \\\n",
       "count  479820.000000  479820.000000  479820.000000  479820.000000   \n",
       "mean      182.106392    1333.889186    1332.136451      10.976789   \n",
       "std       104.079420     493.017947     512.784894      35.835438   \n",
       "min         0.000000       2.000000       1.000000    -149.000000   \n",
       "25%        93.000000     906.000000     904.000000      -5.000000   \n",
       "50%       181.000000    1325.000000    1327.000000      -2.000000   \n",
       "75%       271.000000    1735.000000    1745.000000       9.000000   \n",
       "max       365.000000    2359.000000    2400.000000     299.000000   \n",
       "\n",
       "           DEP_DEL15  DEP_DELAY_GROUP            ...              \\\n",
       "count  479820.000000    479820.000000            ...               \n",
       "mean        0.206634         0.163736            ...               \n",
       "std         0.404891         2.287066            ...               \n",
       "min         0.000000        -2.000000            ...               \n",
       "25%         0.000000        -1.000000            ...               \n",
       "50%         0.000000        -1.000000            ...               \n",
       "75%         0.000000         0.000000            ...               \n",
       "max         1.000000        12.000000            ...               \n",
       "\n",
       "           ARR_DEL15  ARR_DELAY_GROUP  CRS_ELAPSED_TIME  ACTUAL_ELAPSED_TIME  \\\n",
       "count  479820.000000    479820.000000     479820.000000        479820.000000   \n",
       "mean        0.211829        -0.164989        179.035436           171.975480   \n",
       "std         0.408605         2.492418         88.902505            88.376442   \n",
       "min         0.000000        -2.000000         49.000000            34.000000   \n",
       "25%         0.000000        -2.000000        115.000000           109.000000   \n",
       "50%         0.000000        -1.000000        163.000000           154.000000   \n",
       "75%         0.000000         0.000000        210.000000           208.000000   \n",
       "max         1.000000        12.000000        705.000000           769.000000   \n",
       "\n",
       "            DISTANCE  DISTANCE_GROUP     IS_HOLIDAY  DAYS_TO_NEXT_HOLIDAY  \\\n",
       "count  479820.000000   479820.000000  479820.000000         479820.000000   \n",
       "mean     1056.345569        4.701786       0.032158             23.591793   \n",
       "std       719.236564        2.781173       0.176419             19.765712   \n",
       "min        94.000000        1.000000       0.000000              0.000000   \n",
       "25%       541.000000        3.000000       0.000000              8.000000   \n",
       "50%       944.000000        4.000000       0.000000             18.000000   \n",
       "75%      1389.000000        6.000000       0.000000             34.000000   \n",
       "max      4983.000000       11.000000       1.000000             82.000000   \n",
       "\n",
       "       DAYS_FROM_LAST_HOLIDAY  DAYS_FROM_NEAREST_HOLIDAY  \n",
       "count           479820.000000              479820.000000  \n",
       "mean                23.579567                  12.076527  \n",
       "std                 19.663812                   9.903900  \n",
       "min                  0.000000                   0.000000  \n",
       "25%                  8.000000                   4.000000  \n",
       "50%                 18.000000                  10.000000  \n",
       "75%                 34.000000                  17.000000  \n",
       "max                 82.000000                  41.000000  \n",
       "\n",
       "[8 rows x 23 columns]"
      ]
     },
     "execution_count": 170,
     "metadata": {},
     "output_type": "execute_result"
    }
   ],
   "source": [
    "df_hol.describe()"
   ]
  },
  {
   "cell_type": "code",
   "execution_count": 167,
   "metadata": {
    "collapsed": false
   },
   "outputs": [
    {
     "data": {
      "text/plain": [
       "Index([u'QUARTER', u'MONTH', u'DAY_OF_MONTH', u'DAY_OF_WEEK', u'FL_DATE',\n",
       "       u'UNIQUE_CARRIER', u'ORIGIN', u'ORIGIN_CITY_NAME', u'ORIGIN_STATE_ABR',\n",
       "       u'ORIGIN_STATE_NM', u'DEST', u'DEST_CITY_NAME', u'DEST_STATE_ABR',\n",
       "       u'DEST_STATE_NM', u'CRS_DEP_TIME', u'DEP_TIME', u'DEP_DELAY',\n",
       "       u'DEP_DEL15', u'DEP_DELAY_GROUP', u'DEP_TIME_BLK', u'CRS_ARR_TIME',\n",
       "       u'ARR_TIME', u'ARR_DELAY', u'ARR_DEL15', u'ARR_DELAY_GROUP',\n",
       "       u'CRS_ELAPSED_TIME', u'ACTUAL_ELAPSED_TIME', u'DISTANCE',\n",
       "       u'DISTANCE_GROUP', u'IS_HOLIDAY', u'DAYS_TO_NEXT_HOLIDAY',\n",
       "       u'DAYS_FROM_LAST_HOLIDAY', u'DAYS_FROM_NEAREST_HOLIDAY'],\n",
       "      dtype='object')"
      ]
     },
     "execution_count": 167,
     "metadata": {},
     "output_type": "execute_result"
    }
   ],
   "source": [
    "df_hol.columns"
   ]
  },
  {
   "cell_type": "code",
   "execution_count": 183,
   "metadata": {
    "collapsed": false
   },
   "outputs": [
    {
     "name": "stdout",
     "output_type": "stream",
     "text": [
      "17944\n"
     ]
    },
    {
     "data": {
      "text/plain": [
       "(array([  6.97900000e+03,   4.19700000e+03,   2.66900000e+03,\n",
       "          1.76500000e+03,   1.13100000e+03,   7.57000000e+02,\n",
       "          3.33000000e+02,   8.40000000e+01,   2.40000000e+01,\n",
       "          3.00000000e+00,   1.00000000e+00,   0.00000000e+00,\n",
       "          0.00000000e+00,   0.00000000e+00,   1.00000000e+00]),\n",
       " array([ 101.        ,  130.13333333,  159.26666667,  188.4       ,\n",
       "         217.53333333,  246.66666667,  275.8       ,  304.93333333,\n",
       "         334.06666667,  363.2       ,  392.33333333,  421.46666667,\n",
       "         450.6       ,  479.73333333,  508.86666667,  538.        ]),\n",
       " <a list of 15 Patch objects>)"
      ]
     },
     "execution_count": 183,
     "metadata": {},
     "output_type": "execute_result"
    },
    {
     "data": {
      "image/png": "[encoded data removed]",
      "text/plain": [
       "<matplotlib.figure.Figure at 0xb21da2e8>"
      ]
     },
     "metadata": {},
     "output_type": "display_data"
    }
   ],
   "source": [
    "temp = df_hol[df_hol[\"ARR_DELAY\"] > 100]\n",
    "print(len(temp))\n",
    "plt.hist(temp[\"ARR_DELAY\"], bins=15)"
   ]
  },
  {
   "cell_type": "markdown",
   "metadata": {},
   "source": [
    "Duration, Distance and Arrival Delay have no outliers!"
   ]
  },
  {
   "cell_type": "markdown",
   "metadata": {},
   "source": [
    "#### Hot destinations"
   ]
  },
  {
   "cell_type": "code",
   "execution_count": 227,
   "metadata": {
    "collapsed": false
   },
   "outputs": [
    {
     "name": "stdout",
     "output_type": "stream",
     "text": [
      "['LGA' 'BUF' 'ROC' 'JFK' 'ALB' 'IAG' 'HPN' 'PBG' 'SYR' 'ITH' 'BGM' 'SWF'\n",
      " 'ISP' 'ELM']\n"
     ]
    }
   ],
   "source": [
    "temp2 = df_hol[df_hol[\"ORIGIN_STATE_ABR\"] == \"NY\"]\n",
    "ny_airports = temp2[\"ORIGIN\"].unique()\n",
    "print ny_airports"
   ]
  },
  {
   "cell_type": "code",
   "execution_count": 228,
   "metadata": {
    "collapsed": false
   },
   "outputs": [],
   "source": [
    "busy = df_hol.groupby('ORIGIN')['DEP_DELAY'].count() \n"
   ]
  },
  {
   "cell_type": "code",
   "execution_count": 237,
   "metadata": {
    "collapsed": false
   },
   "outputs": [],
   "source": [
    "busy_np = []\n",
    "names = []\n",
    "for el, name in zip(busy, busy.keys()):\n",
    "    if name in ny_airports:\n",
    "        busy_np.append(el)\n",
    "        names.append(name)\n"
   ]
  },
  {
   "cell_type": "code",
   "execution_count": 241,
   "metadata": {
    "collapsed": false
   },
   "outputs": [
    {
     "data": {
      "text/plain": [
       "<matplotlib.text.Text at 0xd86c4978>"
      ]
     },
     "execution_count": 241,
     "metadata": {},
     "output_type": "execute_result"
    },
    {
     "data": {
      "image/png": "[encoded data removed]",
      "text/plain": [
       "<matplotlib.figure.Figure at 0xd8627a20>"
      ]
     },
     "metadata": {},
     "output_type": "display_data"
    }
   ],
   "source": [
    "plt.figure(figsize=(12,6))\n",
    "plt.bar(np.arange(len(busy_np)), busy_np,  align='center')\n",
    "plt.xticks(np.arange(len(busy_np)), names)\n",
    "plt.title('Flights from New York state airports')\n",
    "plt.xlabel('Airport abbreviation')\n",
    "plt.ylabel('Number of outgoing flights')"
   ]
  },
  {
   "cell_type": "code",
   "execution_count": 244,
   "metadata": {
    "collapsed": true
   },
   "outputs": [],
   "source": [
    "busy_np = []\n",
    "names = []\n",
    "for el, name in zip(busy, busy.keys()):\n",
    "    if name not in ny_airports and el > 6000:\n",
    "        busy_np.append(el)\n",
    "        names.append(name)\n"
   ]
  },
  {
   "cell_type": "code",
   "execution_count": 249,
   "metadata": {
    "collapsed": false
   },
   "outputs": [
    {
     "data": {
      "text/plain": [
       "<matplotlib.text.Text at 0xd9571588>"
      ]
     },
     "execution_count": 249,
     "metadata": {},
     "output_type": "execute_result"
    },
    {
     "data": {
      "image/png": "[encoded data removed]",
      "text/plain": [
       "<matplotlib.figure.Figure at 0xd8fdfc88>"
      ]
     },
     "metadata": {},
     "output_type": "display_data"
    }
   ],
   "source": [
    "plt.figure(figsize=(12,6))\n",
    "plt.bar(np.arange(len(busy_np)), busy_np,  align='center')\n",
    "plt.xticks(np.arange(len(busy_np)), names)\n",
    "plt.title('Airports with most flight to New York state')\n",
    "plt.xlabel('Airport abbreviation')\n",
    "plt.ylabel('Number of outgoing flights')"
   ]
  },
  {
   "cell_type": "markdown",
   "metadata": {},
   "source": [
    "#### Days"
   ]
  },
  {
   "cell_type": "code",
   "execution_count": 264,
   "metadata": {
    "collapsed": false
   },
   "outputs": [
    {
     "name": "stdout",
     "output_type": "stream",
     "text": [
      "FL_DATE\n",
      "0      False\n",
      "1      False\n",
      "2      False\n",
      "3      False\n",
      "4      False\n",
      "5      False\n",
      "6      False\n",
      "7      False\n",
      "8      False\n",
      "9      False\n",
      "10     False\n",
      "11     False\n",
      "12     False\n",
      "13     False\n",
      "14     False\n",
      "15     False\n",
      "16     False\n",
      "17     False\n",
      "18     False\n",
      "19     False\n",
      "20     False\n",
      "21     False\n",
      "22      True\n",
      "23     False\n",
      "24     False\n",
      "25     False\n",
      "26     False\n",
      "27     False\n",
      "28     False\n",
      "29     False\n",
      "       ...  \n",
      "336    False\n",
      "337    False\n",
      "338    False\n",
      "339    False\n",
      "340    False\n",
      "341    False\n",
      "342    False\n",
      "343    False\n",
      "344    False\n",
      "345    False\n",
      "346    False\n",
      "347    False\n",
      "348    False\n",
      "349    False\n",
      "350    False\n",
      "351    False\n",
      "352    False\n",
      "353    False\n",
      "354    False\n",
      "355    False\n",
      "356    False\n",
      "357    False\n",
      "358    False\n",
      "359    False\n",
      "360    False\n",
      "361    False\n",
      "362    False\n",
      "363    False\n",
      "364    False\n",
      "365    False\n",
      "Name: DEP_DELAY, dtype: bool\n"
     ]
    }
   ],
   "source": [
    "days = df_hol.groupby('FL_DATE')['DEP_DELAY'].count() \n",
    "print(days < 200)"
   ]
  },
  {
   "cell_type": "code",
   "execution_count": 261,
   "metadata": {
    "collapsed": false
   },
   "outputs": [
    {
     "data": {
      "text/plain": [
       "<matplotlib.text.Text at 0xdb178198>"
      ]
     },
     "execution_count": 261,
     "metadata": {},
     "output_type": "execute_result"
    },
    {
     "data": {
      "image/png": "[encoded data removed]",
      "text/plain": [
       "<matplotlib.figure.Figure at 0xdb29c128>"
      ]
     },
     "metadata": {},
     "output_type": "display_data"
    }
   ],
   "source": [
    "plt.figure(figsize=(14,6))\n",
    "plt.plot(days, color=\"g\")\n",
    "plt.title('Flights per day')\n",
    "plt.xlim(0,366)\n",
    "plt.xlabel('Day')\n",
    "plt.ylabel('Number of flights')"
   ]
  },
  {
   "cell_type": "markdown",
   "metadata": {},
   "source": [
    "January 22: https://en.wikipedia.org/wiki/January_2016_United_States_blizzard"
   ]
  },
  {
   "cell_type": "markdown",
   "metadata": {},
   "source": [
    "#### Month"
   ]
  },
  {
   "cell_type": "code",
   "execution_count": 266,
   "metadata": {
    "collapsed": false
   },
   "outputs": [
    {
     "data": {
      "text/plain": [
       "Index([u'QUARTER', u'MONTH', u'DAY_OF_MONTH', u'DAY_OF_WEEK', u'FL_DATE',\n",
       "       u'UNIQUE_CARRIER', u'ORIGIN', u'ORIGIN_CITY_NAME', u'ORIGIN_STATE_ABR',\n",
       "       u'ORIGIN_STATE_NM', u'DEST', u'DEST_CITY_NAME', u'DEST_STATE_ABR',\n",
       "       u'DEST_STATE_NM', u'CRS_DEP_TIME', u'DEP_TIME', u'DEP_DELAY',\n",
       "       u'DEP_DEL15', u'DEP_DELAY_GROUP', u'DEP_TIME_BLK', u'CRS_ARR_TIME',\n",
       "       u'ARR_TIME', u'ARR_DELAY', u'ARR_DEL15', u'ARR_DELAY_GROUP',\n",
       "       u'CRS_ELAPSED_TIME', u'ACTUAL_ELAPSED_TIME', u'DISTANCE',\n",
       "       u'DISTANCE_GROUP', u'IS_HOLIDAY', u'DAYS_TO_NEXT_HOLIDAY',\n",
       "       u'DAYS_FROM_LAST_HOLIDAY', u'DAYS_FROM_NEAREST_HOLIDAY'],\n",
       "      dtype='object')"
      ]
     },
     "execution_count": 266,
     "metadata": {},
     "output_type": "execute_result"
    }
   ],
   "source": [
    "df_hol.columns"
   ]
  },
  {
   "cell_type": "code",
   "execution_count": 267,
   "metadata": {
    "collapsed": true
   },
   "outputs": [],
   "source": [
    "month = df_hol.groupby('MONTH')['DEP_DELAY'].count() "
   ]
  },
  {
   "cell_type": "code",
   "execution_count": 275,
   "metadata": {
    "collapsed": false
   },
   "outputs": [
    {
     "data": {
      "text/plain": [
       "<matplotlib.text.Text at 0xdb9a46a0>"
      ]
     },
     "execution_count": 275,
     "metadata": {},
     "output_type": "execute_result"
    },
    {
     "data": {
      "image/png": "[encoded data removed]",
      "text/plain": [
       "<matplotlib.figure.Figure at 0xdb9a92e8>"
      ]
     },
     "metadata": {},
     "output_type": "display_data"
    }
   ],
   "source": [
    "plt.figure(figsize=(14,6))\n",
    "plt.bar(np.arange(1,13), month, color=\"g\")\n",
    "plt.title('Flights per day')\n",
    "plt.xlabel('Day')\n",
    "plt.ylabel('Number of flights')"
   ]
  },
  {
   "cell_type": "markdown",
   "metadata": {},
   "source": [
    "#### Weeks of year"
   ]
  },
  {
   "cell_type": "code",
   "execution_count": 312,
   "metadata": {
    "collapsed": false
   },
   "outputs": [],
   "source": [
    "WEEK_OF_YEAR = np.zeros(df_hol.shape[0])\n",
    "\n",
    "# make a feature for the days from the previous closest holiday\n",
    "i = 0\n",
    "for day in df_hol['FL_DATE']:\n",
    "    WEEK_OF_YEAR[i] = day // 7\n",
    "    i += 1\n"
   ]
  },
  {
   "cell_type": "code",
   "execution_count": 313,
   "metadata": {
    "collapsed": true
   },
   "outputs": [],
   "source": [
    "df_hol[\"WEEK_OF_YEAR\"] = WEEK_OF_YEAR"
   ]
  },
  {
   "cell_type": "code",
   "execution_count": 314,
   "metadata": {
    "collapsed": true
   },
   "outputs": [],
   "source": [
    "df_hol[\"WEEK_OF_YEAR\"] = np.minimum(df_hol[\"WEEK_OF_YEAR\"], 51)"
   ]
  },
  {
   "cell_type": "code",
   "execution_count": 316,
   "metadata": {
    "collapsed": false
   },
   "outputs": [],
   "source": [
    "week = df_hol.groupby('WEEK_OF_YEAR')['DEP_DELAY'].mean() \n"
   ]
  },
  {
   "cell_type": "code",
   "execution_count": 320,
   "metadata": {
    "collapsed": false
   },
   "outputs": [
    {
     "data": {
      "text/plain": [
       "<matplotlib.text.Text at 0xb519a6a0>"
      ]
     },
     "execution_count": 320,
     "metadata": {},
     "output_type": "execute_result"
    },
    {
     "data": {
      "image/png": "[encoded data removed]",
      "text/plain": [
       "<matplotlib.figure.Figure at 0xb50feba8>"
      ]
     },
     "metadata": {},
     "output_type": "display_data"
    }
   ],
   "source": [
    "plt.figure(figsize=(14,6))\n",
    "plt.bar(np.arange(1,53), week, color=\"g\", align=\"center\")\n",
    "plt.xticks(np.arange(1,53))\n",
    "plt.title('Average delay per week of year')\n",
    "plt.xlabel('Week')\n",
    "plt.ylabel('Average delay')"
   ]
  },
  {
   "cell_type": "markdown",
   "metadata": {},
   "source": [
    "#### Average delay per day"
   ]
  },
  {
   "cell_type": "code",
   "execution_count": 337,
   "metadata": {
    "collapsed": false
   },
   "outputs": [
    {
     "data": {
      "text/plain": [
       "<matplotlib.text.Text at 0x571614e0>"
      ]
     },
     "execution_count": 337,
     "metadata": {},
     "output_type": "execute_result"
    },
    {
     "data": {
      "image/png": "[encoded data removed]",
      "text/plain": [
       "<matplotlib.figure.Figure at 0x3a855860>"
      ]
     },
     "metadata": {},
     "output_type": "display_data"
    }
   ],
   "source": [
    "days = df_hol.groupby('FL_DATE')['DEP_DELAY'].mean() \n",
    "plt.figure(figsize=(14,6))\n",
    "plt.plot(days, color=\"g\")\n",
    "plt.title('Average delay per day')\n",
    "for holiday in holidays:\n",
    "    plt.axvline(x=holiday, linewidth=1.5, color='purple')\n",
    "\n",
    "plt.xlim(0,366)\n",
    "plt.ylim(0,75)\n",
    "plt.xlabel('Day')\n",
    "plt.ylabel('Average delay (minutes)')"
   ]
  },
  {
   "cell_type": "code",
   "execution_count": null,
   "metadata": {
    "collapsed": true
   },
   "outputs": [],
   "source": []
  },
  {
   "cell_type": "markdown",
   "metadata": {},
   "source": [
    "### Save csv"
   ]
  },
  {
   "cell_type": "code",
   "execution_count": 51,
   "metadata": {
    "collapsed": false
   },
   "outputs": [],
   "source": [
    "#clear_data_path = os.path.realpath(os.path.join(os.getcwd(), 'clear_data_holiday.csv'))\n",
    "#data_frame.to_csv(clear_data_path, index=False)"
   ]
  }
 ],
 "metadata": {
  "kernelspec": {
   "display_name": "Python [iaml]",
   "language": "python",
   "name": "Python [iaml]"
  },
  "language_info": {
   "codemirror_mode": {
    "name": "ipython",
    "version": 2
   },
   "file_extension": ".py",
   "mimetype": "text/x-python",
   "name": "python",
   "nbconvert_exporter": "python",
   "pygments_lexer": "ipython2",
   "version": "2.7.12"
  }
 },
 "nbformat": 4,
 "nbformat_minor": 2
}
