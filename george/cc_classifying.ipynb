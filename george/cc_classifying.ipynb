{
 "cells": [
  {
   "cell_type": "markdown",
   "metadata": {},
   "source": [
    "https://www.transtats.bts.gov/Fields.asp?Table_ID=236"
   ]
  },
  {
   "cell_type": "code",
   "execution_count": 1,
   "metadata": {
    "collapsed": true
   },
   "outputs": [],
   "source": [
    "from __future__ import division #, print_function # Imports from __future__ since we're running Python 2"
   ]
  },
  {
   "cell_type": "code",
   "execution_count": 2,
   "metadata": {
    "collapsed": true
   },
   "outputs": [],
   "source": [
    "#%load_ext autoreload\n",
    "%reload_ext autoreload\n",
    "%autoreload 2\n",
    "%matplotlib inline"
   ]
  },
  {
   "cell_type": "code",
   "execution_count": 3,
   "metadata": {
    "collapsed": false
   },
   "outputs": [],
   "source": [
    "import os\n",
    "import numpy as np \n",
    "import pandas as pd\n",
    "import matplotlib.pyplot as plt\n",
    "import seaborn as sns\n",
    "from flights_delay.feature_processing import FlightDelayFeatureProcessing\n",
    "from helpers.outliers import MyOutliers\n",
    "from helpers.feature_engineering import makeBinaryClassification, getUniqueValuesPerFeature\n",
    "from sklearn.model_selection import train_test_split\n",
    "from helpers.plot_helper import plotDistsPerClass, plotBothDists\n",
    "from flights_delay.feature_prev_delays import FeaturePrevDelays\n",
    "from flights_delay.feature_airline_delays import FeatureAirlineDelays\n",
    "from helpers.my_one_hot_encoder import MyOneHotEncoder\n",
    "from sklearn.model_selection import train_test_split\n",
    "from sklearn.utils import shuffle\n",
    "from datetime import datetime\n",
    "from sklearn.dummy import DummyClassifier\n",
    "from helpers.feature_engineering import dateStrToDayYear, getMappingOfSimilarCategoricalColumns, \\\n",
    "    compareSimilarCategoricalColumns \n",
    "from helpers.my_one_hot_encoder import MyOneHotEncoder\n",
    "from helpers.py_helpers import is_number\n",
    "from scipy.stats import skew, kurtosis\n",
    "from helpers.outliers import MyOutliers\n",
    "from sklearn.preprocessing import StandardScaler\n",
    "from helpers.plot_helper import scatter_2d_label\n",
    "from sklearn.decomposition import PCA # Import the PCA module\n",
    "from sklearn.manifold import TSNE\n",
    "from sklearn.decomposition import KernelPCA\n",
    "from sklearn.manifold import MDS\n",
    "from sklearn.manifold import Isomap\n",
    "from helpers.performance_issues import subsample_keeping_class_proportions\n",
    "from sklearn.metrics import f1_score, precision_score\n",
    "from sklearn.manifold import Isomap\n",
    "from helpers.performance_issues import subsample_keeping_class_proportions, rbfPCAkernel\n",
    "from flights_delay.feature_processing import FlightDelayFeatureProcessing\n",
    "from sklearn.model_selection import StratifiedShuffleSplit, StratifiedKFold\n",
    "from sklearn.metrics import f1_score\n",
    "from sklearn.metrics import precision_score\n",
    "from sklearn.datasets import make_moons, make_circles, make_classification\n",
    "from sklearn.neural_network import MLPClassifier\n",
    "from sklearn.neighbors import KNeighborsClassifier\n",
    "from sklearn.svm import SVC\n",
    "from sklearn.gaussian_process import GaussianProcessClassifier\n",
    "from sklearn.gaussian_process.kernels import RBF\n",
    "from sklearn.tree import DecisionTreeClassifier\n",
    "from sklearn.ensemble import RandomForestClassifier, AdaBoostClassifier\n",
    "from sklearn.naive_bayes import GaussianNB\n",
    "from sklearn.discriminant_analysis import QuadraticDiscriminantAnalysis\n",
    "from matplotlib.colors import ListedColormap\n",
    "from flights_delay.flight_delay_scoring import printFlightDelayScores, getFlightDelayScores\n",
    "from helpers.my_cross_validation import MyCrossValidation\n",
    "from sklearn.metrics import log_loss\n",
    "from helpers.performance_issues import processSeparately\n",
    "from helpers.plot_helper import scatter_2d_label, plotGPoptFunction, plotGPoptConvergence\n",
    "from flights_delay.flight_delay_scoring import getScore_onKFold_callback, scoreWithDimReduction\n",
    "from flights_delay.dataset import getRbfKernelPCADimReducedDataset\n",
    "from skopt.space.space import Integer, Real\n",
    "from skopt import gp_minimize\n",
    "from skopt.plots import plot_convergence\n",
    "from time import time, sleep\n",
    "from sklearn.linear_model import LogisticRegression"
   ]
  },
  {
   "cell_type": "code",
   "execution_count": 4,
   "metadata": {
    "collapsed": true
   },
   "outputs": [],
   "source": [
    "plt.style.use('classic')\n",
    "plt.rc(\"figure\", facecolor=\"white\")"
   ]
  },
  {
   "cell_type": "code",
   "execution_count": 5,
   "metadata": {
    "collapsed": true
   },
   "outputs": [],
   "source": [
    "random_state = 0 # Ensure reproducible results"
   ]
  },
  {
   "cell_type": "code",
   "execution_count": 6,
   "metadata": {
    "collapsed": true
   },
   "outputs": [],
   "source": [
    "data_relative_path = '../Data'"
   ]
  },
  {
   "cell_type": "code",
   "execution_count": 7,
   "metadata": {
    "collapsed": true
   },
   "outputs": [],
   "source": [
    "target_col = 'IS_DELAYED'"
   ]
  },
  {
   "cell_type": "code",
   "execution_count": 8,
   "metadata": {
    "collapsed": true
   },
   "outputs": [],
   "source": [
    "n_jobs = 4"
   ]
  },
  {
   "cell_type": "markdown",
   "metadata": {},
   "source": [
    "# Flying to New York City - Classifying"
   ]
  },
  {
   "cell_type": "code",
   "execution_count": 9,
   "metadata": {
    "collapsed": false
   },
   "outputs": [
    {
     "data": {
      "text/plain": [
       "'/home/student/pligor.george@gmail.com/msc_Artificial_Intelligence/dme_Data_Mining/dmedatarats/Data/train_data_v2_engineered.csv'"
      ]
     },
     "execution_count": 9,
     "metadata": {},
     "output_type": "execute_result"
    }
   ],
   "source": [
    "path_data = os.path.realpath(os.path.join(os.getcwd(), data_relative_path, 'train_data_v2_engineered.csv'))\n",
    "assert os.path.isfile(path_data)\n",
    "path_data"
   ]
  },
  {
   "cell_type": "code",
   "execution_count": 10,
   "metadata": {
    "collapsed": false
   },
   "outputs": [
    {
     "data": {
      "text/plain": [
       "(31186, 43)"
      ]
     },
     "execution_count": 10,
     "metadata": {},
     "output_type": "execute_result"
    }
   ],
   "source": [
    "df = pd.read_csv(path_data, delimiter = ',', header=0)\n",
    "df.shape"
   ]
  },
  {
   "cell_type": "code",
   "execution_count": 11,
   "metadata": {
    "collapsed": false
   },
   "outputs": [
    {
     "name": "stdout",
     "output_type": "stream",
     "text": [
      "<class 'pandas.core.frame.DataFrame'>\n",
      "RangeIndex: 31186 entries, 0 to 31185\n",
      "Data columns (total 43 columns):\n",
      "QUARTER               31186 non-null int64\n",
      "MONTH                 31186 non-null int64\n",
      "DAY_OF_MONTH          31186 non-null int64\n",
      "DAY_OF_WEEK           31186 non-null int64\n",
      "DEP_TIME              31186 non-null float64\n",
      "DEP_DELAY             31186 non-null float64\n",
      "DEP_DELAY_NEW         31186 non-null float64\n",
      "DEP_DEL15             31186 non-null float64\n",
      "DEP_DELAY_GROUP       31186 non-null float64\n",
      "CRS_ELAPSED_TIME      31186 non-null float64\n",
      "PREV_DELAYS_30        31186 non-null float64\n",
      "PREV_DELAYS_60        31186 non-null float64\n",
      "PREV_DELAYS_120       31186 non-null float64\n",
      "PREV_DELAYS_180       31186 non-null float64\n",
      "PREV_DELAYS_360       31186 non-null float64\n",
      "PREV_DELAYS_720       31186 non-null float64\n",
      "AIRLINE_DELAYS_30     31186 non-null float64\n",
      "AIRLINE_DELAYS_60     31186 non-null float64\n",
      "AIRLINE_DELAYS_120    31186 non-null float64\n",
      "AIRLINE_DELAYS_180    31186 non-null float64\n",
      "AIRLINE_DELAYS_360    31186 non-null float64\n",
      "AIRLINE_DELAYS_720    31186 non-null float64\n",
      "UNIQUE_CARRIER_0      31186 non-null float64\n",
      "UNIQUE_CARRIER_1      31186 non-null float64\n",
      "UNIQUE_CARRIER_2      31186 non-null float64\n",
      "UNIQUE_CARRIER_3      31186 non-null float64\n",
      "UNIQUE_CARRIER_4      31186 non-null float64\n",
      "UNIQUE_CARRIER_5      31186 non-null float64\n",
      "UNIQUE_CARRIER_6      31186 non-null float64\n",
      "UNIQUE_CARRIER_7      31186 non-null float64\n",
      "ORIGIN_0              31186 non-null float64\n",
      "ORIGIN_1              31186 non-null float64\n",
      "ORIGIN_2              31186 non-null float64\n",
      "ORIGIN_3              31186 non-null float64\n",
      "ORIGIN_4              31186 non-null float64\n",
      "ORIGIN_5              31186 non-null float64\n",
      "DEST_0                31186 non-null float64\n",
      "DEST_1                31186 non-null float64\n",
      "DEST_2                31186 non-null float64\n",
      "DEST_3                31186 non-null float64\n",
      "DEST_4                31186 non-null float64\n",
      "DEST_5                31186 non-null float64\n",
      "IS_DELAYED            31186 non-null bool\n",
      "dtypes: bool(1), float64(38), int64(4)\n",
      "memory usage: 10.0 MB\n"
     ]
    }
   ],
   "source": [
    "df.info()"
   ]
  },
  {
   "cell_type": "code",
   "execution_count": 12,
   "metadata": {
    "collapsed": false
   },
   "outputs": [
    {
     "data": {
      "text/html": [
       "<div>\n",
       "<table border=\"1\" class=\"dataframe\">\n",
       "  <thead>\n",
       "    <tr style=\"text-align: right;\">\n",
       "      <th></th>\n",
       "      <th>QUARTER</th>\n",
       "      <th>MONTH</th>\n",
       "      <th>DAY_OF_MONTH</th>\n",
       "      <th>DAY_OF_WEEK</th>\n",
       "      <th>DEP_TIME</th>\n",
       "      <th>DEP_DELAY</th>\n",
       "      <th>DEP_DELAY_NEW</th>\n",
       "      <th>DEP_DEL15</th>\n",
       "      <th>DEP_DELAY_GROUP</th>\n",
       "      <th>CRS_ELAPSED_TIME</th>\n",
       "      <th>...</th>\n",
       "      <th>ORIGIN_3</th>\n",
       "      <th>ORIGIN_4</th>\n",
       "      <th>ORIGIN_5</th>\n",
       "      <th>DEST_0</th>\n",
       "      <th>DEST_1</th>\n",
       "      <th>DEST_2</th>\n",
       "      <th>DEST_3</th>\n",
       "      <th>DEST_4</th>\n",
       "      <th>DEST_5</th>\n",
       "      <th>IS_DELAYED</th>\n",
       "    </tr>\n",
       "  </thead>\n",
       "  <tbody>\n",
       "    <tr>\n",
       "      <th>4696</th>\n",
       "      <td>0</td>\n",
       "      <td>1</td>\n",
       "      <td>0</td>\n",
       "      <td>1</td>\n",
       "      <td>1358.878788</td>\n",
       "      <td>-6.0</td>\n",
       "      <td>0.0</td>\n",
       "      <td>0.0</td>\n",
       "      <td>-1.0</td>\n",
       "      <td>170.0</td>\n",
       "      <td>...</td>\n",
       "      <td>0.0</td>\n",
       "      <td>0.0</td>\n",
       "      <td>0.0</td>\n",
       "      <td>0.0</td>\n",
       "      <td>0.0</td>\n",
       "      <td>0.0</td>\n",
       "      <td>0.0</td>\n",
       "      <td>1.0</td>\n",
       "      <td>0.0</td>\n",
       "      <td>False</td>\n",
       "    </tr>\n",
       "    <tr>\n",
       "      <th>22712</th>\n",
       "      <td>0</td>\n",
       "      <td>0</td>\n",
       "      <td>0</td>\n",
       "      <td>0</td>\n",
       "      <td>667.878788</td>\n",
       "      <td>68.0</td>\n",
       "      <td>68.0</td>\n",
       "      <td>1.0</td>\n",
       "      <td>4.0</td>\n",
       "      <td>398.0</td>\n",
       "      <td>...</td>\n",
       "      <td>0.0</td>\n",
       "      <td>0.0</td>\n",
       "      <td>0.0</td>\n",
       "      <td>0.0</td>\n",
       "      <td>0.0</td>\n",
       "      <td>0.0</td>\n",
       "      <td>0.0</td>\n",
       "      <td>0.0</td>\n",
       "      <td>1.0</td>\n",
       "      <td>True</td>\n",
       "    </tr>\n",
       "    <tr>\n",
       "      <th>959</th>\n",
       "      <td>1</td>\n",
       "      <td>1</td>\n",
       "      <td>0</td>\n",
       "      <td>0</td>\n",
       "      <td>1388.878788</td>\n",
       "      <td>9.0</td>\n",
       "      <td>9.0</td>\n",
       "      <td>0.0</td>\n",
       "      <td>0.0</td>\n",
       "      <td>133.0</td>\n",
       "      <td>...</td>\n",
       "      <td>0.0</td>\n",
       "      <td>1.0</td>\n",
       "      <td>0.0</td>\n",
       "      <td>0.0</td>\n",
       "      <td>0.0</td>\n",
       "      <td>0.0</td>\n",
       "      <td>1.0</td>\n",
       "      <td>0.0</td>\n",
       "      <td>0.0</td>\n",
       "      <td>True</td>\n",
       "    </tr>\n",
       "    <tr>\n",
       "      <th>3668</th>\n",
       "      <td>1</td>\n",
       "      <td>1</td>\n",
       "      <td>0</td>\n",
       "      <td>0</td>\n",
       "      <td>1170.878788</td>\n",
       "      <td>81.0</td>\n",
       "      <td>81.0</td>\n",
       "      <td>1.0</td>\n",
       "      <td>5.0</td>\n",
       "      <td>137.0</td>\n",
       "      <td>...</td>\n",
       "      <td>0.0</td>\n",
       "      <td>1.0</td>\n",
       "      <td>0.0</td>\n",
       "      <td>0.0</td>\n",
       "      <td>0.0</td>\n",
       "      <td>0.0</td>\n",
       "      <td>1.0</td>\n",
       "      <td>0.0</td>\n",
       "      <td>0.0</td>\n",
       "      <td>True</td>\n",
       "    </tr>\n",
       "    <tr>\n",
       "      <th>24321</th>\n",
       "      <td>1</td>\n",
       "      <td>1</td>\n",
       "      <td>0</td>\n",
       "      <td>0</td>\n",
       "      <td>400.878788</td>\n",
       "      <td>-9.0</td>\n",
       "      <td>0.0</td>\n",
       "      <td>0.0</td>\n",
       "      <td>-1.0</td>\n",
       "      <td>66.0</td>\n",
       "      <td>...</td>\n",
       "      <td>0.0</td>\n",
       "      <td>0.0</td>\n",
       "      <td>0.0</td>\n",
       "      <td>1.0</td>\n",
       "      <td>0.0</td>\n",
       "      <td>0.0</td>\n",
       "      <td>0.0</td>\n",
       "      <td>0.0</td>\n",
       "      <td>0.0</td>\n",
       "      <td>False</td>\n",
       "    </tr>\n",
       "    <tr>\n",
       "      <th>2887</th>\n",
       "      <td>0</td>\n",
       "      <td>0</td>\n",
       "      <td>0</td>\n",
       "      <td>0</td>\n",
       "      <td>1194.878788</td>\n",
       "      <td>7.0</td>\n",
       "      <td>7.0</td>\n",
       "      <td>0.0</td>\n",
       "      <td>0.0</td>\n",
       "      <td>173.0</td>\n",
       "      <td>...</td>\n",
       "      <td>1.0</td>\n",
       "      <td>0.0</td>\n",
       "      <td>0.0</td>\n",
       "      <td>0.0</td>\n",
       "      <td>0.0</td>\n",
       "      <td>0.0</td>\n",
       "      <td>1.0</td>\n",
       "      <td>0.0</td>\n",
       "      <td>0.0</td>\n",
       "      <td>False</td>\n",
       "    </tr>\n",
       "    <tr>\n",
       "      <th>12034</th>\n",
       "      <td>0</td>\n",
       "      <td>0</td>\n",
       "      <td>1</td>\n",
       "      <td>0</td>\n",
       "      <td>1859.878788</td>\n",
       "      <td>70.0</td>\n",
       "      <td>70.0</td>\n",
       "      <td>1.0</td>\n",
       "      <td>4.0</td>\n",
       "      <td>168.0</td>\n",
       "      <td>...</td>\n",
       "      <td>0.0</td>\n",
       "      <td>0.0</td>\n",
       "      <td>0.0</td>\n",
       "      <td>0.0</td>\n",
       "      <td>0.0</td>\n",
       "      <td>0.0</td>\n",
       "      <td>0.0</td>\n",
       "      <td>1.0</td>\n",
       "      <td>0.0</td>\n",
       "      <td>True</td>\n",
       "    </tr>\n",
       "    <tr>\n",
       "      <th>13019</th>\n",
       "      <td>0</td>\n",
       "      <td>0</td>\n",
       "      <td>1</td>\n",
       "      <td>0</td>\n",
       "      <td>955.878788</td>\n",
       "      <td>131.0</td>\n",
       "      <td>131.0</td>\n",
       "      <td>1.0</td>\n",
       "      <td>8.0</td>\n",
       "      <td>131.0</td>\n",
       "      <td>...</td>\n",
       "      <td>0.0</td>\n",
       "      <td>1.0</td>\n",
       "      <td>0.0</td>\n",
       "      <td>0.0</td>\n",
       "      <td>0.0</td>\n",
       "      <td>0.0</td>\n",
       "      <td>1.0</td>\n",
       "      <td>0.0</td>\n",
       "      <td>0.0</td>\n",
       "      <td>True</td>\n",
       "    </tr>\n",
       "    <tr>\n",
       "      <th>15102</th>\n",
       "      <td>0</td>\n",
       "      <td>0</td>\n",
       "      <td>0</td>\n",
       "      <td>0</td>\n",
       "      <td>390.878788</td>\n",
       "      <td>-4.0</td>\n",
       "      <td>0.0</td>\n",
       "      <td>0.0</td>\n",
       "      <td>-1.0</td>\n",
       "      <td>130.0</td>\n",
       "      <td>...</td>\n",
       "      <td>0.0</td>\n",
       "      <td>0.0</td>\n",
       "      <td>0.0</td>\n",
       "      <td>0.0</td>\n",
       "      <td>0.0</td>\n",
       "      <td>0.0</td>\n",
       "      <td>1.0</td>\n",
       "      <td>0.0</td>\n",
       "      <td>0.0</td>\n",
       "      <td>False</td>\n",
       "    </tr>\n",
       "    <tr>\n",
       "      <th>15423</th>\n",
       "      <td>0</td>\n",
       "      <td>0</td>\n",
       "      <td>1</td>\n",
       "      <td>0</td>\n",
       "      <td>1271.878788</td>\n",
       "      <td>82.0</td>\n",
       "      <td>82.0</td>\n",
       "      <td>1.0</td>\n",
       "      <td>5.0</td>\n",
       "      <td>192.0</td>\n",
       "      <td>...</td>\n",
       "      <td>1.0</td>\n",
       "      <td>0.0</td>\n",
       "      <td>0.0</td>\n",
       "      <td>0.0</td>\n",
       "      <td>0.0</td>\n",
       "      <td>0.0</td>\n",
       "      <td>1.0</td>\n",
       "      <td>0.0</td>\n",
       "      <td>0.0</td>\n",
       "      <td>True</td>\n",
       "    </tr>\n",
       "  </tbody>\n",
       "</table>\n",
       "<p>10 rows × 43 columns</p>\n",
       "</div>"
      ],
      "text/plain": [
       "       QUARTER  MONTH  DAY_OF_MONTH  DAY_OF_WEEK     DEP_TIME  DEP_DELAY  \\\n",
       "4696         0      1             0            1  1358.878788       -6.0   \n",
       "22712        0      0             0            0   667.878788       68.0   \n",
       "959          1      1             0            0  1388.878788        9.0   \n",
       "3668         1      1             0            0  1170.878788       81.0   \n",
       "24321        1      1             0            0   400.878788       -9.0   \n",
       "2887         0      0             0            0  1194.878788        7.0   \n",
       "12034        0      0             1            0  1859.878788       70.0   \n",
       "13019        0      0             1            0   955.878788      131.0   \n",
       "15102        0      0             0            0   390.878788       -4.0   \n",
       "15423        0      0             1            0  1271.878788       82.0   \n",
       "\n",
       "       DEP_DELAY_NEW  DEP_DEL15  DEP_DELAY_GROUP  CRS_ELAPSED_TIME  \\\n",
       "4696             0.0        0.0             -1.0             170.0   \n",
       "22712           68.0        1.0              4.0             398.0   \n",
       "959              9.0        0.0              0.0             133.0   \n",
       "3668            81.0        1.0              5.0             137.0   \n",
       "24321            0.0        0.0             -1.0              66.0   \n",
       "2887             7.0        0.0              0.0             173.0   \n",
       "12034           70.0        1.0              4.0             168.0   \n",
       "13019          131.0        1.0              8.0             131.0   \n",
       "15102            0.0        0.0             -1.0             130.0   \n",
       "15423           82.0        1.0              5.0             192.0   \n",
       "\n",
       "          ...      ORIGIN_3  ORIGIN_4  ORIGIN_5  DEST_0  DEST_1  DEST_2  \\\n",
       "4696      ...           0.0       0.0       0.0     0.0     0.0     0.0   \n",
       "22712     ...           0.0       0.0       0.0     0.0     0.0     0.0   \n",
       "959       ...           0.0       1.0       0.0     0.0     0.0     0.0   \n",
       "3668      ...           0.0       1.0       0.0     0.0     0.0     0.0   \n",
       "24321     ...           0.0       0.0       0.0     1.0     0.0     0.0   \n",
       "2887      ...           1.0       0.0       0.0     0.0     0.0     0.0   \n",
       "12034     ...           0.0       0.0       0.0     0.0     0.0     0.0   \n",
       "13019     ...           0.0       1.0       0.0     0.0     0.0     0.0   \n",
       "15102     ...           0.0       0.0       0.0     0.0     0.0     0.0   \n",
       "15423     ...           1.0       0.0       0.0     0.0     0.0     0.0   \n",
       "\n",
       "       DEST_3  DEST_4  DEST_5  IS_DELAYED  \n",
       "4696      0.0     1.0     0.0       False  \n",
       "22712     0.0     0.0     1.0        True  \n",
       "959       1.0     0.0     0.0        True  \n",
       "3668      1.0     0.0     0.0        True  \n",
       "24321     0.0     0.0     0.0       False  \n",
       "2887      1.0     0.0     0.0       False  \n",
       "12034     0.0     1.0     0.0        True  \n",
       "13019     1.0     0.0     0.0        True  \n",
       "15102     1.0     0.0     0.0       False  \n",
       "15423     1.0     0.0     0.0        True  \n",
       "\n",
       "[10 rows x 43 columns]"
      ]
     },
     "execution_count": 12,
     "metadata": {},
     "output_type": "execute_result"
    }
   ],
   "source": [
    "df.sample(10, random_state=random_state)"
   ]
  },
  {
   "cell_type": "code",
   "execution_count": 13,
   "metadata": {
    "collapsed": false
   },
   "outputs": [
    {
     "data": {
      "text/plain": [
       "((31186, 42), (31186,))"
      ]
     },
     "execution_count": 13,
     "metadata": {},
     "output_type": "execute_result"
    }
   ],
   "source": [
    "XX = df.drop(labels=[target_col], axis=1)\n",
    "yy = df[target_col]\n",
    "XX.shape, yy.shape"
   ]
  },
  {
   "cell_type": "code",
   "execution_count": 14,
   "metadata": {
    "collapsed": false
   },
   "outputs": [],
   "source": [
    "columns_one_hot_encoded = np.array([col for col in df.columns if is_number(col[-1])])\n",
    "columns_not_one_hot = np.array([col for col in df.columns if not is_number(col[-1])])"
   ]
  },
  {
   "cell_type": "code",
   "execution_count": 15,
   "metadata": {
    "collapsed": false
   },
   "outputs": [
    {
     "data": {
      "text/html": [
       "<div>\n",
       "<table border=\"1\" class=\"dataframe\">\n",
       "  <thead>\n",
       "    <tr style=\"text-align: right;\">\n",
       "      <th></th>\n",
       "      <th>QUARTER</th>\n",
       "      <th>MONTH</th>\n",
       "      <th>DAY_OF_MONTH</th>\n",
       "      <th>DAY_OF_WEEK</th>\n",
       "      <th>DEP_TIME</th>\n",
       "      <th>DEP_DELAY</th>\n",
       "      <th>DEP_DELAY_NEW</th>\n",
       "      <th>DEP_DELAY_GROUP</th>\n",
       "      <th>CRS_ELAPSED_TIME</th>\n",
       "    </tr>\n",
       "  </thead>\n",
       "  <tbody>\n",
       "    <tr>\n",
       "      <th>count</th>\n",
       "      <td>31186.000000</td>\n",
       "      <td>31186.000000</td>\n",
       "      <td>31186.000000</td>\n",
       "      <td>31186.000000</td>\n",
       "      <td>31186.000000</td>\n",
       "      <td>31186.000000</td>\n",
       "      <td>31186.000000</td>\n",
       "      <td>31186.000000</td>\n",
       "      <td>31186.000000</td>\n",
       "    </tr>\n",
       "    <tr>\n",
       "      <th>mean</th>\n",
       "      <td>0.268903</td>\n",
       "      <td>0.285449</td>\n",
       "      <td>0.173988</td>\n",
       "      <td>0.328898</td>\n",
       "      <td>1070.573074</td>\n",
       "      <td>19.281953</td>\n",
       "      <td>21.085840</td>\n",
       "      <td>0.751812</td>\n",
       "      <td>238.534631</td>\n",
       "    </tr>\n",
       "    <tr>\n",
       "      <th>std</th>\n",
       "      <td>0.443396</td>\n",
       "      <td>0.451635</td>\n",
       "      <td>0.379106</td>\n",
       "      <td>0.469820</td>\n",
       "      <td>506.387802</td>\n",
       "      <td>32.605802</td>\n",
       "      <td>31.302126</td>\n",
       "      <td>2.237086</td>\n",
       "      <td>111.624021</td>\n",
       "    </tr>\n",
       "    <tr>\n",
       "      <th>min</th>\n",
       "      <td>0.000000</td>\n",
       "      <td>0.000000</td>\n",
       "      <td>0.000000</td>\n",
       "      <td>0.000000</td>\n",
       "      <td>178.878788</td>\n",
       "      <td>-20.000000</td>\n",
       "      <td>0.000000</td>\n",
       "      <td>-2.000000</td>\n",
       "      <td>59.000000</td>\n",
       "    </tr>\n",
       "    <tr>\n",
       "      <th>25%</th>\n",
       "      <td>0.000000</td>\n",
       "      <td>0.000000</td>\n",
       "      <td>0.000000</td>\n",
       "      <td>0.000000</td>\n",
       "      <td>605.878788</td>\n",
       "      <td>-3.000000</td>\n",
       "      <td>0.000000</td>\n",
       "      <td>-1.000000</td>\n",
       "      <td>140.000000</td>\n",
       "    </tr>\n",
       "    <tr>\n",
       "      <th>50%</th>\n",
       "      <td>0.000000</td>\n",
       "      <td>0.000000</td>\n",
       "      <td>0.000000</td>\n",
       "      <td>0.000000</td>\n",
       "      <td>1078.878788</td>\n",
       "      <td>2.000000</td>\n",
       "      <td>2.000000</td>\n",
       "      <td>0.000000</td>\n",
       "      <td>177.000000</td>\n",
       "    </tr>\n",
       "    <tr>\n",
       "      <th>75%</th>\n",
       "      <td>1.000000</td>\n",
       "      <td>1.000000</td>\n",
       "      <td>0.000000</td>\n",
       "      <td>1.000000</td>\n",
       "      <td>1482.628788</td>\n",
       "      <td>34.000000</td>\n",
       "      <td>34.000000</td>\n",
       "      <td>2.000000</td>\n",
       "      <td>341.000000</td>\n",
       "    </tr>\n",
       "    <tr>\n",
       "      <th>max</th>\n",
       "      <td>1.000000</td>\n",
       "      <td>1.000000</td>\n",
       "      <td>1.000000</td>\n",
       "      <td>1.000000</td>\n",
       "      <td>2297.878788</td>\n",
       "      <td>132.000000</td>\n",
       "      <td>132.000000</td>\n",
       "      <td>8.000000</td>\n",
       "      <td>468.000000</td>\n",
       "    </tr>\n",
       "  </tbody>\n",
       "</table>\n",
       "</div>"
      ],
      "text/plain": [
       "            QUARTER         MONTH  DAY_OF_MONTH   DAY_OF_WEEK      DEP_TIME  \\\n",
       "count  31186.000000  31186.000000  31186.000000  31186.000000  31186.000000   \n",
       "mean       0.268903      0.285449      0.173988      0.328898   1070.573074   \n",
       "std        0.443396      0.451635      0.379106      0.469820    506.387802   \n",
       "min        0.000000      0.000000      0.000000      0.000000    178.878788   \n",
       "25%        0.000000      0.000000      0.000000      0.000000    605.878788   \n",
       "50%        0.000000      0.000000      0.000000      0.000000   1078.878788   \n",
       "75%        1.000000      1.000000      0.000000      1.000000   1482.628788   \n",
       "max        1.000000      1.000000      1.000000      1.000000   2297.878788   \n",
       "\n",
       "          DEP_DELAY  DEP_DELAY_NEW  DEP_DELAY_GROUP  CRS_ELAPSED_TIME  \n",
       "count  31186.000000   31186.000000     31186.000000      31186.000000  \n",
       "mean      19.281953      21.085840         0.751812        238.534631  \n",
       "std       32.605802      31.302126         2.237086        111.624021  \n",
       "min      -20.000000       0.000000        -2.000000         59.000000  \n",
       "25%       -3.000000       0.000000        -1.000000        140.000000  \n",
       "50%        2.000000       2.000000         0.000000        177.000000  \n",
       "75%       34.000000      34.000000         2.000000        341.000000  \n",
       "max      132.000000     132.000000         8.000000        468.000000  "
      ]
     },
     "execution_count": 15,
     "metadata": {},
     "output_type": "execute_result"
    }
   ],
   "source": [
    "df[columns_not_one_hot].describe()"
   ]
  },
  {
   "cell_type": "markdown",
   "metadata": {},
   "source": [
    "### Dummy Classifier"
   ]
  },
  {
   "cell_type": "code",
   "execution_count": 16,
   "metadata": {
    "collapsed": false
   },
   "outputs": [
    {
     "data": {
      "text/plain": [
       "0.49785160007695761"
      ]
     },
     "execution_count": 16,
     "metadata": {},
     "output_type": "execute_result"
    }
   ],
   "source": [
    "dc = DummyClassifier(random_state=random_state).fit(XX, yy)\n",
    "dc.score(XX, yy)"
   ]
  },
  {
   "cell_type": "code",
   "execution_count": 17,
   "metadata": {
    "collapsed": false
   },
   "outputs": [
    {
     "name": "stdout",
     "output_type": "stream",
     "text": [
      "precision score for delayed flights: 0.498662420382\n",
      "f1 score for both classes: [ 0.49571714  0.49996807]\n",
      "f1 score for is_delayed true class: 0.499968069481\n",
      "f1 score with weighted average: 0.497846011409\n",
      "f1 score with unweighted average: 0.497842603685\n"
     ]
    }
   ],
   "source": [
    "dummy_preds = dc.predict(XX)\n",
    "printFlightDelayScores(y_true=yy, y_pred=dummy_preds)"
   ]
  },
  {
   "cell_type": "code",
   "execution_count": 18,
   "metadata": {
    "collapsed": false
   },
   "outputs": [
    {
     "data": {
      "text/plain": [
       "17.343591302004143"
      ]
     },
     "execution_count": 18,
     "metadata": {},
     "output_type": "execute_result"
    }
   ],
   "source": [
    "log_loss(y_true = yy, y_pred = dc.predict_proba(XX))"
   ]
  },
  {
   "cell_type": "markdown",
   "metadata": {},
   "source": [
    "## Naive Bayes"
   ]
  },
  {
   "cell_type": "code",
   "execution_count": 19,
   "metadata": {
    "collapsed": true
   },
   "outputs": [],
   "source": [
    "clf = GaussianNB()"
   ]
  },
  {
   "cell_type": "code",
   "execution_count": 20,
   "metadata": {
    "collapsed": true
   },
   "outputs": [],
   "source": [
    "cv = MyCrossValidation(n_folds=10, random_state=random_state)"
   ]
  },
  {
   "cell_type": "code",
   "execution_count": 21,
   "metadata": {
    "collapsed": false
   },
   "outputs": [
    {
     "data": {
      "text/plain": [
       "precision_score            0.847233\n",
       "f1_score_nondelayed        0.809183\n",
       "f1_score_delayed           0.779077\n",
       "f1_score_weighted_avg      0.794136\n",
       "f1_score_unweighted_avg    0.794130\n",
       "log_loss                   2.740051\n",
       "accuracy_score             0.795261\n",
       "dtype: float64"
      ]
     },
     "execution_count": 21,
     "metadata": {},
     "output_type": "execute_result"
    }
   ],
   "source": [
    "scores = cv.onEachKFold(XX, yy, getScore_onKFold_callback(clf))\n",
    "scores"
   ]
  },
  {
   "cell_type": "markdown",
   "metadata": {},
   "source": [
    "## Quadratic Discriminant Classifier"
   ]
  },
  {
   "cell_type": "code",
   "execution_count": 22,
   "metadata": {
    "collapsed": true
   },
   "outputs": [],
   "source": [
    "clf = QuadraticDiscriminantAnalysis()"
   ]
  },
  {
   "cell_type": "code",
   "execution_count": 23,
   "metadata": {
    "collapsed": true
   },
   "outputs": [],
   "source": [
    "cv = MyCrossValidation(n_folds=10, random_state=random_state)"
   ]
  },
  {
   "cell_type": "code",
   "execution_count": 24,
   "metadata": {
    "collapsed": false
   },
   "outputs": [
    {
     "name": "stderr",
     "output_type": "stream",
     "text": [
      "/home/student/anaconda2/envs/dme/lib/python2.7/site-packages/sklearn/discriminant_analysis.py:695: UserWarning: Variables are collinear\n",
      "  warnings.warn(\"Variables are collinear\")\n"
     ]
    },
    {
     "data": {
      "text/plain": [
       "precision_score            0.837377\n",
       "f1_score_nondelayed        0.798841\n",
       "f1_score_delayed           0.764298\n",
       "f1_score_weighted_avg      0.781585\n",
       "f1_score_unweighted_avg    0.781569\n",
       "log_loss                   1.850568\n",
       "accuracy_score             0.783012\n",
       "dtype: float64"
      ]
     },
     "execution_count": 24,
     "metadata": {},
     "output_type": "execute_result"
    }
   ],
   "source": [
    "scores = cv.onEachKFold(XX, yy, getScore_onKFold_callback(clf))\n",
    "scores"
   ]
  },
  {
   "cell_type": "markdown",
   "metadata": {},
   "source": [
    "## Random Forest Classifier"
   ]
  },
  {
   "cell_type": "code",
   "execution_count": 26,
   "metadata": {
    "collapsed": false
   },
   "outputs": [
    {
     "name": "stdout",
     "output_type": "stream",
     "text": [
      "precision_score            0.864919\n",
      "f1_score_nondelayed        0.819989\n",
      "f1_score_delayed           0.788964\n",
      "f1_score_weighted_avg      0.804486\n",
      "f1_score_unweighted_avg    0.804476\n",
      "log_loss                   0.990132\n",
      "accuracy_score             0.805746\n",
      "dtype: float64\n",
      "CPU times: user 4.49 s, sys: 8 ms, total: 4.5 s\n",
      "Wall time: 4.49 s\n"
     ]
    }
   ],
   "source": [
    "%%time\n",
    "clf = RandomForestClassifier(random_state=random_state)\n",
    "cv = MyCrossValidation(n_folds=10, random_state=random_state)\n",
    "scores = cv.onEachKFold(XX, yy, getScore_onKFold_callback(clf))\n",
    "print scores"
   ]
  },
  {
   "cell_type": "markdown",
   "metadata": {},
   "source": [
    "## MLP Classifier"
   ]
  },
  {
   "cell_type": "code",
   "execution_count": 25,
   "metadata": {
    "collapsed": false
   },
   "outputs": [
    {
     "name": "stdout",
     "output_type": "stream",
     "text": [
      "precision_score            0.841667\n",
      "f1_score_nondelayed        0.789279\n",
      "f1_score_delayed           0.776084\n",
      "f1_score_weighted_avg      0.782760\n",
      "f1_score_unweighted_avg    0.782681\n",
      "log_loss                   0.482232\n",
      "accuracy_score             0.787436\n",
      "dtype: float64\n",
      "CPU times: user 51.7 s, sys: 2min 22s, total: 3min 14s\n",
      "Wall time: 25.9 s\n"
     ]
    }
   ],
   "source": [
    "%%time\n",
    "clf = MLPClassifier(random_state=random_state)\n",
    "cv = MyCrossValidation(n_folds=10, random_state=random_state)\n",
    "scores = cv.onEachKFold(XX, yy, getScore_onKFold_callback(clf))\n",
    "print scores"
   ]
  },
  {
   "cell_type": "code",
   "execution_count": 35,
   "metadata": {
    "collapsed": true
   },
   "outputs": [],
   "source": [
    "def gpOptimization(n_jobs=n_jobs, n_folds=10):  # using all the features is too slow with any kind of neighbor\n",
    "    \n",
    "    def objective(params): # Here we define the metric we want to minimise\n",
    "        (CC, ) = params\n",
    "        print \"current C: {}\".format(CC)\n",
    "        start = time()\n",
    "\n",
    "        clf = LogisticRegression(C=CC)\n",
    "\n",
    "        cv = MyCrossValidation(n_folds=n_folds, random_state=random_state)\n",
    "\n",
    "        scores = cv.onEachKFold(XX, yy, getScore_onKFold_callback(clf))\n",
    "        score = scores['accuracy_score']\n",
    "        log_loss = scores['log_loss']\n",
    "        print \"current accuracy score: {}\".format(score)\n",
    "        print \"current log loss: {}\".format(log_loss)\n",
    "        print \"time elapsed: {}\".format(time() - start)\n",
    "        print\n",
    "\n",
    "        # We want to maximise accuracy score, i.e. minimise minus average accuracy\n",
    "        return log_loss #-score\n",
    "    \n",
    "    C_space = Real(1e-4, 1e3, prior='log-uniform')\n",
    "    space  = [C_space]\n",
    "    \n",
    "    return gp_minimize(\n",
    "        func=objective, # function that we wish to minimise\n",
    "        dimensions=space, #the search space for the hyper-parameters\n",
    "        #x0=x0, #inital values for the hyper-parameters\n",
    "        n_calls=25, #number of times the function will be evaluated\n",
    "        random_state=random_state, #random seed\n",
    "        n_random_starts=5,  #before we start modelling the optimised function with a GP Regression\n",
    "                            #model, we want to try a few random choices for the hyper-parameters.\n",
    "        kappa=1.9, #trade-off between exploration vs. exploitation.\n",
    "        n_jobs=n_jobs\n",
    "    )"
   ]
  },
  {
   "cell_type": "code",
   "execution_count": 36,
   "metadata": {
    "collapsed": false
   },
   "outputs": [
    {
     "name": "stdout",
     "output_type": "stream",
     "text": [
      "current C: 0.694535625742\n",
      "current accuracy score: 0.818572649866\n",
      "current log loss: 0.40271532402\n",
      "time elapsed: 9.29847383499\n",
      "\n",
      "current C: 10.1467173944\n",
      "current accuracy score: 0.8183802908\n",
      "current log loss: 0.40273065672\n",
      "time elapsed: 9.22016882896\n",
      "\n",
      "current C: 1.65708059843\n",
      "current accuracy score: 0.81847638293\n",
      "current log loss: 0.402720902428\n",
      "time elapsed: 8.61785697937\n",
      "\n",
      "current C: 0.651901951282\n",
      "current accuracy score: 0.81828408556\n",
      "current log loss: 0.402760477334\n",
      "time elapsed: 8.42778015137\n",
      "\n",
      "current C: 0.0923811991681\n",
      "current accuracy score: 0.818380249669\n",
      "current log loss: 0.4026773604\n",
      "time elapsed: 7.58093309402\n",
      "\n",
      "current C: 0.000100107754792\n",
      "current accuracy score: 0.8120633515\n",
      "current log loss: 0.419601153369\n",
      "time elapsed: 4.01759314537\n",
      "\n",
      "current C: 1000.0\n",
      "current accuracy score: 0.818476454909\n",
      "current log loss: 0.4028291379\n",
      "time elapsed: 8.24822402\n",
      "\n",
      "current C: 1000.0\n",
      "current accuracy score: 0.818476454909\n",
      "current log loss: 0.4028291379\n",
      "time elapsed: 7.55689692497\n",
      "\n",
      "current C: 1000.0\n",
      "current accuracy score: 0.818476454909\n",
      "current log loss: 0.4028291379\n",
      "time elapsed: 7.69865107536\n",
      "\n",
      "current C: 999.487839507\n",
      "current accuracy score: 0.818348157262\n",
      "current log loss: 0.402745253033\n",
      "time elapsed: 11.0299179554\n",
      "\n",
      "current C: 999.170212076\n",
      "current accuracy score: 0.818187870037\n",
      "current log loss: 0.402707344358\n",
      "time elapsed: 8.20913004875\n",
      "\n",
      "current C: 19.019781772\n",
      "current accuracy score: 0.818636865527\n",
      "current log loss: 0.40271203971\n",
      "time elapsed: 11.7588920593\n",
      "\n",
      "current C: 999.348290133\n",
      "current accuracy score: 0.817995480122\n",
      "current log loss: 0.40277442435\n",
      "time elapsed: 9.13931703568\n",
      "\n",
      "current C: 18.1972136308\n",
      "current accuracy score: 0.818604773121\n",
      "current log loss: 0.402642413949\n",
      "time elapsed: 11.3401610851\n",
      "\n",
      "current C: 0.131720851044\n",
      "current accuracy score: 0.818284034146\n",
      "current log loss: 0.402690934592\n",
      "time elapsed: 8.71874308586\n",
      "\n",
      "current C: 11.3129136375\n",
      "current accuracy score: 0.818348188111\n",
      "current log loss: 0.402679365002\n",
      "time elapsed: 12.7973790169\n",
      "\n",
      "current C: 999.806662917\n",
      "current accuracy score: 0.818348157262\n",
      "current log loss: 0.402775028358\n",
      "time elapsed: 10.7035930157\n",
      "\n",
      "current C: 16.7816087728\n",
      "current accuracy score: 0.818091695645\n",
      "current log loss: 0.402767680112\n",
      "time elapsed: 8.33535480499\n",
      "\n",
      "current C: 0.000100032075224\n",
      "current accuracy score: 0.812031289942\n",
      "current log loss: 0.41960026479\n",
      "time elapsed: 3.51390480995\n",
      "\n",
      "current C: 0.0867019191667\n",
      "current accuracy score: 0.818444383068\n",
      "current log loss: 0.402691080693\n",
      "time elapsed: 10.587553978\n",
      "\n",
      "current C: 998.934168323\n",
      "current accuracy score: 0.818636803831\n",
      "current log loss: 0.402753906573\n",
      "time elapsed: 11.4440610409\n",
      "\n",
      "current C: 13.0598519874\n",
      "current accuracy score: 0.818572629301\n",
      "current log loss: 0.40268063419\n",
      "time elapsed: 10.359662056\n",
      "\n",
      "current C: 0.0460455091037\n",
      "current accuracy score: 0.818797101339\n",
      "current log loss: 0.402751788474\n",
      "time elapsed: 7.68988585472\n",
      "\n",
      "current C: 0.0333951289894\n",
      "current accuracy score: 0.818797080774\n",
      "current log loss: 0.402818111443\n",
      "time elapsed: 7.07767391205\n",
      "\n",
      "current C: 4.47428363742\n",
      "current accuracy score: 0.818476413778\n",
      "current log loss: 0.402751622673\n",
      "time elapsed: 7.87031602859\n",
      "\n"
     ]
    }
   ],
   "source": [
    "res_gp = gpOptimization()"
   ]
  },
  {
   "cell_type": "markdown",
   "metadata": {},
   "source": [
    "## Logistic Regression Classifier"
   ]
  },
  {
   "cell_type": "code",
   "execution_count": 26,
   "metadata": {
    "collapsed": false
   },
   "outputs": [
    {
     "name": "stdout",
     "output_type": "stream",
     "text": [
      "precision_score            0.882609\n",
      "f1_score_nondelayed        0.832268\n",
      "f1_score_delayed           0.802292\n",
      "f1_score_weighted_avg      0.817282\n",
      "f1_score_unweighted_avg    0.817280\n",
      "log_loss                   0.402703\n",
      "accuracy_score             0.818541\n",
      "dtype: float64\n",
      "CPU times: user 8.18 s, sys: 6.06 s, total: 14.2 s\n",
      "Wall time: 7.3 s\n"
     ]
    }
   ],
   "source": [
    "%%time\n",
    "clf = LogisticRegression(random_state=random_state)\n",
    "cv = MyCrossValidation(n_folds=10, random_state=random_state)\n",
    "scores = cv.onEachKFold(XX, yy, getScore_onKFold_callback(clf))\n",
    "print scores"
   ]
  },
  {
   "cell_type": "code",
   "execution_count": 35,
   "metadata": {
    "collapsed": true
   },
   "outputs": [],
   "source": [
    "def gpOptimization(n_jobs=n_jobs, n_folds=10):  # using all the features is too slow with any kind of neighbor\n",
    "    \n",
    "    def objective(params): # Here we define the metric we want to minimise\n",
    "        (CC, ) = params\n",
    "        print \"current C: {}\".format(CC)\n",
    "        start = time()\n",
    "\n",
    "        clf = LogisticRegression(C=CC)\n",
    "\n",
    "        cv = MyCrossValidation(n_folds=n_folds, random_state=random_state)\n",
    "\n",
    "        scores = cv.onEachKFold(XX, yy, getScore_onKFold_callback(clf))\n",
    "        score = scores['accuracy_score']\n",
    "        log_loss = scores['log_loss']\n",
    "        print \"current accuracy score: {}\".format(score)\n",
    "        print \"current log loss: {}\".format(log_loss)\n",
    "        print \"time elapsed: {}\".format(time() - start)\n",
    "        print\n",
    "\n",
    "        # We want to maximise accuracy score, i.e. minimise minus average accuracy\n",
    "        return log_loss #-score\n",
    "    \n",
    "    C_space = Real(1e-4, 1e3, prior='log-uniform')\n",
    "    space  = [C_space]\n",
    "    \n",
    "    return gp_minimize(\n",
    "        func=objective, # function that we wish to minimise\n",
    "        dimensions=space, #the search space for the hyper-parameters\n",
    "        #x0=x0, #inital values for the hyper-parameters\n",
    "        n_calls=25, #number of times the function will be evaluated\n",
    "        random_state=random_state, #random seed\n",
    "        n_random_starts=5,  #before we start modelling the optimised function with a GP Regression\n",
    "                            #model, we want to try a few random choices for the hyper-parameters.\n",
    "        kappa=1.9, #trade-off between exploration vs. exploitation.\n",
    "        n_jobs=n_jobs\n",
    "    )"
   ]
  },
  {
   "cell_type": "code",
   "execution_count": 36,
   "metadata": {
    "collapsed": false
   },
   "outputs": [
    {
     "name": "stdout",
     "output_type": "stream",
     "text": [
      "current C: 0.694535625742\n",
      "current accuracy score: 0.818572649866\n",
      "current log loss: 0.40271532402\n",
      "time elapsed: 9.29847383499\n",
      "\n",
      "current C: 10.1467173944\n",
      "current accuracy score: 0.8183802908\n",
      "current log loss: 0.40273065672\n",
      "time elapsed: 9.22016882896\n",
      "\n",
      "current C: 1.65708059843\n",
      "current accuracy score: 0.81847638293\n",
      "current log loss: 0.402720902428\n",
      "time elapsed: 8.61785697937\n",
      "\n",
      "current C: 0.651901951282\n",
      "current accuracy score: 0.81828408556\n",
      "current log loss: 0.402760477334\n",
      "time elapsed: 8.42778015137\n",
      "\n",
      "current C: 0.0923811991681\n",
      "current accuracy score: 0.818380249669\n",
      "current log loss: 0.4026773604\n",
      "time elapsed: 7.58093309402\n",
      "\n",
      "current C: 0.000100107754792\n",
      "current accuracy score: 0.8120633515\n",
      "current log loss: 0.419601153369\n",
      "time elapsed: 4.01759314537\n",
      "\n",
      "current C: 1000.0\n",
      "current accuracy score: 0.818476454909\n",
      "current log loss: 0.4028291379\n",
      "time elapsed: 8.24822402\n",
      "\n",
      "current C: 1000.0\n",
      "current accuracy score: 0.818476454909\n",
      "current log loss: 0.4028291379\n",
      "time elapsed: 7.55689692497\n",
      "\n",
      "current C: 1000.0\n",
      "current accuracy score: 0.818476454909\n",
      "current log loss: 0.4028291379\n",
      "time elapsed: 7.69865107536\n",
      "\n",
      "current C: 999.487839507\n",
      "current accuracy score: 0.818348157262\n",
      "current log loss: 0.402745253033\n",
      "time elapsed: 11.0299179554\n",
      "\n",
      "current C: 999.170212076\n",
      "current accuracy score: 0.818187870037\n",
      "current log loss: 0.402707344358\n",
      "time elapsed: 8.20913004875\n",
      "\n",
      "current C: 19.019781772\n",
      "current accuracy score: 0.818636865527\n",
      "current log loss: 0.40271203971\n",
      "time elapsed: 11.7588920593\n",
      "\n",
      "current C: 999.348290133\n",
      "current accuracy score: 0.817995480122\n",
      "current log loss: 0.40277442435\n",
      "time elapsed: 9.13931703568\n",
      "\n",
      "current C: 18.1972136308\n",
      "current accuracy score: 0.818604773121\n",
      "current log loss: 0.402642413949\n",
      "time elapsed: 11.3401610851\n",
      "\n",
      "current C: 0.131720851044\n",
      "current accuracy score: 0.818284034146\n",
      "current log loss: 0.402690934592\n",
      "time elapsed: 8.71874308586\n",
      "\n",
      "current C: 11.3129136375\n",
      "current accuracy score: 0.818348188111\n",
      "current log loss: 0.402679365002\n",
      "time elapsed: 12.7973790169\n",
      "\n",
      "current C: 999.806662917\n",
      "current accuracy score: 0.818348157262\n",
      "current log loss: 0.402775028358\n",
      "time elapsed: 10.7035930157\n",
      "\n",
      "current C: 16.7816087728\n",
      "current accuracy score: 0.818091695645\n",
      "current log loss: 0.402767680112\n",
      "time elapsed: 8.33535480499\n",
      "\n",
      "current C: 0.000100032075224\n",
      "current accuracy score: 0.812031289942\n",
      "current log loss: 0.41960026479\n",
      "time elapsed: 3.51390480995\n",
      "\n",
      "current C: 0.0867019191667\n",
      "current accuracy score: 0.818444383068\n",
      "current log loss: 0.402691080693\n",
      "time elapsed: 10.587553978\n",
      "\n",
      "current C: 998.934168323\n",
      "current accuracy score: 0.818636803831\n",
      "current log loss: 0.402753906573\n",
      "time elapsed: 11.4440610409\n",
      "\n",
      "current C: 13.0598519874\n",
      "current accuracy score: 0.818572629301\n",
      "current log loss: 0.40268063419\n",
      "time elapsed: 10.359662056\n",
      "\n",
      "current C: 0.0460455091037\n",
      "current accuracy score: 0.818797101339\n",
      "current log loss: 0.402751788474\n",
      "time elapsed: 7.68988585472\n",
      "\n",
      "current C: 0.0333951289894\n",
      "current accuracy score: 0.818797080774\n",
      "current log loss: 0.402818111443\n",
      "time elapsed: 7.07767391205\n",
      "\n",
      "current C: 4.47428363742\n",
      "current accuracy score: 0.818476413778\n",
      "current log loss: 0.402751622673\n",
      "time elapsed: 7.87031602859\n",
      "\n"
     ]
    }
   ],
   "source": [
    "res_gp = gpOptimization()"
   ]
  },
  {
   "cell_type": "code",
   "execution_count": 37,
   "metadata": {
    "collapsed": false
   },
   "outputs": [
    {
     "data": {
      "image/png": "[encoded data removed]",
      "text/plain": [
       "<matplotlib.figure.Figure at 0x7f5ed6d2a450>"
      ]
     },
     "metadata": {},
     "output_type": "display_data"
    }
   ],
   "source": [
    "plotGPoptFunction(res_gp)\n",
    "plt.grid(True)\n",
    "plt.show()"
   ]
  },
  {
   "cell_type": "code",
   "execution_count": 38,
   "metadata": {
    "collapsed": false
   },
   "outputs": [
    {
     "data": {
      "image/png": "[encoded data removed]",
      "text/plain": [
       "<matplotlib.figure.Figure at 0x7f5ed6d2a7d0>"
      ]
     },
     "metadata": {},
     "output_type": "display_data"
    }
   ],
   "source": [
    "plotGPoptConvergence(res_gp)\n",
    "plt.grid(True)\n",
    "plt.show()"
   ]
  },
  {
   "cell_type": "code",
   "execution_count": 39,
   "metadata": {
    "collapsed": false
   },
   "outputs": [
    {
     "data": {
      "text/plain": [
       "18.197213630755986"
      ]
     },
     "execution_count": 39,
     "metadata": {},
     "output_type": "execute_result"
    }
   ],
   "source": [
    "(best_C, ) = res_gp.x\n",
    "best_C"
   ]
  },
  {
   "cell_type": "code",
   "execution_count": 40,
   "metadata": {
    "collapsed": false,
    "scrolled": true
   },
   "outputs": [
    {
     "name": "stdout",
     "output_type": "stream",
     "text": [
      "precision_score            0.883215\n",
      "f1_score_nondelayed        0.832412\n",
      "f1_score_delayed           0.802244\n",
      "f1_score_weighted_avg      0.817331\n",
      "f1_score_unweighted_avg    0.817328\n",
      "log_loss                   0.402642\n",
      "accuracy_score             0.818605\n",
      "dtype: float64\n",
      "CPU times: user 8.24 s, sys: 6.21 s, total: 14.5 s\n",
      "Wall time: 7.31 s\n"
     ]
    }
   ],
   "source": [
    "%%time\n",
    "clf = LogisticRegression(C=best_C)\n",
    "cv = MyCrossValidation(n_folds=10, random_state=random_state)\n",
    "scores = cv.onEachKFold(XX, yy, getScore_onKFold_callback(clf))\n",
    "print scores"
   ]
  },
  {
   "cell_type": "markdown",
   "metadata": {},
   "source": [
    "## K-Neighbors Classifier"
   ]
  },
  {
   "cell_type": "code",
   "execution_count": 25,
   "metadata": {
    "collapsed": false
   },
   "outputs": [
    {
     "name": "stdout",
     "output_type": "stream",
     "text": [
      "precision_score            0.793938\n",
      "f1_score_nondelayed        0.781561\n",
      "f1_score_delayed           0.768018\n",
      "f1_score_weighted_avg      0.774810\n",
      "f1_score_unweighted_avg    0.774789\n",
      "log_loss                   2.998314\n",
      "accuracy_score             0.775027\n",
      "dtype: float64\n",
      "CPU times: user 14.9 s, sys: 284 ms, total: 15.2 s\n",
      "Wall time: 7.41 s\n"
     ]
    }
   ],
   "source": [
    "%%time\n",
    "clf = KNeighborsClassifier(n_neighbors=3, n_jobs=n_jobs)\n",
    "cv = MyCrossValidation(n_folds=10, random_state=random_state)\n",
    "scores = cv.onEachKFold(XX, yy, getScore_onKFold_callback(clf))\n",
    "print scores"
   ]
  },
  {
   "cell_type": "code",
   "execution_count": 26,
   "metadata": {
    "collapsed": true
   },
   "outputs": [],
   "source": [
    "def gpOptimization(n_jobs=n_jobs, n_folds=10):  # using all the features is too slow with any kind of neighbor\n",
    "    \n",
    "    def objective(params): # Here we define the metric we want to minimise\n",
    "        (n_neighbors, ) = params\n",
    "        print \"current neighbors: {}\".format(n_neighbors)\n",
    "        start = time()\n",
    "\n",
    "        clf = KNeighborsClassifier(n_neighbors=n_neighbors, n_jobs=n_jobs)\n",
    "\n",
    "        cv = MyCrossValidation(n_folds=n_folds, random_state=random_state)\n",
    "\n",
    "        scores = cv.onEachKFold(XX, yy, getScore_onKFold_callback(clf))\n",
    "        score = scores['accuracy_score']\n",
    "        print \"current accuracy score: {}\".format(score)\n",
    "        print \"time elapsed: {}\".format(time() - start)\n",
    "        print\n",
    "\n",
    "        # We want to maximise accuracy score, i.e. minimise minus average accuracy\n",
    "        return -score\n",
    "    \n",
    "    neighborsSpace = Integer(1, 100)\n",
    "    space  = [neighborsSpace]\n",
    "    \n",
    "    return gp_minimize(\n",
    "        func=objective, # function that we wish to minimise\n",
    "        dimensions=space, #the search space for the hyper-parameters\n",
    "        #x0=x0, #inital values for the hyper-parameters\n",
    "        n_calls=25, #number of times the function will be evaluated\n",
    "        random_state=random_state, #random seed\n",
    "        n_random_starts=5,  #before we start modelling the optimised function with a GP Regression\n",
    "                            #model, we want to try a few random choices for the hyper-parameters.\n",
    "        kappa=1.9, #trade-off between exploration vs. exploitation.\n",
    "        n_jobs=n_jobs\n",
    "    )"
   ]
  },
  {
   "cell_type": "code",
   "execution_count": 27,
   "metadata": {
    "collapsed": false
   },
   "outputs": [
    {
     "name": "stdout",
     "output_type": "stream",
     "text": [
      "current neighbors: 45\n",
      "current accuracy score: 0.799589976064\n",
      "time elapsed: 9.93260502815\n",
      "\n",
      "current neighbors: 48\n",
      "current accuracy score: 0.800231176379\n",
      "time elapsed: 10.0945110321\n",
      "\n",
      "current neighbors: 65\n",
      "current accuracy score: 0.796896321887\n",
      "time elapsed: 10.2854669094\n",
      "\n",
      "current neighbors: 68\n",
      "current accuracy score: 0.795966577831\n",
      "time elapsed: 12.7424390316\n",
      "\n",
      "current neighbors: 68\n",
      "current accuracy score: 0.795966577831\n",
      "time elapsed: 10.64914608\n",
      "\n",
      "current neighbors: 1\n",
      "current accuracy score: 0.74337848618\n",
      "time elapsed: 5.64970016479\n",
      "\n",
      "current neighbors: 100\n",
      "current accuracy score: 0.790483269892\n",
      "time elapsed: 13.0908489227\n",
      "\n",
      "current neighbors: 34\n",
      "current accuracy score: 0.80087258235\n",
      "time elapsed: 10.3664629459\n",
      "\n",
      "current neighbors: 85\n",
      "current accuracy score: 0.793754062964\n",
      "time elapsed: 13.8688631058\n",
      "\n",
      "current neighbors: 43\n",
      "current accuracy score: 0.799878519805\n",
      "time elapsed: 11.9620811939\n",
      "\n",
      "current neighbors: 30\n",
      "current accuracy score: 0.801385577564\n",
      "time elapsed: 10.0708198547\n",
      "\n",
      "current neighbors: 37\n",
      "current accuracy score: 0.80016711496\n",
      "time elapsed: 9.70297408104\n",
      "\n",
      "current neighbors: 26\n",
      "current accuracy score: 0.802122983119\n",
      "time elapsed: 8.63723897934\n",
      "\n",
      "current neighbors: 33\n",
      "current accuracy score: 0.801513885493\n",
      "time elapsed: 11.2176909447\n",
      "\n",
      "current neighbors: 22\n",
      "current accuracy score: 0.801738244421\n",
      "time elapsed: 8.37699604034\n",
      "\n",
      "current neighbors: 28\n",
      "current accuracy score: 0.801994736886\n",
      "time elapsed: 10.8378181458\n",
      "\n",
      "current neighbors: 29\n",
      "current accuracy score: 0.801257372462\n",
      "time elapsed: 8.89182591438\n",
      "\n",
      "current neighbors: 55\n",
      "current accuracy score: 0.798050630527\n",
      "time elapsed: 10.9357800484\n",
      "\n",
      "current neighbors: 20\n",
      "current accuracy score: 0.801225105249\n",
      "time elapsed: 11.1468780041\n",
      "\n",
      "current neighbors: 78\n",
      "current accuracy score: 0.794427314556\n",
      "time elapsed: 11.1972131729\n",
      "\n",
      "current neighbors: 27\n",
      "current accuracy score: 0.802123034533\n",
      "time elapsed: 12.0609309673\n",
      "\n"
     ]
    },
    {
     "name": "stderr",
     "output_type": "stream",
     "text": [
      "/home/student/anaconda2/envs/dme/lib/python2.7/site-packages/skopt/optimizer/optimizer.py:195: UserWarning: The objective has been evaluated at this point before.\n",
      "  warnings.warn(\"The objective has been evaluated \"\n"
     ]
    },
    {
     "name": "stdout",
     "output_type": "stream",
     "text": [
      "current neighbors: 27\n",
      "current accuracy score: 0.802123034533\n",
      "time elapsed: 8.43398404121\n",
      "\n",
      "current neighbors: 27\n",
      "current accuracy score: 0.802123034533\n",
      "time elapsed: 9.05366182327\n",
      "\n",
      "current neighbors: 27\n",
      "current accuracy score: 0.802123034533\n",
      "time elapsed: 9.72579479218\n",
      "\n",
      "current neighbors: 91\n",
      "current accuracy score: 0.792407333562\n",
      "time elapsed: 12.3854768276\n",
      "\n"
     ]
    }
   ],
   "source": [
    "res_gp = gpOptimization()"
   ]
  },
  {
   "cell_type": "code",
   "execution_count": 28,
   "metadata": {
    "collapsed": false
   },
   "outputs": [
    {
     "data": {
      "image/png": "[encoded data removed]",
      "text/plain": [
       "<matplotlib.figure.Figure at 0x7ff028164890>"
      ]
     },
     "metadata": {},
     "output_type": "display_data"
    }
   ],
   "source": [
    "plotGPoptFunction(res_gp)\n",
    "plt.grid(True)\n",
    "plt.show()"
   ]
  },
  {
   "cell_type": "code",
   "execution_count": 29,
   "metadata": {
    "collapsed": false
   },
   "outputs": [
    {
     "data": {
      "image/png": "[encoded data removed]",
      "text/plain": [
       "<matplotlib.figure.Figure at 0x7ff02dedeb50>"
      ]
     },
     "metadata": {},
     "output_type": "display_data"
    }
   ],
   "source": [
    "plotGPoptConvergence(res_gp)\n",
    "plt.grid(True)\n",
    "plt.show()"
   ]
  },
  {
   "cell_type": "code",
   "execution_count": 30,
   "metadata": {
    "collapsed": false
   },
   "outputs": [
    {
     "data": {
      "text/plain": [
       "27"
      ]
     },
     "execution_count": 30,
     "metadata": {},
     "output_type": "execute_result"
    }
   ],
   "source": [
    "(best_n_neighbors, ) = res_gp.x\n",
    "best_n_neighbors"
   ]
  },
  {
   "cell_type": "code",
   "execution_count": 31,
   "metadata": {
    "collapsed": false,
    "scrolled": true
   },
   "outputs": [
    {
     "name": "stdout",
     "output_type": "stream",
     "text": [
      "precision_score            0.865786\n",
      "f1_score_nondelayed        0.817662\n",
      "f1_score_delayed           0.783638\n",
      "f1_score_weighted_avg      0.800649\n",
      "f1_score_unweighted_avg    0.800650\n",
      "log_loss                   0.456847\n",
      "accuracy_score             0.802123\n",
      "dtype: float64\n",
      "CPU times: user 22.6 s, sys: 68 ms, total: 22.6 s\n",
      "Wall time: 8.57 s\n"
     ]
    }
   ],
   "source": [
    "%%time\n",
    "clf = KNeighborsClassifier(n_neighbors=best_n_neighbors, n_jobs=n_jobs)\n",
    "cv = MyCrossValidation(n_folds=10, random_state=random_state)\n",
    "scores = cv.onEachKFold(XX, yy, getScore_onKFold_callback(clf))\n",
    "print scores"
   ]
  },
  {
   "cell_type": "markdown",
   "metadata": {},
   "source": [
    "## Decision Tree Classifier"
   ]
  },
  {
   "cell_type": "code",
   "execution_count": 32,
   "metadata": {
    "collapsed": false
   },
   "outputs": [
    {
     "name": "stdout",
     "output_type": "stream",
     "text": [
      "precision_score            0.740017\n",
      "f1_score_nondelayed        0.740137\n",
      "f1_score_delayed           0.743281\n",
      "f1_score_weighted_avg      0.741732\n",
      "f1_score_unweighted_avg    0.741709\n",
      "log_loss                   8.916364\n",
      "accuracy_score             0.741743\n",
      "dtype: float64\n",
      "CPU times: user 3.28 s, sys: 4 ms, total: 3.29 s\n",
      "Wall time: 3.29 s\n"
     ]
    }
   ],
   "source": [
    "%%time\n",
    "clf = DecisionTreeClassifier(max_depth=None)\n",
    "cv = MyCrossValidation(n_folds=10, random_state=random_state)\n",
    "scores = cv.onEachKFold(XX, yy, getScore_onKFold_callback(clf))\n",
    "print scores"
   ]
  },
  {
   "cell_type": "code",
   "execution_count": 33,
   "metadata": {
    "collapsed": true
   },
   "outputs": [],
   "source": [
    "def gpOptimization(n_jobs=n_jobs, n_folds=10):\n",
    "    \n",
    "    def objective(params): # Here we define the metric we want to minimise\n",
    "        (max_depth, ) = params\n",
    "        print \"current depth: {}\".format(max_depth)\n",
    "        start = time()\n",
    "\n",
    "        clf = DecisionTreeClassifier(max_depth=max_depth)\n",
    "\n",
    "        cv = MyCrossValidation(n_folds=n_folds, random_state=random_state)\n",
    "\n",
    "        scores = cv.onEachKFold(XX, yy, getScore_onKFold_callback(clf))\n",
    "        score = scores['accuracy_score']\n",
    "        print \"current accuracy score: {}\".format(score)\n",
    "        print \"time elapsed: {}\".format(time() - start)\n",
    "        print\n",
    "\n",
    "        # We want to maximise accuracy score, i.e. minimise minus average accuracy\n",
    "        return -score\n",
    "    \n",
    "    max_depth_space = Integer(1, 100)\n",
    "    space  = [max_depth_space]\n",
    "    \n",
    "    return gp_minimize(\n",
    "        func=objective, # function that we wish to minimise\n",
    "        dimensions=space, #the search space for the hyper-parameters\n",
    "        #x0=x0, #inital values for the hyper-parameters\n",
    "        n_calls=25, #number of times the function will be evaluated\n",
    "        random_state=random_state, #random seed\n",
    "        n_random_starts=5,  #before we start modelling the optimised function with a GP Regression\n",
    "                            #model, we want to try a few random choices for the hyper-parameters.\n",
    "        kappa=1.9, #trade-off between exploration vs. exploitation.\n",
    "        n_jobs=n_jobs\n",
    "    )"
   ]
  },
  {
   "cell_type": "code",
   "execution_count": 34,
   "metadata": {
    "collapsed": false
   },
   "outputs": [
    {
     "name": "stdout",
     "output_type": "stream",
     "text": [
      "current depth: 45\n",
      "current accuracy score: 0.743185756936\n",
      "time elapsed: 3.19530701637\n",
      "\n",
      "current depth: 48\n",
      "current accuracy score: 0.744308333064\n",
      "time elapsed: 3.13128399849\n",
      "\n",
      "current depth: 65\n",
      "current accuracy score: 0.742095766784\n",
      "time elapsed: 3.33486604691\n",
      "\n",
      "current depth: 68\n",
      "current accuracy score: 0.743314249954\n",
      "time elapsed: 3.05344295502\n",
      "\n",
      "current depth: 68\n",
      "current accuracy score: 0.741358268684\n",
      "time elapsed: 3.28596806526\n",
      "\n",
      "current depth: 1\n",
      "current accuracy score: 0.812415936096\n",
      "time elapsed: 0.528052091599\n",
      "\n",
      "current depth: 100\n",
      "current accuracy score: 0.74241632067\n",
      "time elapsed: 5.04922795296\n",
      "\n",
      "current depth: 1\n",
      "current accuracy score: 0.812415936096\n",
      "time elapsed: 0.581784009933\n",
      "\n",
      "current depth: 1\n",
      "current accuracy score: 0.812415936096\n",
      "time elapsed: 0.952162027359\n",
      "\n",
      "current depth: 10\n",
      "current accuracy score: 0.801642049464\n",
      "time elapsed: 2.93059206009\n",
      "\n",
      "current depth: 1\n",
      "current accuracy score: 0.812415936096\n",
      "time elapsed: 0.584329843521\n",
      "\n",
      "current depth: 1\n",
      "current accuracy score: 0.812415936096\n",
      "time elapsed: 0.939834117889\n",
      "\n",
      "current depth: 1\n",
      "current accuracy score: 0.812415936096\n",
      "time elapsed: 0.930235862732\n",
      "\n",
      "current depth: 1\n",
      "current accuracy score: 0.812415936096\n",
      "time elapsed: 0.596610069275\n",
      "\n",
      "current depth: 11\n",
      "current accuracy score: 0.797762097069\n",
      "time elapsed: 2.57807707787\n",
      "\n",
      "current depth: 1\n",
      "current accuracy score: 0.812415936096\n",
      "time elapsed: 0.527903079987\n",
      "\n",
      "current depth: 1\n",
      "current accuracy score: 0.812415936096\n",
      "time elapsed: 0.502357959747\n",
      "\n",
      "current depth: 1\n",
      "current accuracy score: 0.812415936096\n",
      "time elapsed: 0.50919008255\n",
      "\n",
      "current depth: 1\n",
      "current accuracy score: 0.812415936096\n",
      "time elapsed: 0.530853033066\n",
      "\n",
      "current depth: 1\n",
      "current accuracy score: 0.812415936096\n",
      "time elapsed: 0.531954050064\n",
      "\n",
      "current depth: 1\n",
      "current accuracy score: 0.812415936096\n",
      "time elapsed: 0.532717943192\n",
      "\n",
      "current depth: 1\n",
      "current accuracy score: 0.812415936096\n",
      "time elapsed: 0.55918097496\n",
      "\n",
      "current depth: 1\n",
      "current accuracy score: 0.812415936096\n",
      "time elapsed: 0.938678979874\n",
      "\n",
      "current depth: 12\n",
      "current accuracy score: 0.790963905349\n",
      "time elapsed: 3.16676712036\n",
      "\n",
      "current depth: 1\n",
      "current accuracy score: 0.812415936096\n",
      "time elapsed: 0.600224971771\n",
      "\n"
     ]
    }
   ],
   "source": [
    "res_gp = gpOptimization()"
   ]
  },
  {
   "cell_type": "code",
   "execution_count": 35,
   "metadata": {
    "collapsed": false
   },
   "outputs": [
    {
     "data": {
      "image/png": "[encoded data removed]",
      "text/plain": [
       "<matplotlib.figure.Figure at 0x7ff04475ee50>"
      ]
     },
     "metadata": {},
     "output_type": "display_data"
    }
   ],
   "source": [
    "plotGPoptFunction(res_gp)\n",
    "plt.grid(True)\n",
    "plt.show()"
   ]
  },
  {
   "cell_type": "code",
   "execution_count": 36,
   "metadata": {
    "collapsed": false
   },
   "outputs": [
    {
     "data": {
      "image/png": "[encoded data removed]",
      "text/plain": [
       "<matplotlib.figure.Figure at 0x7ff02b9175d0>"
      ]
     },
     "metadata": {},
     "output_type": "display_data"
    }
   ],
   "source": [
    "plotGPoptConvergence(res_gp)\n",
    "plt.grid(True)\n",
    "plt.show()"
   ]
  },
  {
   "cell_type": "code",
   "execution_count": 37,
   "metadata": {
    "collapsed": false
   },
   "outputs": [
    {
     "data": {
      "text/plain": [
       "1"
      ]
     },
     "execution_count": 37,
     "metadata": {},
     "output_type": "execute_result"
    }
   ],
   "source": [
    "(best_max_depth, ) = res_gp.x\n",
    "best_max_depth"
   ]
  },
  {
   "cell_type": "code",
   "execution_count": 38,
   "metadata": {
    "collapsed": false
   },
   "outputs": [
    {
     "name": "stdout",
     "output_type": "stream",
     "text": [
      "precision_score            0.900854\n",
      "f1_score_nondelayed        0.830753\n",
      "f1_score_delayed           0.789529\n",
      "f1_score_weighted_avg      0.810134\n",
      "f1_score_unweighted_avg    0.810141\n",
      "log_loss                   0.465058\n",
      "accuracy_score             0.812416\n",
      "dtype: float64\n",
      "CPU times: user 528 ms, sys: 0 ns, total: 528 ms\n",
      "Wall time: 528 ms\n"
     ]
    }
   ],
   "source": [
    "%%time\n",
    "clf = DecisionTreeClassifier(max_depth=best_max_depth)\n",
    "cv = MyCrossValidation(n_folds=10, random_state=random_state)\n",
    "scores = cv.onEachKFold(XX, yy, getScore_onKFold_callback(clf))\n",
    "print scores"
   ]
  },
  {
   "cell_type": "markdown",
   "metadata": {},
   "source": [
    "### log loss"
   ]
  },
  {
   "cell_type": "code",
   "execution_count": 39,
   "metadata": {
    "collapsed": true
   },
   "outputs": [],
   "source": [
    "def gpOptimization(n_jobs=1, n_folds=10):\n",
    "    \n",
    "    def objective(params): # Here we define the metric we want to minimise\n",
    "        (max_depth, ) = params\n",
    "        print \"current depth: {}\".format(max_depth)\n",
    "        start = time()\n",
    "\n",
    "        clf = DecisionTreeClassifier(max_depth=max_depth)\n",
    "\n",
    "        cv = MyCrossValidation(n_folds=n_folds, random_state=random_state)\n",
    "\n",
    "        scores = cv.onEachKFold(XX, yy, getScore_onKFold_callback(clf))\n",
    "        score = scores['log_loss']\n",
    "        print \"current log loss: {}\".format(score)\n",
    "        print \"time elapsed: {}\".format(time() - start)\n",
    "        print\n",
    "\n",
    "        return score\n",
    "    \n",
    "    max_depth_space = Integer(1, 100)\n",
    "    space  = [max_depth_space]\n",
    "    \n",
    "    return gp_minimize(\n",
    "        func=objective, # function that we wish to minimise\n",
    "        dimensions=space, #the search space for the hyper-parameters\n",
    "        #x0=x0, #inital values for the hyper-parameters\n",
    "        n_calls=25, #number of times the function will be evaluated\n",
    "        random_state=random_state, #random seed\n",
    "        n_random_starts=5,  #before we start modelling the optimised function with a GP Regression\n",
    "                            #model, we want to try a few random choices for the hyper-parameters.\n",
    "        kappa=1.9, #trade-off between exploration vs. exploitation.\n",
    "        n_jobs=n_jobs\n",
    "    )"
   ]
  },
  {
   "cell_type": "code",
   "execution_count": 40,
   "metadata": {
    "collapsed": false
   },
   "outputs": [
    {
     "name": "stdout",
     "output_type": "stream",
     "text": [
      "current depth: 45\n",
      "current log loss: 8.83888529206\n",
      "time elapsed: 3.40153598785\n",
      "\n",
      "current depth: 48\n",
      "current log loss: 8.82564797718\n",
      "time elapsed: 3.09506607056\n",
      "\n",
      "current depth: 65\n",
      "current log loss: 8.83666488939\n",
      "time elapsed: 3.36089897156\n",
      "\n",
      "current depth: 68\n",
      "current log loss: 8.89315923838\n",
      "time elapsed: 3.13651895523\n",
      "\n",
      "current depth: 68\n",
      "current log loss: 8.82672259989\n",
      "time elapsed: 3.20048093796\n",
      "\n",
      "current depth: 1\n",
      "current log loss: 0.465058178284\n",
      "time elapsed: 0.547179937363\n",
      "\n",
      "current depth: 1\n",
      "current log loss: 0.465058178284\n",
      "time elapsed: 0.545591115952\n",
      "\n",
      "current depth: 1\n",
      "current log loss: 0.465058178284\n",
      "time elapsed: 0.940181016922\n",
      "\n",
      "current depth: 1\n",
      "current log loss: 0.465058178284\n",
      "time elapsed: 0.941202878952\n",
      "\n",
      "current depth: 1\n",
      "current log loss: 0.465058178284\n",
      "time elapsed: 0.592287063599\n",
      "\n",
      "current depth: 1\n",
      "current log loss: 0.465058178284\n",
      "time elapsed: 0.592581987381\n",
      "\n",
      "current depth: 1\n",
      "current log loss: 0.465058178284\n",
      "time elapsed: 0.59389090538\n",
      "\n",
      "current depth: 1\n",
      "current log loss: 0.465058178284\n",
      "time elapsed: 0.941776037216\n",
      "\n",
      "current depth: 1\n",
      "current log loss: 0.465058178284\n",
      "time elapsed: 0.812016010284\n",
      "\n",
      "current depth: 1\n",
      "current log loss: 0.465058178284\n",
      "time elapsed: 0.589692115784\n",
      "\n",
      "current depth: 1\n",
      "current log loss: 0.465058178284\n",
      "time elapsed: 0.587635040283\n",
      "\n",
      "current depth: 1\n",
      "current log loss: 0.465058178284\n",
      "time elapsed: 0.949544906616\n",
      "\n",
      "current depth: 2\n",
      "current log loss: 0.427832876119\n",
      "time elapsed: 1.2943789959\n",
      "\n",
      "current depth: 9\n",
      "current log loss: 0.801464255251\n",
      "time elapsed: 2.27103495598\n",
      "\n",
      "current depth: 3\n",
      "current log loss: 0.414045178683\n",
      "time elapsed: 0.940613985062\n",
      "\n",
      "current depth: 3\n",
      "current log loss: 0.414045178683\n",
      "time elapsed: 0.920849084854\n",
      "\n",
      "current depth: 3\n",
      "current log loss: 0.414045178683\n",
      "time elapsed: 0.893684864044\n",
      "\n",
      "current depth: 3\n",
      "current log loss: 0.414045178683\n",
      "time elapsed: 0.842391967773\n",
      "\n",
      "current depth: 3\n",
      "current log loss: 0.414045178683\n",
      "time elapsed: 0.845807790756\n",
      "\n",
      "current depth: 3\n",
      "current log loss: 0.414045178683\n",
      "time elapsed: 0.920017957687\n",
      "\n"
     ]
    }
   ],
   "source": [
    "res_gp = gpOptimization()"
   ]
  },
  {
   "cell_type": "code",
   "execution_count": 41,
   "metadata": {
    "collapsed": false
   },
   "outputs": [
    {
     "data": {
      "image/png": "[encoded data removed]",
      "text/plain": [
       "<matplotlib.figure.Figure at 0x7ff02de1e710>"
      ]
     },
     "metadata": {},
     "output_type": "display_data"
    }
   ],
   "source": [
    "plotGPoptFunction(res_gp)\n",
    "plt.grid(True)\n",
    "plt.show()"
   ]
  },
  {
   "cell_type": "code",
   "execution_count": 42,
   "metadata": {
    "collapsed": false
   },
   "outputs": [
    {
     "data": {
      "image/png": "[encoded data removed]",
      "text/plain": [
       "<matplotlib.figure.Figure at 0x7ff0301c35d0>"
      ]
     },
     "metadata": {},
     "output_type": "display_data"
    }
   ],
   "source": [
    "plotGPoptConvergence(res_gp)\n",
    "plt.grid(True)\n",
    "plt.show()"
   ]
  },
  {
   "cell_type": "code",
   "execution_count": 43,
   "metadata": {
    "collapsed": false
   },
   "outputs": [
    {
     "data": {
      "text/plain": [
       "3"
      ]
     },
     "execution_count": 43,
     "metadata": {},
     "output_type": "execute_result"
    }
   ],
   "source": [
    "(best_max_depth, ) = res_gp.x\n",
    "best_max_depth"
   ]
  },
  {
   "cell_type": "code",
   "execution_count": 44,
   "metadata": {
    "collapsed": false
   },
   "outputs": [
    {
     "name": "stdout",
     "output_type": "stream",
     "text": [
      "precision_score            0.854081\n",
      "f1_score_nondelayed        0.823492\n",
      "f1_score_delayed           0.803007\n",
      "f1_score_weighted_avg      0.813267\n",
      "f1_score_unweighted_avg    0.813250\n",
      "log_loss                   0.414045\n",
      "accuracy_score             0.813859\n",
      "dtype: float64\n",
      "CPU times: user 916 ms, sys: 0 ns, total: 916 ms\n",
      "Wall time: 917 ms\n"
     ]
    }
   ],
   "source": [
    "%%time\n",
    "clf = DecisionTreeClassifier(max_depth=best_max_depth)\n",
    "cv = MyCrossValidation(n_folds=10, random_state=random_state)\n",
    "scores = cv.onEachKFold(XX, yy, getScore_onKFold_callback(clf))\n",
    "print scores"
   ]
  },
  {
   "cell_type": "code",
   "execution_count": null,
   "metadata": {
    "collapsed": true
   },
   "outputs": [],
   "source": []
  },
  {
   "cell_type": "markdown",
   "metadata": {},
   "source": [
    "## Linear Support Vector Classifier"
   ]
  },
  {
   "cell_type": "code",
   "execution_count": 45,
   "metadata": {
    "collapsed": false
   },
   "outputs": [],
   "source": [
    "# %%time\n",
    "# clf = SVC(kernel='linear', probability=True)\n",
    "# cv = MyCrossValidation(n_folds=2, random_state=random_state)\n",
    "# scores = cv.onEachKFold(XX, yy, getScore_onKFold_callback(clf))\n",
    "# print scores"
   ]
  },
  {
   "cell_type": "code",
   "execution_count": 46,
   "metadata": {
    "collapsed": true
   },
   "outputs": [],
   "source": [
    "def gpOptimization(n_jobs=n_jobs, n_folds=2):  # using all the features is too slow with any kind of neighbor\n",
    "    \n",
    "    def objective(params): # Here we define the metric we want to minimise\n",
    "        (CC, ) = params\n",
    "        print \"current C: {}\".format(CC)\n",
    "        start = time()\n",
    "\n",
    "        clf = SVC(kernel='linear', probability=False, C=CC)\n",
    "\n",
    "        cv = MyCrossValidation(n_folds=n_folds, random_state=random_state)\n",
    "        \n",
    "        def onKFold_callback(cls):\n",
    "            def score_onKFold(X_train, y_train, X_valid, y_valid, i):\n",
    "                return pd.Series(data = cls.fit(X_train, y_train).score(X_valid, y_valid),\n",
    "                                 name=\"accuracy_score\").to_frame()\n",
    "            return score_onKFold\n",
    "        \n",
    "        scores = cv.onEachKFold(XX, yy, onKFold_callback(clf))\n",
    "        score = scores['accuracy_score']\n",
    "        print \"current accuracy score: {}\".format(score)\n",
    "        print \"time elapsed: {}\".format(time() - start)\n",
    "        print\n",
    "\n",
    "        # We want to maximise accuracy score, i.e. minimise minus average accuracy\n",
    "        return -score\n",
    "    \n",
    "    C_space = Real(1e-4, 1e1, prior='log-uniform')\n",
    "    space  = [C_space]\n",
    "    \n",
    "    return gp_minimize(\n",
    "        func=objective, # function that we wish to minimise\n",
    "        dimensions=space, #the search space for the hyper-parameters\n",
    "        #x0=x0, #inital values for the hyper-parameters\n",
    "        n_calls=10, #number of times the function will be evaluated\n",
    "        random_state=random_state, #random seed\n",
    "        n_random_starts=1,  #before we start modelling the optimised function with a GP Regression\n",
    "                            #model, we want to try a few random choices for the hyper-parameters.\n",
    "        kappa=1.9, #trade-off between exploration vs. exploitation.\n",
    "        n_jobs=n_jobs\n",
    "    )"
   ]
  },
  {
   "cell_type": "code",
   "execution_count": 47,
   "metadata": {
    "collapsed": false
   },
   "outputs": [],
   "source": [
    "#res_gp = gpOptimization()  #sorry but extremely slow"
   ]
  },
  {
   "cell_type": "code",
   "execution_count": 48,
   "metadata": {
    "collapsed": true
   },
   "outputs": [],
   "source": [
    "# plotGPoptFunction(res_gp)\n",
    "# plt.grid(True)\n",
    "# plt.show()"
   ]
  },
  {
   "cell_type": "code",
   "execution_count": 49,
   "metadata": {
    "collapsed": true
   },
   "outputs": [],
   "source": [
    "# plotGPoptConvergence(res_gp)\n",
    "# plt.grid(True)\n",
    "# plt.show()"
   ]
  },
  {
   "cell_type": "code",
   "execution_count": 50,
   "metadata": {
    "collapsed": true
   },
   "outputs": [],
   "source": [
    "# %%time\n",
    "# (bestC, ) = res_gp.x\n",
    "# print bestC\n",
    "# clf = SVC(kernel='linear', probability=True, C=bestC)\n",
    "# cv = MyCrossValidation(n_folds=2, random_state=random_state)\n",
    "# scores = cv.onEachKFold(XX, yy, getScore_onKFold_callback(clf))\n",
    "# print scores"
   ]
  }
 ],
 "metadata": {
  "kernelspec": {
   "display_name": "Python [dme]",
   "language": "python",
   "name": "Python [dme]"
  },
  "language_info": {
   "codemirror_mode": {
    "name": "ipython",
    "version": 2
   },
   "file_extension": ".py",
   "mimetype": "text/x-python",
   "name": "python",
   "nbconvert_exporter": "python",
   "pygments_lexer": "ipython2",
   "version": "2.7.12"
  }
 },
 "nbformat": 4,
 "nbformat_minor": 2
}
