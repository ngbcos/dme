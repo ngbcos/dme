{
 "cells": [
  {
   "cell_type": "markdown",
   "metadata": {},
   "source": [
    "https://www.transtats.bts.gov/Fields.asp?Table_ID=236"
   ]
  },
  {
   "cell_type": "code",
   "execution_count": 1,
   "metadata": {
    "collapsed": true
   },
   "outputs": [],
   "source": [
    "from __future__ import division #, print_function # Imports from __future__ since we're running Python 2"
   ]
  },
  {
   "cell_type": "code",
   "execution_count": 2,
   "metadata": {
    "collapsed": true
   },
   "outputs": [],
   "source": [
    "#%load_ext autoreload\n",
    "%reload_ext autoreload\n",
    "%autoreload 2"
   ]
  },
  {
   "cell_type": "code",
   "execution_count": 3,
   "metadata": {
    "collapsed": false
   },
   "outputs": [],
   "source": [
    "import os\n",
    "import numpy as np \n",
    "import pandas as pd\n",
    "import matplotlib.pyplot as plt\n",
    "import seaborn as sns\n",
    "random_state = 0\n",
    "%matplotlib inline\n",
    "plt.style.use('ggplot')\n",
    "from sklearn.model_selection import train_test_split\n",
    "from sklearn.utils import shuffle\n",
    "from datetime import datetime\n",
    "from sklearn.ensemble import IsolationForest\n",
    "from helpers.feature_engineering import dateStrToDayYear, getMappingOfSimilarCategoricalColumns, \\\n",
    "    compareSimilarCategoricalColumns \n",
    "from helpers.my_one_hot_encoder import MyOneHotEncoder\n",
    "from helpers.py_helpers import is_number\n",
    "from scipy.stats import skew, kurtosis\n",
    "from helpers.outliers import MyOutliers\n",
    "from sklearn.preprocessing import StandardScaler\n",
    "from helpers.plot_helper import scatter_2d_label\n",
    "from sklearn.decomposition import PCA # Import the PCA module\n",
    "from sklearn.manifold import TSNE\n",
    "from sklearn.decomposition import KernelPCA\n",
    "from sklearn.manifold import MDS\n",
    "from sklearn.manifold import Isomap\n",
    "from helpers.performance_issues import subsample_keeping_class_proportions\n",
    "from flights_delay.feature_processing import FlightDelayFeatureProcessing\n",
    "from sklearn.model_selection import StratifiedShuffleSplit"
   ]
  },
  {
   "cell_type": "code",
   "execution_count": 4,
   "metadata": {
    "collapsed": true
   },
   "outputs": [],
   "source": [
    "rng = np.random.RandomState(seed=random_state)\n",
    "n_jobs = 3 #we prefer to have it run in only a few cores instead of all of them to avoid making the system unstable"
   ]
  },
  {
   "cell_type": "markdown",
   "metadata": {},
   "source": [
    "# Flying to New York City - Use all training data"
   ]
  },
  {
   "cell_type": "code",
   "execution_count": 5,
   "metadata": {
    "collapsed": true
   },
   "outputs": [],
   "source": [
    "target_col = 'IS_DELAYED'"
   ]
  },
  {
   "cell_type": "code",
   "execution_count": 6,
   "metadata": {
    "collapsed": false
   },
   "outputs": [
    {
     "data": {
      "text/plain": [
       "'/home/student/pligor.george@gmail.com/msc_Artificial_Intelligence/dme_Data_Mining/dmedatarats/Data/train_data_numerical_normalized.csv'"
      ]
     },
     "execution_count": 6,
     "metadata": {},
     "output_type": "execute_result"
    }
   ],
   "source": [
    "path_data = os.path.realpath(os.path.join(os.getcwd(), '../Data', 'train_data_numerical_normalized.csv'))\n",
    "assert os.path.isfile(path_data)\n",
    "path_data"
   ]
  },
  {
   "cell_type": "code",
   "execution_count": 7,
   "metadata": {
    "collapsed": false
   },
   "outputs": [
    {
     "data": {
      "text/plain": [
       "(433495, 539)"
      ]
     },
     "execution_count": 7,
     "metadata": {},
     "output_type": "execute_result"
    }
   ],
   "source": [
    "df = pd.read_csv(path_data, delimiter = ',', header=0)\n",
    "df.shape"
   ]
  },
  {
   "cell_type": "code",
   "execution_count": 8,
   "metadata": {
    "collapsed": false
   },
   "outputs": [
    {
     "data": {
      "text/html": [
       "<div>\n",
       "<table border=\"1\" class=\"dataframe\">\n",
       "  <thead>\n",
       "    <tr style=\"text-align: right;\">\n",
       "      <th></th>\n",
       "      <th>QUARTER</th>\n",
       "      <th>MONTH</th>\n",
       "      <th>DAY_OF_MONTH</th>\n",
       "      <th>DAY_OF_WEEK</th>\n",
       "      <th>FL_NUM</th>\n",
       "      <th>DEP_TIME</th>\n",
       "      <th>DEP_DELAY</th>\n",
       "      <th>DEP_DELAY_GROUP</th>\n",
       "      <th>DISTANCE</th>\n",
       "      <th>DISTANCE_GROUP</th>\n",
       "      <th>...</th>\n",
       "      <th>DEP_TIME_BLK_9</th>\n",
       "      <th>DEP_TIME_BLK_10</th>\n",
       "      <th>DEP_TIME_BLK_11</th>\n",
       "      <th>DEP_TIME_BLK_12</th>\n",
       "      <th>DEP_TIME_BLK_13</th>\n",
       "      <th>DEP_TIME_BLK_14</th>\n",
       "      <th>DEP_TIME_BLK_15</th>\n",
       "      <th>DEP_TIME_BLK_16</th>\n",
       "      <th>DEP_TIME_BLK_17</th>\n",
       "      <th>IS_DELAYED</th>\n",
       "    </tr>\n",
       "  </thead>\n",
       "  <tbody>\n",
       "    <tr>\n",
       "      <th>378736</th>\n",
       "      <td>-1.354511</td>\n",
       "      <td>-1.619410</td>\n",
       "      <td>0.369682</td>\n",
       "      <td>-0.962740</td>\n",
       "      <td>-0.954384</td>\n",
       "      <td>-0.001447</td>\n",
       "      <td>0.722605</td>\n",
       "      <td>1.164551</td>\n",
       "      <td>-0.233592</td>\n",
       "      <td>-0.251870</td>\n",
       "      <td>...</td>\n",
       "      <td>0.0</td>\n",
       "      <td>0.0</td>\n",
       "      <td>0.0</td>\n",
       "      <td>0.0</td>\n",
       "      <td>0.0</td>\n",
       "      <td>0.0</td>\n",
       "      <td>0.0</td>\n",
       "      <td>0.0</td>\n",
       "      <td>0.0</td>\n",
       "      <td>True</td>\n",
       "    </tr>\n",
       "    <tr>\n",
       "      <th>423345</th>\n",
       "      <td>1.358389</td>\n",
       "      <td>1.030006</td>\n",
       "      <td>-0.994470</td>\n",
       "      <td>0.553547</td>\n",
       "      <td>-0.977922</td>\n",
       "      <td>1.588134</td>\n",
       "      <td>0.195416</td>\n",
       "      <td>0.329982</td>\n",
       "      <td>2.114479</td>\n",
       "      <td>2.266057</td>\n",
       "      <td>...</td>\n",
       "      <td>0.0</td>\n",
       "      <td>0.0</td>\n",
       "      <td>0.0</td>\n",
       "      <td>0.0</td>\n",
       "      <td>0.0</td>\n",
       "      <td>0.0</td>\n",
       "      <td>1.0</td>\n",
       "      <td>0.0</td>\n",
       "      <td>0.0</td>\n",
       "      <td>False</td>\n",
       "    </tr>\n",
       "    <tr>\n",
       "      <th>150004</th>\n",
       "      <td>-0.450211</td>\n",
       "      <td>-0.441892</td>\n",
       "      <td>1.279117</td>\n",
       "      <td>0.553547</td>\n",
       "      <td>-0.775886</td>\n",
       "      <td>0.397407</td>\n",
       "      <td>-0.458298</td>\n",
       "      <td>-0.504587</td>\n",
       "      <td>-0.317054</td>\n",
       "      <td>-0.251870</td>\n",
       "      <td>...</td>\n",
       "      <td>1.0</td>\n",
       "      <td>0.0</td>\n",
       "      <td>0.0</td>\n",
       "      <td>0.0</td>\n",
       "      <td>0.0</td>\n",
       "      <td>0.0</td>\n",
       "      <td>0.0</td>\n",
       "      <td>0.0</td>\n",
       "      <td>0.0</td>\n",
       "      <td>False</td>\n",
       "    </tr>\n",
       "    <tr>\n",
       "      <th>233834</th>\n",
       "      <td>-0.450211</td>\n",
       "      <td>-0.736272</td>\n",
       "      <td>1.165437</td>\n",
       "      <td>-0.962740</td>\n",
       "      <td>2.407655</td>\n",
       "      <td>-0.785537</td>\n",
       "      <td>-0.289598</td>\n",
       "      <td>-0.504587</td>\n",
       "      <td>-0.620300</td>\n",
       "      <td>-0.611574</td>\n",
       "      <td>...</td>\n",
       "      <td>0.0</td>\n",
       "      <td>0.0</td>\n",
       "      <td>0.0</td>\n",
       "      <td>0.0</td>\n",
       "      <td>0.0</td>\n",
       "      <td>0.0</td>\n",
       "      <td>0.0</td>\n",
       "      <td>0.0</td>\n",
       "      <td>0.0</td>\n",
       "      <td>False</td>\n",
       "    </tr>\n",
       "    <tr>\n",
       "      <th>406842</th>\n",
       "      <td>-0.450211</td>\n",
       "      <td>-0.441892</td>\n",
       "      <td>-0.880791</td>\n",
       "      <td>1.564406</td>\n",
       "      <td>-0.389467</td>\n",
       "      <td>0.823500</td>\n",
       "      <td>0.174328</td>\n",
       "      <td>0.329982</td>\n",
       "      <td>-0.408862</td>\n",
       "      <td>-0.251870</td>\n",
       "      <td>...</td>\n",
       "      <td>0.0</td>\n",
       "      <td>0.0</td>\n",
       "      <td>1.0</td>\n",
       "      <td>0.0</td>\n",
       "      <td>0.0</td>\n",
       "      <td>0.0</td>\n",
       "      <td>0.0</td>\n",
       "      <td>0.0</td>\n",
       "      <td>0.0</td>\n",
       "      <td>False</td>\n",
       "    </tr>\n",
       "    <tr>\n",
       "      <th>336024</th>\n",
       "      <td>-1.354511</td>\n",
       "      <td>-1.325031</td>\n",
       "      <td>-1.449188</td>\n",
       "      <td>-0.457311</td>\n",
       "      <td>-0.664733</td>\n",
       "      <td>-2.330368</td>\n",
       "      <td>-0.690261</td>\n",
       "      <td>-0.921871</td>\n",
       "      <td>0.167027</td>\n",
       "      <td>0.107834</td>\n",
       "      <td>...</td>\n",
       "      <td>0.0</td>\n",
       "      <td>0.0</td>\n",
       "      <td>0.0</td>\n",
       "      <td>0.0</td>\n",
       "      <td>0.0</td>\n",
       "      <td>0.0</td>\n",
       "      <td>0.0</td>\n",
       "      <td>0.0</td>\n",
       "      <td>0.0</td>\n",
       "      <td>False</td>\n",
       "    </tr>\n",
       "    <tr>\n",
       "      <th>9065</th>\n",
       "      <td>-0.450211</td>\n",
       "      <td>-0.736272</td>\n",
       "      <td>-0.653432</td>\n",
       "      <td>1.564406</td>\n",
       "      <td>-0.312314</td>\n",
       "      <td>-0.752461</td>\n",
       "      <td>-0.247423</td>\n",
       "      <td>-0.087302</td>\n",
       "      <td>-0.408862</td>\n",
       "      <td>-0.251870</td>\n",
       "      <td>...</td>\n",
       "      <td>0.0</td>\n",
       "      <td>0.0</td>\n",
       "      <td>0.0</td>\n",
       "      <td>0.0</td>\n",
       "      <td>0.0</td>\n",
       "      <td>0.0</td>\n",
       "      <td>0.0</td>\n",
       "      <td>0.0</td>\n",
       "      <td>0.0</td>\n",
       "      <td>False</td>\n",
       "    </tr>\n",
       "    <tr>\n",
       "      <th>134634</th>\n",
       "      <td>1.358389</td>\n",
       "      <td>1.324385</td>\n",
       "      <td>-1.335508</td>\n",
       "      <td>0.553547</td>\n",
       "      <td>2.312195</td>\n",
       "      <td>0.553058</td>\n",
       "      <td>1.650457</td>\n",
       "      <td>2.416404</td>\n",
       "      <td>-0.552139</td>\n",
       "      <td>-0.611574</td>\n",
       "      <td>...</td>\n",
       "      <td>0.0</td>\n",
       "      <td>0.0</td>\n",
       "      <td>0.0</td>\n",
       "      <td>0.0</td>\n",
       "      <td>0.0</td>\n",
       "      <td>0.0</td>\n",
       "      <td>0.0</td>\n",
       "      <td>0.0</td>\n",
       "      <td>0.0</td>\n",
       "      <td>True</td>\n",
       "    </tr>\n",
       "    <tr>\n",
       "      <th>256092</th>\n",
       "      <td>0.454089</td>\n",
       "      <td>0.441246</td>\n",
       "      <td>0.938079</td>\n",
       "      <td>-0.457311</td>\n",
       "      <td>0.678905</td>\n",
       "      <td>-1.135751</td>\n",
       "      <td>-0.500473</td>\n",
       "      <td>-0.504587</td>\n",
       "      <td>-1.050131</td>\n",
       "      <td>-0.971278</td>\n",
       "      <td>...</td>\n",
       "      <td>0.0</td>\n",
       "      <td>0.0</td>\n",
       "      <td>0.0</td>\n",
       "      <td>0.0</td>\n",
       "      <td>0.0</td>\n",
       "      <td>0.0</td>\n",
       "      <td>0.0</td>\n",
       "      <td>0.0</td>\n",
       "      <td>0.0</td>\n",
       "      <td>False</td>\n",
       "    </tr>\n",
       "    <tr>\n",
       "      <th>297582</th>\n",
       "      <td>0.454089</td>\n",
       "      <td>0.146867</td>\n",
       "      <td>-0.767112</td>\n",
       "      <td>1.058976</td>\n",
       "      <td>2.584845</td>\n",
       "      <td>-0.989828</td>\n",
       "      <td>-0.289598</td>\n",
       "      <td>-0.504587</td>\n",
       "      <td>0.784647</td>\n",
       "      <td>0.827241</td>\n",
       "      <td>...</td>\n",
       "      <td>0.0</td>\n",
       "      <td>0.0</td>\n",
       "      <td>0.0</td>\n",
       "      <td>0.0</td>\n",
       "      <td>0.0</td>\n",
       "      <td>0.0</td>\n",
       "      <td>0.0</td>\n",
       "      <td>0.0</td>\n",
       "      <td>0.0</td>\n",
       "      <td>False</td>\n",
       "    </tr>\n",
       "  </tbody>\n",
       "</table>\n",
       "<p>10 rows × 539 columns</p>\n",
       "</div>"
      ],
      "text/plain": [
       "         QUARTER     MONTH  DAY_OF_MONTH  DAY_OF_WEEK    FL_NUM  DEP_TIME  \\\n",
       "378736 -1.354511 -1.619410      0.369682    -0.962740 -0.954384 -0.001447   \n",
       "423345  1.358389  1.030006     -0.994470     0.553547 -0.977922  1.588134   \n",
       "150004 -0.450211 -0.441892      1.279117     0.553547 -0.775886  0.397407   \n",
       "233834 -0.450211 -0.736272      1.165437    -0.962740  2.407655 -0.785537   \n",
       "406842 -0.450211 -0.441892     -0.880791     1.564406 -0.389467  0.823500   \n",
       "336024 -1.354511 -1.325031     -1.449188    -0.457311 -0.664733 -2.330368   \n",
       "9065   -0.450211 -0.736272     -0.653432     1.564406 -0.312314 -0.752461   \n",
       "134634  1.358389  1.324385     -1.335508     0.553547  2.312195  0.553058   \n",
       "256092  0.454089  0.441246      0.938079    -0.457311  0.678905 -1.135751   \n",
       "297582  0.454089  0.146867     -0.767112     1.058976  2.584845 -0.989828   \n",
       "\n",
       "        DEP_DELAY  DEP_DELAY_GROUP  DISTANCE  DISTANCE_GROUP     ...      \\\n",
       "378736   0.722605         1.164551 -0.233592       -0.251870     ...       \n",
       "423345   0.195416         0.329982  2.114479        2.266057     ...       \n",
       "150004  -0.458298        -0.504587 -0.317054       -0.251870     ...       \n",
       "233834  -0.289598        -0.504587 -0.620300       -0.611574     ...       \n",
       "406842   0.174328         0.329982 -0.408862       -0.251870     ...       \n",
       "336024  -0.690261        -0.921871  0.167027        0.107834     ...       \n",
       "9065    -0.247423        -0.087302 -0.408862       -0.251870     ...       \n",
       "134634   1.650457         2.416404 -0.552139       -0.611574     ...       \n",
       "256092  -0.500473        -0.504587 -1.050131       -0.971278     ...       \n",
       "297582  -0.289598        -0.504587  0.784647        0.827241     ...       \n",
       "\n",
       "        DEP_TIME_BLK_9  DEP_TIME_BLK_10  DEP_TIME_BLK_11  DEP_TIME_BLK_12  \\\n",
       "378736             0.0              0.0              0.0              0.0   \n",
       "423345             0.0              0.0              0.0              0.0   \n",
       "150004             1.0              0.0              0.0              0.0   \n",
       "233834             0.0              0.0              0.0              0.0   \n",
       "406842             0.0              0.0              1.0              0.0   \n",
       "336024             0.0              0.0              0.0              0.0   \n",
       "9065               0.0              0.0              0.0              0.0   \n",
       "134634             0.0              0.0              0.0              0.0   \n",
       "256092             0.0              0.0              0.0              0.0   \n",
       "297582             0.0              0.0              0.0              0.0   \n",
       "\n",
       "        DEP_TIME_BLK_13  DEP_TIME_BLK_14  DEP_TIME_BLK_15  DEP_TIME_BLK_16  \\\n",
       "378736              0.0              0.0              0.0              0.0   \n",
       "423345              0.0              0.0              1.0              0.0   \n",
       "150004              0.0              0.0              0.0              0.0   \n",
       "233834              0.0              0.0              0.0              0.0   \n",
       "406842              0.0              0.0              0.0              0.0   \n",
       "336024              0.0              0.0              0.0              0.0   \n",
       "9065                0.0              0.0              0.0              0.0   \n",
       "134634              0.0              0.0              0.0              0.0   \n",
       "256092              0.0              0.0              0.0              0.0   \n",
       "297582              0.0              0.0              0.0              0.0   \n",
       "\n",
       "        DEP_TIME_BLK_17  IS_DELAYED  \n",
       "378736              0.0        True  \n",
       "423345              0.0       False  \n",
       "150004              0.0       False  \n",
       "233834              0.0       False  \n",
       "406842              0.0       False  \n",
       "336024              0.0       False  \n",
       "9065                0.0       False  \n",
       "134634              0.0        True  \n",
       "256092              0.0       False  \n",
       "297582              0.0       False  \n",
       "\n",
       "[10 rows x 539 columns]"
      ]
     },
     "execution_count": 8,
     "metadata": {},
     "output_type": "execute_result"
    }
   ],
   "source": [
    "df.sample(10, random_state=random_state)"
   ]
  },
  {
   "cell_type": "code",
   "execution_count": 9,
   "metadata": {
    "collapsed": false
   },
   "outputs": [
    {
     "name": "stdout",
     "output_type": "stream",
     "text": [
      "<class 'pandas.core.frame.DataFrame'>\n",
      "RangeIndex: 433495 entries, 0 to 433494\n",
      "Columns: 539 entries, QUARTER to IS_DELAYED\n",
      "dtypes: bool(1), float64(538)\n",
      "memory usage: 1.7 GB\n"
     ]
    }
   ],
   "source": [
    "df.info()  #here we are verifying that everything is numerical"
   ]
  },
  {
   "cell_type": "code",
   "execution_count": 10,
   "metadata": {
    "collapsed": false
   },
   "outputs": [
    {
     "data": {
      "text/plain": [
       "((433495, 538), (433495,))"
      ]
     },
     "execution_count": 10,
     "metadata": {},
     "output_type": "execute_result"
    }
   ],
   "source": [
    "XX = df.drop(labels=[target_col], axis=1)\n",
    "yy = df[target_col]\n",
    "XX.shape, yy.shape"
   ]
  },
  {
   "cell_type": "code",
   "execution_count": 11,
   "metadata": {
    "collapsed": true
   },
   "outputs": [],
   "source": [
    "del df  #to save memory"
   ]
  },
  {
   "cell_type": "code",
   "execution_count": 12,
   "metadata": {
    "collapsed": false
   },
   "outputs": [
    {
     "data": {
      "text/plain": [
       "array(['QUARTER', 'MONTH', 'DAY_OF_MONTH', 'DAY_OF_WEEK', 'FL_NUM',\n",
       "       'DEP_TIME', 'DEP_DELAY', 'DEP_DELAY_GROUP', 'DISTANCE',\n",
       "       'DISTANCE_GROUP', 'YDAY'], \n",
       "      dtype='|S15')"
      ]
     },
     "execution_count": 12,
     "metadata": {},
     "output_type": "execute_result"
    }
   ],
   "source": [
    "columns_not_one_hot = np.array([col for col in XX.columns if not is_number(col[-1])])\n",
    "columns_not_one_hot"
   ]
  },
  {
   "cell_type": "code",
   "execution_count": 13,
   "metadata": {
    "collapsed": false
   },
   "outputs": [
    {
     "data": {
      "text/html": [
       "<div>\n",
       "<table border=\"1\" class=\"dataframe\">\n",
       "  <thead>\n",
       "    <tr style=\"text-align: right;\">\n",
       "      <th></th>\n",
       "      <th>QUARTER</th>\n",
       "      <th>MONTH</th>\n",
       "      <th>DAY_OF_MONTH</th>\n",
       "      <th>DAY_OF_WEEK</th>\n",
       "      <th>FL_NUM</th>\n",
       "      <th>DEP_TIME</th>\n",
       "      <th>DEP_DELAY</th>\n",
       "      <th>DEP_DELAY_GROUP</th>\n",
       "      <th>DISTANCE</th>\n",
       "      <th>DISTANCE_GROUP</th>\n",
       "      <th>YDAY</th>\n",
       "    </tr>\n",
       "  </thead>\n",
       "  <tbody>\n",
       "    <tr>\n",
       "      <th>count</th>\n",
       "      <td>4.334950e+05</td>\n",
       "      <td>4.334950e+05</td>\n",
       "      <td>4.334950e+05</td>\n",
       "      <td>4.334950e+05</td>\n",
       "      <td>4.334950e+05</td>\n",
       "      <td>4.334950e+05</td>\n",
       "      <td>4.334950e+05</td>\n",
       "      <td>4.334950e+05</td>\n",
       "      <td>4.334950e+05</td>\n",
       "      <td>4.334950e+05</td>\n",
       "      <td>4.334950e+05</td>\n",
       "    </tr>\n",
       "    <tr>\n",
       "      <th>mean</th>\n",
       "      <td>5.320645e-13</td>\n",
       "      <td>2.466340e-13</td>\n",
       "      <td>1.056013e-14</td>\n",
       "      <td>1.652396e-13</td>\n",
       "      <td>1.189981e-14</td>\n",
       "      <td>1.761014e-14</td>\n",
       "      <td>-8.641548e-14</td>\n",
       "      <td>-8.012561e-14</td>\n",
       "      <td>4.514881e-13</td>\n",
       "      <td>4.637949e-13</td>\n",
       "      <td>2.712315e-14</td>\n",
       "    </tr>\n",
       "    <tr>\n",
       "      <th>std</th>\n",
       "      <td>1.000001e+00</td>\n",
       "      <td>1.000001e+00</td>\n",
       "      <td>1.000001e+00</td>\n",
       "      <td>1.000001e+00</td>\n",
       "      <td>1.000001e+00</td>\n",
       "      <td>1.000001e+00</td>\n",
       "      <td>1.000001e+00</td>\n",
       "      <td>1.000001e+00</td>\n",
       "      <td>1.000001e+00</td>\n",
       "      <td>1.000001e+00</td>\n",
       "      <td>1.000001e+00</td>\n",
       "    </tr>\n",
       "    <tr>\n",
       "      <th>min</th>\n",
       "      <td>-1.354511e+00</td>\n",
       "      <td>-1.619410e+00</td>\n",
       "      <td>-1.676546e+00</td>\n",
       "      <td>-1.468169e+00</td>\n",
       "      <td>-1.087113e+00</td>\n",
       "      <td>-2.591083e+00</td>\n",
       "      <td>-3.410555e+00</td>\n",
       "      <td>-9.218714e-01</td>\n",
       "      <td>-1.338075e+00</td>\n",
       "      <td>-1.330982e+00</td>\n",
       "      <td>-1.749922e+00</td>\n",
       "    </tr>\n",
       "    <tr>\n",
       "      <th>25%</th>\n",
       "      <td>-4.502109e-01</td>\n",
       "      <td>-7.362718e-01</td>\n",
       "      <td>-8.807909e-01</td>\n",
       "      <td>-9.627398e-01</td>\n",
       "      <td>-7.850394e-01</td>\n",
       "      <td>-8.341777e-01</td>\n",
       "      <td>-3.739479e-01</td>\n",
       "      <td>-5.045869e-01</td>\n",
       "      <td>-7.162816e-01</td>\n",
       "      <td>-6.115742e-01</td>\n",
       "      <td>-8.562147e-01</td>\n",
       "    </tr>\n",
       "    <tr>\n",
       "      <th>50%</th>\n",
       "      <td>-4.502109e-01</td>\n",
       "      <td>-1.475127e-01</td>\n",
       "      <td>2.864386e-02</td>\n",
       "      <td>4.811833e-02</td>\n",
       "      <td>-2.495455e-01</td>\n",
       "      <td>-1.117555e-02</td>\n",
       "      <td>-3.106853e-01</td>\n",
       "      <td>-5.045869e-01</td>\n",
       "      <td>-1.556937e-01</td>\n",
       "      <td>-2.518703e-01</td>\n",
       "      <td>-1.055624e-02</td>\n",
       "    </tr>\n",
       "    <tr>\n",
       "      <th>75%</th>\n",
       "      <td>4.540889e-01</td>\n",
       "      <td>7.356260e-01</td>\n",
       "      <td>8.243993e-01</td>\n",
       "      <td>1.058976e+00</td>\n",
       "      <td>3.389093e-01</td>\n",
       "      <td>8.040441e-01</td>\n",
       "      <td>-7.872222e-02</td>\n",
       "      <td>-8.730250e-02</td>\n",
       "      <td>4.633178e-01</td>\n",
       "      <td>4.675374e-01</td>\n",
       "      <td>8.543217e-01</td>\n",
       "    </tr>\n",
       "    <tr>\n",
       "      <th>max</th>\n",
       "      <td>1.358389e+00</td>\n",
       "      <td>1.618765e+00</td>\n",
       "      <td>1.733834e+00</td>\n",
       "      <td>1.564406e+00</td>\n",
       "      <td>3.776139e+00</td>\n",
       "      <td>2.076487e+00</td>\n",
       "      <td>2.999213e+01</td>\n",
       "      <td>4.920111e+00</td>\n",
       "      <td>5.462705e+00</td>\n",
       "      <td>2.266057e+00</td>\n",
       "      <td>1.757639e+00</td>\n",
       "    </tr>\n",
       "  </tbody>\n",
       "</table>\n",
       "</div>"
      ],
      "text/plain": [
       "            QUARTER         MONTH  DAY_OF_MONTH   DAY_OF_WEEK        FL_NUM  \\\n",
       "count  4.334950e+05  4.334950e+05  4.334950e+05  4.334950e+05  4.334950e+05   \n",
       "mean   5.320645e-13  2.466340e-13  1.056013e-14  1.652396e-13  1.189981e-14   \n",
       "std    1.000001e+00  1.000001e+00  1.000001e+00  1.000001e+00  1.000001e+00   \n",
       "min   -1.354511e+00 -1.619410e+00 -1.676546e+00 -1.468169e+00 -1.087113e+00   \n",
       "25%   -4.502109e-01 -7.362718e-01 -8.807909e-01 -9.627398e-01 -7.850394e-01   \n",
       "50%   -4.502109e-01 -1.475127e-01  2.864386e-02  4.811833e-02 -2.495455e-01   \n",
       "75%    4.540889e-01  7.356260e-01  8.243993e-01  1.058976e+00  3.389093e-01   \n",
       "max    1.358389e+00  1.618765e+00  1.733834e+00  1.564406e+00  3.776139e+00   \n",
       "\n",
       "           DEP_TIME     DEP_DELAY  DEP_DELAY_GROUP      DISTANCE  \\\n",
       "count  4.334950e+05  4.334950e+05     4.334950e+05  4.334950e+05   \n",
       "mean   1.761014e-14 -8.641548e-14    -8.012561e-14  4.514881e-13   \n",
       "std    1.000001e+00  1.000001e+00     1.000001e+00  1.000001e+00   \n",
       "min   -2.591083e+00 -3.410555e+00    -9.218714e-01 -1.338075e+00   \n",
       "25%   -8.341777e-01 -3.739479e-01    -5.045869e-01 -7.162816e-01   \n",
       "50%   -1.117555e-02 -3.106853e-01    -5.045869e-01 -1.556937e-01   \n",
       "75%    8.040441e-01 -7.872222e-02    -8.730250e-02  4.633178e-01   \n",
       "max    2.076487e+00  2.999213e+01     4.920111e+00  5.462705e+00   \n",
       "\n",
       "       DISTANCE_GROUP          YDAY  \n",
       "count    4.334950e+05  4.334950e+05  \n",
       "mean     4.637949e-13  2.712315e-14  \n",
       "std      1.000001e+00  1.000001e+00  \n",
       "min     -1.330982e+00 -1.749922e+00  \n",
       "25%     -6.115742e-01 -8.562147e-01  \n",
       "50%     -2.518703e-01 -1.055624e-02  \n",
       "75%      4.675374e-01  8.543217e-01  \n",
       "max      2.266057e+00  1.757639e+00  "
      ]
     },
     "execution_count": 13,
     "metadata": {},
     "output_type": "execute_result"
    }
   ],
   "source": [
    "XX[columns_not_one_hot].describe()"
   ]
  },
  {
   "cell_type": "markdown",
   "metadata": {},
   "source": [
    "### Subsampling"
   ]
  },
  {
   "cell_type": "code",
   "execution_count": 14,
   "metadata": {
    "collapsed": true
   },
   "outputs": [],
   "source": [
    "sss = StratifiedShuffleSplit(test_size=0.1, random_state=random_state, n_splits=1)"
   ]
  },
  {
   "cell_type": "code",
   "execution_count": 15,
   "metadata": {
    "collapsed": false
   },
   "outputs": [],
   "source": [
    "_, survivors = sss.split(XX, yy).next()"
   ]
  },
  {
   "cell_type": "code",
   "execution_count": 16,
   "metadata": {
    "collapsed": false
   },
   "outputs": [
    {
     "data": {
      "text/plain": [
       "array([ 75181, 217428,   9969, ...,  50892, 417828, 318816])"
      ]
     },
     "execution_count": 16,
     "metadata": {},
     "output_type": "execute_result"
    }
   ],
   "source": [
    "survivors"
   ]
  },
  {
   "cell_type": "code",
   "execution_count": 17,
   "metadata": {
    "collapsed": false
   },
   "outputs": [
    {
     "data": {
      "text/plain": [
       "((43350, 538), (43350,))"
      ]
     },
     "execution_count": 17,
     "metadata": {},
     "output_type": "execute_result"
    }
   ],
   "source": [
    "XX_sub = XX.iloc[survivors]\n",
    "yy_sub = yy[survivors]\n",
    "XX_sub.shape, yy_sub.shape"
   ]
  },
  {
   "cell_type": "markdown",
   "metadata": {},
   "source": [
    "### Isolation Forest\n",
    "From target we know that the contamination is the percentage of delayed flights"
   ]
  },
  {
   "cell_type": "code",
   "execution_count": 18,
   "metadata": {
    "collapsed": false
   },
   "outputs": [
    {
     "data": {
      "text/plain": [
       "0.2148905985074799"
      ]
     },
     "execution_count": 18,
     "metadata": {},
     "output_type": "execute_result"
    }
   ],
   "source": [
    "contamination = len(yy[yy]) / len(yy)\n",
    "contamination"
   ]
  },
  {
   "cell_type": "code",
   "execution_count": 19,
   "metadata": {
    "collapsed": false
   },
   "outputs": [
    {
     "data": {
      "text/plain": [
       "IsolationForest(bootstrap=False, contamination=0.214890598507,\n",
       "        max_features=1.0, max_samples=40, n_estimators=10, n_jobs=3,\n",
       "        random_state=0, verbose=0)"
      ]
     },
     "execution_count": 19,
     "metadata": {},
     "output_type": "execute_result"
    }
   ],
   "source": [
    "ad = IsolationForest(n_estimators=10, max_samples=40,\n",
    "                     contamination=contamination, random_state=random_state, n_jobs=n_jobs)\n",
    "ad"
   ]
  },
  {
   "cell_type": "code",
   "execution_count": 20,
   "metadata": {
    "collapsed": false,
    "scrolled": true
   },
   "outputs": [
    {
     "ename": "IOError",
     "evalue": "[Errno 28] No space left on device",
     "output_type": "error",
     "traceback": [
      "\u001b[1;31m---------------------------------------------------------------------------\u001b[0m",
      "\u001b[1;31mIOError\u001b[0m                                   Traceback (most recent call last)",
      "\u001b[1;32m<ipython-input-20-1bcfab460a0e>\u001b[0m in \u001b[0;36m<module>\u001b[1;34m()\u001b[0m\n\u001b[1;32m----> 1\u001b[1;33m \u001b[0mad\u001b[0m\u001b[1;33m.\u001b[0m\u001b[0mfit\u001b[0m\u001b[1;33m(\u001b[0m\u001b[0mXX_sub\u001b[0m\u001b[1;33m)\u001b[0m\u001b[1;33m\u001b[0m\u001b[0m\n\u001b[0m",
      "\u001b[1;32m/home/student/anaconda2/envs/dme/lib/python2.7/site-packages/sklearn/ensemble/iforest.pyc\u001b[0m in \u001b[0;36mfit\u001b[1;34m(self, X, y, sample_weight)\u001b[0m\n\u001b[0;32m    196\u001b[0m         super(IsolationForest, self)._fit(X, y, max_samples,\n\u001b[0;32m    197\u001b[0m                                           \u001b[0mmax_depth\u001b[0m\u001b[1;33m=\u001b[0m\u001b[0mmax_depth\u001b[0m\u001b[1;33m,\u001b[0m\u001b[1;33m\u001b[0m\u001b[0m\n\u001b[1;32m--> 198\u001b[1;33m                                           sample_weight=sample_weight)\n\u001b[0m\u001b[0;32m    199\u001b[0m \u001b[1;33m\u001b[0m\u001b[0m\n\u001b[0;32m    200\u001b[0m         self.threshold_ = -sp.stats.scoreatpercentile(\n",
      "\u001b[1;32m/home/student/anaconda2/envs/dme/lib/python2.7/site-packages/sklearn/ensemble/bagging.pyc\u001b[0m in \u001b[0;36m_fit\u001b[1;34m(self, X, y, max_samples, max_depth, sample_weight)\u001b[0m\n\u001b[0;32m    371\u001b[0m                 \u001b[0mtotal_n_estimators\u001b[0m\u001b[1;33m,\u001b[0m\u001b[1;33m\u001b[0m\u001b[0m\n\u001b[0;32m    372\u001b[0m                 verbose=self.verbose)\n\u001b[1;32m--> 373\u001b[1;33m             for i in range(n_jobs))\n\u001b[0m\u001b[0;32m    374\u001b[0m \u001b[1;33m\u001b[0m\u001b[0m\n\u001b[0;32m    375\u001b[0m         \u001b[1;31m# Reduce\u001b[0m\u001b[1;33m\u001b[0m\u001b[1;33m\u001b[0m\u001b[0m\n",
      "\u001b[1;32m/home/student/anaconda2/envs/dme/lib/python2.7/site-packages/sklearn/externals/joblib/parallel.pyc\u001b[0m in \u001b[0;36m__call__\u001b[1;34m(self, iterable)\u001b[0m\n\u001b[0;32m    766\u001b[0m                 \u001b[1;31m# consumption.\u001b[0m\u001b[1;33m\u001b[0m\u001b[1;33m\u001b[0m\u001b[0m\n\u001b[0;32m    767\u001b[0m                 \u001b[0mself\u001b[0m\u001b[1;33m.\u001b[0m\u001b[0m_iterating\u001b[0m \u001b[1;33m=\u001b[0m \u001b[0mFalse\u001b[0m\u001b[1;33m\u001b[0m\u001b[0m\n\u001b[1;32m--> 768\u001b[1;33m             \u001b[0mself\u001b[0m\u001b[1;33m.\u001b[0m\u001b[0mretrieve\u001b[0m\u001b[1;33m(\u001b[0m\u001b[1;33m)\u001b[0m\u001b[1;33m\u001b[0m\u001b[0m\n\u001b[0m\u001b[0;32m    769\u001b[0m             \u001b[1;31m# Make sure that we get a last message telling us we are done\u001b[0m\u001b[1;33m\u001b[0m\u001b[1;33m\u001b[0m\u001b[0m\n\u001b[0;32m    770\u001b[0m             \u001b[0melapsed_time\u001b[0m \u001b[1;33m=\u001b[0m \u001b[0mtime\u001b[0m\u001b[1;33m.\u001b[0m\u001b[0mtime\u001b[0m\u001b[1;33m(\u001b[0m\u001b[1;33m)\u001b[0m \u001b[1;33m-\u001b[0m \u001b[0mself\u001b[0m\u001b[1;33m.\u001b[0m\u001b[0m_start_time\u001b[0m\u001b[1;33m\u001b[0m\u001b[0m\n",
      "\u001b[1;32m/home/student/anaconda2/envs/dme/lib/python2.7/site-packages/sklearn/externals/joblib/parallel.pyc\u001b[0m in \u001b[0;36mretrieve\u001b[1;34m(self)\u001b[0m\n\u001b[0;32m    717\u001b[0m                     \u001b[0mensure_ready\u001b[0m \u001b[1;33m=\u001b[0m \u001b[0mself\u001b[0m\u001b[1;33m.\u001b[0m\u001b[0m_managed_backend\u001b[0m\u001b[1;33m\u001b[0m\u001b[0m\n\u001b[0;32m    718\u001b[0m                     \u001b[0mbackend\u001b[0m\u001b[1;33m.\u001b[0m\u001b[0mabort_everything\u001b[0m\u001b[1;33m(\u001b[0m\u001b[0mensure_ready\u001b[0m\u001b[1;33m=\u001b[0m\u001b[0mensure_ready\u001b[0m\u001b[1;33m)\u001b[0m\u001b[1;33m\u001b[0m\u001b[0m\n\u001b[1;32m--> 719\u001b[1;33m                 \u001b[1;32mraise\u001b[0m \u001b[0mexception\u001b[0m\u001b[1;33m\u001b[0m\u001b[0m\n\u001b[0m\u001b[0;32m    720\u001b[0m \u001b[1;33m\u001b[0m\u001b[0m\n\u001b[0;32m    721\u001b[0m     \u001b[1;32mdef\u001b[0m \u001b[0m__call__\u001b[0m\u001b[1;33m(\u001b[0m\u001b[0mself\u001b[0m\u001b[1;33m,\u001b[0m \u001b[0miterable\u001b[0m\u001b[1;33m)\u001b[0m\u001b[1;33m:\u001b[0m\u001b[1;33m\u001b[0m\u001b[0m\n",
      "\u001b[1;31mIOError\u001b[0m: [Errno 28] No space left on device"
     ]
    }
   ],
   "source": [
    "ad.fit(XX_sub)"
   ]
  },
  {
   "cell_type": "code",
   "execution_count": null,
   "metadata": {
    "collapsed": true
   },
   "outputs": [],
   "source": []
  }
 ],
 "metadata": {
  "kernelspec": {
   "display_name": "Python [dme]",
   "language": "python",
   "name": "Python [dme]"
  },
  "language_info": {
   "codemirror_mode": {
    "name": "ipython",
    "version": 2
   },
   "file_extension": ".py",
   "mimetype": "text/x-python",
   "name": "python",
   "nbconvert_exporter": "python",
   "pygments_lexer": "ipython2",
   "version": "2.7.12"
  }
 },
 "nbformat": 4,
 "nbformat_minor": 2
}
